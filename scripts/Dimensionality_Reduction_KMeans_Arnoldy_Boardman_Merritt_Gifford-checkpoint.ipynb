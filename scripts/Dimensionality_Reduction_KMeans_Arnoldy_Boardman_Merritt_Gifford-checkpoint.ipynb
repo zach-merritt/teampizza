{
 "cells": [
  {
   "cell_type": "markdown",
   "metadata": {},
   "source": [
    "### Random Acts of Pizza - Baseline Model & EDA\n",
    "## Authors: Ben Arnoldy, Mary Boardman, Zach Merritt, and Kevin Gifford\n",
    "#### Kaggle Competition Description:\n",
    "In machine learning, it is often said there are no free lunches. How wrong we were.\n",
    "\n",
    "This competition contains a dataset with 5671 textual requests for pizza from the Reddit community Random Acts of Pizza together with their outcome (successful/unsuccessful) and meta-data. Participants must create an algorithm capable of predicting which requests will garner a cheesy (but sincere!) act of kindness.\n",
    "\n",
    "\"I'll write a poem, sing a song, do a dance, play an instrument, whatever! I just want a pizza,\" says one hopeful poster. What about making an algorithm?\n",
    "\n",
    "Kaggle is hosting this competition for the machine learning community to use for fun and practice. This data was collected and graciously shared by Althoff et al. (Buy them a pizza -- data collection is a thankless and tedious job!) We encourage participants to explore their accompanying paper and ask that you cite the following reference in any publications that result from your work:\n",
    "\n",
    "Tim Althoff, Cristian Danescu-Niculescu-Mizil, Dan Jurafsky. How to Ask for a Favor: A Case Study on the Success of Altruistic Requests, Proceedings of ICWSM, 2014.\n",
    "_______________________________________________________________________________________________"
   ]
  },
  {
   "cell_type": "markdown",
   "metadata": {},
   "source": [
    "## Notebook Title: EDA & Model Baseline\n",
    "#### Purpose: Load the 'Random Acts of Pizza' train and test data. Conduct an exploratory data analysis to gain an understanding of the data. Create a baseline Logisitic Regression model using non-text (numeric) fields only. "
   ]
  },
  {
   "cell_type": "markdown",
   "metadata": {},
   "source": [
    "## I. Load Data and Modules, Process Data"
   ]
  },
  {
   "cell_type": "markdown",
   "metadata": {},
   "source": [
    "### A. Load Data and Modules"
   ]
  },
  {
   "cell_type": "code",
   "execution_count": 2,
   "metadata": {},
   "outputs": [],
   "source": [
    "import json\n",
    "import pandas as pd\n",
    "import numpy as np\n",
    "import matplotlib as mpl\n",
    "from matplotlib.colors import ListedColormap\n",
    "from matplotlib.colors import LogNorm\n",
    "import matplotlib.pyplot as plt\n",
    "import seaborn as sns\n",
    "from datetime import datetime\n",
    "\n",
    "from subprocess import check_output\n",
    "#from wordcloud import WordCloud, STOPWORDS\n",
    "\n",
    "#ML\n",
    "from sklearn.model_selection import train_test_split\n",
    "from sklearn.linear_model import LogisticRegression\n",
    "from sklearn import metrics\n",
    "from sklearn.metrics import classification_report\n",
    "from sklearn.feature_extraction.text import CountVectorizer\n",
    "from sklearn.naive_bayes import MultinomialNB\n",
    "from sklearn.naive_bayes import BernoulliNB\n",
    "from sklearn import preprocessing\n",
    "from sklearn.preprocessing import StandardScaler\n",
    "from sklearn.preprocessing import Normalizer\n",
    "from sklearn.decomposition import PCA\n",
    "from sklearn.cluster import KMeans\n",
    "from sklearn.mixture import GMM\n",
    "from sklearn.mixture import GaussianMixture\n",
    "\n",
    "from sklearn.decomposition import TruncatedSVD\n",
    "from sklearn.random_projection import sparse_random_matrix\n",
    "\n",
    "from sklearn.feature_extraction.text import TfidfVectorizer\n",
    "from sklearn.cluster import KMeans\n",
    "\n",
    "from sklearn.pipeline import make_pipeline\n",
    "\n",
    "%matplotlib inline\n",
    "plt.style.use('bmh')"
   ]
  },
  {
   "cell_type": "code",
   "execution_count": 3,
   "metadata": {},
   "outputs": [
    {
     "name": "stdout",
     "output_type": "stream",
     "text": [
      "Train Shape: (4040, 32)\n",
      "Test Shape: (1631, 17)\n"
     ]
    }
   ],
   "source": [
    "#1. Train Data\n",
    "with open('../data/train.json') as fin:\n",
    "    trainjson = json.load(fin)\n",
    "train = pd.io.json.json_normalize(trainjson)\n",
    "#2. Test Data\n",
    "with open('../data/test.json') as fin:\n",
    "    testjson = json.load(fin)\n",
    "test = pd.io.json.json_normalize(testjson)\n",
    "\n",
    "print(\"Train Shape:\", train.shape)\n",
    "print(\"Test Shape:\", test.shape)"
   ]
  },
  {
   "cell_type": "markdown",
   "metadata": {},
   "source": [
    "### B1. Find any missing values"
   ]
  },
  {
   "cell_type": "code",
   "execution_count": 4,
   "metadata": {},
   "outputs": [
    {
     "data": {
      "text/plain": [
       "giver_username_if_known                                    0\n",
       "number_of_downvotes_of_request_at_retrieval                0\n",
       "number_of_upvotes_of_request_at_retrieval                  0\n",
       "post_was_edited                                            0\n",
       "request_id                                                 0\n",
       "request_number_of_comments_at_retrieval                    0\n",
       "request_text                                               0\n",
       "request_text_edit_aware                                    0\n",
       "request_title                                              0\n",
       "requester_account_age_in_days_at_request                   0\n",
       "requester_account_age_in_days_at_retrieval                 0\n",
       "requester_days_since_first_post_on_raop_at_request         0\n",
       "requester_days_since_first_post_on_raop_at_retrieval       0\n",
       "requester_number_of_comments_at_request                    0\n",
       "requester_number_of_comments_at_retrieval                  0\n",
       "requester_number_of_comments_in_raop_at_request            0\n",
       "requester_number_of_comments_in_raop_at_retrieval          0\n",
       "requester_number_of_posts_at_request                       0\n",
       "requester_number_of_posts_at_retrieval                     0\n",
       "requester_number_of_posts_on_raop_at_request               0\n",
       "requester_number_of_posts_on_raop_at_retrieval             0\n",
       "requester_number_of_subreddits_at_request                  0\n",
       "requester_received_pizza                                   0\n",
       "requester_subreddits_at_request                            0\n",
       "requester_upvotes_minus_downvotes_at_request               0\n",
       "requester_upvotes_minus_downvotes_at_retrieval             0\n",
       "requester_upvotes_plus_downvotes_at_request                0\n",
       "requester_upvotes_plus_downvotes_at_retrieval              0\n",
       "requester_user_flair                                    3046\n",
       "requester_username                                         0\n",
       "unix_timestamp_of_request                                  0\n",
       "unix_timestamp_of_request_utc                              0\n",
       "dtype: int64"
      ]
     },
     "execution_count": 4,
     "metadata": {},
     "output_type": "execute_result"
    }
   ],
   "source": [
    "train.isnull().sum()"
   ]
  },
  {
   "cell_type": "markdown",
   "metadata": {},
   "source": [
    "No missing data except in column \"requester_user_flair.\" We see in the next section that this isn't a column in the test data, so we may just elect to not use it to train the model."
   ]
  },
  {
   "cell_type": "markdown",
   "metadata": {},
   "source": [
    "### B2. Identify common columns between test and train"
   ]
  },
  {
   "cell_type": "code",
   "execution_count": 5,
   "metadata": {},
   "outputs": [
    {
     "name": "stdout",
     "output_type": "stream",
     "text": [
      "Common columns in train and test:\n",
      "Index(['giver_username_if_known', 'request_id', 'request_text_edit_aware',\n",
      "       'request_title', 'requester_account_age_in_days_at_request',\n",
      "       'requester_days_since_first_post_on_raop_at_request',\n",
      "       'requester_number_of_comments_at_request',\n",
      "       'requester_number_of_comments_in_raop_at_request',\n",
      "       'requester_number_of_posts_at_request',\n",
      "       'requester_number_of_posts_on_raop_at_request',\n",
      "       'requester_number_of_subreddits_at_request',\n",
      "       'requester_subreddits_at_request',\n",
      "       'requester_upvotes_minus_downvotes_at_request',\n",
      "       'requester_upvotes_plus_downvotes_at_request', 'requester_username',\n",
      "       'unix_timestamp_of_request', 'unix_timestamp_of_request_utc'],\n",
      "      dtype='object')\n",
      "----\n",
      "Columns in train but NOT test:\n",
      "Index(['number_of_downvotes_of_request_at_retrieval',\n",
      "       'number_of_upvotes_of_request_at_retrieval', 'post_was_edited',\n",
      "       'request_number_of_comments_at_retrieval', 'request_text',\n",
      "       'requester_account_age_in_days_at_retrieval',\n",
      "       'requester_days_since_first_post_on_raop_at_retrieval',\n",
      "       'requester_number_of_comments_at_retrieval',\n",
      "       'requester_number_of_comments_in_raop_at_retrieval',\n",
      "       'requester_number_of_posts_at_retrieval',\n",
      "       'requester_number_of_posts_on_raop_at_retrieval',\n",
      "       'requester_received_pizza',\n",
      "       'requester_upvotes_minus_downvotes_at_retrieval',\n",
      "       'requester_upvotes_plus_downvotes_at_retrieval',\n",
      "       'requester_user_flair'],\n",
      "      dtype='object')\n"
     ]
    }
   ],
   "source": [
    "print(\"Common columns in train and test:\")\n",
    "print(train.columns[train.columns.isin(test.columns)])\n",
    "print(\"----\")\n",
    "print(\"Columns in train but NOT test:\")\n",
    "print(train.columns[~train.columns.isin(test.columns)])"
   ]
  },
  {
   "cell_type": "markdown",
   "metadata": {},
   "source": [
    "As can be seen above, there is a series of columns in the training data only. These columns reflect data about the post (e.g., the #of upvotes) at the time this Reddit data was retrieved. We use certain supervised and unsupversied techniques to derive value from this data (even though that information is not provided on the data set we will be predicting)."
   ]
  },
  {
   "cell_type": "markdown",
   "metadata": {},
   "source": [
    "### C. Create training data, labels, and special 'in training only' data"
   ]
  },
  {
   "cell_type": "code",
   "execution_count": 6,
   "metadata": {},
   "outputs": [],
   "source": [
    "train_labels_master = train[['requester_received_pizza']]\n",
    "train_data_master = train[test.columns & train.columns]\n",
    "train_only_data_master = train[train.columns[~train.columns.isin(test.columns)]].drop(['requester_received_pizza'], axis = 1)"
   ]
  },
  {
   "cell_type": "code",
   "execution_count": 7,
   "metadata": {},
   "outputs": [
    {
     "name": "stdout",
     "output_type": "stream",
     "text": [
      "(4040, 32) (4040, 17)\n"
     ]
    }
   ],
   "source": [
    "print(train.shape, train_data_master.shape)"
   ]
  },
  {
   "cell_type": "markdown",
   "metadata": {},
   "source": [
    "### D. Set column types and profile"
   ]
  },
  {
   "cell_type": "code",
   "execution_count": 8,
   "metadata": {},
   "outputs": [],
   "source": [
    "train_data_master = train_data_master.assign(\n",
    "    unix_timestamp_of_request = pd.to_datetime(\n",
    "        train_data_master.unix_timestamp_of_request, unit = \"s\"),\n",
    "    unix_timestamp_of_request_utc = pd.to_datetime(\n",
    "        train_data_master.unix_timestamp_of_request_utc, unit = \"s\"))"
   ]
  },
  {
   "cell_type": "code",
   "execution_count": 9,
   "metadata": {},
   "outputs": [
    {
     "name": "stdout",
     "output_type": "stream",
     "text": [
      "<class 'pandas.core.frame.DataFrame'>\n",
      "RangeIndex: 4040 entries, 0 to 4039\n",
      "Data columns (total 17 columns):\n",
      "giver_username_if_known                               4040 non-null object\n",
      "request_id                                            4040 non-null object\n",
      "request_text_edit_aware                               4040 non-null object\n",
      "request_title                                         4040 non-null object\n",
      "requester_account_age_in_days_at_request              4040 non-null float64\n",
      "requester_days_since_first_post_on_raop_at_request    4040 non-null float64\n",
      "requester_number_of_comments_at_request               4040 non-null int64\n",
      "requester_number_of_comments_in_raop_at_request       4040 non-null int64\n",
      "requester_number_of_posts_at_request                  4040 non-null int64\n",
      "requester_number_of_posts_on_raop_at_request          4040 non-null int64\n",
      "requester_number_of_subreddits_at_request             4040 non-null int64\n",
      "requester_subreddits_at_request                       4040 non-null object\n",
      "requester_upvotes_minus_downvotes_at_request          4040 non-null int64\n",
      "requester_upvotes_plus_downvotes_at_request           4040 non-null int64\n",
      "requester_username                                    4040 non-null object\n",
      "unix_timestamp_of_request                             4040 non-null datetime64[ns]\n",
      "unix_timestamp_of_request_utc                         4040 non-null datetime64[ns]\n",
      "dtypes: datetime64[ns](2), float64(2), int64(7), object(6)\n",
      "memory usage: 536.6+ KB\n"
     ]
    }
   ],
   "source": [
    "train_data_master.describe()\n",
    "train_data_master.info()"
   ]
  },
  {
   "cell_type": "markdown",
   "metadata": {},
   "source": [
    "## V. Dimensionality Reduction"
   ]
  },
  {
   "cell_type": "code",
   "execution_count": 10,
   "metadata": {},
   "outputs": [
    {
     "name": "stdout",
     "output_type": "stream",
     "text": [
      "[0.02868821]\n",
      "[0.03225271 0.03209793]\n",
      "[0.03205263 0.03012947 0.03158428]\n",
      "[0.03173453 0.03187745 0.0318185  0.03057168]\n",
      "[0.03144419 0.03092785 0.03214364 0.03186826 0.03212297]\n",
      "[0.02778169 0.03209137 0.03198525 0.03205258 0.03210728 0.03221742]\n",
      "[0.03062014 0.03217004 0.03048812 0.03218839 0.03138145 0.03082905\n",
      " 0.03216178]\n",
      "[0.03225684 0.03061977 0.03124752 0.03218179 0.03099837 0.02624616\n",
      " 0.03149802 0.03222294]\n",
      "[0.0322535  0.02851548 0.02972033 0.03225753 0.03210808 0.03131059\n",
      " 0.03162266 0.03085203 0.03181567]\n",
      "[0.03225681 0.03179211 0.03222647 0.03197953 0.02857986 0.03119973\n",
      " 0.03170957 0.0315766  0.03040584 0.03188375]\n",
      "[0.03192051 0.03216708 0.03061668 0.03223767 0.03212996 0.0319544\n",
      " 0.03130319 0.0322004  0.03178425 0.02769985 0.03014134]\n",
      "[0.03078186 0.03224456 0.03109053 0.03024953 0.03179219 0.02541673\n",
      " 0.03209892 0.03218341 0.03181462 0.0315654  0.02961058 0.03173183]\n",
      "[0.03062677 0.03222552 0.03225286 0.03054988 0.0305262  0.03127464\n",
      " 0.03222378 0.03209037 0.03112403 0.03202959 0.0309635  0.03104245\n",
      " 0.03209015]\n",
      "[0.03164106 0.0307716  0.03216156 0.03115105 0.03102565 0.03216491\n",
      " 0.03036103 0.03149103 0.0321823  0.03220202 0.03212724 0.02756776\n",
      " 0.03205204 0.03195675]\n",
      "[0.02961703 0.03172401 0.03203679 0.02784275 0.03192968 0.03186377\n",
      " 0.03190276 0.03175145 0.03077179 0.02825556 0.03207863 0.03187075\n",
      " 0.02984664 0.03197337 0.03225534]\n",
      "[0.03169969 0.0310905  0.031836   0.03220216 0.02943515 0.03073473\n",
      " 0.0258632  0.03107904 0.03198518 0.03181135 0.03188477 0.03213111\n",
      " 0.03174292 0.02971021 0.03047827 0.02976061]\n",
      "[0.03037988 0.03003642 0.03148507 0.03205748 0.03223133 0.03225319\n",
      " 0.03103809 0.03224509 0.02968558 0.03024752 0.02775241 0.03219049\n",
      " 0.03080994 0.03057179 0.02936918 0.03175102 0.03136934]\n",
      "[0.03219574 0.03015777 0.03225588 0.03148405 0.03194939 0.02872554\n",
      " 0.03187139 0.03206891 0.03149635 0.0309742  0.03150265 0.03151941\n",
      " 0.03225185 0.03099808 0.03219544 0.03103173 0.03135377 0.03101658]\n",
      "[0.03212139 0.0318926  0.03212907 0.03046158 0.03050458 0.03140085\n",
      " 0.02996413 0.0310796  0.0301082  0.03197978 0.03212321 0.03225707\n",
      " 0.03198108 0.03139139 0.03219159 0.03213504 0.03136543 0.03221068\n",
      " 0.03113397]\n",
      "[0.03225655 0.03217798 0.0321305  0.03166881 0.03154244 0.03214585\n",
      " 0.03130499 0.03015447 0.03216456 0.03146394 0.03172347 0.03100678\n",
      " 0.03139526 0.03225457 0.02583603 0.03066938 0.03077993 0.03090683\n",
      " 0.03137632 0.03166283]\n",
      "[0.03224636 0.03221154 0.03127057 0.03201009 0.03167244 0.03214867\n",
      " 0.03219289 0.03207824 0.03157333 0.03177197 0.0298391  0.0321952\n",
      " 0.0321549  0.03206812 0.03199288 0.02873787 0.03225559 0.02802922\n",
      " 0.02754146 0.03134775 0.03224707]\n",
      "[0.0321762  0.03153353 0.03155356 0.03084523 0.03199049 0.03125\n",
      " 0.03215039 0.02737103 0.02828477 0.03220434 0.03215715 0.03210855\n",
      " 0.03195498 0.03222596 0.03225218 0.0314996  0.03120823 0.02829041\n",
      " 0.03203899 0.030077   0.0322413  0.03200971]\n",
      "[0.03051415 0.02871926 0.03218621 0.03142867 0.03173422 0.03148888\n",
      " 0.02591207 0.03206158 0.03003898 0.03196547 0.03197745 0.03107826\n",
      " 0.03125    0.03217512 0.03076625 0.03190661 0.03095971 0.02900273\n",
      " 0.0316924  0.03221481 0.03211513 0.031897   0.03055163]\n",
      "[0.03057358 0.03183604 0.03173133 0.03147725 0.03153212 0.02977505\n",
      " 0.03179878 0.03180175 0.03225795 0.03125    0.03216509 0.03164193\n",
      " 0.02910928 0.03110141 0.03014619 0.03224152 0.03204244 0.03154295\n",
      " 0.03207981 0.03221189 0.03197649 0.03127938 0.02883345 0.03072455]\n",
      "[0.03217839 0.03165692 0.03152516 0.03186135 0.03201885 0.03218877\n",
      " 0.03083548 0.03135843 0.03148915 0.03049142 0.0291054  0.02762219\n",
      " 0.03223226 0.03209151 0.03022449 0.03177412 0.02891393 0.03212489\n",
      " 0.03189316 0.03192759 0.02983596 0.03225787 0.0310164  0.03225783\n",
      " 0.03057332]\n",
      "[0.03104939 0.03089388 0.03188866 0.03111935 0.03214795 0.03214853\n",
      " 0.03192823 0.0321203  0.03129217 0.03191912 0.03125    0.02749062\n",
      " 0.03071523 0.03224414 0.03177874 0.03044383 0.0303414  0.03221289\n",
      " 0.03223393 0.03021621 0.0320216  0.03022211 0.03192747 0.0322323\n",
      " 0.0301613  0.03135965]\n",
      "[0.03183848 0.02876702 0.0305881  0.03115711 0.03191773 0.03155028\n",
      " 0.03153966 0.03027637 0.03157472 0.03125    0.03010778 0.02909415\n",
      " 0.03218789 0.03149066 0.03224272 0.03113597 0.03225506 0.03225659\n",
      " 0.03161831 0.03210035 0.03210685 0.02981007 0.03175254 0.02849602\n",
      " 0.03082647 0.03168942 0.03223484]\n",
      "[0.02898307 0.03217327 0.03122891 0.03213399 0.03210911 0.03063532\n",
      " 0.03225318 0.03157732 0.03165001 0.03210683 0.0320982  0.03225129\n",
      " 0.03181492 0.03125    0.03222861 0.03162789 0.02022969 0.03221998\n",
      " 0.03225311 0.0322231  0.03190024 0.03225806 0.02906021 0.03047547\n",
      " 0.03161424 0.03219092 0.03177736 0.03222827]\n",
      "[0.03225757 0.03200923 0.02854279 0.03225397 0.03067289 0.03225198\n",
      " 0.03221145 0.03178083 0.03204759 0.03054376 0.03181638 0.02685772\n",
      " 0.03108695 0.03207333 0.03204885 0.03163106 0.03224973 0.03166982\n",
      " 0.03003392 0.0320902  0.0297113  0.02791493 0.02845289 0.03223018\n",
      " 0.03205774 0.03213831 0.03225688 0.03203392 0.0321731 ]\n",
      "[0.03058412 0.03149642 0.03200154 0.03197171 0.03225755 0.03197166\n",
      " 0.03196875 0.03222625 0.03222669 0.02967925 0.03078172 0.0302647\n",
      " 0.03138932 0.03223508 0.02971774 0.03026277 0.03203221 0.0312372\n",
      " 0.03038706 0.03156505 0.03218234 0.03125    0.03175172 0.03160832\n",
      " 0.03053409 0.03194888 0.03223463 0.02904446 0.03176857 0.03224471]\n",
      "[0.03194823 0.03213815 0.03202062 0.03158343 0.02780324 0.03142674\n",
      " 0.03220453 0.03152178 0.03221044 0.03139529 0.0314454  0.03211088\n",
      " 0.03225368 0.03185107 0.03145028 0.03143272 0.02805655 0.02846816\n",
      " 0.03167611 0.02780269 0.03224168 0.03061297 0.029791   0.03225674\n",
      " 0.03182433 0.03219034 0.03201913 0.03173192 0.03088899 0.03219872\n",
      " 0.03219416]\n"
     ]
    }
   ],
   "source": [
    "# Ben: I think there's a flaw here, see next module that overwrites this vectorization.\n",
    "\n",
    "# Use a CountVectorizer to vectorize the data, since it is text-based\n",
    "vectorizer = CountVectorizer()\n",
    "vtrain = vectorizer.fit_transform(train)\n",
    "vtest = vectorizer.fit_transform(test)\n",
    "\n",
    "# Since PCA does not work for a sparse matrix, we are using Truncated SVD instead for dimensionality reduction\n",
    "for i in range (1, 32):\n",
    "    svd = TruncatedSVD(n_components = i)\n",
    "    svd.fit(vtrain)\n",
    "    print(svd.explained_variance_ratio_)"
   ]
  },
  {
   "cell_type": "markdown",
   "metadata": {},
   "source": [
    "### A. Creating Dimension-Reduced Data Sets with Number of Components 2-6"
   ]
  },
  {
   "cell_type": "code",
   "execution_count": 11,
   "metadata": {},
   "outputs": [
    {
     "name": "stdout",
     "output_type": "stream",
     "text": [
      "[0.03211743 0.0318551 ]\n",
      "[0.03071587 0.03225788 0.03222194]\n",
      "[0.03223663 0.03225541 0.03141316 0.03222717]\n",
      "[0.03224056 0.03134804 0.026386   0.02897372 0.03224432]\n",
      "[0.03211163 0.03225579 0.03122198 0.03212946 0.03127211 0.03219516]\n"
     ]
    }
   ],
   "source": [
    "# Instead of a for-loop, we created separate data sets, using separate variables for each. \n",
    "\n",
    "svd_2 = TruncatedSVD(n_components = 2)\n",
    "vtrain_2 = svd_2.fit(vtrain)\n",
    "print(svd_2.explained_variance_ratio_)\n",
    "\n",
    "svd_3 = TruncatedSVD(n_components = 3)\n",
    "vtrain_3 = svd_3.fit(vtrain)\n",
    "print(svd_3.explained_variance_ratio_)\n",
    "\n",
    "svd_4 = TruncatedSVD(n_components = 4)\n",
    "vtrain_4 = svd_4.fit(vtrain)\n",
    "print(svd_4.explained_variance_ratio_)\n",
    "\n",
    "svd_5 = TruncatedSVD(n_components = 5)\n",
    "vtrain_5 = svd_5.fit(vtrain)\n",
    "print(svd_5.explained_variance_ratio_)\n",
    "\n",
    "svd_6 = TruncatedSVD(n_components = 6)\n",
    "vtrain_6 = svd_6.fit(vtrain)\n",
    "print(svd_6.explained_variance_ratio_)"
   ]
  },
  {
   "cell_type": "markdown",
   "metadata": {},
   "source": [
    "### B. K-Means"
   ]
  },
  {
   "cell_type": "code",
   "execution_count": 12,
   "metadata": {},
   "outputs": [
    {
     "name": "stdout",
     "output_type": "stream",
     "text": [
      "[-31.0, -30.967741935483893, -30.93333333333331, -30.896551724137915, -30.85714285714287, -29.85185185185184, -28.846153846153825, -29.76000000000002, -30.666666666666654, -28.695652173913032, -26.72727272727272, -26.666666666666668, -8.55, -6.631578947368421, -9.444444444444445, -23.529411764705884, -22.5, -22.400000000000002, -18.57142857142857, -20.30769230769231]\n",
      "[-24.1879810885357, -16.922456746218426, -2.8588713173827096, -3.5249318086231223, -4.324114132597856, -3.445945426023626, -2.6111040499656877, -0.9523489101393058, -0.4973057513789806, -0.38757691686957896, -0.24707412049495792, -0.449542337932464, -0.2110093356018602, -0.17930812680468267, -0.1250168427850492, -0.1337960623670278, -0.061010628608184736, -0.025021856467071224, -0.030966339739992632, -0.01672421292476256]\n",
      "[-32.457013342612065, -19.972725635749512, -16.066769048770688, -16.041155585825678, -8.262307139062791, -5.535521969146204, -3.699271245450915, -4.7487273665030365, -2.6067089725726555, -3.1056367736585786, -2.6661189072821023, -2.2291785540405855, -2.003827673040265, -1.6885291874886827, -1.23559716118723, -1.4511603919311227, -1.042228905049119, -0.8646007381974177, -0.6055713367668548, -0.46624801988850906]\n",
      "[-29.501039560651833, -29.29024230914152, -17.420489710417122, -18.51285240602596, -15.830574401270468, -12.544214539439604, -11.074509574880597, -13.093023504956793, -8.702491652657645, -10.196279899428852, -6.927814162426047, -3.8816421450193044, -3.265942134181592, -4.385872263335578, -3.239397207363935, -1.8671480980469868, -1.5299928357557073, -1.0155299987733584, -2.6457099743072563, -1.6255340544694397]\n",
      "[-31.122518227043994, -33.76818510499021, -26.615357004416897, -24.32183494358747, -11.159486653335497, -12.269500393763288, -13.401186523247596, -10.051097698527093, -11.036028091916373, -6.7771762514699105, -6.483505622538313, -9.27421571607179, -5.0936623079564445, -4.264559666621318, -3.8700613454154817, -5.113967583975349, -3.4891953995764506, -3.7076066705529933, -1.5889492285944233, -2.233141464389729]\n",
      "[-30.049208812466176, -26.666134565509026, -27.750410685694654, -19.25279157988612, -16.97181285595469, -16.95999454177857, -14.89084535741743, -13.798614668442122, -6.853674083938051, -9.9932964336768, -6.279662671439189, -8.479092685349718, -7.1712181940600646, -5.9619750196580314, -5.0146720617479374, -5.384256780204987, -2.9754345012985577, -3.370495675822315, -4.124184687304506, -2.0259388993941707]\n"
     ]
    }
   ],
   "source": [
    "raw_score = []\n",
    "for i in range(1,21):\n",
    "    kmeans_raw = KMeans(n_clusters=i, init='k-means++', max_iter=100, n_init=1, verbose=False)\n",
    "    kmeans_raw.fit(vtrain)\n",
    "    y_hat_kmeans_raw = kmeans_raw.predict(vtrain)\n",
    "    centers = kmeans_raw.cluster_centers_\n",
    "#     print('The KMeans score for the raw data, using',i,'clusters is:',kmeans_raw.score(vtrain[y_hat_kmeans_raw]))\n",
    "    raw_score.append(kmeans_raw.score(vtrain[y_hat_kmeans_raw]))\n",
    "print(raw_score)\n",
    "\n",
    "svd_2 = TruncatedSVD(n_components = 2)\n",
    "normalizer = Normalizer(copy=False)\n",
    "lsa_2 = make_pipeline(svd_2, normalizer)\n",
    "vtrain_lsa2 = lsa_2.fit_transform(vtrain)\n",
    "\n",
    "score_2 = []\n",
    "for i in range(1,21):\n",
    "    kmeans2 = KMeans(n_clusters=i, init='k-means++', max_iter=100, n_init=1, verbose=False)\n",
    "    kmeans2.fit(vtrain_lsa2)\n",
    "    y_hat_kmeans2 = kmeans2.predict(vtrain_lsa2)\n",
    "    centers = kmeans2.cluster_centers_\n",
    "#     print('The KMeans score for the truncated, 2 component data, using',i,'clusters is:',\n",
    "#           kmeans2.score(vtrain_lsa2[y_hat_kmeans]))\n",
    "    score_2.append(kmeans2.score(vtrain_lsa2[y_hat_kmeans2]))\n",
    "print(score_2)\n",
    "\n",
    "svd_3 = TruncatedSVD(n_components = 3)\n",
    "normalizer = Normalizer(copy=False)\n",
    "lsa_3 = make_pipeline(svd_3, normalizer)\n",
    "vtrain_lsa3 = lsa_3.fit_transform(vtrain)\n",
    "\n",
    "score_3 = []\n",
    "for i in range(1,21):\n",
    "    kmeans3 = KMeans(n_clusters=i, init='k-means++', max_iter=100, n_init=1, verbose=False)\n",
    "    kmeans3.fit(vtrain_lsa3)\n",
    "    y_hat_kmeans3 = kmeans3.predict(vtrain_lsa3)\n",
    "    centers = kmeans3.cluster_centers_\n",
    "#     print('The KMeans score for the truncated, 3 component data, using',i,'clusters is:',\n",
    "#           kmeans3.score(vtrain_lsa3[y_hat_kmeans3]))\n",
    "    score_3.append(kmeans3.score(vtrain_lsa3[y_hat_kmeans3]))\n",
    "print(score_3)\n",
    "\n",
    "svd_4 = TruncatedSVD(n_components = 4)\n",
    "normalizer = Normalizer(copy=False)\n",
    "lsa_4 = make_pipeline(svd_4, normalizer)\n",
    "vtrain_lsa4 = lsa_4.fit_transform(vtrain)\n",
    "\n",
    "score_4 = []\n",
    "for i in range(1,21):\n",
    "    kmeans4 = KMeans(n_clusters=i, init='k-means++', max_iter=100, n_init=1, verbose=False)\n",
    "    kmeans4.fit(vtrain_lsa4)\n",
    "    y_hat_kmeans4 = kmeans4.predict(vtrain_lsa4)\n",
    "    centers = kmeans4.cluster_centers_\n",
    "#     print('The KMeans score for the truncated, 4 component data, using',i,'clusters is:',\n",
    "#           kmeans4.score(vtrain_lsa4[y_hat_kmeans4]))\n",
    "    score_4.append(kmeans4.score(vtrain_lsa4[y_hat_kmeans4]))\n",
    "print(score_4)\n",
    "\n",
    "svd_5 = TruncatedSVD(n_components = 5)\n",
    "normalizer = Normalizer(copy=False)\n",
    "lsa_5 = make_pipeline(svd_5, normalizer)\n",
    "vtrain_lsa5 = lsa_5.fit_transform(vtrain)\n",
    "\n",
    "score_5 = []\n",
    "for i in range(1,21):\n",
    "    kmeans5 = KMeans(n_clusters=i, init='k-means++', max_iter=100, n_init=1, verbose=False)\n",
    "    kmeans5.fit(vtrain_lsa5)\n",
    "    y_hat_kmeans5 = kmeans5.predict(vtrain_lsa5)\n",
    "    centers = kmeans5.cluster_centers_\n",
    "#     print('The KMeans score for the truncated, 5 component data, using',i,'clusters is:',\n",
    "#           kmeans5.score(vtrain_lsa5[y_hat_kmeans5]))\n",
    "    score_5.append(kmeans5.score(vtrain_lsa5[y_hat_kmeans5]))\n",
    "print(score_5)\n",
    "\n",
    "svd_6 = TruncatedSVD(n_components = 6)\n",
    "normalizer = Normalizer(copy=False)\n",
    "lsa_6 = make_pipeline(svd_6, normalizer)\n",
    "vtrain_lsa6 = lsa_6.fit_transform(vtrain)\n",
    "\n",
    "score_6 = []\n",
    "for i in range(1,21):\n",
    "    kmeans6 = KMeans(n_clusters=i, init='k-means++', max_iter=100, n_init=1, verbose=False)\n",
    "    kmeans6.fit(vtrain_lsa6)\n",
    "    y_hat_kmeans6 = kmeans6.predict(vtrain_lsa6)\n",
    "    centers = kmeans6.cluster_centers_\n",
    "#     print('The KMeans score for the truncated, 6 component data, using',i,'clusters is:',\n",
    "#           kmeans5.score(vtrain_lsa6[y_hat_kmeans6]))\n",
    "    score_6.append(kmeans6.score(vtrain_lsa6[y_hat_kmeans6]))\n",
    "print(score_6)\n",
    "\n",
    "# # The plot below wasn't doing much for me\n",
    "# fig = plt.figure(0,figsize=(32,32))\n",
    "# ax = fig.add_subplot(4,4,2)\n",
    "\n",
    "# # Draw the plots\n",
    "# ax.scatter(vtrain_lsa2[:, 0], vtrain_lsa2[:, 1], s=1, c=y_hat_kmeans)\n",
    "# ax.scatter(centers[:, 0], centers[:, 1], c='red', s=50, alpha=0.6)\n",
    "# ax.grid()"
   ]
  },
  {
   "cell_type": "markdown",
   "metadata": {},
   "source": [
    "### C. Gaussian Mixture Model"
   ]
  },
  {
   "cell_type": "code",
   "execution_count": 13,
   "metadata": {},
   "outputs": [
    {
     "data": {
      "text/plain": [
       "array([-2.29595526, -2.12513115, -2.40946917, -2.08743714, -2.13020256,\n",
       "       -2.40120825, -2.20485489, -2.0813307 , -1.94536115, -1.95186722,\n",
       "       -1.96417802, -2.00923643, -2.42308092, -2.04012783, -2.03583173,\n",
       "       -2.12589347, -2.05039742])"
      ]
     },
     "execution_count": 13,
     "metadata": {},
     "output_type": "execute_result"
    }
   ],
   "source": [
    "# The model using the raw data fit the train data, but wouldn't predict the test data, as it wasn't the right shape. \n",
    "# I think this goes back to the different dimensionality between the two data sets. \n",
    "# vtraind = vtrain.toarray()\n",
    "# vtestd = vtest.toarray()\n",
    "# gmm = GaussianMixture()\n",
    "# gmm.fit(vtraind)\n",
    "# gmm.predict(vtestd)\n",
    "\n",
    "svd_2 = TruncatedSVD(n_components = 2)\n",
    "normalizer = Normalizer(copy=False)\n",
    "lsa_2 = make_pipeline(svd_2, normalizer)\n",
    "vtrain_lsa2 = lsa_2.fit_transform(vtrain)\n",
    "\n",
    "svd_2_test = TruncatedSVD(n_components = 2)\n",
    "normalizer = Normalizer(copy=False)\n",
    "lsa_2_test = make_pipeline(svd_2_test, normalizer)\n",
    "vtest_lsa2 = lsa_2_test.fit_transform(vtest)\n",
    "\n",
    "gmm2 = GaussianMixture()\n",
    "gmm2.fit(vtrain_lsa2)\n",
    "gmm2.score_samples(vtest_lsa2)"
   ]
  },
  {
   "cell_type": "code",
   "execution_count": 14,
   "metadata": {},
   "outputs": [
    {
     "ename": "ValueError",
     "evalue": "Input contains NaN, infinity or a value too large for dtype('float64').",
     "output_type": "error",
     "traceback": [
      "\u001b[1;31m---------------------------------------------------------------------------\u001b[0m",
      "\u001b[1;31mValueError\u001b[0m                                Traceback (most recent call last)",
      "\u001b[1;32m<ipython-input-14-21e9fc05979d>\u001b[0m in \u001b[0;36m<module>\u001b[1;34m()\u001b[0m\n\u001b[0;32m      2\u001b[0m \u001b[0mp2pos\u001b[0m \u001b[1;33m=\u001b[0m \u001b[0mtrain\u001b[0m\u001b[1;33m[\u001b[0m\u001b[0mtrain_labels_master\u001b[0m \u001b[1;33m==\u001b[0m \u001b[1;36m1\u001b[0m\u001b[1;33m]\u001b[0m\u001b[1;33m\u001b[0m\u001b[0m\n\u001b[0;32m      3\u001b[0m \u001b[0mpos\u001b[0m \u001b[1;33m=\u001b[0m \u001b[0mGaussianMixture\u001b[0m\u001b[1;33m(\u001b[0m\u001b[0mn_components\u001b[0m\u001b[1;33m=\u001b[0m\u001b[1;36m4\u001b[0m\u001b[1;33m,\u001b[0m \u001b[0mcovariance_type\u001b[0m\u001b[1;33m=\u001b[0m\u001b[1;34m'full'\u001b[0m\u001b[1;33m)\u001b[0m\u001b[1;33m\u001b[0m\u001b[0m\n\u001b[1;32m----> 4\u001b[1;33m \u001b[0mpos\u001b[0m\u001b[1;33m.\u001b[0m\u001b[0mfit\u001b[0m\u001b[1;33m(\u001b[0m\u001b[0mp2pos\u001b[0m\u001b[1;33m)\u001b[0m\u001b[1;33m\u001b[0m\u001b[0m\n\u001b[0m\u001b[0;32m      5\u001b[0m \u001b[1;33m\u001b[0m\u001b[0m\n\u001b[0;32m      6\u001b[0m \u001b[1;31m# Separate out the train data with negative labels, fit the GMM model\u001b[0m\u001b[1;33m\u001b[0m\u001b[1;33m\u001b[0m\u001b[0m\n",
      "\u001b[1;32m~\\Anaconda3\\lib\\site-packages\\sklearn\\mixture\\base.py\u001b[0m in \u001b[0;36mfit\u001b[1;34m(self, X, y)\u001b[0m\n\u001b[0;32m    188\u001b[0m         \u001b[0mself\u001b[0m\u001b[1;33m\u001b[0m\u001b[0m\n\u001b[0;32m    189\u001b[0m         \"\"\"\n\u001b[1;32m--> 190\u001b[1;33m         \u001b[0mX\u001b[0m \u001b[1;33m=\u001b[0m \u001b[0m_check_X\u001b[0m\u001b[1;33m(\u001b[0m\u001b[0mX\u001b[0m\u001b[1;33m,\u001b[0m \u001b[0mself\u001b[0m\u001b[1;33m.\u001b[0m\u001b[0mn_components\u001b[0m\u001b[1;33m)\u001b[0m\u001b[1;33m\u001b[0m\u001b[0m\n\u001b[0m\u001b[0;32m    191\u001b[0m         \u001b[0mself\u001b[0m\u001b[1;33m.\u001b[0m\u001b[0m_check_initial_parameters\u001b[0m\u001b[1;33m(\u001b[0m\u001b[0mX\u001b[0m\u001b[1;33m)\u001b[0m\u001b[1;33m\u001b[0m\u001b[0m\n\u001b[0;32m    192\u001b[0m \u001b[1;33m\u001b[0m\u001b[0m\n",
      "\u001b[1;32m~\\Anaconda3\\lib\\site-packages\\sklearn\\mixture\\base.py\u001b[0m in \u001b[0;36m_check_X\u001b[1;34m(X, n_components, n_features)\u001b[0m\n\u001b[0;32m     52\u001b[0m     \u001b[0mX\u001b[0m \u001b[1;33m:\u001b[0m \u001b[0marray\u001b[0m\u001b[1;33m,\u001b[0m \u001b[0mshape\u001b[0m \u001b[1;33m(\u001b[0m\u001b[0mn_samples\u001b[0m\u001b[1;33m,\u001b[0m \u001b[0mn_features\u001b[0m\u001b[1;33m)\u001b[0m\u001b[1;33m\u001b[0m\u001b[0m\n\u001b[0;32m     53\u001b[0m     \"\"\"\n\u001b[1;32m---> 54\u001b[1;33m     \u001b[0mX\u001b[0m \u001b[1;33m=\u001b[0m \u001b[0mcheck_array\u001b[0m\u001b[1;33m(\u001b[0m\u001b[0mX\u001b[0m\u001b[1;33m,\u001b[0m \u001b[0mdtype\u001b[0m\u001b[1;33m=\u001b[0m\u001b[1;33m[\u001b[0m\u001b[0mnp\u001b[0m\u001b[1;33m.\u001b[0m\u001b[0mfloat64\u001b[0m\u001b[1;33m,\u001b[0m \u001b[0mnp\u001b[0m\u001b[1;33m.\u001b[0m\u001b[0mfloat32\u001b[0m\u001b[1;33m]\u001b[0m\u001b[1;33m)\u001b[0m\u001b[1;33m\u001b[0m\u001b[0m\n\u001b[0m\u001b[0;32m     55\u001b[0m     \u001b[1;32mif\u001b[0m \u001b[0mn_components\u001b[0m \u001b[1;32mis\u001b[0m \u001b[1;32mnot\u001b[0m \u001b[1;32mNone\u001b[0m \u001b[1;32mand\u001b[0m \u001b[0mX\u001b[0m\u001b[1;33m.\u001b[0m\u001b[0mshape\u001b[0m\u001b[1;33m[\u001b[0m\u001b[1;36m0\u001b[0m\u001b[1;33m]\u001b[0m \u001b[1;33m<\u001b[0m \u001b[0mn_components\u001b[0m\u001b[1;33m:\u001b[0m\u001b[1;33m\u001b[0m\u001b[0m\n\u001b[0;32m     56\u001b[0m         raise ValueError('Expected n_samples >= n_components '\n",
      "\u001b[1;32m~\\Anaconda3\\lib\\site-packages\\sklearn\\utils\\validation.py\u001b[0m in \u001b[0;36mcheck_array\u001b[1;34m(array, accept_sparse, dtype, order, copy, force_all_finite, ensure_2d, allow_nd, ensure_min_samples, ensure_min_features, warn_on_dtype, estimator)\u001b[0m\n\u001b[0;32m    451\u001b[0m                              % (array.ndim, estimator_name))\n\u001b[0;32m    452\u001b[0m         \u001b[1;32mif\u001b[0m \u001b[0mforce_all_finite\u001b[0m\u001b[1;33m:\u001b[0m\u001b[1;33m\u001b[0m\u001b[0m\n\u001b[1;32m--> 453\u001b[1;33m             \u001b[0m_assert_all_finite\u001b[0m\u001b[1;33m(\u001b[0m\u001b[0marray\u001b[0m\u001b[1;33m)\u001b[0m\u001b[1;33m\u001b[0m\u001b[0m\n\u001b[0m\u001b[0;32m    454\u001b[0m \u001b[1;33m\u001b[0m\u001b[0m\n\u001b[0;32m    455\u001b[0m     \u001b[0mshape_repr\u001b[0m \u001b[1;33m=\u001b[0m \u001b[0m_shape_repr\u001b[0m\u001b[1;33m(\u001b[0m\u001b[0marray\u001b[0m\u001b[1;33m.\u001b[0m\u001b[0mshape\u001b[0m\u001b[1;33m)\u001b[0m\u001b[1;33m\u001b[0m\u001b[0m\n",
      "\u001b[1;32m~\\Anaconda3\\lib\\site-packages\\sklearn\\utils\\validation.py\u001b[0m in \u001b[0;36m_assert_all_finite\u001b[1;34m(X)\u001b[0m\n\u001b[0;32m     42\u001b[0m             and not np.isfinite(X).all()):\n\u001b[0;32m     43\u001b[0m         raise ValueError(\"Input contains NaN, infinity\"\n\u001b[1;32m---> 44\u001b[1;33m                          \" or a value too large for %r.\" % X.dtype)\n\u001b[0m\u001b[0;32m     45\u001b[0m \u001b[1;33m\u001b[0m\u001b[0m\n\u001b[0;32m     46\u001b[0m \u001b[1;33m\u001b[0m\u001b[0m\n",
      "\u001b[1;31mValueError\u001b[0m: Input contains NaN, infinity or a value too large for dtype('float64')."
     ]
    }
   ],
   "source": [
    "# Separate out the train data with positive labels, fit the GMM model\n",
    "p2pos = train[train_labels_master == 1]\n",
    "pos = GaussianMixture(n_components=4, covariance_type='full')\n",
    "pos.fit(p2pos)\n",
    "\n",
    "# Separate out the train data with negative labels, fit the GMM model    \n",
    "p2neg = train[train_labels_master != 1]    \n",
    "neg = GaussianMixture(n_components=4, covariance_type='full')\n",
    "neg.fit(p2neg)\n",
    "\n",
    "# Fit the test data to both models\n",
    "wlprob_pos = pos.score_samples(test)\n",
    "wlprob_neg = neg.score_samples(test)\n",
    "\n",
    "# Create an array that picks the winner from each prediction \n",
    "pred_test_labels = np.array(wlprob_pos > wlprob_neg).astype(int)\n",
    "\n",
    "# Calculate the accuracy to 6 decimal places, print it out\n",
    "accuracy = np.round(np.mean(pred_test_labels == test_labels), 6)   \n",
    "print('The accuracy of this model is:', accuracy)"
   ]
  },
  {
   "cell_type": "markdown",
   "metadata": {},
   "source": [
    "# Ben's fix attempt\n",
    "I've opted to do this in separate cells just in case I royally screw up."
   ]
  },
  {
   "cell_type": "markdown",
   "metadata": {},
   "source": [
    "### Redo of Vectorizer"
   ]
  },
  {
   "cell_type": "code",
   "execution_count": null,
   "metadata": {},
   "outputs": [],
   "source": [
    "# I believe we cannot just vectorize the train data because the text-based data\n",
    "# is held within one specific feature called request_test_edit_aware.\n",
    "# Below I repurposed some of Zach's code to vectorize\n",
    "\n",
    "#Create Sparse matrix of words\n",
    "count_vect = CountVectorizer()\n",
    "\n",
    "#Split train and test data\n",
    "x_train_text, x_test_text, y_train, y_test = train_test_split(\n",
    "    train_data_master['request_text_edit_aware'], \n",
    "    train_labels_master.values.ravel(), test_size=0.2, random_state=0)\n",
    "x_train = count_vect.fit_transform(x_train_text)\n",
    "x_test = count_vect.transform(x_test_text)\n",
    "cv_feature_names = count_vect.get_feature_names()"
   ]
  },
  {
   "cell_type": "markdown",
   "metadata": {},
   "source": [
    "### Apply SVD (in lieu of PCA)"
   ]
  },
  {
   "cell_type": "code",
   "execution_count": null,
   "metadata": {},
   "outputs": [],
   "source": [
    "# Since PCA does not work for a sparse matrix, we are using Truncated SVD instead for dimensionality reduction\n",
    "for top_comps in range (1, 15):\n",
    "    svd = TruncatedSVD(n_components = top_comps)\n",
    "    svd.fit(x_train)\n",
    "    print(svd.explained_variance_ratio_)"
   ]
  },
  {
   "cell_type": "code",
   "execution_count": null,
   "metadata": {},
   "outputs": [],
   "source": [
    "# The output of vectorizer shows a major dropoff in explained variance after the 1st component\n",
    "# This suggests that projecting down to 1 component might be best."
   ]
  },
  {
   "cell_type": "markdown",
   "metadata": {},
   "source": [
    "### Visualize using K-Means Clustering"
   ]
  },
  {
   "cell_type": "code",
   "execution_count": null,
   "metadata": {},
   "outputs": [],
   "source": [
    "def cluster_viz(sparse=True):\n",
    "\n",
    "    # project data to few dimensions using SVD if sparse, PCA if dense\n",
    "    if (sparse): svd_train = TruncatedSVD(n_components=2)\n",
    "    else: svd_train = PCA(n_components=2)\n",
    "    svd_train_ft = svd_train.fit_transform(x_train)\n",
    "\n",
    "    # plot the two dimensions\n",
    "    plt.figure(figsize=(10,10))\n",
    "    for sample in range(len(y_train)):\n",
    "        if y_train[sample] == 1:\n",
    "            color = '#0000ff'\n",
    "            label = 'Got Pizza'\n",
    "        else:\n",
    "            color = '#ff0000'\n",
    "            label = 'No Pizza'\n",
    "\n",
    "        plt.scatter(svd_train_ft[sample][0],svd_train_ft[sample][1],c=color,label=label)\n",
    "\n",
    "    plt.xlabel('Component 1')\n",
    "    plt.ylabel('Component 2')\n",
    "    plt.legend(['Got Pizza','No Pizza'])\n",
    "    if sparse: plt.title('SVD projection of vectorized text to two components')\n",
    "    else: plt.title('PCA projection of numeric fields to two components')\n",
    "    plt.grid()\n",
    "    plt.show()\n",
    "    \n",
    "    return()\n",
    "\n",
    "# Visualize the text data, vectorized then reduced\n",
    "\n",
    "#Create Sparse matrix of words\n",
    "count_vect = CountVectorizer()\n",
    "\n",
    "#Split train and test data\n",
    "x_train_text, x_test_text, y_train, y_test = train_test_split(\n",
    "    train_data_master['request_text_edit_aware'], \n",
    "    train_labels_master.values.ravel(), test_size=0.2, random_state=0)\n",
    "x_train = count_vect.fit_transform(x_train_text)\n",
    "x_test = count_vect.transform(x_test_text)\n",
    "\n",
    "cluster_viz(sparse=True) # word vectorizer is a sparse matrix, so use SVD\n",
    "\n",
    "# Visualize the numeric features reduced\n",
    "\n",
    "#Normalize all fields (numeric)\n",
    "min_max_scaler = preprocessing.MinMaxScaler()\n",
    "mn_mx_scaler = min_max_scaler.fit_transform(\n",
    "    train_data_master.select_dtypes(include = ['float64', 'int64','datetime64[ns]']).apply(pd.to_numeric).values)\n",
    "\n",
    "#train_data_numeric = train_data_master.select_dtypes(include = ['float64', 'int64','datetime64[ns]']).apply(pd.to_numeric).values\n",
    "\n",
    "#Split train and test data\n",
    "x_train, x_test, y_train, y_test = train_test_split(\n",
    "    mn_mx_scaler, \n",
    "    train_labels_master.values.ravel(), test_size=0.2, random_state=0)\n",
    "\n",
    "cluster_viz(sparse=False) # dense matrices, so can use PCA"
   ]
  },
  {
   "cell_type": "markdown",
   "metadata": {},
   "source": [
    "I have no idea what to make of these charts. It would appear that the data reduced down to two components just does not cluster. "
   ]
  },
  {
   "cell_type": "markdown",
   "metadata": {},
   "source": [
    "### Try various hyperparameters with GMM on text field, try to classify "
   ]
  },
  {
   "cell_type": "code",
   "execution_count": 40,
   "metadata": {},
   "outputs": [
    {
     "name": "stdout",
     "output_type": "stream",
     "text": [
      "Accuracy score for 1 SVD comps, 1 GMM comps, Covariance type spherical = 0.6757425742574258\n",
      "Accuracy score for 1 SVD comps, 2 GMM comps, Covariance type spherical = 0.5705445544554455\n",
      "Accuracy score for 1 SVD comps, 3 GMM comps, Covariance type spherical = 0.5693069306930693\n",
      "Accuracy score for 1 SVD comps, 4 GMM comps, Covariance type spherical = 0.5334158415841584\n",
      "Accuracy score for 1 SVD comps, 5 GMM comps, Covariance type spherical = 0.6002475247524752\n",
      "Accuracy score for 1 SVD comps, 6 GMM comps, Covariance type spherical = 0.5742574257425742\n",
      "Accuracy score for 1 SVD comps, 7 GMM comps, Covariance type spherical = 0.5754950495049505\n",
      "Accuracy score for 1 SVD comps, 8 GMM comps, Covariance type spherical = 0.5804455445544554\n",
      "Accuracy score for 1 SVD comps, 9 GMM comps, Covariance type spherical = 0.5853960396039604\n",
      "Accuracy score for 1 SVD comps, 10 GMM comps, Covariance type spherical = 0.5742574257425742\n",
      "Accuracy score for 1 SVD comps, 11 GMM comps, Covariance type spherical = 0.5754950495049505\n",
      "Accuracy score for 1 SVD comps, 12 GMM comps, Covariance type spherical = 0.573019801980198\n",
      "Accuracy score for 2 SVD comps, 1 GMM comps, Covariance type spherical = 0.6695544554455446\n",
      "Accuracy score for 2 SVD comps, 2 GMM comps, Covariance type spherical = 0.556930693069307\n",
      "Accuracy score for 2 SVD comps, 3 GMM comps, Covariance type spherical = 0.5643564356435643\n",
      "Accuracy score for 2 SVD comps, 4 GMM comps, Covariance type spherical = 0.5433168316831684\n",
      "Accuracy score for 2 SVD comps, 5 GMM comps, Covariance type spherical = 0.5631188118811881\n",
      "Accuracy score for 2 SVD comps, 6 GMM comps, Covariance type spherical = 0.594059405940594\n"
     ]
    },
    {
     "ename": "KeyboardInterrupt",
     "evalue": "",
     "output_type": "error",
     "traceback": [
      "\u001b[1;31m---------------------------------------------------------------------------\u001b[0m",
      "\u001b[1;31mKeyboardInterrupt\u001b[0m                         Traceback (most recent call last)",
      "\u001b[1;32m<ipython-input-40-4a7ba48436a2>\u001b[0m in \u001b[0;36m<module>\u001b[1;34m()\u001b[0m\n\u001b[0;32m     76\u001b[0m \u001b[0mx_test\u001b[0m \u001b[1;33m=\u001b[0m \u001b[0mcount_vect\u001b[0m\u001b[1;33m.\u001b[0m\u001b[0mtransform\u001b[0m\u001b[1;33m(\u001b[0m\u001b[0mx_test_text\u001b[0m\u001b[1;33m)\u001b[0m\u001b[1;33m\u001b[0m\u001b[0m\n\u001b[0;32m     77\u001b[0m \u001b[1;33m\u001b[0m\u001b[0m\n\u001b[1;32m---> 78\u001b[1;33m \u001b[0mgmm_trials\u001b[0m\u001b[1;33m(\u001b[0m\u001b[0msparse\u001b[0m \u001b[1;33m=\u001b[0m \u001b[1;32mTrue\u001b[0m\u001b[1;33m)\u001b[0m\u001b[1;33m\u001b[0m\u001b[0m\n\u001b[0m",
      "\u001b[1;32m<ipython-input-40-4a7ba48436a2>\u001b[0m in \u001b[0;36mgmm_trials\u001b[1;34m(sparse, max_params)\u001b[0m\n\u001b[0;32m     56\u001b[0m \u001b[1;33m\u001b[0m\u001b[0m\n\u001b[0;32m     57\u001b[0m     \u001b[1;32mfor\u001b[0m \u001b[0mconfig\u001b[0m \u001b[1;32min\u001b[0m \u001b[0mconfigs\u001b[0m\u001b[1;33m:\u001b[0m\u001b[1;33m\u001b[0m\u001b[0m\n\u001b[1;32m---> 58\u001b[1;33m         \u001b[0maccuracy\u001b[0m \u001b[1;33m=\u001b[0m \u001b[0mtrain_gmm\u001b[0m\u001b[1;33m(\u001b[0m\u001b[0mconfig\u001b[0m\u001b[1;33m[\u001b[0m\u001b[1;36m0\u001b[0m\u001b[1;33m]\u001b[0m\u001b[1;33m,\u001b[0m \u001b[0mconfig\u001b[0m\u001b[1;33m[\u001b[0m\u001b[1;36m1\u001b[0m\u001b[1;33m]\u001b[0m\u001b[1;33m,\u001b[0m \u001b[0mconfig\u001b[0m\u001b[1;33m[\u001b[0m\u001b[1;36m2\u001b[0m\u001b[1;33m]\u001b[0m\u001b[1;33m)\u001b[0m\u001b[1;33m\u001b[0m\u001b[0m\n\u001b[0m\u001b[0;32m     59\u001b[0m         \u001b[1;32mif\u001b[0m \u001b[0maccuracy\u001b[0m \u001b[1;33m>\u001b[0m \u001b[0mtop_accuracy_val\u001b[0m\u001b[1;33m:\u001b[0m\u001b[1;33m\u001b[0m\u001b[0m\n\u001b[0;32m     60\u001b[0m             \u001b[0mtop_accuracy_val\u001b[0m \u001b[1;33m=\u001b[0m \u001b[0maccuracy\u001b[0m\u001b[1;33m\u001b[0m\u001b[0m\n",
      "\u001b[1;32m<ipython-input-40-4a7ba48436a2>\u001b[0m in \u001b[0;36mtrain_gmm\u001b[1;34m(svd_comps, gmm_comps, cov_type, sparse)\u001b[0m\n\u001b[0;32m     22\u001b[0m \u001b[1;33m\u001b[0m\u001b[0m\n\u001b[0;32m     23\u001b[0m     \u001b[1;32mfor\u001b[0m \u001b[0msample\u001b[0m \u001b[1;32min\u001b[0m \u001b[0mrange\u001b[0m\u001b[1;33m(\u001b[0m\u001b[0msvd_test_ft\u001b[0m\u001b[1;33m.\u001b[0m\u001b[0mshape\u001b[0m\u001b[1;33m[\u001b[0m\u001b[1;36m0\u001b[0m\u001b[1;33m]\u001b[0m\u001b[1;33m)\u001b[0m\u001b[1;33m:\u001b[0m\u001b[1;33m\u001b[0m\u001b[0m\n\u001b[1;32m---> 24\u001b[1;33m         \u001b[0mpos_score\u001b[0m \u001b[1;33m=\u001b[0m \u001b[0mgmm_fit_pos\u001b[0m\u001b[1;33m.\u001b[0m\u001b[0mscore\u001b[0m\u001b[1;33m(\u001b[0m\u001b[0msvd_test_ft\u001b[0m\u001b[1;33m[\u001b[0m\u001b[0msample\u001b[0m\u001b[1;33m]\u001b[0m\u001b[1;33m.\u001b[0m\u001b[0mreshape\u001b[0m\u001b[1;33m(\u001b[0m\u001b[1;36m1\u001b[0m\u001b[1;33m,\u001b[0m\u001b[1;33m-\u001b[0m\u001b[1;36m1\u001b[0m\u001b[1;33m)\u001b[0m\u001b[1;33m)\u001b[0m\u001b[1;33m\u001b[0m\u001b[0m\n\u001b[0m\u001b[0;32m     25\u001b[0m         \u001b[0mneg_score\u001b[0m \u001b[1;33m=\u001b[0m \u001b[0mgmm_fit_neg\u001b[0m\u001b[1;33m.\u001b[0m\u001b[0mscore\u001b[0m\u001b[1;33m(\u001b[0m\u001b[0msvd_test_ft\u001b[0m\u001b[1;33m[\u001b[0m\u001b[0msample\u001b[0m\u001b[1;33m]\u001b[0m\u001b[1;33m.\u001b[0m\u001b[0mreshape\u001b[0m\u001b[1;33m(\u001b[0m\u001b[1;36m1\u001b[0m\u001b[1;33m,\u001b[0m\u001b[1;33m-\u001b[0m\u001b[1;36m1\u001b[0m\u001b[1;33m)\u001b[0m\u001b[1;33m)\u001b[0m\u001b[1;33m\u001b[0m\u001b[0m\n\u001b[0;32m     26\u001b[0m         \u001b[1;31m# make pick\u001b[0m\u001b[1;33m\u001b[0m\u001b[1;33m\u001b[0m\u001b[0m\n",
      "\u001b[1;32m~\\Anaconda3\\lib\\site-packages\\sklearn\\mixture\\base.py\u001b[0m in \u001b[0;36mscore\u001b[1;34m(self, X, y)\u001b[0m\n\u001b[0;32m    320\u001b[0m             \u001b[0mLog\u001b[0m \u001b[0mlikelihood\u001b[0m \u001b[0mof\u001b[0m \u001b[0mthe\u001b[0m \u001b[0mGaussian\u001b[0m \u001b[0mmixture\u001b[0m \u001b[0mgiven\u001b[0m \u001b[0mX\u001b[0m\u001b[1;33m.\u001b[0m\u001b[1;33m\u001b[0m\u001b[0m\n\u001b[0;32m    321\u001b[0m         \"\"\"\n\u001b[1;32m--> 322\u001b[1;33m         \u001b[1;32mreturn\u001b[0m \u001b[0mself\u001b[0m\u001b[1;33m.\u001b[0m\u001b[0mscore_samples\u001b[0m\u001b[1;33m(\u001b[0m\u001b[0mX\u001b[0m\u001b[1;33m)\u001b[0m\u001b[1;33m.\u001b[0m\u001b[0mmean\u001b[0m\u001b[1;33m(\u001b[0m\u001b[1;33m)\u001b[0m\u001b[1;33m\u001b[0m\u001b[0m\n\u001b[0m\u001b[0;32m    323\u001b[0m \u001b[1;33m\u001b[0m\u001b[0m\n\u001b[0;32m    324\u001b[0m     \u001b[1;32mdef\u001b[0m \u001b[0mpredict\u001b[0m\u001b[1;33m(\u001b[0m\u001b[0mself\u001b[0m\u001b[1;33m,\u001b[0m \u001b[0mX\u001b[0m\u001b[1;33m)\u001b[0m\u001b[1;33m:\u001b[0m\u001b[1;33m\u001b[0m\u001b[0m\n",
      "\u001b[1;32m~\\Anaconda3\\lib\\site-packages\\sklearn\\mixture\\base.py\u001b[0m in \u001b[0;36mscore_samples\u001b[1;34m(self, X)\u001b[0m\n\u001b[0;32m    304\u001b[0m         \u001b[0mX\u001b[0m \u001b[1;33m=\u001b[0m \u001b[0m_check_X\u001b[0m\u001b[1;33m(\u001b[0m\u001b[0mX\u001b[0m\u001b[1;33m,\u001b[0m \u001b[1;32mNone\u001b[0m\u001b[1;33m,\u001b[0m \u001b[0mself\u001b[0m\u001b[1;33m.\u001b[0m\u001b[0mmeans_\u001b[0m\u001b[1;33m.\u001b[0m\u001b[0mshape\u001b[0m\u001b[1;33m[\u001b[0m\u001b[1;36m1\u001b[0m\u001b[1;33m]\u001b[0m\u001b[1;33m)\u001b[0m\u001b[1;33m\u001b[0m\u001b[0m\n\u001b[0;32m    305\u001b[0m \u001b[1;33m\u001b[0m\u001b[0m\n\u001b[1;32m--> 306\u001b[1;33m         \u001b[1;32mreturn\u001b[0m \u001b[0mlogsumexp\u001b[0m\u001b[1;33m(\u001b[0m\u001b[0mself\u001b[0m\u001b[1;33m.\u001b[0m\u001b[0m_estimate_weighted_log_prob\u001b[0m\u001b[1;33m(\u001b[0m\u001b[0mX\u001b[0m\u001b[1;33m)\u001b[0m\u001b[1;33m,\u001b[0m \u001b[0maxis\u001b[0m\u001b[1;33m=\u001b[0m\u001b[1;36m1\u001b[0m\u001b[1;33m)\u001b[0m\u001b[1;33m\u001b[0m\u001b[0m\n\u001b[0m\u001b[0;32m    307\u001b[0m \u001b[1;33m\u001b[0m\u001b[0m\n\u001b[0;32m    308\u001b[0m     \u001b[1;32mdef\u001b[0m \u001b[0mscore\u001b[0m\u001b[1;33m(\u001b[0m\u001b[0mself\u001b[0m\u001b[1;33m,\u001b[0m \u001b[0mX\u001b[0m\u001b[1;33m,\u001b[0m \u001b[0my\u001b[0m\u001b[1;33m=\u001b[0m\u001b[1;32mNone\u001b[0m\u001b[1;33m)\u001b[0m\u001b[1;33m:\u001b[0m\u001b[1;33m\u001b[0m\u001b[0m\n",
      "\u001b[1;32m~\\Anaconda3\\lib\\site-packages\\scipy\\special\\_logsumexp.py\u001b[0m in \u001b[0;36mlogsumexp\u001b[1;34m(a, axis, b, keepdims, return_sign)\u001b[0m\n\u001b[0;32m     99\u001b[0m             \u001b[0ma\u001b[0m\u001b[1;33m[\u001b[0m\u001b[0mb\u001b[0m \u001b[1;33m==\u001b[0m \u001b[1;36m0\u001b[0m\u001b[1;33m]\u001b[0m \u001b[1;33m=\u001b[0m \u001b[1;33m-\u001b[0m\u001b[0mnp\u001b[0m\u001b[1;33m.\u001b[0m\u001b[0minf\u001b[0m\u001b[1;33m\u001b[0m\u001b[0m\n\u001b[0;32m    100\u001b[0m \u001b[1;33m\u001b[0m\u001b[0m\n\u001b[1;32m--> 101\u001b[1;33m     \u001b[0ma_max\u001b[0m \u001b[1;33m=\u001b[0m \u001b[0mnp\u001b[0m\u001b[1;33m.\u001b[0m\u001b[0mamax\u001b[0m\u001b[1;33m(\u001b[0m\u001b[0ma\u001b[0m\u001b[1;33m,\u001b[0m \u001b[0maxis\u001b[0m\u001b[1;33m=\u001b[0m\u001b[0maxis\u001b[0m\u001b[1;33m,\u001b[0m \u001b[0mkeepdims\u001b[0m\u001b[1;33m=\u001b[0m\u001b[1;32mTrue\u001b[0m\u001b[1;33m)\u001b[0m\u001b[1;33m\u001b[0m\u001b[0m\n\u001b[0m\u001b[0;32m    102\u001b[0m \u001b[1;33m\u001b[0m\u001b[0m\n\u001b[0;32m    103\u001b[0m     \u001b[1;32mif\u001b[0m \u001b[0ma_max\u001b[0m\u001b[1;33m.\u001b[0m\u001b[0mndim\u001b[0m \u001b[1;33m>\u001b[0m \u001b[1;36m0\u001b[0m\u001b[1;33m:\u001b[0m\u001b[1;33m\u001b[0m\u001b[0m\n",
      "\u001b[1;32m~\\Anaconda3\\lib\\site-packages\\numpy\\core\\fromnumeric.py\u001b[0m in \u001b[0;36mamax\u001b[1;34m(a, axis, out, keepdims)\u001b[0m\n\u001b[0;32m   2318\u001b[0m \u001b[1;33m\u001b[0m\u001b[0m\n\u001b[0;32m   2319\u001b[0m     return _methods._amax(a, axis=axis,\n\u001b[1;32m-> 2320\u001b[1;33m                           out=out, **kwargs)\n\u001b[0m\u001b[0;32m   2321\u001b[0m \u001b[1;33m\u001b[0m\u001b[0m\n\u001b[0;32m   2322\u001b[0m \u001b[1;33m\u001b[0m\u001b[0m\n",
      "\u001b[1;32m~\\Anaconda3\\lib\\site-packages\\numpy\\core\\_methods.py\u001b[0m in \u001b[0;36m_amax\u001b[1;34m(a, axis, out, keepdims)\u001b[0m\n\u001b[0;32m     24\u001b[0m \u001b[1;31m# small reductions\u001b[0m\u001b[1;33m\u001b[0m\u001b[1;33m\u001b[0m\u001b[0m\n\u001b[0;32m     25\u001b[0m \u001b[1;32mdef\u001b[0m \u001b[0m_amax\u001b[0m\u001b[1;33m(\u001b[0m\u001b[0ma\u001b[0m\u001b[1;33m,\u001b[0m \u001b[0maxis\u001b[0m\u001b[1;33m=\u001b[0m\u001b[1;32mNone\u001b[0m\u001b[1;33m,\u001b[0m \u001b[0mout\u001b[0m\u001b[1;33m=\u001b[0m\u001b[1;32mNone\u001b[0m\u001b[1;33m,\u001b[0m \u001b[0mkeepdims\u001b[0m\u001b[1;33m=\u001b[0m\u001b[1;32mFalse\u001b[0m\u001b[1;33m)\u001b[0m\u001b[1;33m:\u001b[0m\u001b[1;33m\u001b[0m\u001b[0m\n\u001b[1;32m---> 26\u001b[1;33m     \u001b[1;32mreturn\u001b[0m \u001b[0mumr_maximum\u001b[0m\u001b[1;33m(\u001b[0m\u001b[0ma\u001b[0m\u001b[1;33m,\u001b[0m \u001b[0maxis\u001b[0m\u001b[1;33m,\u001b[0m \u001b[1;32mNone\u001b[0m\u001b[1;33m,\u001b[0m \u001b[0mout\u001b[0m\u001b[1;33m,\u001b[0m \u001b[0mkeepdims\u001b[0m\u001b[1;33m)\u001b[0m\u001b[1;33m\u001b[0m\u001b[0m\n\u001b[0m\u001b[0;32m     27\u001b[0m \u001b[1;33m\u001b[0m\u001b[0m\n\u001b[0;32m     28\u001b[0m \u001b[1;32mdef\u001b[0m \u001b[0m_amin\u001b[0m\u001b[1;33m(\u001b[0m\u001b[0ma\u001b[0m\u001b[1;33m,\u001b[0m \u001b[0maxis\u001b[0m\u001b[1;33m=\u001b[0m\u001b[1;32mNone\u001b[0m\u001b[1;33m,\u001b[0m \u001b[0mout\u001b[0m\u001b[1;33m=\u001b[0m\u001b[1;32mNone\u001b[0m\u001b[1;33m,\u001b[0m \u001b[0mkeepdims\u001b[0m\u001b[1;33m=\u001b[0m\u001b[1;32mFalse\u001b[0m\u001b[1;33m)\u001b[0m\u001b[1;33m:\u001b[0m\u001b[1;33m\u001b[0m\u001b[0m\n",
      "\u001b[1;31mKeyboardInterrupt\u001b[0m: "
     ]
    }
   ],
   "source": [
    "def train_gmm(svd_comps = 2, gmm_comps = 4, cov_type = 'full', sparse = True):\n",
    "    \n",
    "    # project data to few dimensions using SVD if sparse, PCA if dense\n",
    "    if (sparse): svd_test = TruncatedSVD(n_components=svd_comps)\n",
    "    else: svd_test = PCA(n_components=svd_comps)\n",
    "    svd_test_ft = svd_test.fit_transform(x_test)\n",
    "    if (sparse): svd_train = TruncatedSVD(n_components=svd_comps)\n",
    "    else: svd_train = PCA(n_components=svd_comps)\n",
    "    svd_train_ft = svd_train.fit_transform(x_train)\n",
    "\n",
    "    # create two sets of svd data, one that's positively labeled, one that's negatively labeled\n",
    "    pos_svd = svd_train_ft[y_train == 1]\n",
    "    neg_svd = svd_train_ft[y_train == 0]\n",
    "    \n",
    "    # fit a GMM for pos and neg datasets\n",
    "    gmm_pos = GaussianMixture(n_components=gmm_comps, covariance_type=cov_type) \n",
    "    gmm_fit_pos = gmm_pos.fit(pos_svd)\n",
    "    gmm_neg = GaussianMixture(n_components=gmm_comps, covariance_type=cov_type) \n",
    "    gmm_fit_neg = gmm_neg.fit(neg_svd)\n",
    "\n",
    "    prediction = np.ndarray(shape=y_test.shape)\n",
    "    \n",
    "    for sample in range(svd_test_ft.shape[0]):\n",
    "        pos_score = gmm_fit_pos.score(svd_test_ft[sample].reshape(1,-1))\n",
    "        neg_score = gmm_fit_neg.score(svd_test_ft[sample].reshape(1,-1))\n",
    "        # make pick\n",
    "        if (pos_score >= neg_score): prediction[sample] = 1\n",
    "        else: prediction[sample] = 0 \n",
    "\n",
    "    # calculate accuracy\n",
    "    accuracy = metrics.accuracy_score(y_test, prediction)\n",
    "    # f1 = metrics.f1_score(y_test, prediction)\n",
    "    print(\"Accuracy score for\", svd_comps,\"SVD comps,\",gmm_comps,\"GMM comps,\",\"Covariance type\",cov_type,\"=\",accuracy)\n",
    "\n",
    "    return(accuracy)\n",
    "\n",
    "def gmm_trials(sparse = True, max_params = 50):\n",
    "\n",
    "    def calc_limits(max_params = 50):\n",
    "        # this function helps estaish the svd and gmm settings to stay within max_params\n",
    "\n",
    "        valid_configs = [] # list of tuples (num_svd_components, num_gmm_components)\n",
    "\n",
    "        for cov_type in ['spherical', 'diag', 'tied', 'full']:\n",
    "            for svd_comp in range(1,20): \n",
    "                for gmm_comp in range(1,20): \n",
    "                    if ((svd_comp + svd_comp) * gmm_comp) * 2 <= max_params:\n",
    "                        valid_configs.append((svd_comp, gmm_comp, cov_type))\n",
    "\n",
    "        return(valid_configs)\n",
    "\n",
    "    configs = calc_limits(max_params) # get the valid configurations\n",
    "\n",
    "    top_accuracy_val = 0 # keeps track of top accuracy value\n",
    "    top_accuracy_config = () # keeps track of config that creates top accuracy value\n",
    "    \n",
    "    for config in configs:\n",
    "        accuracy = train_gmm(config[0], config[1], config[2])\n",
    "        if accuracy > top_accuracy_val:\n",
    "            top_accuracy_val = accuracy\n",
    "            top_accuracy_config = config\n",
    "\n",
    "    print(\"*********************************************************************************\")\n",
    "    print(\"The best accuracy score is\", top_accuracy_val)\n",
    "    print(\"To get it, set SVD comps to\", top_accuracy_config[0], \", GMM comps to\", top_accuracy_config[1],\", and covariance type to\", top_accuracy_config[2])\n",
    "\n",
    "    \n",
    "#Create Sparse matrix of words\n",
    "count_vect = CountVectorizer()\n",
    "\n",
    "#Split train and test data\n",
    "x_train_text, x_test_text, y_train, y_test = train_test_split(\n",
    "    train_data_master['request_text_edit_aware'], \n",
    "    train_labels_master.values.ravel(), test_size=0.2, random_state=0)\n",
    "x_train = count_vect.fit_transform(x_train_text)\n",
    "x_test = count_vect.transform(x_test_text)\n",
    "\n",
    "gmm_trials(sparse = True)"
   ]
  },
  {
   "cell_type": "markdown",
   "metadata": {},
   "source": [
    "Results: The best accuracy score doesn't beat the 0.68 naive bayes baseline, so dimensionality reduction on the vectorized text field doesn't help. "
   ]
  },
  {
   "cell_type": "markdown",
   "metadata": {},
   "source": [
    "### Next: Dimensionality reduction on all features"
   ]
  },
  {
   "cell_type": "code",
   "execution_count": null,
   "metadata": {},
   "outputs": [],
   "source": [
    "#Try using ALL features, even those not in the test data. \n",
    "\n",
    "#Normalize all fields (numeric)\n",
    "min_max_scaler = preprocessing.MinMaxScaler()\n",
    "mn_mx_scaler_allfeats = min_max_scaler.fit_transform(\n",
    "    train.select_dtypes(include = ['float64', 'int64','datetime64[ns]']).apply(pd.to_numeric).values)\n",
    "mn_mx_scaler_commonfeats = min_max_scaler.fit_transform(\n",
    "    train_data_master.select_dtypes(include = ['float64', 'int64','datetime64[ns]']).apply(pd.to_numeric).values)\n",
    "\n",
    "#Split train and test data\n",
    "x_train, x_test = mn_mx_scaler_allfeats[:3232], mn_mx_scaler_commonfeats[3232:] \n",
    "y_train, y_test = train_labels_master[:3232].values.ravel(), train_labels_master[3232:].values.ravel()\n",
    "\n"
   ]
  },
  {
   "cell_type": "code",
   "execution_count": null,
   "metadata": {},
   "outputs": [],
   "source": [
    "gmm_trials(sparse = False, max_params = 40)"
   ]
  },
  {
   "cell_type": "markdown",
   "metadata": {},
   "source": [
    "Results: A 0.74 accuracy level is less than what was achieved with logistic regression baseline of 0.75. "
   ]
  },
  {
   "cell_type": "code",
   "execution_count": null,
   "metadata": {},
   "outputs": [],
   "source": [
    "#Try using just the features in common with train and test. \n",
    "\n",
    "#Normalize all fields (numeric)\n",
    "min_max_scaler = preprocessing.MinMaxScaler()\n",
    "mn_mx_scaler = min_max_scaler.fit_transform(\n",
    "    train.select_dtypes(include = ['float64', 'int64','datetime64[ns]']).apply(pd.to_numeric).values)\n",
    "\n",
    "#Split train and test data\n",
    "x_train, x_test = mn_mx_scaler[:3232], mn_mx_scaler[3232:] \n",
    "y_train, y_test = train_labels_master[:3232].values.ravel(), train_labels_master[3232:].values.ravel()\n"
   ]
  },
  {
   "cell_type": "code",
   "execution_count": null,
   "metadata": {},
   "outputs": [],
   "source": [
    "gmm_trials(sparse = False, max_params = 40) "
   ]
  },
  {
   "cell_type": "markdown",
   "metadata": {},
   "source": [
    "Result: a 0.73 accuracy score is less than the logistic regression baseline. "
   ]
  },
  {
   "cell_type": "markdown",
   "metadata": {},
   "source": [
    "### Reduce vectorized word field, plug it into logistic regression with other features"
   ]
  },
  {
   "cell_type": "code",
   "execution_count": 124,
   "metadata": {},
   "outputs": [],
   "source": [
    "#Create Sparse matrix of words\n",
    "count_vect = CountVectorizer()\n",
    "x_train = train_data_master[:3232]['request_text_edit_aware']\n",
    "x_test = train_data_master[3232:]['request_text_edit_aware'] \n",
    "train_features = count_vect.fit_transform(x_train)\n",
    "dev_features = count_vect.transform(x_test)\n",
    "\n",
    "#Reduce the vectorized word feature to small number of numerical components\n",
    "svd_comps = 110 # 110 after some trial and error, this was the best\n",
    "svd = TruncatedSVD(n_components=svd_comps)\n",
    "svd_ft_tr = svd.fit_transform(train_features)\n",
    "svd_ft_dv = svd.fit_transform(dev_features)\n",
    "svd_ft = np.concatenate((svd_ft_tr, svd_ft_dv), axis=0)\n",
    "\n",
    "# add the newly reduced text field feature to the train and test data\n",
    "train_data_SVD = train_data_master.copy(deep = True)\n",
    "for comp in range(svd_comps):\n",
    "    train_data_SVD['SVD'+str(comp)] = svd_ft[:,comp]\n",
    "\n",
    "#Normalize all fields (numeric)\n",
    "min_max_scaler = preprocessing.MinMaxScaler()\n",
    "mn_mx_scaler = min_max_scaler.fit_transform(train_data_SVD.select_dtypes(include = ['float64', 'int64','datetime64[ns]']).apply(pd.to_numeric).values)\n",
    "\n",
    "#Split train and test data\n",
    "x_train, x_test = mn_mx_scaler[:3232], mn_mx_scaler[3232:] \n",
    "y_train, y_test = train_labels_master[:3232].values.ravel(), train_labels_master[3232:].values.ravel()\n"
   ]
  },
  {
   "cell_type": "code",
   "execution_count": 125,
   "metadata": {},
   "outputs": [
    {
     "name": "stdout",
     "output_type": "stream",
     "text": [
      "Logistic Regression (using only common numeric fields)\n",
      "---------\n",
      "             precision    recall  f1-score   support\n",
      "\n",
      "      False       0.77      0.98      0.86       612\n",
      "       True       0.46      0.07      0.12       196\n",
      "\n",
      "avg / total       0.69      0.75      0.68       808\n",
      "\n"
     ]
    },
    {
     "data": {
      "image/png": "[encoded data removed]",
      "text/plain": [
       "<Figure size 216x216 with 2 Axes>"
      ]
     },
     "metadata": {},
     "output_type": "display_data"
    },
    {
     "data": {
      "image/png": "[encoded data removed]",
      "text/plain": [
       "<Figure size 432x288 with 1 Axes>"
      ]
     },
     "metadata": {},
     "output_type": "display_data"
    }
   ],
   "source": [
    "# do logistic regression on our new train data\n",
    "\n",
    "def model_report(title, y_test, predictions):\n",
    "\n",
    "    \"\"\"\n",
    "    Output: Classification report, confusion matrix, and ROC curve\n",
    "    \"\"\"\n",
    "    print(title)\n",
    "    print(\"---------\")\n",
    "    print(classification_report(y_test, predictions))\n",
    "\n",
    "    cm = metrics.confusion_matrix(y_test, predictions)\n",
    "    plt.figure(figsize=(3,3))\n",
    "    sns.heatmap(cm, annot=True, fmt=\".0f\", linewidths=.5, square = True, cmap = 'Blues_r');\n",
    "    plt.ylabel('Actual label');\n",
    "    plt.xlabel('Predicted label');\n",
    "    all_sample_title = 'Accuracy: {0}'.format(round(metrics.accuracy_score(y_test, predictions),2))\n",
    "    plt.title(all_sample_title, size = 15)\n",
    "    plt.show()\n",
    "    \n",
    "    fpr, tpr, threshold = metrics.roc_curve(y_test, predictions)\n",
    "    roc_auc = metrics.auc(fpr, tpr)\n",
    "\n",
    "    plt.title('Receiver Operating Characteristic')\n",
    "    plt.plot(fpr, tpr, 'b', label = 'AUC = %0.2f' % roc_auc)\n",
    "    plt.legend(loc = 'lower right')\n",
    "    plt.plot([0, 1], [0, 1],'r--')\n",
    "    plt.xlim([0, 1])\n",
    "    plt.ylim([0, 1])\n",
    "    plt.ylabel('True Positive Rate')\n",
    "    plt.xlabel('False Positive Rate')\n",
    "    plt.show()\n",
    "    \n",
    "#Train Model\n",
    "# all parameters not specified are set to their defaults\n",
    "logisticRegr = LogisticRegression()\n",
    "logisticRegr.fit(x_train, y_train)\n",
    "predictions = logisticRegr.predict(x_test)\n",
    "\n",
    "#Output model report\n",
    "model_report(\"Logistic Regression (using only common numeric fields)\",y_test, predictions)"
   ]
  },
  {
   "cell_type": "markdown",
   "metadata": {},
   "source": []
  },
  {
   "cell_type": "code",
   "execution_count": 122,
   "metadata": {},
   "outputs": [],
   "source": [
    "#Create Sparse matrix of words\n",
    "count_vect = TfidfVectorizer()\n",
    "x_train = train_data_master[:3232]['request_text_edit_aware']\n",
    "x_test = train_data_master[3232:]['request_text_edit_aware'] \n",
    "train_features = count_vect.fit_transform(x_train)\n",
    "dev_features = count_vect.transform(x_test)\n",
    "\n",
    "#Reduce the vectorized word feature to small number of numerical components\n",
    "svd_comps = 25 # 25 after some trial and error, this was the best\n",
    "svd = TruncatedSVD(n_components=svd_comps)\n",
    "svd_ft_tr = svd.fit_transform(train_features)\n",
    "svd_ft_dv = svd.fit_transform(dev_features)\n",
    "svd_ft = np.concatenate((svd_ft_tr, svd_ft_dv), axis=0)\n",
    "\n",
    "# add the newly reduced text field feature to the train and test data\n",
    "train_data_SVD = train_data_master.copy(deep = True)\n",
    "for comp in range(svd_comps):\n",
    "    train_data_SVD['SVD'+str(comp)] = svd_ft[:,comp]\n",
    "\n",
    "#Normalize all fields (numeric)\n",
    "min_max_scaler = preprocessing.MinMaxScaler()\n",
    "mn_mx_scaler = min_max_scaler.fit_transform(train_data_SVD.select_dtypes(include = ['float64', 'int64','datetime64[ns]']).apply(pd.to_numeric).values)\n",
    "\n",
    "#Split train and test data\n",
    "x_train, x_test = mn_mx_scaler[:3232], mn_mx_scaler[3232:] \n",
    "y_train, y_test = train_labels_master[:3232].values.ravel(), train_labels_master[3232:].values.ravel()\n"
   ]
  },
  {
   "cell_type": "code",
   "execution_count": 123,
   "metadata": {},
   "outputs": [
    {
     "name": "stdout",
     "output_type": "stream",
     "text": [
      "Logistic Regression (using only common numeric fields)\n",
      "---------\n",
      "             precision    recall  f1-score   support\n",
      "\n",
      "      False       0.76      0.98      0.85       612\n",
      "       True       0.33      0.04      0.06       196\n",
      "\n",
      "avg / total       0.66      0.75      0.66       808\n",
      "\n"
     ]
    },
    {
     "data": {
      "image/png": "[encoded data removed]",
      "text/plain": [
       "<Figure size 216x216 with 2 Axes>"
      ]
     },
     "metadata": {},
     "output_type": "display_data"
    },
    {
     "data": {
      "image/png": "[encoded data removed]",
      "text/plain": [
       "<Figure size 432x288 with 1 Axes>"
      ]
     },
     "metadata": {},
     "output_type": "display_data"
    }
   ],
   "source": [
    "# do logistic regression on our new train data\n",
    "\n",
    "def model_report(title, y_test, predictions):\n",
    "\n",
    "    \"\"\"\n",
    "    Output: Classification report, confusion matrix, and ROC curve\n",
    "    \"\"\"\n",
    "    print(title)\n",
    "    print(\"---------\")\n",
    "    print(classification_report(y_test, predictions))\n",
    "\n",
    "    cm = metrics.confusion_matrix(y_test, predictions)\n",
    "    plt.figure(figsize=(3,3))\n",
    "    sns.heatmap(cm, annot=True, fmt=\".0f\", linewidths=.5, square = True, cmap = 'Blues_r');\n",
    "    plt.ylabel('Actual label');\n",
    "    plt.xlabel('Predicted label');\n",
    "    all_sample_title = 'Accuracy: {0}'.format(round(metrics.accuracy_score(y_test, predictions),2))\n",
    "    plt.title(all_sample_title, size = 15)\n",
    "    plt.show()\n",
    "    \n",
    "    fpr, tpr, threshold = metrics.roc_curve(y_test, predictions)\n",
    "    roc_auc = metrics.auc(fpr, tpr)\n",
    "\n",
    "    plt.title('Receiver Operating Characteristic')\n",
    "    plt.plot(fpr, tpr, 'b', label = 'AUC = %0.2f' % roc_auc)\n",
    "    plt.legend(loc = 'lower right')\n",
    "    plt.plot([0, 1], [0, 1],'r--')\n",
    "    plt.xlim([0, 1])\n",
    "    plt.ylim([0, 1])\n",
    "    plt.ylabel('True Positive Rate')\n",
    "    plt.xlabel('False Positive Rate')\n",
    "    plt.show()\n",
    "    \n",
    "#Train Model\n",
    "# all parameters not specified are set to their defaults\n",
    "logisticRegr = LogisticRegression()\n",
    "logisticRegr.fit(x_train, y_train)\n",
    "predictions = logisticRegr.predict(x_test)\n",
    "\n",
    "#Output model report\n",
    "model_report(\"Logistic Regression (using only common numeric fields)\",y_test, predictions)"
   ]
  },
  {
   "cell_type": "markdown",
   "metadata": {},
   "source": [
    "### Results\n",
    "* Reducing the vectorized word feature got us to 0.68 accuracy - the exact same accuracy that Naive Bayes got us. \n",
    "* Reducing all the features (even those not in the test set) got us to 0.74 accuracy - a bit less than the 0.75 accuracy from logistic regression on the features. \n",
    "* Reducing just the features that are shared by train and test sets got us to 0.73 accuracy - even further from the 0.75 accuracy of logistic regression.\n",
    "* Vectorizing the text field, reducing it through SVD to 110 components, adding it to the train data, and running logistic regression again did improve accuracy by small margins.\n",
    "* Tfidf vectorizing the text field before doing the above did not improve the accuracy."
   ]
  },
  {
   "cell_type": "markdown",
   "metadata": {},
   "source": [
    "# Kevin's Misadventures in Feature Imputation\n",
    "EDA and experiments in predicting the features that are included in training data, but missing from test data."
   ]
  },
  {
   "cell_type": "markdown",
   "metadata": {},
   "source": [
    "## Correlation Analysis of Missing Features\n",
    "As identified in the initial EDA, the training data contains a number of features that are not present in the test data (beyond whether or not a pizza was received). We would like to explore whether predicting any of these missing feature values can be used to improve the accuracy of our classification predictions. The first step is examining the relationship between these features and the sucess of the pizza request.\n",
    "Because most of these \"missing\" features are continuous variables, and our success/failure variable is binary, we'll start our exploration by running a Point-Biserial correlation analysis for each feature of interest."
   ]
  },
  {
   "cell_type": "code",
   "execution_count": 15,
   "metadata": {},
   "outputs": [
    {
     "data": {
      "text/html": [
       "<div>\n",
       "<style scoped>\n",
       "    .dataframe tbody tr th:only-of-type {\n",
       "        vertical-align: middle;\n",
       "    }\n",
       "\n",
       "    .dataframe tbody tr th {\n",
       "        vertical-align: top;\n",
       "    }\n",
       "\n",
       "    .dataframe thead th {\n",
       "        text-align: right;\n",
       "    }\n",
       "</style>\n",
       "<table border=\"1\" class=\"dataframe\">\n",
       "  <thead>\n",
       "    <tr style=\"text-align: right;\">\n",
       "      <th></th>\n",
       "      <th>Feature Name</th>\n",
       "      <th>Correlation</th>\n",
       "      <th>p-value</th>\n",
       "    </tr>\n",
       "  </thead>\n",
       "  <tbody>\n",
       "    <tr>\n",
       "      <th>0</th>\n",
       "      <td>number_of_downvotes_of_request_at_retrieval</td>\n",
       "      <td>0.026816</td>\n",
       "      <td>8.833968e-02</td>\n",
       "    </tr>\n",
       "    <tr>\n",
       "      <th>1</th>\n",
       "      <td>number_of_upvotes_of_request_at_retrieval</td>\n",
       "      <td>0.102138</td>\n",
       "      <td>7.666811e-11</td>\n",
       "    </tr>\n",
       "    <tr>\n",
       "      <th>2</th>\n",
       "      <td>request_number_of_comments_at_retrieval</td>\n",
       "      <td>0.289153</td>\n",
       "      <td>1.195369e-78</td>\n",
       "    </tr>\n",
       "    <tr>\n",
       "      <th>3</th>\n",
       "      <td>requester_account_age_in_days_at_retrieval</td>\n",
       "      <td>0.120919</td>\n",
       "      <td>1.241585e-14</td>\n",
       "    </tr>\n",
       "    <tr>\n",
       "      <th>4</th>\n",
       "      <td>requester_days_since_first_post_on_raop_at_ret...</td>\n",
       "      <td>0.129283</td>\n",
       "      <td>1.591346e-16</td>\n",
       "    </tr>\n",
       "    <tr>\n",
       "      <th>5</th>\n",
       "      <td>requester_number_of_comments_at_retrieval</td>\n",
       "      <td>0.105217</td>\n",
       "      <td>2.024969e-11</td>\n",
       "    </tr>\n",
       "    <tr>\n",
       "      <th>6</th>\n",
       "      <td>requester_number_of_comments_in_raop_at_retrieval</td>\n",
       "      <td>0.274253</td>\n",
       "      <td>1.247359e-70</td>\n",
       "    </tr>\n",
       "    <tr>\n",
       "      <th>7</th>\n",
       "      <td>requester_number_of_posts_at_retrieval</td>\n",
       "      <td>0.048353</td>\n",
       "      <td>2.110731e-03</td>\n",
       "    </tr>\n",
       "    <tr>\n",
       "      <th>8</th>\n",
       "      <td>requester_number_of_posts_on_raop_at_retrieval</td>\n",
       "      <td>0.460637</td>\n",
       "      <td>2.062371e-211</td>\n",
       "    </tr>\n",
       "    <tr>\n",
       "      <th>9</th>\n",
       "      <td>requester_upvotes_minus_downvotes_at_retrieval</td>\n",
       "      <td>0.077728</td>\n",
       "      <td>7.557808e-07</td>\n",
       "    </tr>\n",
       "    <tr>\n",
       "      <th>10</th>\n",
       "      <td>requester_upvotes_plus_downvotes_at_retrieval</td>\n",
       "      <td>0.045994</td>\n",
       "      <td>3.454973e-03</td>\n",
       "    </tr>\n",
       "  </tbody>\n",
       "</table>\n",
       "</div>"
      ],
      "text/plain": [
       "                                         Feature Name  Correlation  \\\n",
       "0         number_of_downvotes_of_request_at_retrieval     0.026816   \n",
       "1           number_of_upvotes_of_request_at_retrieval     0.102138   \n",
       "2             request_number_of_comments_at_retrieval     0.289153   \n",
       "3          requester_account_age_in_days_at_retrieval     0.120919   \n",
       "4   requester_days_since_first_post_on_raop_at_ret...     0.129283   \n",
       "5           requester_number_of_comments_at_retrieval     0.105217   \n",
       "6   requester_number_of_comments_in_raop_at_retrieval     0.274253   \n",
       "7              requester_number_of_posts_at_retrieval     0.048353   \n",
       "8      requester_number_of_posts_on_raop_at_retrieval     0.460637   \n",
       "9      requester_upvotes_minus_downvotes_at_retrieval     0.077728   \n",
       "10      requester_upvotes_plus_downvotes_at_retrieval     0.045994   \n",
       "\n",
       "          p-value  \n",
       "0    8.833968e-02  \n",
       "1    7.666811e-11  \n",
       "2    1.195369e-78  \n",
       "3    1.241585e-14  \n",
       "4    1.591346e-16  \n",
       "5    2.024969e-11  \n",
       "6    1.247359e-70  \n",
       "7    2.110731e-03  \n",
       "8   2.062371e-211  \n",
       "9    7.557808e-07  \n",
       "10   3.454973e-03  "
      ]
     },
     "execution_count": 15,
     "metadata": {},
     "output_type": "execute_result"
    }
   ],
   "source": [
    "from scipy import stats\n",
    "# List the numeric columns that are in the training data, but not in the test data\n",
    "numeric_cols = ['number_of_downvotes_of_request_at_retrieval',\n",
    "       'number_of_upvotes_of_request_at_retrieval',\n",
    "       'request_number_of_comments_at_retrieval',\n",
    "       'requester_account_age_in_days_at_retrieval',\n",
    "       'requester_days_since_first_post_on_raop_at_retrieval',\n",
    "       'requester_number_of_comments_at_retrieval',\n",
    "       'requester_number_of_comments_in_raop_at_retrieval',\n",
    "       'requester_number_of_posts_at_retrieval',\n",
    "       'requester_number_of_posts_on_raop_at_retrieval',\n",
    "       'requester_upvotes_minus_downvotes_at_retrieval',\n",
    "       'requester_upvotes_plus_downvotes_at_retrieval']\n",
    "\n",
    "# Iterate through the column list and evaluate point-biserial correlation with whether a pizza was received.\n",
    "results = []\n",
    "for col in numeric_cols:\n",
    "    result = stats.pointbiserialr(train[col],train['requester_received_pizza'])\n",
    "    temp = list((col,result[0],result[1]))\n",
    "    results.append(temp)\n",
    "\n",
    "df_corr = pd.DataFrame(results)\n",
    "df_corr.columns = ['Feature Name','Correlation','p-value']\n",
    "df_corr"
   ]
  },
  {
   "cell_type": "markdown",
   "metadata": {},
   "source": [
    "Based on the correlation analysis, most of the \"missing\" features are very weakly correlated with whether the requestor received a pizza. The strongest relationships are with the number of comments on the request (r = 0.289), the number of comments the requestor has made in the RAOP subreddit (r = 0.274), and the number of posts the requestor has made in the RAOP subreddit (r = 0.461). \n",
    "Based on these relationships, we'll isolate these three variables for further analysis."
   ]
  },
  {
   "cell_type": "markdown",
   "metadata": {},
   "source": [
    "## Prediction of Missing Feature Values\n",
    "Attempting to impute missing features using a multioutput random forest regressor."
   ]
  },
  {
   "cell_type": "code",
   "execution_count": 144,
   "metadata": {},
   "outputs": [
    {
     "name": "stderr",
     "output_type": "stream",
     "text": [
      "C:\\Users\\benar\\Anaconda3\\lib\\site-packages\\sklearn\\utils\\validation.py:475: DataConversionWarning: Data with input dtype int64 was converted to float64 by MinMaxScaler.\n",
      "  warnings.warn(msg, DataConversionWarning)\n",
      "C:\\Users\\benar\\Anaconda3\\lib\\site-packages\\sklearn\\utils\\validation.py:475: DataConversionWarning: Data with input dtype int64 was converted to float64 by MinMaxScaler.\n",
      "  warnings.warn(msg, DataConversionWarning)\n",
      "C:\\Users\\benar\\Anaconda3\\lib\\site-packages\\sklearn\\utils\\validation.py:475: DataConversionWarning: Data with input dtype int64 was converted to float64 by MinMaxScaler.\n",
      "  warnings.warn(msg, DataConversionWarning)\n",
      "C:\\Users\\benar\\Anaconda3\\lib\\site-packages\\sklearn\\utils\\validation.py:475: DataConversionWarning: Data with input dtype int64 was converted to float64 by MinMaxScaler.\n",
      "  warnings.warn(msg, DataConversionWarning)\n",
      "C:\\Users\\benar\\Anaconda3\\lib\\site-packages\\sklearn\\utils\\validation.py:475: DataConversionWarning: Data with input dtype int64 was converted to float64 by MinMaxScaler.\n",
      "  warnings.warn(msg, DataConversionWarning)\n",
      "C:\\Users\\benar\\Anaconda3\\lib\\site-packages\\sklearn\\utils\\validation.py:475: DataConversionWarning: Data with input dtype int64 was converted to float64 by MinMaxScaler.\n",
      "  warnings.warn(msg, DataConversionWarning)\n",
      "C:\\Users\\benar\\Anaconda3\\lib\\site-packages\\sklearn\\utils\\validation.py:475: DataConversionWarning: Data with input dtype int64 was converted to float64 by MinMaxScaler.\n",
      "  warnings.warn(msg, DataConversionWarning)\n",
      "C:\\Users\\benar\\Anaconda3\\lib\\site-packages\\sklearn\\utils\\validation.py:475: DataConversionWarning: Data with input dtype int64 was converted to float64 by MinMaxScaler.\n",
      "  warnings.warn(msg, DataConversionWarning)\n",
      "C:\\Users\\benar\\Anaconda3\\lib\\site-packages\\sklearn\\utils\\validation.py:475: DataConversionWarning: Data with input dtype int64 was converted to float64 by MinMaxScaler.\n",
      "  warnings.warn(msg, DataConversionWarning)\n"
     ]
    },
    {
     "name": "stdout",
     "output_type": "stream",
     "text": [
      "Logistic Regression (using only common numeric fields)\n",
      "---------\n",
      "             precision    recall  f1-score   support\n",
      "\n",
      "      False       0.77      0.97      0.86       612\n",
      "       True       0.55      0.12      0.19       196\n",
      "\n",
      "avg / total       0.72      0.76      0.70       808\n",
      "\n"
     ]
    },
    {
     "data": {
      "image/png": "[encoded data removed]",
      "text/plain": [
       "<Figure size 216x216 with 2 Axes>"
      ]
     },
     "metadata": {},
     "output_type": "display_data"
    },
    {
     "data": {
      "image/png": "[encoded data removed]",
      "text/plain": [
       "<Figure size 432x288 with 1 Axes>"
      ]
     },
     "metadata": {},
     "output_type": "display_data"
    }
   ],
   "source": [
    "from sklearn.ensemble import RandomForestRegressor\n",
    "from sklearn.multioutput import MultiOutputRegressor\n",
    "\n",
    "# just the top three\n",
    "#cols_to_impute = ['request_number_of_comments_at_retrieval', 'requester_number_of_comments_in_raop_at_retrieval', 'requester_number_of_posts_on_raop_at_retrieval']\n",
    "\n",
    "# all the features\n",
    "cols_to_impute = ['number_of_downvotes_of_request_at_retrieval','number_of_upvotes_of_request_at_retrieval','request_number_of_comments_at_retrieval','requester_account_age_in_days_at_retrieval','requester_days_since_first_post_on_raop_at_retrieval','requester_number_of_comments_at_retrieval','requester_number_of_comments_in_raop_at_retrieval','requester_number_of_posts_at_retrieval','requester_number_of_posts_on_raop_at_retrieval','requester_upvotes_minus_downvotes_at_retrieval','requester_upvotes_plus_downvotes_at_retrieval']\n",
    "\n",
    "col_count = 0 # keeps track of new columns to create\n",
    "col_to_add = [] # stores list of columns to add\n",
    "\n",
    "for col_to_predict in cols_to_impute:\n",
    "        \n",
    "    regr_multirf = RandomForestRegressor(max_depth=7,random_state=0)\n",
    "\n",
    "    #cols_to_predict = 'requester_number_of_posts_on_raop_at_retrieval'\n",
    "    impute_train_data = train_data_master.copy(deep = True)\n",
    "    new_col = train[col_to_predict].values.reshape(-1,1)\n",
    "\n",
    "    # impute_train_labels\n",
    "    min_max_scaler = preprocessing.MinMaxScaler()\n",
    "    impute_train_scaled = min_max_scaler.fit_transform(impute_train_data.select_dtypes(include = ['float64', 'int64','datetime64[ns]']).apply(pd.to_numeric).values)\n",
    "    new_col_scaled = min_max_scaler.fit_transform(new_col)\n",
    "    x_impute_train, x_impute_test = impute_train_scaled[:3232], impute_train_scaled[3232:] \n",
    "    y_impute_train = new_col_scaled[:3232]\n",
    "\n",
    "    # y_impute_train.shape                                    \n",
    "    regr_multirf.fit(x_impute_train, y_impute_train.ravel())\n",
    "    predicted_col = regr_multirf.predict(x_impute_test)\n",
    "    predicted_col = predicted_col.reshape(-1,1)\n",
    "    col_to_add.append(np.append(y_impute_train, predicted_col, axis = 0))\n",
    "\n",
    "    col_count += 1\n",
    "\n",
    "    \n",
    "# add the newly predicted field feature to the test data\n",
    "min_max_scaler = preprocessing.MinMaxScaler()\n",
    "mn_mx_scaler = min_max_scaler.fit_transform(train_data_SVD.select_dtypes(include = ['float64', 'int64','datetime64[ns]']).apply(pd.to_numeric).values)\n",
    "\n",
    "for i in range(col_count):\n",
    "    mn_mx_scaler = np.append(mn_mx_scaler, col_to_add[i], axis = 1)\n",
    "\n",
    "x_train, x_test = mn_mx_scaler[:3232], mn_mx_scaler[3232:] \n",
    "y_train, y_test = train_labels_master[:3232].values.ravel(), train_labels_master[3232:].values.ravel()\n",
    "\n",
    "#Train Model\n",
    "# all parameters not specified are set to their defaults\n",
    "logisticRegr = LogisticRegression()\n",
    "logisticRegr.fit(x_train, y_train)\n",
    "predictions = logisticRegr.predict(x_test)\n",
    "\n",
    "#Output model report\n",
    "model_report(\"Logistic Regression (using only common numeric fields)\",y_test, predictions)\n"
   ]
  },
  {
   "cell_type": "code",
   "execution_count": null,
   "metadata": {},
   "outputs": [],
   "source": []
  },
  {
   "cell_type": "code",
   "execution_count": null,
   "metadata": {},
   "outputs": [],
   "source": []
  }
 ],
 "metadata": {
  "kernelspec": {
   "display_name": "Python 3",
   "language": "python",
   "name": "python3"
  },
  "language_info": {
   "codemirror_mode": {
    "name": "ipython",
    "version": 3
   },
   "file_extension": ".py",
   "mimetype": "text/x-python",
   "name": "python",
   "nbconvert_exporter": "python",
   "pygments_lexer": "ipython3",
   "version": "3.6.5"
  }
 },
 "nbformat": 4,
 "nbformat_minor": 2
}
