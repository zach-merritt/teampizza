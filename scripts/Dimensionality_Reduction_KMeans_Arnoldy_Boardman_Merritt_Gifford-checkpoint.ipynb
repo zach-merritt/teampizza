{
 "cells": [
  {
   "cell_type": "markdown",
   "metadata": {},
   "source": [
    "### Random Acts of Pizza - Baseline Model & EDA\n",
    "## Authors: Ben Arnoldy, Mary Boardman, Zach Merritt, and Kevin Gifford\n",
    "#### Kaggle Competition Description:\n",
    "In machine learning, it is often said there are no free lunches. How wrong we were.\n",
    "\n",
    "This competition contains a dataset with 5671 textual requests for pizza from the Reddit community Random Acts of Pizza together with their outcome (successful/unsuccessful) and meta-data. Participants must create an algorithm capable of predicting which requests will garner a cheesy (but sincere!) act of kindness.\n",
    "\n",
    "\"I'll write a poem, sing a song, do a dance, play an instrument, whatever! I just want a pizza,\" says one hopeful poster. What about making an algorithm?\n",
    "\n",
    "Kaggle is hosting this competition for the machine learning community to use for fun and practice. This data was collected and graciously shared by Althoff et al. (Buy them a pizza -- data collection is a thankless and tedious job!) We encourage participants to explore their accompanying paper and ask that you cite the following reference in any publications that result from your work:\n",
    "\n",
    "Tim Althoff, Cristian Danescu-Niculescu-Mizil, Dan Jurafsky. How to Ask for a Favor: A Case Study on the Success of Altruistic Requests, Proceedings of ICWSM, 2014.\n",
    "_______________________________________________________________________________________________"
   ]
  },
  {
   "cell_type": "markdown",
   "metadata": {},
   "source": [
    "## Notebook Title: EDA & Model Baseline\n",
    "#### Purpose: Load the 'Random Acts of Pizza' train and test data. Conduct an exploratory data analysis to gain an understanding of the data. Create a baseline Logisitic Regression model using non-text (numeric) fields only. "
   ]
  },
  {
   "cell_type": "markdown",
   "metadata": {},
   "source": [
    "## I. Load Data and Modules, Process Data"
   ]
  },
  {
   "cell_type": "markdown",
   "metadata": {},
   "source": [
    "### A. Load Data and Modules"
   ]
  },
  {
   "cell_type": "code",
   "execution_count": 1,
   "metadata": {},
   "outputs": [],
   "source": [
    "import json\n",
    "import pandas as pd\n",
    "import numpy as np\n",
    "import matplotlib as mpl\n",
    "from matplotlib.colors import ListedColormap\n",
    "from matplotlib.colors import LogNorm\n",
    "import matplotlib.pyplot as plt\n",
    "import seaborn as sns\n",
    "from datetime import datetime\n",
    "\n",
    "from subprocess import check_output\n",
    "#from wordcloud import WordCloud, STOPWORDS\n",
    "\n",
    "#ML\n",
    "from sklearn.model_selection import train_test_split\n",
    "from sklearn.linear_model import LogisticRegression\n",
    "from sklearn import metrics\n",
    "from sklearn.metrics import classification_report\n",
    "from sklearn.feature_extraction.text import CountVectorizer\n",
    "from sklearn.naive_bayes import MultinomialNB\n",
    "from sklearn.naive_bayes import BernoulliNB\n",
    "from sklearn import preprocessing\n",
    "from sklearn.preprocessing import StandardScaler\n",
    "from sklearn.preprocessing import Normalizer\n",
    "from sklearn.decomposition import PCA\n",
    "from sklearn.cluster import KMeans\n",
    "from sklearn.mixture import GMM\n",
    "from sklearn.mixture import GaussianMixture\n",
    "\n",
    "from sklearn.decomposition import TruncatedSVD\n",
    "from sklearn.random_projection import sparse_random_matrix\n",
    "\n",
    "from sklearn.feature_extraction.text import TfidfVectorizer\n",
    "from sklearn.cluster import KMeans\n",
    "\n",
    "from sklearn.pipeline import make_pipeline\n",
    "\n",
    "%matplotlib inline\n",
    "plt.style.use('bmh')"
   ]
  },
  {
   "cell_type": "code",
   "execution_count": 2,
   "metadata": {},
   "outputs": [
    {
     "name": "stdout",
     "output_type": "stream",
     "text": [
      "Train Shape: (4040, 32)\n",
      "Test Shape: (1631, 17)\n"
     ]
    }
   ],
   "source": [
    "#1. Train Data\n",
    "with open('../data/train.json') as fin:\n",
    "    trainjson = json.load(fin)\n",
    "train = pd.io.json.json_normalize(trainjson)\n",
    "#2. Test Data\n",
    "with open('../data/test.json') as fin:\n",
    "    testjson = json.load(fin)\n",
    "test = pd.io.json.json_normalize(testjson)\n",
    "\n",
    "print(\"Train Shape:\", train.shape)\n",
    "print(\"Test Shape:\", test.shape)"
   ]
  },
  {
   "cell_type": "markdown",
   "metadata": {},
   "source": [
    "### B1. Find any missing values"
   ]
  },
  {
   "cell_type": "code",
   "execution_count": 3,
   "metadata": {},
   "outputs": [
    {
     "data": {
      "text/plain": [
       "giver_username_if_known                                    0\n",
       "number_of_downvotes_of_request_at_retrieval                0\n",
       "number_of_upvotes_of_request_at_retrieval                  0\n",
       "post_was_edited                                            0\n",
       "request_id                                                 0\n",
       "request_number_of_comments_at_retrieval                    0\n",
       "request_text                                               0\n",
       "request_text_edit_aware                                    0\n",
       "request_title                                              0\n",
       "requester_account_age_in_days_at_request                   0\n",
       "requester_account_age_in_days_at_retrieval                 0\n",
       "requester_days_since_first_post_on_raop_at_request         0\n",
       "requester_days_since_first_post_on_raop_at_retrieval       0\n",
       "requester_number_of_comments_at_request                    0\n",
       "requester_number_of_comments_at_retrieval                  0\n",
       "requester_number_of_comments_in_raop_at_request            0\n",
       "requester_number_of_comments_in_raop_at_retrieval          0\n",
       "requester_number_of_posts_at_request                       0\n",
       "requester_number_of_posts_at_retrieval                     0\n",
       "requester_number_of_posts_on_raop_at_request               0\n",
       "requester_number_of_posts_on_raop_at_retrieval             0\n",
       "requester_number_of_subreddits_at_request                  0\n",
       "requester_received_pizza                                   0\n",
       "requester_subreddits_at_request                            0\n",
       "requester_upvotes_minus_downvotes_at_request               0\n",
       "requester_upvotes_minus_downvotes_at_retrieval             0\n",
       "requester_upvotes_plus_downvotes_at_request                0\n",
       "requester_upvotes_plus_downvotes_at_retrieval              0\n",
       "requester_user_flair                                    3046\n",
       "requester_username                                         0\n",
       "unix_timestamp_of_request                                  0\n",
       "unix_timestamp_of_request_utc                              0\n",
       "dtype: int64"
      ]
     },
     "execution_count": 3,
     "metadata": {},
     "output_type": "execute_result"
    }
   ],
   "source": [
    "train.isnull().sum()"
   ]
  },
  {
   "cell_type": "markdown",
   "metadata": {},
   "source": [
    "No missing data except in column \"requester_user_flair.\" We see in the next section that this isn't a column in the test data, so we may just elect to not use it to train the model."
   ]
  },
  {
   "cell_type": "markdown",
   "metadata": {},
   "source": [
    "### B2. Identify common columns between test and train"
   ]
  },
  {
   "cell_type": "code",
   "execution_count": 4,
   "metadata": {},
   "outputs": [
    {
     "name": "stdout",
     "output_type": "stream",
     "text": [
      "Common columns in train and test:\n",
      "Index(['giver_username_if_known', 'request_id', 'request_text_edit_aware',\n",
      "       'request_title', 'requester_account_age_in_days_at_request',\n",
      "       'requester_days_since_first_post_on_raop_at_request',\n",
      "       'requester_number_of_comments_at_request',\n",
      "       'requester_number_of_comments_in_raop_at_request',\n",
      "       'requester_number_of_posts_at_request',\n",
      "       'requester_number_of_posts_on_raop_at_request',\n",
      "       'requester_number_of_subreddits_at_request',\n",
      "       'requester_subreddits_at_request',\n",
      "       'requester_upvotes_minus_downvotes_at_request',\n",
      "       'requester_upvotes_plus_downvotes_at_request', 'requester_username',\n",
      "       'unix_timestamp_of_request', 'unix_timestamp_of_request_utc'],\n",
      "      dtype='object')\n",
      "----\n",
      "Columns in train but NOT test:\n",
      "Index(['number_of_downvotes_of_request_at_retrieval',\n",
      "       'number_of_upvotes_of_request_at_retrieval', 'post_was_edited',\n",
      "       'request_number_of_comments_at_retrieval', 'request_text',\n",
      "       'requester_account_age_in_days_at_retrieval',\n",
      "       'requester_days_since_first_post_on_raop_at_retrieval',\n",
      "       'requester_number_of_comments_at_retrieval',\n",
      "       'requester_number_of_comments_in_raop_at_retrieval',\n",
      "       'requester_number_of_posts_at_retrieval',\n",
      "       'requester_number_of_posts_on_raop_at_retrieval',\n",
      "       'requester_received_pizza',\n",
      "       'requester_upvotes_minus_downvotes_at_retrieval',\n",
      "       'requester_upvotes_plus_downvotes_at_retrieval',\n",
      "       'requester_user_flair'],\n",
      "      dtype='object')\n"
     ]
    }
   ],
   "source": [
    "print(\"Common columns in train and test:\")\n",
    "print(train.columns[train.columns.isin(test.columns)])\n",
    "print(\"----\")\n",
    "print(\"Columns in train but NOT test:\")\n",
    "print(train.columns[~train.columns.isin(test.columns)])"
   ]
  },
  {
   "cell_type": "markdown",
   "metadata": {},
   "source": [
    "As can be seen above, there is a series of columns in the training data only. These columns reflect data about the post (e.g., the #of upvotes) at the time this Reddit data was retrieved. We use certain supervised and unsupversied techniques to derive value from this data (even though that information is not provided on the data set we will be predicting)."
   ]
  },
  {
   "cell_type": "markdown",
   "metadata": {},
   "source": [
    "### C. Create training data, labels, and special 'in training only' data"
   ]
  },
  {
   "cell_type": "code",
   "execution_count": 5,
   "metadata": {},
   "outputs": [],
   "source": [
    "train_labels_master = train[['requester_received_pizza']]\n",
    "train_data_master = train[test.columns & train.columns]\n",
    "train_only_data_master = train[train.columns[~train.columns.isin(test.columns)]].drop(['requester_received_pizza'], axis = 1)"
   ]
  },
  {
   "cell_type": "code",
   "execution_count": 6,
   "metadata": {},
   "outputs": [
    {
     "name": "stdout",
     "output_type": "stream",
     "text": [
      "(4040, 32) (4040, 17)\n"
     ]
    }
   ],
   "source": [
    "print(train.shape, train_data_master.shape)"
   ]
  },
  {
   "cell_type": "markdown",
   "metadata": {},
   "source": [
    "### D. Set column types and profile"
   ]
  },
  {
   "cell_type": "code",
   "execution_count": 7,
   "metadata": {},
   "outputs": [],
   "source": [
    "train_data_master = train_data_master.assign(\n",
    "    unix_timestamp_of_request = pd.to_datetime(\n",
    "        train_data_master.unix_timestamp_of_request, unit = \"s\"),\n",
    "    unix_timestamp_of_request_utc = pd.to_datetime(\n",
    "        train_data_master.unix_timestamp_of_request_utc, unit = \"s\"))"
   ]
  },
  {
   "cell_type": "code",
   "execution_count": 8,
   "metadata": {},
   "outputs": [
    {
     "name": "stdout",
     "output_type": "stream",
     "text": [
      "<class 'pandas.core.frame.DataFrame'>\n",
      "RangeIndex: 4040 entries, 0 to 4039\n",
      "Data columns (total 17 columns):\n",
      "giver_username_if_known                               4040 non-null object\n",
      "request_id                                            4040 non-null object\n",
      "request_text_edit_aware                               4040 non-null object\n",
      "request_title                                         4040 non-null object\n",
      "requester_account_age_in_days_at_request              4040 non-null float64\n",
      "requester_days_since_first_post_on_raop_at_request    4040 non-null float64\n",
      "requester_number_of_comments_at_request               4040 non-null int64\n",
      "requester_number_of_comments_in_raop_at_request       4040 non-null int64\n",
      "requester_number_of_posts_at_request                  4040 non-null int64\n",
      "requester_number_of_posts_on_raop_at_request          4040 non-null int64\n",
      "requester_number_of_subreddits_at_request             4040 non-null int64\n",
      "requester_subreddits_at_request                       4040 non-null object\n",
      "requester_upvotes_minus_downvotes_at_request          4040 non-null int64\n",
      "requester_upvotes_plus_downvotes_at_request           4040 non-null int64\n",
      "requester_username                                    4040 non-null object\n",
      "unix_timestamp_of_request                             4040 non-null datetime64[ns]\n",
      "unix_timestamp_of_request_utc                         4040 non-null datetime64[ns]\n",
      "dtypes: datetime64[ns](2), float64(2), int64(7), object(6)\n",
      "memory usage: 536.6+ KB\n"
     ]
    }
   ],
   "source": [
    "train_data_master.describe()\n",
    "train_data_master.info()"
   ]
  },
  {
   "cell_type": "markdown",
   "metadata": {},
   "source": [
    "## V. Dimensionality Reduction"
   ]
  },
  {
   "cell_type": "code",
   "execution_count": 9,
   "metadata": {},
   "outputs": [
    {
     "name": "stdout",
     "output_type": "stream",
     "text": [
      "[ 0.03039599]\n",
      "[ 0.02687793  0.0322569 ]\n",
      "[ 0.03207543  0.03225703  0.03134928]\n",
      "[ 0.02849269  0.0319203   0.03030909  0.03100468]\n",
      "[ 0.0298716   0.03179578  0.02886385  0.03148837  0.03221907]\n",
      "[ 0.03115827  0.03204397  0.02604471  0.03001209  0.0319123   0.03140796]\n",
      "[ 0.03223995  0.02762819  0.03225161  0.03165455  0.02934539  0.03206374\n",
      "  0.02987811]\n",
      "[ 0.0322074   0.03225358  0.03138224  0.03224971  0.03203557  0.03022669\n",
      "  0.03115676  0.03225066]\n",
      "[ 0.0321267   0.03205243  0.0322546   0.031764    0.02940731  0.03141872\n",
      "  0.03225707  0.03144685  0.03197828]\n",
      "[ 0.02956566  0.03221681  0.03147914  0.03216283  0.03174881  0.0317028\n",
      "  0.03217551  0.03109927  0.0299186   0.03211127]\n",
      "[ 0.03110541  0.03117469  0.03188453  0.02997977  0.03050877  0.03219339\n",
      "  0.0319955   0.02582339  0.0317894   0.03051939  0.03203998]\n",
      "[ 0.03121378  0.03119408  0.03225771  0.0318731   0.03183931  0.03066302\n",
      "  0.03097836  0.03091748  0.03165744  0.03201428  0.03037155  0.03113886]\n",
      "[ 0.03218322  0.0314914   0.03095241  0.0322293   0.03194232  0.02973204\n",
      "  0.03216671  0.03190014  0.03035452  0.03127485  0.0321749   0.03209839\n",
      "  0.03220574]\n",
      "[ 0.02963847  0.03076185  0.03008811  0.03182575  0.03222237  0.03184414\n",
      "  0.03179794  0.02859379  0.03147908  0.02905611  0.03132781  0.03204467\n",
      "  0.02792887  0.03225802]\n",
      "[ 0.03137247  0.03109637  0.0316911   0.03221324  0.03184407  0.0318967\n",
      "  0.03176118  0.0322504   0.03029599  0.03138866  0.03218311  0.03150661\n",
      "  0.03136582  0.03224857  0.03225607]\n",
      "[ 0.03213125  0.03196468  0.03079928  0.02969493  0.03208107  0.03223658\n",
      "  0.03224975  0.0315382   0.03165439  0.03222592  0.031515    0.03012042\n",
      "  0.03208226  0.03142983  0.03208348  0.0322209 ]\n",
      "[ 0.03201995  0.03188987  0.02900886  0.03224529  0.03220104  0.03009902\n",
      "  0.03224169  0.0290684   0.03214548  0.03153245  0.03201871  0.03215717\n",
      "  0.03222032  0.02996529  0.02826699  0.03196513  0.03170466]\n",
      "[ 0.03225737  0.03080016  0.03114149  0.03202087  0.02703976  0.02998378\n",
      "  0.02937266  0.03153135  0.03045349  0.03224709  0.03186031  0.03220546\n",
      "  0.03027525  0.03225108  0.03149145  0.02917561  0.03093492  0.03224861]\n",
      "[ 0.0319413   0.03209937  0.0315333   0.03170407  0.03129391  0.03216022\n",
      "  0.03220565  0.03089858  0.03197332  0.03181381  0.03223768  0.03203733\n",
      "  0.03215931  0.02893807  0.02926663  0.032253    0.03197517  0.03179686\n",
      "  0.03221781]\n",
      "[ 0.03225317  0.03141496  0.03213107  0.03209351  0.03215974  0.03210591\n",
      "  0.02896467  0.03192758  0.02973225  0.032258    0.03124583  0.02546828\n",
      "  0.02896618  0.03218687  0.0310192   0.0307555   0.03082503  0.0315164\n",
      "  0.03073158  0.03195496]\n",
      "[ 0.03222267  0.03138609  0.03200489  0.03089164  0.03185123  0.03188764\n",
      "  0.03212249  0.03207815  0.03176393  0.03008786  0.02990691  0.02988086\n",
      "  0.03098043  0.0296245   0.03028695  0.03190763  0.03187674  0.03225462\n",
      "  0.03135069  0.03212968  0.0321557 ]\n",
      "[ 0.02968274  0.03224302  0.03222635  0.03220934  0.02936033  0.02932672\n",
      "  0.03222961  0.03164261  0.03223852  0.02646487  0.03178955  0.0315447\n",
      "  0.02874854  0.03008302  0.03222848  0.03192397  0.03193132  0.03198269\n",
      "  0.03219949  0.03223799  0.03111336  0.0321753 ]\n",
      "[ 0.03184422  0.03204342  0.02945695  0.03031243  0.0319192   0.03223833\n",
      "  0.02914397  0.03075102  0.0319347   0.03224339  0.03211592  0.03218502\n",
      "  0.03125     0.02976055  0.03173677  0.03221892  0.03155658  0.03140385\n",
      "  0.02780956  0.03220432  0.03212247  0.03155991  0.03119331]\n",
      "[ 0.03213805  0.03222745  0.03217269  0.032242    0.03225767  0.03174462\n",
      "  0.03223918  0.03225803  0.03206639  0.03146928  0.03225376  0.02683121\n",
      "  0.03190461  0.03191785  0.0304105   0.03225301  0.03129791  0.03065485\n",
      "  0.02870721  0.03110493  0.03060616  0.03125     0.03224894  0.03221148]\n",
      "[ 0.03180017  0.03164424  0.03210843  0.03006153  0.03182696  0.03223192\n",
      "  0.02970256  0.03148291  0.0309472   0.03175864  0.03154865  0.03055902\n",
      "  0.02723333  0.03214484  0.0321756   0.03220372  0.03000858  0.03213262\n",
      "  0.03136873  0.03223758  0.03212659  0.02868622  0.03125     0.02966725\n",
      "  0.0322017 ]\n",
      "[ 0.03058842  0.03134207  0.03098046  0.03220518  0.03209803  0.03110977\n",
      "  0.03221878  0.03174782  0.03169508  0.03214563  0.02922211  0.03225389\n",
      "  0.02546075  0.03217278  0.03085978  0.03103599  0.03125     0.03188377\n",
      "  0.0321082   0.03051026  0.03124076  0.0320596   0.03133173  0.0311691\n",
      "  0.02998109  0.03210444]\n",
      "[ 0.03196515  0.03192268  0.03207534  0.03098831  0.02998952  0.03139928\n",
      "  0.03139626  0.03054681  0.02940689  0.03167968  0.03193182  0.02963161\n",
      "  0.0314599   0.03225652  0.0308312   0.03182724  0.02931743  0.03224272\n",
      "  0.03201061  0.03224579  0.0299895   0.03224116  0.032075    0.03059616\n",
      "  0.0295433   0.03104876  0.03056021]\n",
      "[ 0.03148753  0.03220263  0.03177961  0.03124784  0.03021567  0.03220338\n",
      "  0.03177721  0.0312219   0.03090882  0.03203963  0.03113062  0.03097719\n",
      "  0.02969717  0.03140151  0.03204102  0.03180736  0.03217325  0.03125\n",
      "  0.03183268  0.03069245  0.02991404  0.03223449  0.02793815  0.03203859\n",
      "  0.03144457  0.03113431  0.03225796  0.03065093]\n",
      "[ 0.03069455  0.03149023  0.03225504  0.03176887  0.03224157  0.03122858\n",
      "  0.0312393   0.03167004  0.0300054   0.03030651  0.0317423   0.03185248\n",
      "  0.03047044  0.03207119  0.03211168  0.03219318  0.03143857  0.03034017\n",
      "  0.03225686  0.03014902  0.031055    0.03196688  0.0318398   0.03136532\n",
      "  0.03125718  0.03125     0.02962322  0.0314968   0.0320823 ]\n",
      "[ 0.03104874  0.03191662  0.03225718  0.03134813  0.03069122  0.03218934\n",
      "  0.03220974  0.02983526  0.03222313  0.02870755  0.03191646  0.03198706\n",
      "  0.03067877  0.03114613  0.03204806  0.03193591  0.0305043   0.03197448\n",
      "  0.03065551  0.03224696  0.03208697  0.03223673  0.03139752  0.03125\n",
      "  0.03005497  0.03210983  0.02744224  0.03194039  0.03072824  0.02935003]\n",
      "[ 0.03191168  0.02628997  0.03169077  0.03161739  0.02769261  0.02847471\n",
      "  0.03125     0.03182957  0.0306672   0.03110903  0.03055674  0.03187528\n",
      "  0.03085019  0.03156484  0.03193852  0.03216963  0.03158773  0.03178655\n",
      "  0.0307789   0.03050803  0.03158275  0.03217326  0.03164732  0.03215702\n",
      "  0.03225622  0.03198893  0.03225419  0.03203115  0.03190007  0.03210496\n",
      "  0.03169327]\n"
     ]
    }
   ],
   "source": [
    "# Ben: I think there's a flaw here, see next module that overwrites this vectorization.\n",
    "\n",
    "# Use a CountVectorizer to vectorize the data, since it is text-based\n",
    "vectorizer = CountVectorizer()\n",
    "vtrain = vectorizer.fit_transform(train)\n",
    "vtest = vectorizer.fit_transform(test)\n",
    "\n",
    "# Since PCA does not work for a sparse matrix, we are using Truncated SVD instead for dimensionality reduction\n",
    "for i in range (1, 32):\n",
    "    svd = TruncatedSVD(n_components = i)\n",
    "    svd.fit(vtrain)\n",
    "    print(svd.explained_variance_ratio_)"
   ]
  },
  {
   "cell_type": "markdown",
   "metadata": {},
   "source": [
    "### A. Creating Dimension-Reduced Data Sets with Number of Components 2-6"
   ]
  },
  {
   "cell_type": "code",
   "execution_count": 10,
   "metadata": {},
   "outputs": [
    {
     "name": "stdout",
     "output_type": "stream",
     "text": [
      "[ 0.03220005  0.03109903]\n",
      "[ 0.03132802  0.03106165  0.03195116]\n",
      "[ 0.03214399  0.03193949  0.03202746  0.03214314]\n",
      "[ 0.03194959  0.03087884  0.03129781  0.02944758  0.0321353 ]\n",
      "[ 0.03185137  0.02924389  0.02911505  0.03222582  0.03169902  0.0313658 ]\n"
     ]
    }
   ],
   "source": [
    "# Instead of a for-loop, we created separate data sets, using separate variables for each. \n",
    "\n",
    "svd_2 = TruncatedSVD(n_components = 2)\n",
    "vtrain_2 = svd_2.fit(vtrain)\n",
    "print(svd_2.explained_variance_ratio_)\n",
    "\n",
    "svd_3 = TruncatedSVD(n_components = 3)\n",
    "vtrain_3 = svd_3.fit(vtrain)\n",
    "print(svd_3.explained_variance_ratio_)\n",
    "\n",
    "svd_4 = TruncatedSVD(n_components = 4)\n",
    "vtrain_4 = svd_4.fit(vtrain)\n",
    "print(svd_4.explained_variance_ratio_)\n",
    "\n",
    "svd_5 = TruncatedSVD(n_components = 5)\n",
    "vtrain_5 = svd_5.fit(vtrain)\n",
    "print(svd_5.explained_variance_ratio_)\n",
    "\n",
    "svd_6 = TruncatedSVD(n_components = 6)\n",
    "vtrain_6 = svd_6.fit(vtrain)\n",
    "print(svd_6.explained_variance_ratio_)"
   ]
  },
  {
   "cell_type": "markdown",
   "metadata": {},
   "source": [
    "### B. K-Means"
   ]
  },
  {
   "cell_type": "code",
   "execution_count": 11,
   "metadata": {},
   "outputs": [
    {
     "name": "stdout",
     "output_type": "stream",
     "text": [
      "[-31.0, -30.967741935483893, -30.93333333333331, -30.896551724137915, -2.892857142857143, -28.88888888888888, -29.807692307692285, -28.80000000000002, -27.791666666666657, -4.782608695652174, -7.6363636363636385, -5.714285714285714, -6.65, -9.473684210526317, -25.499999999999986, -25.411764705882355, -5.625, -21.46666666666667, -19.499999999999996, -20.30769230769231]\n",
      "[-24.991679550491387, -4.2806518784883618, -13.143988745841023, -3.1182144565661423, -4.2384783724022688, -1.9762178694531087, -2.6300957623996828, -1.099183855184021, -0.41126264556904091, -0.94604901636338168, -0.52740340834981958, -0.1791122810323218, -0.10773126232748309, -0.16968986429342148, -0.10128107128940411, -0.070752328894698624, -0.028468192261683622, -0.027078281057169695, -0.023850199727416532, -0.019984913276393401]\n",
      "[-34.00335536170904, -37.383675097203962, -19.002835166292723, -11.910373905273676, -8.9928088301414064, -9.238983561600504, -7.7794859000171446, -3.4834306568842717, -4.2811379625099129, -4.5490670364275676, -2.9587978095263825, -2.0508407383681551, -1.0343041410507934, -1.3212428948161044, -1.9258225924481758, -0.8193249797998563, -0.83437035494123657, -0.69830269651039212, -0.87249946854226101, -0.46198294736091272]\n",
      "[-26.54440551949255, -20.845605649493749, -14.705714150349202, -12.096826663915586, -14.591593805264859, -9.1193068308607899, -9.862891602660854, -5.7143715057117062, -6.2470758957340191, -4.728551861089894, -5.3596212039361948, -4.433193342924576, -4.2222099709042471, -3.4893576732585525, -2.70686534995244, -2.4925625817410264, -1.9079824956621021, -1.5653961797325362, -1.3752393486277263, -1.5919066630523502]\n",
      "[-26.455941366133022, -23.295139152551663, -23.489619491562415, -25.934875933012684, -21.291910349821116, -15.687135256388899, -11.779107136071799, -10.807716835644813, -8.7236671581960081, -11.70328926406396, -9.0922501485577989, -6.8845876324691826, -4.8621408790363354, -6.7036563057781322, -7.0179306606686787, -3.6658318508140866, -3.1305082452595219, -2.9406963968109938, -2.1330565225359286, -1.4654602464653124]\n",
      "[-31.131663787584081, -29.13874156254154, -16.604838745115572, -12.105651304519293, -13.296921553327397, -14.607949431131162, -11.540267597169233, -12.611240773363972, -12.153781129864997, -10.625524466760194, -11.015701679746504, -8.4851662038055373, -9.9546047927775216, -8.8912761193714225, -6.0224772033941996, -5.8799764796868637, -3.918850130949906, -4.2501710392017227, -4.1230614733153992, -4.3939628214326927]\n"
     ]
    }
   ],
   "source": [
    "raw_score = []\n",
    "for i in range(1,21):\n",
    "    kmeans_raw = KMeans(n_clusters=i, init='k-means++', max_iter=100, n_init=1, verbose=False)\n",
    "    kmeans_raw.fit(vtrain)\n",
    "    y_hat_kmeans_raw = kmeans_raw.predict(vtrain)\n",
    "    centers = kmeans_raw.cluster_centers_\n",
    "#     print('The KMeans score for the raw data, using',i,'clusters is:',kmeans_raw.score(vtrain[y_hat_kmeans_raw]))\n",
    "    raw_score.append(kmeans_raw.score(vtrain[y_hat_kmeans_raw]))\n",
    "print(raw_score)\n",
    "\n",
    "svd_2 = TruncatedSVD(n_components = 2)\n",
    "normalizer = Normalizer(copy=False)\n",
    "lsa_2 = make_pipeline(svd_2, normalizer)\n",
    "vtrain_lsa2 = lsa_2.fit_transform(vtrain)\n",
    "\n",
    "score_2 = []\n",
    "for i in range(1,21):\n",
    "    kmeans2 = KMeans(n_clusters=i, init='k-means++', max_iter=100, n_init=1, verbose=False)\n",
    "    kmeans2.fit(vtrain_lsa2)\n",
    "    y_hat_kmeans2 = kmeans2.predict(vtrain_lsa2)\n",
    "    centers = kmeans2.cluster_centers_\n",
    "#     print('The KMeans score for the truncated, 2 component data, using',i,'clusters is:',\n",
    "#           kmeans2.score(vtrain_lsa2[y_hat_kmeans]))\n",
    "    score_2.append(kmeans2.score(vtrain_lsa2[y_hat_kmeans2]))\n",
    "print(score_2)\n",
    "\n",
    "svd_3 = TruncatedSVD(n_components = 3)\n",
    "normalizer = Normalizer(copy=False)\n",
    "lsa_3 = make_pipeline(svd_3, normalizer)\n",
    "vtrain_lsa3 = lsa_3.fit_transform(vtrain)\n",
    "\n",
    "score_3 = []\n",
    "for i in range(1,21):\n",
    "    kmeans3 = KMeans(n_clusters=i, init='k-means++', max_iter=100, n_init=1, verbose=False)\n",
    "    kmeans3.fit(vtrain_lsa3)\n",
    "    y_hat_kmeans3 = kmeans3.predict(vtrain_lsa3)\n",
    "    centers = kmeans3.cluster_centers_\n",
    "#     print('The KMeans score for the truncated, 3 component data, using',i,'clusters is:',\n",
    "#           kmeans3.score(vtrain_lsa3[y_hat_kmeans3]))\n",
    "    score_3.append(kmeans3.score(vtrain_lsa3[y_hat_kmeans3]))\n",
    "print(score_3)\n",
    "\n",
    "svd_4 = TruncatedSVD(n_components = 4)\n",
    "normalizer = Normalizer(copy=False)\n",
    "lsa_4 = make_pipeline(svd_4, normalizer)\n",
    "vtrain_lsa4 = lsa_4.fit_transform(vtrain)\n",
    "\n",
    "score_4 = []\n",
    "for i in range(1,21):\n",
    "    kmeans4 = KMeans(n_clusters=i, init='k-means++', max_iter=100, n_init=1, verbose=False)\n",
    "    kmeans4.fit(vtrain_lsa4)\n",
    "    y_hat_kmeans4 = kmeans4.predict(vtrain_lsa4)\n",
    "    centers = kmeans4.cluster_centers_\n",
    "#     print('The KMeans score for the truncated, 4 component data, using',i,'clusters is:',\n",
    "#           kmeans4.score(vtrain_lsa4[y_hat_kmeans4]))\n",
    "    score_4.append(kmeans4.score(vtrain_lsa4[y_hat_kmeans4]))\n",
    "print(score_4)\n",
    "\n",
    "svd_5 = TruncatedSVD(n_components = 5)\n",
    "normalizer = Normalizer(copy=False)\n",
    "lsa_5 = make_pipeline(svd_5, normalizer)\n",
    "vtrain_lsa5 = lsa_5.fit_transform(vtrain)\n",
    "\n",
    "score_5 = []\n",
    "for i in range(1,21):\n",
    "    kmeans5 = KMeans(n_clusters=i, init='k-means++', max_iter=100, n_init=1, verbose=False)\n",
    "    kmeans5.fit(vtrain_lsa5)\n",
    "    y_hat_kmeans5 = kmeans5.predict(vtrain_lsa5)\n",
    "    centers = kmeans5.cluster_centers_\n",
    "#     print('The KMeans score for the truncated, 5 component data, using',i,'clusters is:',\n",
    "#           kmeans5.score(vtrain_lsa5[y_hat_kmeans5]))\n",
    "    score_5.append(kmeans5.score(vtrain_lsa5[y_hat_kmeans5]))\n",
    "print(score_5)\n",
    "\n",
    "svd_6 = TruncatedSVD(n_components = 6)\n",
    "normalizer = Normalizer(copy=False)\n",
    "lsa_6 = make_pipeline(svd_6, normalizer)\n",
    "vtrain_lsa6 = lsa_6.fit_transform(vtrain)\n",
    "\n",
    "score_6 = []\n",
    "for i in range(1,21):\n",
    "    kmeans6 = KMeans(n_clusters=i, init='k-means++', max_iter=100, n_init=1, verbose=False)\n",
    "    kmeans6.fit(vtrain_lsa6)\n",
    "    y_hat_kmeans6 = kmeans6.predict(vtrain_lsa6)\n",
    "    centers = kmeans6.cluster_centers_\n",
    "#     print('The KMeans score for the truncated, 6 component data, using',i,'clusters is:',\n",
    "#           kmeans5.score(vtrain_lsa6[y_hat_kmeans6]))\n",
    "    score_6.append(kmeans6.score(vtrain_lsa6[y_hat_kmeans6]))\n",
    "print(score_6)\n",
    "\n",
    "# # The plot below wasn't doing much for me\n",
    "# fig = plt.figure(0,figsize=(32,32))\n",
    "# ax = fig.add_subplot(4,4,2)\n",
    "\n",
    "# # Draw the plots\n",
    "# ax.scatter(vtrain_lsa2[:, 0], vtrain_lsa2[:, 1], s=1, c=y_hat_kmeans)\n",
    "# ax.scatter(centers[:, 0], centers[:, 1], c='red', s=50, alpha=0.6)\n",
    "# ax.grid()"
   ]
  },
  {
   "cell_type": "markdown",
   "metadata": {},
   "source": [
    "### C. Gaussian Mixture Model"
   ]
  },
  {
   "cell_type": "code",
   "execution_count": 12,
   "metadata": {},
   "outputs": [
    {
     "data": {
      "text/plain": [
       "array([-2.35958574, -1.98379546, -1.84624258, -2.24524119, -2.23081509,\n",
       "       -1.86358336, -2.35384113, -2.34171621, -2.23497226, -2.22045701,\n",
       "       -2.35016298, -2.34787169, -2.31005756, -2.3222657 , -2.24206243,\n",
       "       -2.28769227, -1.86182495])"
      ]
     },
     "execution_count": 12,
     "metadata": {},
     "output_type": "execute_result"
    }
   ],
   "source": [
    "# The model using the raw data fit the train data, but wouldn't predict the test data, as it wasn't the right shape. \n",
    "# I think this goes back to the different dimensionality between the two data sets. \n",
    "# vtraind = vtrain.toarray()\n",
    "# vtestd = vtest.toarray()\n",
    "# gmm = GaussianMixture()\n",
    "# gmm.fit(vtraind)\n",
    "# gmm.predict(vtestd)\n",
    "\n",
    "svd_2 = TruncatedSVD(n_components = 2)\n",
    "normalizer = Normalizer(copy=False)\n",
    "lsa_2 = make_pipeline(svd_2, normalizer)\n",
    "vtrain_lsa2 = lsa_2.fit_transform(vtrain)\n",
    "\n",
    "svd_2_test = TruncatedSVD(n_components = 2)\n",
    "normalizer = Normalizer(copy=False)\n",
    "lsa_2_test = make_pipeline(svd_2_test, normalizer)\n",
    "vtest_lsa2 = lsa_2_test.fit_transform(vtest)\n",
    "\n",
    "gmm2 = GaussianMixture()\n",
    "gmm2.fit(vtrain_lsa2)\n",
    "gmm2.score_samples(vtest_lsa2)"
   ]
  },
  {
   "cell_type": "code",
   "execution_count": 13,
   "metadata": {},
   "outputs": [
    {
     "ename": "ValueError",
     "evalue": "Boolean array expected for the condition, not float64",
     "output_type": "error",
     "traceback": [
      "\u001b[0;31m---------------------------------------------------------------------------\u001b[0m",
      "\u001b[0;31mValueError\u001b[0m                                Traceback (most recent call last)",
      "\u001b[0;32m<ipython-input-13-a60134d620b8>\u001b[0m in \u001b[0;36m<module>\u001b[0;34m()\u001b[0m\n\u001b[1;32m      1\u001b[0m \u001b[0;31m# Separate out the train data with positive labels, fit the GMM model\u001b[0m\u001b[0;34m\u001b[0m\u001b[0;34m\u001b[0m\u001b[0m\n\u001b[0;32m----> 2\u001b[0;31m \u001b[0mp2pos\u001b[0m \u001b[0;34m=\u001b[0m \u001b[0mtrain\u001b[0m\u001b[0;34m[\u001b[0m\u001b[0mtrain_labels_master\u001b[0m \u001b[0;34m==\u001b[0m \u001b[0;36m1\u001b[0m\u001b[0;34m]\u001b[0m\u001b[0;34m\u001b[0m\u001b[0m\n\u001b[0m\u001b[1;32m      3\u001b[0m \u001b[0mpos\u001b[0m \u001b[0;34m=\u001b[0m \u001b[0mGaussianMixture\u001b[0m\u001b[0;34m(\u001b[0m\u001b[0mn_components\u001b[0m\u001b[0;34m=\u001b[0m\u001b[0;36m4\u001b[0m\u001b[0;34m,\u001b[0m \u001b[0mcovariance_type\u001b[0m\u001b[0;34m=\u001b[0m\u001b[0;34m'full'\u001b[0m\u001b[0;34m)\u001b[0m\u001b[0;34m\u001b[0m\u001b[0m\n\u001b[1;32m      4\u001b[0m \u001b[0mpos\u001b[0m\u001b[0;34m.\u001b[0m\u001b[0mfit\u001b[0m\u001b[0;34m(\u001b[0m\u001b[0mp2pos\u001b[0m\u001b[0;34m)\u001b[0m\u001b[0;34m\u001b[0m\u001b[0m\n\u001b[1;32m      5\u001b[0m \u001b[0;34m\u001b[0m\u001b[0m\n",
      "\u001b[0;32m/anaconda3/lib/python3.6/site-packages/pandas/core/frame.py\u001b[0m in \u001b[0;36m__getitem__\u001b[0;34m(self, key)\u001b[0m\n\u001b[1;32m   1958\u001b[0m             \u001b[0;32mreturn\u001b[0m \u001b[0mself\u001b[0m\u001b[0;34m.\u001b[0m\u001b[0m_getitem_array\u001b[0m\u001b[0;34m(\u001b[0m\u001b[0mkey\u001b[0m\u001b[0;34m)\u001b[0m\u001b[0;34m\u001b[0m\u001b[0m\n\u001b[1;32m   1959\u001b[0m         \u001b[0;32melif\u001b[0m \u001b[0misinstance\u001b[0m\u001b[0;34m(\u001b[0m\u001b[0mkey\u001b[0m\u001b[0;34m,\u001b[0m \u001b[0mDataFrame\u001b[0m\u001b[0;34m)\u001b[0m\u001b[0;34m:\u001b[0m\u001b[0;34m\u001b[0m\u001b[0m\n\u001b[0;32m-> 1960\u001b[0;31m             \u001b[0;32mreturn\u001b[0m \u001b[0mself\u001b[0m\u001b[0;34m.\u001b[0m\u001b[0m_getitem_frame\u001b[0m\u001b[0;34m(\u001b[0m\u001b[0mkey\u001b[0m\u001b[0;34m)\u001b[0m\u001b[0;34m\u001b[0m\u001b[0m\n\u001b[0m\u001b[1;32m   1961\u001b[0m         \u001b[0;32melif\u001b[0m \u001b[0mis_mi_columns\u001b[0m\u001b[0;34m:\u001b[0m\u001b[0;34m\u001b[0m\u001b[0m\n\u001b[1;32m   1962\u001b[0m             \u001b[0;32mreturn\u001b[0m \u001b[0mself\u001b[0m\u001b[0;34m.\u001b[0m\u001b[0m_getitem_multilevel\u001b[0m\u001b[0;34m(\u001b[0m\u001b[0mkey\u001b[0m\u001b[0;34m)\u001b[0m\u001b[0;34m\u001b[0m\u001b[0m\n",
      "\u001b[0;32m/anaconda3/lib/python3.6/site-packages/pandas/core/frame.py\u001b[0m in \u001b[0;36m_getitem_frame\u001b[0;34m(self, key)\u001b[0m\n\u001b[1;32m   2034\u001b[0m         \u001b[0;32mif\u001b[0m \u001b[0mkey\u001b[0m\u001b[0;34m.\u001b[0m\u001b[0mvalues\u001b[0m\u001b[0;34m.\u001b[0m\u001b[0msize\u001b[0m \u001b[0;32mand\u001b[0m \u001b[0;32mnot\u001b[0m \u001b[0mis_bool_dtype\u001b[0m\u001b[0;34m(\u001b[0m\u001b[0mkey\u001b[0m\u001b[0;34m.\u001b[0m\u001b[0mvalues\u001b[0m\u001b[0;34m)\u001b[0m\u001b[0;34m:\u001b[0m\u001b[0;34m\u001b[0m\u001b[0m\n\u001b[1;32m   2035\u001b[0m             \u001b[0;32mraise\u001b[0m \u001b[0mValueError\u001b[0m\u001b[0;34m(\u001b[0m\u001b[0;34m'Must pass DataFrame with boolean values only'\u001b[0m\u001b[0;34m)\u001b[0m\u001b[0;34m\u001b[0m\u001b[0m\n\u001b[0;32m-> 2036\u001b[0;31m         \u001b[0;32mreturn\u001b[0m \u001b[0mself\u001b[0m\u001b[0;34m.\u001b[0m\u001b[0mwhere\u001b[0m\u001b[0;34m(\u001b[0m\u001b[0mkey\u001b[0m\u001b[0;34m)\u001b[0m\u001b[0;34m\u001b[0m\u001b[0m\n\u001b[0m\u001b[1;32m   2037\u001b[0m \u001b[0;34m\u001b[0m\u001b[0m\n\u001b[1;32m   2038\u001b[0m     \u001b[0;32mdef\u001b[0m \u001b[0mquery\u001b[0m\u001b[0;34m(\u001b[0m\u001b[0mself\u001b[0m\u001b[0;34m,\u001b[0m \u001b[0mexpr\u001b[0m\u001b[0;34m,\u001b[0m \u001b[0minplace\u001b[0m\u001b[0;34m=\u001b[0m\u001b[0;32mFalse\u001b[0m\u001b[0;34m,\u001b[0m \u001b[0;34m**\u001b[0m\u001b[0mkwargs\u001b[0m\u001b[0;34m)\u001b[0m\u001b[0;34m:\u001b[0m\u001b[0;34m\u001b[0m\u001b[0m\n",
      "\u001b[0;32m/anaconda3/lib/python3.6/site-packages/pandas/core/generic.py\u001b[0m in \u001b[0;36mwhere\u001b[0;34m(self, cond, other, inplace, axis, level, try_cast, raise_on_error)\u001b[0m\n\u001b[1;32m   5338\u001b[0m         \u001b[0mother\u001b[0m \u001b[0;34m=\u001b[0m \u001b[0mcom\u001b[0m\u001b[0;34m.\u001b[0m\u001b[0m_apply_if_callable\u001b[0m\u001b[0;34m(\u001b[0m\u001b[0mother\u001b[0m\u001b[0;34m,\u001b[0m \u001b[0mself\u001b[0m\u001b[0;34m)\u001b[0m\u001b[0;34m\u001b[0m\u001b[0m\n\u001b[1;32m   5339\u001b[0m         return self._where(cond, other, inplace, axis, level, try_cast,\n\u001b[0;32m-> 5340\u001b[0;31m                            raise_on_error)\n\u001b[0m\u001b[1;32m   5341\u001b[0m \u001b[0;34m\u001b[0m\u001b[0m\n\u001b[1;32m   5342\u001b[0m     @Appender(_shared_docs['where'] % dict(_shared_doc_kwargs, cond=\"False\",\n",
      "\u001b[0;32m/anaconda3/lib/python3.6/site-packages/pandas/core/generic.py\u001b[0m in \u001b[0;36m_where\u001b[0;34m(self, cond, other, inplace, axis, level, try_cast, raise_on_error)\u001b[0m\n\u001b[1;32m   5096\u001b[0m             \u001b[0;32mfor\u001b[0m \u001b[0mdt\u001b[0m \u001b[0;32min\u001b[0m \u001b[0mcond\u001b[0m\u001b[0;34m.\u001b[0m\u001b[0mdtypes\u001b[0m\u001b[0;34m:\u001b[0m\u001b[0;34m\u001b[0m\u001b[0m\n\u001b[1;32m   5097\u001b[0m                 \u001b[0;32mif\u001b[0m \u001b[0;32mnot\u001b[0m \u001b[0mis_bool_dtype\u001b[0m\u001b[0;34m(\u001b[0m\u001b[0mdt\u001b[0m\u001b[0;34m)\u001b[0m\u001b[0;34m:\u001b[0m\u001b[0;34m\u001b[0m\u001b[0m\n\u001b[0;32m-> 5098\u001b[0;31m                     \u001b[0;32mraise\u001b[0m \u001b[0mValueError\u001b[0m\u001b[0;34m(\u001b[0m\u001b[0mmsg\u001b[0m\u001b[0;34m.\u001b[0m\u001b[0mformat\u001b[0m\u001b[0;34m(\u001b[0m\u001b[0mdtype\u001b[0m\u001b[0;34m=\u001b[0m\u001b[0mdt\u001b[0m\u001b[0;34m)\u001b[0m\u001b[0;34m)\u001b[0m\u001b[0;34m\u001b[0m\u001b[0m\n\u001b[0m\u001b[1;32m   5099\u001b[0m \u001b[0;34m\u001b[0m\u001b[0m\n\u001b[1;32m   5100\u001b[0m         \u001b[0mcond\u001b[0m \u001b[0;34m=\u001b[0m \u001b[0mcond\u001b[0m\u001b[0;34m.\u001b[0m\u001b[0mastype\u001b[0m\u001b[0;34m(\u001b[0m\u001b[0mbool\u001b[0m\u001b[0;34m,\u001b[0m \u001b[0mcopy\u001b[0m\u001b[0;34m=\u001b[0m\u001b[0;32mFalse\u001b[0m\u001b[0;34m)\u001b[0m\u001b[0;34m\u001b[0m\u001b[0m\n",
      "\u001b[0;31mValueError\u001b[0m: Boolean array expected for the condition, not float64"
     ]
    }
   ],
   "source": [
    "# Separate out the train data with positive labels, fit the GMM model\n",
    "p2pos = train[train_labels_master == 1]\n",
    "pos = GaussianMixture(n_components=4, covariance_type='full')\n",
    "pos.fit(p2pos)\n",
    "\n",
    "# Separate out the train data with negative labels, fit the GMM model    \n",
    "p2neg = train[train_labels_master != 1]    \n",
    "neg = GaussianMixture(n_components=4, covariance_type='full')\n",
    "neg.fit(p2neg)\n",
    "\n",
    "# Fit the test data to both models\n",
    "wlprob_pos = pos.score_samples(test)\n",
    "wlprob_neg = neg.score_samples(test)\n",
    "\n",
    "# Create an array that picks the winner from each prediction \n",
    "pred_test_labels = np.array(wlprob_pos > wlprob_neg).astype(int)\n",
    "\n",
    "# Calculate the accuracy to 6 decimal places, print it out\n",
    "accuracy = np.round(np.mean(pred_test_labels == test_labels), 6)   \n",
    "print('The accuracy of this model is:', accuracy)"
   ]
  },
  {
   "cell_type": "markdown",
   "metadata": {},
   "source": [
    "# Ben's fix attempt\n",
    "I've opted to do this in separate cells just in case I royally screw up."
   ]
  },
  {
   "cell_type": "markdown",
   "metadata": {},
   "source": [
    "### Redo of Vectorizer"
   ]
  },
  {
   "cell_type": "code",
   "execution_count": 27,
   "metadata": {},
   "outputs": [],
   "source": [
    "# I believe we cannot just vectorize the train data because the text-based data\n",
    "# is held within one specific feature called request_test_edit_aware.\n",
    "# Below I repurposed some of Zach's code to vectorize\n",
    "\n",
    "#Create Sparse matrix of words\n",
    "count_vect = CountVectorizer()\n",
    "\n",
    "#Split train and test data\n",
    "x_train_text, x_test_text, y_train, y_test = train_test_split(\n",
    "    train_data_master['request_text_edit_aware'], \n",
    "    train_labels_master.values.ravel(), test_size=0.2, random_state=0)\n",
    "x_train = count_vect.fit_transform(x_train_text)\n",
    "x_test = count_vect.transform(x_test_text)\n",
    "cv_feature_names = count_vect.get_feature_names()"
   ]
  },
  {
   "cell_type": "markdown",
   "metadata": {},
   "source": [
    "### Apply SVD (in lieu of PCA)"
   ]
  },
  {
   "cell_type": "code",
   "execution_count": 28,
   "metadata": {},
   "outputs": [
    {
     "name": "stdout",
     "output_type": "stream",
     "text": [
      "[ 0.26385154]\n",
      "[ 0.26385154  0.02867848]\n",
      "[ 0.26385154  0.02867836  0.02199014]\n",
      "[ 0.26385154  0.02867852  0.02198902  0.02079285]\n",
      "[ 0.26385154  0.02867851  0.02198892  0.02079286  0.01748167]\n",
      "[ 0.26385154  0.02867852  0.02198833  0.02079213  0.01748829  0.01479958]\n",
      "[ 0.26385154  0.02867852  0.02198865  0.02079297  0.01748585  0.01479995\n",
      "  0.01342262]\n",
      "[ 0.26385154  0.02867852  0.02198853  0.02079321  0.01748571  0.01479769\n",
      "  0.01342085  0.0120114 ]\n",
      "[ 0.26385154  0.02867851  0.02198845  0.02079339  0.0174865   0.01479981\n",
      "  0.01342711  0.01200311  0.01112539]\n",
      "[ 0.26385154  0.02867851  0.02198867  0.02079281  0.01748606  0.01479815\n",
      "  0.01342232  0.0120427   0.01112737  0.01025558]\n",
      "[ 0.26385154  0.02867852  0.02198891  0.02079304  0.01748661  0.01479861\n",
      "  0.01342453  0.01204426  0.01112261  0.01031614  0.00991684]\n",
      "[ 0.26385154  0.02867852  0.0219889   0.02079297  0.01748687  0.01480021\n",
      "  0.01342417  0.01204145  0.01111115  0.01033774  0.00992637  0.0094526 ]\n",
      "[ 0.26385154  0.02867852  0.0219888   0.02079302  0.0174868   0.01480036\n",
      "  0.01342569  0.01204335  0.01113072  0.0103383   0.00996364  0.00944569\n",
      "  0.00912379]\n",
      "[ 0.26385154  0.02867852  0.02198876  0.02079289  0.0174865   0.01480016\n",
      "  0.01342458  0.01204069  0.01112619  0.01033774  0.00997166  0.00941319\n",
      "  0.00911154  0.00873088]\n"
     ]
    }
   ],
   "source": [
    "# Since PCA does not work for a sparse matrix, we are using Truncated SVD instead for dimensionality reduction\n",
    "for top_comps in range (1, 15):\n",
    "    svd = TruncatedSVD(n_components = top_comps)\n",
    "    svd.fit(x_train)\n",
    "    print(svd.explained_variance_ratio_)"
   ]
  },
  {
   "cell_type": "code",
   "execution_count": 16,
   "metadata": {},
   "outputs": [],
   "source": [
    "# The output of vectorizer shows a major dropoff in explained variance after the 1st component\n",
    "# This suggests that projecting down to 1 component might be best."
   ]
  },
  {
   "cell_type": "markdown",
   "metadata": {},
   "source": [
    "### Visualize using K-Means Clustering"
   ]
  },
  {
   "cell_type": "code",
   "execution_count": 17,
   "metadata": {},
   "outputs": [
    {
     "data": {
      "image/png": "[encoded data removed]",
      "text/plain": [
       "<matplotlib.figure.Figure at 0x1a0dccb780>"
      ]
     },
     "metadata": {},
     "output_type": "display_data"
    },
    {
     "data": {
      "image/png": "[encoded data removed]",
      "text/plain": [
       "<matplotlib.figure.Figure at 0x1a0dcd5860>"
      ]
     },
     "metadata": {},
     "output_type": "display_data"
    },
    {
     "data": {
      "text/plain": [
       "()"
      ]
     },
     "execution_count": 17,
     "metadata": {},
     "output_type": "execute_result"
    }
   ],
   "source": [
    "def cluster_viz(sparse=True):\n",
    "\n",
    "    # project data to few dimensions using SVD if sparse, PCA if dense\n",
    "    if (sparse): svd_train = TruncatedSVD(n_components=2)\n",
    "    else: svd_train = PCA(n_components=2)\n",
    "    svd_train_ft = svd_train.fit_transform(x_train)\n",
    "\n",
    "    # plot the two dimensions\n",
    "    plt.figure(figsize=(10,10))\n",
    "    for sample in range(len(y_train)):\n",
    "        if y_train[sample] == 1:\n",
    "            color = '#0000ff'\n",
    "            label = 'Got Pizza'\n",
    "        else:\n",
    "            color = '#ff0000'\n",
    "            label = 'No Pizza'\n",
    "\n",
    "        plt.scatter(svd_train_ft[sample][0],svd_train_ft[sample][1],c=color,label=label)\n",
    "\n",
    "    plt.xlabel('Component 1')\n",
    "    plt.ylabel('Component 2')\n",
    "    plt.legend(['Got Pizza','No Pizza'])\n",
    "    if sparse: plt.title('SVD projection of vectorized text to two components')\n",
    "    else: plt.title('PCA projection of numeric fields to two components')\n",
    "    plt.grid()\n",
    "    plt.show()\n",
    "    \n",
    "    return()\n",
    "\n",
    "# Visualize the text data, vectorized then reduced\n",
    "\n",
    "#Create Sparse matrix of words\n",
    "count_vect = CountVectorizer()\n",
    "\n",
    "#Split train and test data\n",
    "x_train_text, x_test_text, y_train, y_test = train_test_split(\n",
    "    train_data_master['request_text_edit_aware'], \n",
    "    train_labels_master.values.ravel(), test_size=0.2, random_state=0)\n",
    "x_train = count_vect.fit_transform(x_train_text)\n",
    "x_test = count_vect.transform(x_test_text)\n",
    "\n",
    "cluster_viz(sparse=True) # word vectorizer is a sparse matrix, so use SVD\n",
    "\n",
    "# Visualize the numeric features reduced\n",
    "\n",
    "#Normalize all fields (numeric)\n",
    "min_max_scaler = preprocessing.MinMaxScaler()\n",
    "mn_mx_scaler = min_max_scaler.fit_transform(\n",
    "    train_data_master.select_dtypes(include = ['float64', 'int64','datetime64[ns]']).apply(pd.to_numeric).values)\n",
    "\n",
    "#train_data_numeric = train_data_master.select_dtypes(include = ['float64', 'int64','datetime64[ns]']).apply(pd.to_numeric).values\n",
    "\n",
    "#Split train and test data\n",
    "x_train, x_test, y_train, y_test = train_test_split(\n",
    "    mn_mx_scaler, \n",
    "    train_labels_master.values.ravel(), test_size=0.2, random_state=0)\n",
    "\n",
    "cluster_viz(sparse=False) # dense matrices, so can use PCA"
   ]
  },
  {
   "cell_type": "markdown",
   "metadata": {},
   "source": [
    "I have no idea what to make of these charts. It would appear that the data reduced down to two components just does not cluster. "
   ]
  },
  {
   "cell_type": "markdown",
   "metadata": {},
   "source": [
    "### Try various hyperparameters with GMM on text field, try to classify "
   ]
  },
  {
   "cell_type": "code",
   "execution_count": 18,
   "metadata": {},
   "outputs": [
    {
     "name": "stdout",
     "output_type": "stream",
     "text": [
      "Accuracy score for 1 SVD comps, 1 GMM comps, Covariance type spherical = 0.675742574257\n",
      "Accuracy score for 1 SVD comps, 2 GMM comps, Covariance type spherical = 0.570544554455\n",
      "Accuracy score for 1 SVD comps, 3 GMM comps, Covariance type spherical = 0.560643564356\n",
      "Accuracy score for 1 SVD comps, 4 GMM comps, Covariance type spherical = 0.556930693069\n",
      "Accuracy score for 1 SVD comps, 5 GMM comps, Covariance type spherical = 0.574257425743\n",
      "Accuracy score for 1 SVD comps, 6 GMM comps, Covariance type spherical = 0.545792079208\n",
      "Accuracy score for 1 SVD comps, 7 GMM comps, Covariance type spherical = 0.581683168317\n",
      "Accuracy score for 1 SVD comps, 8 GMM comps, Covariance type spherical = 0.568069306931\n",
      "Accuracy score for 1 SVD comps, 9 GMM comps, Covariance type spherical = 0.575495049505\n",
      "Accuracy score for 1 SVD comps, 10 GMM comps, Covariance type spherical = 0.568069306931\n",
      "Accuracy score for 1 SVD comps, 11 GMM comps, Covariance type spherical = 0.532178217822\n",
      "Accuracy score for 1 SVD comps, 12 GMM comps, Covariance type spherical = 0.571782178218\n",
      "Accuracy score for 2 SVD comps, 1 GMM comps, Covariance type spherical = 0.669554455446\n",
      "Accuracy score for 2 SVD comps, 2 GMM comps, Covariance type spherical = 0.556930693069\n",
      "Accuracy score for 2 SVD comps, 3 GMM comps, Covariance type spherical = 0.563118811881\n",
      "Accuracy score for 2 SVD comps, 4 GMM comps, Covariance type spherical = 0.543316831683\n",
      "Accuracy score for 2 SVD comps, 5 GMM comps, Covariance type spherical = 0.561881188119\n",
      "Accuracy score for 2 SVD comps, 6 GMM comps, Covariance type spherical = 0.524752475248\n",
      "Accuracy score for 3 SVD comps, 1 GMM comps, Covariance type spherical = 0.667079207921\n",
      "Accuracy score for 3 SVD comps, 2 GMM comps, Covariance type spherical = 0.543316831683\n",
      "Accuracy score for 3 SVD comps, 3 GMM comps, Covariance type spherical = 0.550742574257\n",
      "Accuracy score for 3 SVD comps, 4 GMM comps, Covariance type spherical = 0.543316831683\n",
      "Accuracy score for 4 SVD comps, 1 GMM comps, Covariance type spherical = 0.665841584158\n",
      "Accuracy score for 4 SVD comps, 2 GMM comps, Covariance type spherical = 0.537128712871\n",
      "Accuracy score for 4 SVD comps, 3 GMM comps, Covariance type spherical = 0.55198019802\n",
      "Accuracy score for 5 SVD comps, 1 GMM comps, Covariance type spherical = 0.665841584158\n",
      "Accuracy score for 5 SVD comps, 2 GMM comps, Covariance type spherical = 0.529702970297\n",
      "Accuracy score for 6 SVD comps, 1 GMM comps, Covariance type spherical = 0.665841584158\n",
      "Accuracy score for 6 SVD comps, 2 GMM comps, Covariance type spherical = 0.522277227723\n",
      "Accuracy score for 7 SVD comps, 1 GMM comps, Covariance type spherical = 0.663366336634\n",
      "Accuracy score for 8 SVD comps, 1 GMM comps, Covariance type spherical = 0.664603960396\n",
      "Accuracy score for 9 SVD comps, 1 GMM comps, Covariance type spherical = 0.664603960396\n",
      "Accuracy score for 10 SVD comps, 1 GMM comps, Covariance type spherical = 0.664603960396\n",
      "Accuracy score for 11 SVD comps, 1 GMM comps, Covariance type spherical = 0.662128712871\n",
      "Accuracy score for 12 SVD comps, 1 GMM comps, Covariance type spherical = 0.659653465347\n",
      "Accuracy score for 1 SVD comps, 1 GMM comps, Covariance type diag = 0.675742574257\n",
      "Accuracy score for 1 SVD comps, 2 GMM comps, Covariance type diag = 0.570544554455\n",
      "Accuracy score for 1 SVD comps, 3 GMM comps, Covariance type diag = 0.560643564356\n",
      "Accuracy score for 1 SVD comps, 4 GMM comps, Covariance type diag = 0.558168316832\n",
      "Accuracy score for 1 SVD comps, 5 GMM comps, Covariance type diag = 0.600247524752\n",
      "Accuracy score for 1 SVD comps, 6 GMM comps, Covariance type diag = 0.544554455446\n",
      "Accuracy score for 1 SVD comps, 7 GMM comps, Covariance type diag = 0.542079207921\n",
      "Accuracy score for 1 SVD comps, 8 GMM comps, Covariance type diag = 0.545792079208\n",
      "Accuracy score for 1 SVD comps, 9 GMM comps, Covariance type diag = 0.587871287129\n",
      "Accuracy score for 1 SVD comps, 10 GMM comps, Covariance type diag = 0.576732673267\n",
      "Accuracy score for 1 SVD comps, 11 GMM comps, Covariance type diag = 0.584158415842\n",
      "Accuracy score for 1 SVD comps, 12 GMM comps, Covariance type diag = 0.575495049505\n",
      "Accuracy score for 2 SVD comps, 1 GMM comps, Covariance type diag = 0.667079207921\n",
      "Accuracy score for 2 SVD comps, 2 GMM comps, Covariance type diag = 0.555693069307\n",
      "Accuracy score for 2 SVD comps, 3 GMM comps, Covariance type diag = 0.545792079208\n",
      "Accuracy score for 2 SVD comps, 4 GMM comps, Covariance type diag = 0.543316831683\n",
      "Accuracy score for 2 SVD comps, 5 GMM comps, Covariance type diag = 0.545792079208\n",
      "Accuracy score for 2 SVD comps, 6 GMM comps, Covariance type diag = 0.539603960396\n",
      "Accuracy score for 3 SVD comps, 1 GMM comps, Covariance type diag = 0.653465346535\n",
      "Accuracy score for 3 SVD comps, 2 GMM comps, Covariance type diag = 0.539603960396\n",
      "Accuracy score for 3 SVD comps, 3 GMM comps, Covariance type diag = 0.570544554455\n",
      "Accuracy score for 3 SVD comps, 4 GMM comps, Covariance type diag = 0.580445544554\n",
      "Accuracy score for 4 SVD comps, 1 GMM comps, Covariance type diag = 0.659653465347\n",
      "Accuracy score for 4 SVD comps, 2 GMM comps, Covariance type diag = 0.543316831683\n",
      "Accuracy score for 4 SVD comps, 3 GMM comps, Covariance type diag = 0.566831683168\n",
      "Accuracy score for 5 SVD comps, 1 GMM comps, Covariance type diag = 0.665841584158\n",
      "Accuracy score for 5 SVD comps, 2 GMM comps, Covariance type diag = 0.543316831683\n",
      "Accuracy score for 6 SVD comps, 1 GMM comps, Covariance type diag = 0.663366336634\n",
      "Accuracy score for 6 SVD comps, 2 GMM comps, Covariance type diag = 0.554455445545\n",
      "Accuracy score for 7 SVD comps, 1 GMM comps, Covariance type diag = 0.657178217822\n",
      "Accuracy score for 8 SVD comps, 1 GMM comps, Covariance type diag = 0.653465346535\n",
      "Accuracy score for 9 SVD comps, 1 GMM comps, Covariance type diag = 0.655940594059\n",
      "Accuracy score for 10 SVD comps, 1 GMM comps, Covariance type diag = 0.64603960396\n",
      "Accuracy score for 11 SVD comps, 1 GMM comps, Covariance type diag = 0.653465346535\n",
      "Accuracy score for 12 SVD comps, 1 GMM comps, Covariance type diag = 0.639851485149\n",
      "Accuracy score for 1 SVD comps, 1 GMM comps, Covariance type tied = 0.675742574257\n",
      "Accuracy score for 1 SVD comps, 2 GMM comps, Covariance type tied = 0.615099009901\n",
      "Accuracy score for 1 SVD comps, 3 GMM comps, Covariance type tied = 0.590346534653\n",
      "Accuracy score for 1 SVD comps, 4 GMM comps, Covariance type tied = 0.611386138614\n",
      "Accuracy score for 1 SVD comps, 5 GMM comps, Covariance type tied = 0.582920792079\n",
      "Accuracy score for 1 SVD comps, 6 GMM comps, Covariance type tied = 0.563118811881\n",
      "Accuracy score for 1 SVD comps, 7 GMM comps, Covariance type tied = 0.544554455446\n",
      "Accuracy score for 1 SVD comps, 8 GMM comps, Covariance type tied = 0.565594059406\n",
      "Accuracy score for 1 SVD comps, 9 GMM comps, Covariance type tied = 0.561881188119\n",
      "Accuracy score for 1 SVD comps, 10 GMM comps, Covariance type tied = 0.569306930693\n",
      "Accuracy score for 1 SVD comps, 11 GMM comps, Covariance type tied = 0.585396039604\n",
      "Accuracy score for 1 SVD comps, 12 GMM comps, Covariance type tied = 0.601485148515\n",
      "Accuracy score for 2 SVD comps, 1 GMM comps, Covariance type tied = 0.664603960396\n",
      "Accuracy score for 2 SVD comps, 2 GMM comps, Covariance type tied = 0.652227722772\n",
      "Accuracy score for 2 SVD comps, 3 GMM comps, Covariance type tied = 0.594059405941\n",
      "Accuracy score for 2 SVD comps, 4 GMM comps, Covariance type tied = 0.636138613861\n",
      "Accuracy score for 2 SVD comps, 5 GMM comps, Covariance type tied = 0.579207920792\n",
      "Accuracy score for 2 SVD comps, 6 GMM comps, Covariance type tied = 0.597772277228\n",
      "Accuracy score for 3 SVD comps, 1 GMM comps, Covariance type tied = 0.65099009901\n",
      "Accuracy score for 3 SVD comps, 2 GMM comps, Covariance type tied = 0.628712871287\n",
      "Accuracy score for 3 SVD comps, 3 GMM comps, Covariance type tied = 0.617574257426\n",
      "Accuracy score for 3 SVD comps, 4 GMM comps, Covariance type tied = 0.607673267327\n",
      "Accuracy score for 4 SVD comps, 1 GMM comps, Covariance type tied = 0.657178217822\n",
      "Accuracy score for 4 SVD comps, 2 GMM comps, Covariance type tied = 0.637376237624\n",
      "Accuracy score for 4 SVD comps, 3 GMM comps, Covariance type tied = 0.621287128713\n",
      "Accuracy score for 5 SVD comps, 1 GMM comps, Covariance type tied = 0.659653465347\n",
      "Accuracy score for 5 SVD comps, 2 GMM comps, Covariance type tied = 0.636138613861\n"
     ]
    },
    {
     "name": "stdout",
     "output_type": "stream",
     "text": [
      "Accuracy score for 6 SVD comps, 1 GMM comps, Covariance type tied = 0.657178217822\n",
      "Accuracy score for 6 SVD comps, 2 GMM comps, Covariance type tied = 0.634900990099\n",
      "Accuracy score for 7 SVD comps, 1 GMM comps, Covariance type tied = 0.647277227723\n",
      "Accuracy score for 8 SVD comps, 1 GMM comps, Covariance type tied = 0.65099009901\n",
      "Accuracy score for 9 SVD comps, 1 GMM comps, Covariance type tied = 0.658415841584\n",
      "Accuracy score for 10 SVD comps, 1 GMM comps, Covariance type tied = 0.655940594059\n",
      "Accuracy score for 11 SVD comps, 1 GMM comps, Covariance type tied = 0.659653465347\n",
      "Accuracy score for 12 SVD comps, 1 GMM comps, Covariance type tied = 0.668316831683\n",
      "Accuracy score for 1 SVD comps, 1 GMM comps, Covariance type full = 0.675742574257\n",
      "Accuracy score for 1 SVD comps, 2 GMM comps, Covariance type full = 0.570544554455\n",
      "Accuracy score for 1 SVD comps, 3 GMM comps, Covariance type full = 0.544554455446\n",
      "Accuracy score for 1 SVD comps, 4 GMM comps, Covariance type full = 0.560643564356\n",
      "Accuracy score for 1 SVD comps, 5 GMM comps, Covariance type full = 0.57797029703\n",
      "Accuracy score for 1 SVD comps, 6 GMM comps, Covariance type full = 0.55198019802\n",
      "Accuracy score for 1 SVD comps, 7 GMM comps, Covariance type full = 0.57797029703\n",
      "Accuracy score for 1 SVD comps, 8 GMM comps, Covariance type full = 0.581683168317\n",
      "Accuracy score for 1 SVD comps, 9 GMM comps, Covariance type full = 0.595297029703\n",
      "Accuracy score for 1 SVD comps, 10 GMM comps, Covariance type full = 0.596534653465\n",
      "Accuracy score for 1 SVD comps, 11 GMM comps, Covariance type full = 0.568069306931\n",
      "Accuracy score for 1 SVD comps, 12 GMM comps, Covariance type full = 0.582920792079\n",
      "Accuracy score for 2 SVD comps, 1 GMM comps, Covariance type full = 0.664603960396\n",
      "Accuracy score for 2 SVD comps, 2 GMM comps, Covariance type full = 0.566831683168\n",
      "Accuracy score for 2 SVD comps, 3 GMM comps, Covariance type full = 0.539603960396\n",
      "Accuracy score for 2 SVD comps, 4 GMM comps, Covariance type full = 0.528465346535\n",
      "Accuracy score for 2 SVD comps, 5 GMM comps, Covariance type full = 0.542079207921\n",
      "Accuracy score for 2 SVD comps, 6 GMM comps, Covariance type full = 0.580445544554\n",
      "Accuracy score for 3 SVD comps, 1 GMM comps, Covariance type full = 0.65099009901\n",
      "Accuracy score for 3 SVD comps, 2 GMM comps, Covariance type full = 0.548267326733\n",
      "Accuracy score for 3 SVD comps, 3 GMM comps, Covariance type full = 0.587871287129\n",
      "Accuracy score for 3 SVD comps, 4 GMM comps, Covariance type full = 0.559405940594\n",
      "Accuracy score for 4 SVD comps, 1 GMM comps, Covariance type full = 0.655940594059\n",
      "Accuracy score for 4 SVD comps, 2 GMM comps, Covariance type full = 0.545792079208\n",
      "Accuracy score for 4 SVD comps, 3 GMM comps, Covariance type full = 0.569306930693\n",
      "Accuracy score for 5 SVD comps, 1 GMM comps, Covariance type full = 0.659653465347\n",
      "Accuracy score for 5 SVD comps, 2 GMM comps, Covariance type full = 0.553217821782\n",
      "Accuracy score for 6 SVD comps, 1 GMM comps, Covariance type full = 0.657178217822\n",
      "Accuracy score for 6 SVD comps, 2 GMM comps, Covariance type full = 0.594059405941\n",
      "Accuracy score for 7 SVD comps, 1 GMM comps, Covariance type full = 0.64603960396\n",
      "Accuracy score for 8 SVD comps, 1 GMM comps, Covariance type full = 0.653465346535\n",
      "Accuracy score for 9 SVD comps, 1 GMM comps, Covariance type full = 0.660891089109\n",
      "Accuracy score for 10 SVD comps, 1 GMM comps, Covariance type full = 0.654702970297\n",
      "Accuracy score for 11 SVD comps, 1 GMM comps, Covariance type full = 0.659653465347\n",
      "Accuracy score for 12 SVD comps, 1 GMM comps, Covariance type full = 0.670792079208\n",
      "*********************************************************************************\n",
      "The best accuracy score is 0.675742574257\n",
      "To get it, set SVD comps to 1 , GMM comps to 1 , and covariance type to spherical\n"
     ]
    }
   ],
   "source": [
    "def train_gmm(svd_comps = 2, gmm_comps = 4, cov_type = 'full', sparse = True):\n",
    "    \n",
    "    # project data to few dimensions using SVD if sparse, PCA if dense\n",
    "    if (sparse): svd_test = TruncatedSVD(n_components=svd_comps)\n",
    "    else: svd_test = PCA(n_components=svd_comps)\n",
    "    svd_test_ft = svd_test.fit_transform(x_test)\n",
    "    if (sparse): svd_train = TruncatedSVD(n_components=svd_comps)\n",
    "    else: svd_train = PCA(n_components=svd_comps)\n",
    "    svd_train_ft = svd_train.fit_transform(x_train)\n",
    "\n",
    "    # create two sets of svd data, one that's positively labeled, one that's negatively labeled\n",
    "    pos_svd = svd_train_ft[y_train == 1]\n",
    "    neg_svd = svd_train_ft[y_train == 0]\n",
    "    \n",
    "    # fit a GMM for pos and neg datasets\n",
    "    gmm_pos = GaussianMixture(n_components=gmm_comps, covariance_type=cov_type) \n",
    "    gmm_fit_pos = gmm_pos.fit(pos_svd)\n",
    "    gmm_neg = GaussianMixture(n_components=gmm_comps, covariance_type=cov_type) \n",
    "    gmm_fit_neg = gmm_neg.fit(neg_svd)\n",
    "\n",
    "    prediction = np.ndarray(shape=y_test.shape)\n",
    "    \n",
    "    for sample in range(svd_test_ft.shape[0]):\n",
    "        pos_score = gmm_fit_pos.score(svd_test_ft[sample].reshape(1,-1))\n",
    "        neg_score = gmm_fit_neg.score(svd_test_ft[sample].reshape(1,-1))\n",
    "        # make pick\n",
    "        if (pos_score >= neg_score): prediction[sample] = 1\n",
    "        else: prediction[sample] = 0 \n",
    "\n",
    "    # calculate accuracy\n",
    "    accuracy = metrics.accuracy_score(y_test, prediction)\n",
    "    # f1 = metrics.f1_score(y_test, prediction)\n",
    "    print(\"Accuracy score for\", svd_comps,\"SVD comps,\",gmm_comps,\"GMM comps,\",\"Covariance type\",cov_type,\"=\",accuracy)\n",
    "\n",
    "    return(accuracy)\n",
    "\n",
    "def gmm_trials(sparse = True, max_params = 50):\n",
    "\n",
    "    def calc_limits(max_params = 50):\n",
    "        # this function helps estaish the svd and gmm settings to stay within max_params\n",
    "\n",
    "        valid_configs = [] # list of tuples (num_svd_components, num_gmm_components)\n",
    "\n",
    "        for cov_type in ['spherical', 'diag', 'tied', 'full']:\n",
    "            for svd_comp in range(1,20): \n",
    "                for gmm_comp in range(1,20): \n",
    "                    if ((svd_comp + svd_comp) * gmm_comp) * 2 <= max_params:\n",
    "                        valid_configs.append((svd_comp, gmm_comp, cov_type))\n",
    "\n",
    "        return(valid_configs)\n",
    "\n",
    "    configs = calc_limits(max_params) # get the valid configurations\n",
    "\n",
    "    top_accuracy_val = 0 # keeps track of top accuracy value\n",
    "    top_accuracy_config = () # keeps track of config that creates top accuracy value\n",
    "    \n",
    "    for config in configs:\n",
    "        accuracy = train_gmm(config[0], config[1], config[2])\n",
    "        if accuracy > top_accuracy_val:\n",
    "            top_accuracy_val = accuracy\n",
    "            top_accuracy_config = config\n",
    "\n",
    "    print(\"*********************************************************************************\")\n",
    "    print(\"The best accuracy score is\", top_accuracy_val)\n",
    "    print(\"To get it, set SVD comps to\", top_accuracy_config[0], \", GMM comps to\", top_accuracy_config[1],\", and covariance type to\", top_accuracy_config[2])\n",
    "\n",
    "    \n",
    "#Create Sparse matrix of words\n",
    "count_vect = CountVectorizer()\n",
    "\n",
    "#Split train and test data\n",
    "x_train_text, x_test_text, y_train, y_test = train_test_split(\n",
    "    train_data_master['request_text_edit_aware'], \n",
    "    train_labels_master.values.ravel(), test_size=0.2, random_state=0)\n",
    "x_train = count_vect.fit_transform(x_train_text)\n",
    "x_test = count_vect.transform(x_test_text)\n",
    "\n",
    "gmm_trials(sparse = True)"
   ]
  },
  {
   "cell_type": "markdown",
   "metadata": {},
   "source": [
    "Results: The best accuracy score doesn't beat the 0.68 naive bayes baseline, so dimensionality reduction on the vectorized text field doesn't help. "
   ]
  },
  {
   "cell_type": "markdown",
   "metadata": {},
   "source": [
    "### Next: Dimensionality reduction on all features"
   ]
  },
  {
   "cell_type": "code",
   "execution_count": 19,
   "metadata": {},
   "outputs": [],
   "source": [
    "#Try using ALL features, even those not in the test data. \n",
    "\n",
    "#Normalize all fields (numeric)\n",
    "min_max_scaler = preprocessing.MinMaxScaler()\n",
    "mn_mx_scaler_allfeats = min_max_scaler.fit_transform(\n",
    "    train.select_dtypes(include = ['float64', 'int64','datetime64[ns]']).apply(pd.to_numeric).values)\n",
    "mn_mx_scaler_commonfeats = min_max_scaler.fit_transform(\n",
    "    train_data_master.select_dtypes(include = ['float64', 'int64','datetime64[ns]']).apply(pd.to_numeric).values)\n",
    "\n",
    "#Split train and test data\n",
    "x_train, x_test = mn_mx_scaler_allfeats[:3232], mn_mx_scaler_commonfeats[3232:] \n",
    "y_train, y_test = train_labels_master[:3232].values.ravel(), train_labels_master[3232:].values.ravel()\n",
    "\n"
   ]
  },
  {
   "cell_type": "code",
   "execution_count": 20,
   "metadata": {},
   "outputs": [
    {
     "name": "stdout",
     "output_type": "stream",
     "text": [
      "Accuracy score for 1 SVD comps, 1 GMM comps, Covariance type spherical = 0.441831683168\n",
      "Accuracy score for 1 SVD comps, 2 GMM comps, Covariance type spherical = 0.472772277228\n",
      "Accuracy score for 1 SVD comps, 3 GMM comps, Covariance type spherical = 0.389851485149\n",
      "Accuracy score for 1 SVD comps, 4 GMM comps, Covariance type spherical = 0.409653465347\n",
      "Accuracy score for 1 SVD comps, 5 GMM comps, Covariance type spherical = 0.429455445545\n",
      "Accuracy score for 1 SVD comps, 6 GMM comps, Covariance type spherical = 0.410891089109\n",
      "Accuracy score for 1 SVD comps, 7 GMM comps, Covariance type spherical = 0.404702970297\n",
      "Accuracy score for 1 SVD comps, 8 GMM comps, Covariance type spherical = 0.417079207921\n",
      "Accuracy score for 1 SVD comps, 9 GMM comps, Covariance type spherical = 0.392326732673\n",
      "Accuracy score for 1 SVD comps, 10 GMM comps, Covariance type spherical = 0.397277227723\n",
      "Accuracy score for 2 SVD comps, 1 GMM comps, Covariance type spherical = 0.686881188119\n",
      "Accuracy score for 2 SVD comps, 2 GMM comps, Covariance type spherical = 0.632425742574\n",
      "Accuracy score for 2 SVD comps, 3 GMM comps, Covariance type spherical = 0.49504950495\n",
      "Accuracy score for 2 SVD comps, 4 GMM comps, Covariance type spherical = 0.608910891089\n",
      "Accuracy score for 2 SVD comps, 5 GMM comps, Covariance type spherical = 0.62995049505\n",
      "Accuracy score for 3 SVD comps, 1 GMM comps, Covariance type spherical = 0.67202970297\n",
      "Accuracy score for 3 SVD comps, 2 GMM comps, Covariance type spherical = 0.665841584158\n",
      "Accuracy score for 3 SVD comps, 3 GMM comps, Covariance type spherical = 0.602722772277\n",
      "Accuracy score for 4 SVD comps, 1 GMM comps, Covariance type spherical = 0.67698019802\n",
      "Accuracy score for 4 SVD comps, 2 GMM comps, Covariance type spherical = 0.696782178218\n",
      "Accuracy score for 5 SVD comps, 1 GMM comps, Covariance type spherical = 0.681930693069\n",
      "Accuracy score for 5 SVD comps, 2 GMM comps, Covariance type spherical = 0.431930693069\n",
      "Accuracy score for 6 SVD comps, 1 GMM comps, Covariance type spherical = 0.686881188119\n",
      "Accuracy score for 7 SVD comps, 1 GMM comps, Covariance type spherical = 0.688118811881\n",
      "Accuracy score for 8 SVD comps, 1 GMM comps, Covariance type spherical = 0.686881188119\n",
      "Accuracy score for 9 SVD comps, 1 GMM comps, Covariance type spherical = 0.690594059406\n",
      "Accuracy score for 10 SVD comps, 1 GMM comps, Covariance type spherical = 0.689356435644\n",
      "Accuracy score for 1 SVD comps, 1 GMM comps, Covariance type diag = 0.441831683168\n",
      "Accuracy score for 1 SVD comps, 2 GMM comps, Covariance type diag = 0.472772277228\n",
      "Accuracy score for 1 SVD comps, 3 GMM comps, Covariance type diag = 0.428217821782\n",
      "Accuracy score for 1 SVD comps, 4 GMM comps, Covariance type diag = 0.404702970297\n",
      "Accuracy score for 1 SVD comps, 5 GMM comps, Covariance type diag = 0.418316831683\n",
      "Accuracy score for 1 SVD comps, 6 GMM comps, Covariance type diag = 0.412128712871\n",
      "Accuracy score for 1 SVD comps, 7 GMM comps, Covariance type diag = 0.414603960396\n",
      "Accuracy score for 1 SVD comps, 8 GMM comps, Covariance type diag = 0.433168316832\n",
      "Accuracy score for 1 SVD comps, 9 GMM comps, Covariance type diag = 0.414603960396\n",
      "Accuracy score for 1 SVD comps, 10 GMM comps, Covariance type diag = 0.384900990099\n",
      "Accuracy score for 2 SVD comps, 1 GMM comps, Covariance type diag = 0.576732673267\n",
      "Accuracy score for 2 SVD comps, 2 GMM comps, Covariance type diag = 0.655940594059\n",
      "Accuracy score for 2 SVD comps, 3 GMM comps, Covariance type diag = 0.486386138614\n",
      "Accuracy score for 2 SVD comps, 4 GMM comps, Covariance type diag = 0.457920792079\n",
      "Accuracy score for 2 SVD comps, 5 GMM comps, Covariance type diag = 0.469059405941\n",
      "Accuracy score for 3 SVD comps, 1 GMM comps, Covariance type diag = 0.575495049505\n",
      "Accuracy score for 3 SVD comps, 2 GMM comps, Covariance type diag = 0.382425742574\n",
      "Accuracy score for 3 SVD comps, 3 GMM comps, Covariance type diag = 0.586633663366\n",
      "Accuracy score for 4 SVD comps, 1 GMM comps, Covariance type diag = 0.67698019802\n",
      "Accuracy score for 4 SVD comps, 2 GMM comps, Covariance type diag = 0.475247524752\n",
      "Accuracy score for 5 SVD comps, 1 GMM comps, Covariance type diag = 0.700495049505\n",
      "Accuracy score for 5 SVD comps, 2 GMM comps, Covariance type diag = 0.409653465347\n",
      "Accuracy score for 6 SVD comps, 1 GMM comps, Covariance type diag = 0.738861386139\n",
      "Accuracy score for 7 SVD comps, 1 GMM comps, Covariance type diag = 0.733910891089\n",
      "Accuracy score for 8 SVD comps, 1 GMM comps, Covariance type diag = 0.735148514851\n",
      "Accuracy score for 9 SVD comps, 1 GMM comps, Covariance type diag = 0.735148514851\n",
      "Accuracy score for 10 SVD comps, 1 GMM comps, Covariance type diag = 0.735148514851\n",
      "Accuracy score for 1 SVD comps, 1 GMM comps, Covariance type tied = 0.441831683168\n",
      "Accuracy score for 1 SVD comps, 2 GMM comps, Covariance type tied = 0.497524752475\n",
      "Accuracy score for 1 SVD comps, 3 GMM comps, Covariance type tied = 0.431930693069\n",
      "Accuracy score for 1 SVD comps, 4 GMM comps, Covariance type tied = 0.398514851485\n",
      "Accuracy score for 1 SVD comps, 5 GMM comps, Covariance type tied = 0.446782178218\n",
      "Accuracy score for 1 SVD comps, 6 GMM comps, Covariance type tied = 0.466584158416\n",
      "Accuracy score for 1 SVD comps, 7 GMM comps, Covariance type tied = 0.425742574257\n",
      "Accuracy score for 1 SVD comps, 8 GMM comps, Covariance type tied = 0.434405940594\n",
      "Accuracy score for 1 SVD comps, 9 GMM comps, Covariance type tied = 0.441831683168\n",
      "Accuracy score for 1 SVD comps, 10 GMM comps, Covariance type tied = 0.420792079208\n",
      "Accuracy score for 2 SVD comps, 1 GMM comps, Covariance type tied = 0.502475247525\n",
      "Accuracy score for 2 SVD comps, 2 GMM comps, Covariance type tied = 0.491336633663\n",
      "Accuracy score for 2 SVD comps, 3 GMM comps, Covariance type tied = 0.481435643564\n",
      "Accuracy score for 2 SVD comps, 4 GMM comps, Covariance type tied = 0.542079207921\n",
      "Accuracy score for 2 SVD comps, 5 GMM comps, Covariance type tied = 0.42698019802\n",
      "Accuracy score for 3 SVD comps, 1 GMM comps, Covariance type tied = 0.308168316832\n",
      "Accuracy score for 3 SVD comps, 2 GMM comps, Covariance type tied = 0.309405940594\n",
      "Accuracy score for 3 SVD comps, 3 GMM comps, Covariance type tied = 0.292079207921\n",
      "Accuracy score for 4 SVD comps, 1 GMM comps, Covariance type tied = 0.306930693069\n",
      "Accuracy score for 4 SVD comps, 2 GMM comps, Covariance type tied = 0.308168316832\n",
      "Accuracy score for 5 SVD comps, 1 GMM comps, Covariance type tied = 0.305693069307\n",
      "Accuracy score for 5 SVD comps, 2 GMM comps, Covariance type tied = 0.293316831683\n",
      "Accuracy score for 6 SVD comps, 1 GMM comps, Covariance type tied = 0.282178217822\n",
      "Accuracy score for 7 SVD comps, 1 GMM comps, Covariance type tied = 0.284653465347\n",
      "Accuracy score for 8 SVD comps, 1 GMM comps, Covariance type tied = 0.280940594059\n",
      "Accuracy score for 9 SVD comps, 1 GMM comps, Covariance type tied = 0.264851485149\n",
      "Accuracy score for 10 SVD comps, 1 GMM comps, Covariance type tied = 0.267326732673\n",
      "Accuracy score for 1 SVD comps, 1 GMM comps, Covariance type full = 0.441831683168\n",
      "Accuracy score for 1 SVD comps, 2 GMM comps, Covariance type full = 0.475247524752\n",
      "Accuracy score for 1 SVD comps, 3 GMM comps, Covariance type full = 0.433168316832\n",
      "Accuracy score for 1 SVD comps, 4 GMM comps, Covariance type full = 0.405940594059\n",
      "Accuracy score for 1 SVD comps, 5 GMM comps, Covariance type full = 0.430693069307\n",
      "Accuracy score for 1 SVD comps, 6 GMM comps, Covariance type full = 0.428217821782\n",
      "Accuracy score for 1 SVD comps, 7 GMM comps, Covariance type full = 0.410891089109\n",
      "Accuracy score for 1 SVD comps, 8 GMM comps, Covariance type full = 0.414603960396\n",
      "Accuracy score for 1 SVD comps, 9 GMM comps, Covariance type full = 0.414603960396\n",
      "Accuracy score for 1 SVD comps, 10 GMM comps, Covariance type full = 0.415841584158\n",
      "Accuracy score for 2 SVD comps, 1 GMM comps, Covariance type full = 0.502475247525\n",
      "Accuracy score for 2 SVD comps, 2 GMM comps, Covariance type full = 0.625\n",
      "Accuracy score for 2 SVD comps, 3 GMM comps, Covariance type full = 0.482673267327\n",
      "Accuracy score for 2 SVD comps, 4 GMM comps, Covariance type full = 0.366336633663\n",
      "Accuracy score for 2 SVD comps, 5 GMM comps, Covariance type full = 0.399752475248\n",
      "Accuracy score for 3 SVD comps, 1 GMM comps, Covariance type full = 0.308168316832\n",
      "Accuracy score for 3 SVD comps, 2 GMM comps, Covariance type full = 0.377475247525\n"
     ]
    },
    {
     "name": "stdout",
     "output_type": "stream",
     "text": [
      "Accuracy score for 3 SVD comps, 3 GMM comps, Covariance type full = 0.360148514851\n",
      "Accuracy score for 4 SVD comps, 1 GMM comps, Covariance type full = 0.306930693069\n",
      "Accuracy score for 4 SVD comps, 2 GMM comps, Covariance type full = 0.336633663366\n",
      "Accuracy score for 5 SVD comps, 1 GMM comps, Covariance type full = 0.305693069307\n",
      "Accuracy score for 5 SVD comps, 2 GMM comps, Covariance type full = 0.350247524752\n",
      "Accuracy score for 6 SVD comps, 1 GMM comps, Covariance type full = 0.282178217822\n",
      "Accuracy score for 7 SVD comps, 1 GMM comps, Covariance type full = 0.284653465347\n",
      "Accuracy score for 8 SVD comps, 1 GMM comps, Covariance type full = 0.280940594059\n",
      "Accuracy score for 9 SVD comps, 1 GMM comps, Covariance type full = 0.264851485149\n",
      "Accuracy score for 10 SVD comps, 1 GMM comps, Covariance type full = 0.267326732673\n",
      "*********************************************************************************\n",
      "The best accuracy score is 0.738861386139\n",
      "To get it, set SVD comps to 6 , GMM comps to 1 , and covariance type to diag\n"
     ]
    }
   ],
   "source": [
    "gmm_trials(sparse = False, max_params = 40)"
   ]
  },
  {
   "cell_type": "markdown",
   "metadata": {},
   "source": [
    "Results: A 0.74 accuracy level is less than what was achieved with logistic regression baseline of 0.75. "
   ]
  },
  {
   "cell_type": "code",
   "execution_count": 21,
   "metadata": {},
   "outputs": [],
   "source": [
    "#Try using just the features in common with train and test. \n",
    "\n",
    "#Normalize all fields (numeric)\n",
    "min_max_scaler = preprocessing.MinMaxScaler()\n",
    "mn_mx_scaler = min_max_scaler.fit_transform(\n",
    "    train.select_dtypes(include = ['float64', 'int64','datetime64[ns]']).apply(pd.to_numeric).values)\n",
    "\n",
    "#Split train and test data\n",
    "x_train, x_test = mn_mx_scaler[:3232], mn_mx_scaler[3232:] \n",
    "y_train, y_test = train_labels_master[:3232].values.ravel(), train_labels_master[3232:].values.ravel()\n"
   ]
  },
  {
   "cell_type": "code",
   "execution_count": 22,
   "metadata": {},
   "outputs": [
    {
     "name": "stdout",
     "output_type": "stream",
     "text": [
      "Accuracy score for 1 SVD comps, 1 GMM comps, Covariance type spherical = 0.637376237624\n",
      "Accuracy score for 1 SVD comps, 2 GMM comps, Covariance type spherical = 0.537128712871\n",
      "Accuracy score for 1 SVD comps, 3 GMM comps, Covariance type spherical = 0.522277227723\n",
      "Accuracy score for 1 SVD comps, 4 GMM comps, Covariance type spherical = 0.561881188119\n",
      "Accuracy score for 1 SVD comps, 5 GMM comps, Covariance type spherical = 0.524752475248\n",
      "Accuracy score for 1 SVD comps, 6 GMM comps, Covariance type spherical = 0.549504950495\n",
      "Accuracy score for 1 SVD comps, 7 GMM comps, Covariance type spherical = 0.514851485149\n",
      "Accuracy score for 1 SVD comps, 8 GMM comps, Covariance type spherical = 0.545792079208\n",
      "Accuracy score for 1 SVD comps, 9 GMM comps, Covariance type spherical = 0.488861386139\n",
      "Accuracy score for 1 SVD comps, 10 GMM comps, Covariance type spherical = 0.513613861386\n",
      "Accuracy score for 2 SVD comps, 1 GMM comps, Covariance type spherical = 0.561881188119\n",
      "Accuracy score for 2 SVD comps, 2 GMM comps, Covariance type spherical = 0.618811881188\n",
      "Accuracy score for 2 SVD comps, 3 GMM comps, Covariance type spherical = 0.597772277228\n",
      "Accuracy score for 2 SVD comps, 4 GMM comps, Covariance type spherical = 0.57301980198\n",
      "Accuracy score for 2 SVD comps, 5 GMM comps, Covariance type spherical = 0.596534653465\n",
      "Accuracy score for 3 SVD comps, 1 GMM comps, Covariance type spherical = 0.560643564356\n",
      "Accuracy score for 3 SVD comps, 2 GMM comps, Covariance type spherical = 0.648514851485\n",
      "Accuracy score for 3 SVD comps, 3 GMM comps, Covariance type spherical = 0.660891089109\n",
      "Accuracy score for 4 SVD comps, 1 GMM comps, Covariance type spherical = 0.559405940594\n",
      "Accuracy score for 4 SVD comps, 2 GMM comps, Covariance type spherical = 0.582920792079\n",
      "Accuracy score for 5 SVD comps, 1 GMM comps, Covariance type spherical = 0.563118811881\n",
      "Accuracy score for 5 SVD comps, 2 GMM comps, Covariance type spherical = 0.528465346535\n",
      "Accuracy score for 6 SVD comps, 1 GMM comps, Covariance type spherical = 0.570544554455\n",
      "Accuracy score for 7 SVD comps, 1 GMM comps, Covariance type spherical = 0.57797029703\n",
      "Accuracy score for 8 SVD comps, 1 GMM comps, Covariance type spherical = 0.580445544554\n",
      "Accuracy score for 9 SVD comps, 1 GMM comps, Covariance type spherical = 0.581683168317\n",
      "Accuracy score for 10 SVD comps, 1 GMM comps, Covariance type spherical = 0.582920792079\n",
      "Accuracy score for 1 SVD comps, 1 GMM comps, Covariance type diag = 0.637376237624\n",
      "Accuracy score for 1 SVD comps, 2 GMM comps, Covariance type diag = 0.540841584158\n",
      "Accuracy score for 1 SVD comps, 3 GMM comps, Covariance type diag = 0.523514851485\n",
      "Accuracy score for 1 SVD comps, 4 GMM comps, Covariance type diag = 0.564356435644\n",
      "Accuracy score for 1 SVD comps, 5 GMM comps, Covariance type diag = 0.518564356436\n",
      "Accuracy score for 1 SVD comps, 6 GMM comps, Covariance type diag = 0.556930693069\n",
      "Accuracy score for 1 SVD comps, 7 GMM comps, Covariance type diag = 0.534653465347\n",
      "Accuracy score for 1 SVD comps, 8 GMM comps, Covariance type diag = 0.512376237624\n",
      "Accuracy score for 1 SVD comps, 9 GMM comps, Covariance type diag = 0.5\n",
      "Accuracy score for 1 SVD comps, 10 GMM comps, Covariance type diag = 0.530940594059\n",
      "Accuracy score for 2 SVD comps, 1 GMM comps, Covariance type diag = 0.558168316832\n",
      "Accuracy score for 2 SVD comps, 2 GMM comps, Covariance type diag = 0.610148514851\n",
      "Accuracy score for 2 SVD comps, 3 GMM comps, Covariance type diag = 0.601485148515\n",
      "Accuracy score for 2 SVD comps, 4 GMM comps, Covariance type diag = 0.587871287129\n",
      "Accuracy score for 2 SVD comps, 5 GMM comps, Covariance type diag = 0.597772277228\n",
      "Accuracy score for 3 SVD comps, 1 GMM comps, Covariance type diag = 0.574257425743\n",
      "Accuracy score for 3 SVD comps, 2 GMM comps, Covariance type diag = 0.563118811881\n",
      "Accuracy score for 3 SVD comps, 3 GMM comps, Covariance type diag = 0.638613861386\n",
      "Accuracy score for 4 SVD comps, 1 GMM comps, Covariance type diag = 0.615099009901\n",
      "Accuracy score for 4 SVD comps, 2 GMM comps, Covariance type diag = 0.597772277228\n",
      "Accuracy score for 5 SVD comps, 1 GMM comps, Covariance type diag = 0.642326732673\n",
      "Accuracy score for 5 SVD comps, 2 GMM comps, Covariance type diag = 0.626237623762\n",
      "Accuracy score for 6 SVD comps, 1 GMM comps, Covariance type diag = 0.67698019802\n",
      "Accuracy score for 7 SVD comps, 1 GMM comps, Covariance type diag = 0.701732673267\n",
      "Accuracy score for 8 SVD comps, 1 GMM comps, Covariance type diag = 0.695544554455\n",
      "Accuracy score for 9 SVD comps, 1 GMM comps, Covariance type diag = 0.727722772277\n",
      "Accuracy score for 10 SVD comps, 1 GMM comps, Covariance type diag = 0.726485148515\n",
      "Accuracy score for 1 SVD comps, 1 GMM comps, Covariance type tied = 0.637376237624\n",
      "Accuracy score for 1 SVD comps, 2 GMM comps, Covariance type tied = 0.540841584158\n",
      "Accuracy score for 1 SVD comps, 3 GMM comps, Covariance type tied = 0.534653465347\n",
      "Accuracy score for 1 SVD comps, 4 GMM comps, Covariance type tied = 0.52103960396\n",
      "Accuracy score for 1 SVD comps, 5 GMM comps, Covariance type tied = 0.50495049505\n",
      "Accuracy score for 1 SVD comps, 6 GMM comps, Covariance type tied = 0.580445544554\n",
      "Accuracy score for 1 SVD comps, 7 GMM comps, Covariance type tied = 0.553217821782\n",
      "Accuracy score for 1 SVD comps, 8 GMM comps, Covariance type tied = 0.539603960396\n",
      "Accuracy score for 1 SVD comps, 9 GMM comps, Covariance type tied = 0.524752475248\n",
      "Accuracy score for 1 SVD comps, 10 GMM comps, Covariance type tied = 0.549504950495\n",
      "Accuracy score for 2 SVD comps, 1 GMM comps, Covariance type tied = 0.649752475248\n",
      "Accuracy score for 2 SVD comps, 2 GMM comps, Covariance type tied = 0.658415841584\n",
      "Accuracy score for 2 SVD comps, 3 GMM comps, Covariance type tied = 0.601485148515\n",
      "Accuracy score for 2 SVD comps, 4 GMM comps, Covariance type tied = 0.674504950495\n",
      "Accuracy score for 2 SVD comps, 5 GMM comps, Covariance type tied = 0.554455445545\n",
      "Accuracy score for 3 SVD comps, 1 GMM comps, Covariance type tied = 0.700495049505\n",
      "Accuracy score for 3 SVD comps, 2 GMM comps, Covariance type tied = 0.587871287129\n",
      "Accuracy score for 3 SVD comps, 3 GMM comps, Covariance type tied = 0.690594059406\n",
      "Accuracy score for 4 SVD comps, 1 GMM comps, Covariance type tied = 0.688118811881\n",
      "Accuracy score for 4 SVD comps, 2 GMM comps, Covariance type tied = 0.688118811881\n",
      "Accuracy score for 5 SVD comps, 1 GMM comps, Covariance type tied = 0.689356435644\n",
      "Accuracy score for 5 SVD comps, 2 GMM comps, Covariance type tied = 0.693069306931\n",
      "Accuracy score for 6 SVD comps, 1 GMM comps, Covariance type tied = 0.683168316832\n",
      "Accuracy score for 7 SVD comps, 1 GMM comps, Covariance type tied = 0.721534653465\n",
      "Accuracy score for 8 SVD comps, 1 GMM comps, Covariance type tied = 0.705445544554\n",
      "Accuracy score for 9 SVD comps, 1 GMM comps, Covariance type tied = 0.726485148515\n",
      "Accuracy score for 10 SVD comps, 1 GMM comps, Covariance type tied = 0.722772277228\n",
      "Accuracy score for 1 SVD comps, 1 GMM comps, Covariance type full = 0.637376237624\n",
      "Accuracy score for 1 SVD comps, 2 GMM comps, Covariance type full = 0.539603960396\n",
      "Accuracy score for 1 SVD comps, 3 GMM comps, Covariance type full = 0.524752475248\n",
      "Accuracy score for 1 SVD comps, 4 GMM comps, Covariance type full = 0.559405940594\n",
      "Accuracy score for 1 SVD comps, 5 GMM comps, Covariance type full = 0.518564356436\n",
      "Accuracy score for 1 SVD comps, 6 GMM comps, Covariance type full = 0.542079207921\n",
      "Accuracy score for 1 SVD comps, 7 GMM comps, Covariance type full = 0.532178217822\n",
      "Accuracy score for 1 SVD comps, 8 GMM comps, Covariance type full = 0.506188118812\n",
      "Accuracy score for 1 SVD comps, 9 GMM comps, Covariance type full = 0.530940594059\n",
      "Accuracy score for 1 SVD comps, 10 GMM comps, Covariance type full = 0.513613861386\n",
      "Accuracy score for 2 SVD comps, 1 GMM comps, Covariance type full = 0.649752475248\n",
      "Accuracy score for 2 SVD comps, 2 GMM comps, Covariance type full = 0.601485148515\n",
      "Accuracy score for 2 SVD comps, 3 GMM comps, Covariance type full = 0.581683168317\n",
      "Accuracy score for 2 SVD comps, 4 GMM comps, Covariance type full = 0.613861386139\n",
      "Accuracy score for 2 SVD comps, 5 GMM comps, Covariance type full = 0.60396039604\n",
      "Accuracy score for 3 SVD comps, 1 GMM comps, Covariance type full = 0.700495049505\n",
      "Accuracy score for 3 SVD comps, 2 GMM comps, Covariance type full = 0.57301980198\n"
     ]
    },
    {
     "name": "stdout",
     "output_type": "stream",
     "text": [
      "Accuracy score for 3 SVD comps, 3 GMM comps, Covariance type full = 0.57301980198\n",
      "Accuracy score for 4 SVD comps, 1 GMM comps, Covariance type full = 0.688118811881\n",
      "Accuracy score for 4 SVD comps, 2 GMM comps, Covariance type full = 0.459158415842\n",
      "Accuracy score for 5 SVD comps, 1 GMM comps, Covariance type full = 0.689356435644\n",
      "Accuracy score for 5 SVD comps, 2 GMM comps, Covariance type full = 0.443069306931\n",
      "Accuracy score for 6 SVD comps, 1 GMM comps, Covariance type full = 0.683168316832\n",
      "Accuracy score for 7 SVD comps, 1 GMM comps, Covariance type full = 0.721534653465\n",
      "Accuracy score for 8 SVD comps, 1 GMM comps, Covariance type full = 0.705445544554\n",
      "Accuracy score for 9 SVD comps, 1 GMM comps, Covariance type full = 0.726485148515\n",
      "Accuracy score for 10 SVD comps, 1 GMM comps, Covariance type full = 0.722772277228\n",
      "*********************************************************************************\n",
      "The best accuracy score is 0.727722772277\n",
      "To get it, set SVD comps to 9 , GMM comps to 1 , and covariance type to diag\n"
     ]
    }
   ],
   "source": [
    "gmm_trials(sparse = False, max_params = 40) "
   ]
  },
  {
   "cell_type": "markdown",
   "metadata": {},
   "source": [
    "Result: a 0.73 accuracy score is less than the logistic regression baseline. "
   ]
  },
  {
   "cell_type": "markdown",
   "metadata": {},
   "source": [
    "### Reduce vectorized word field, plug it into logistic regression with other features"
   ]
  },
  {
   "cell_type": "code",
   "execution_count": 23,
   "metadata": {},
   "outputs": [],
   "source": [
    "#Create Sparse matrix of words\n",
    "count_vect = CountVectorizer()\n",
    "x_train = train_data_master[:3232]['request_text_edit_aware']\n",
    "x_test = train_data_master[3232:]['request_text_edit_aware'] \n",
    "train_features = count_vect.fit_transform(x_train)\n",
    "dev_features = count_vect.transform(x_test)\n",
    "\n",
    "#Reduce the vectorized word feature to small number of numerical components\n",
    "svd_comps = 110 # 110 after some trial and error, this was the best\n",
    "svd = TruncatedSVD(n_components=svd_comps)\n",
    "svd_ft_tr = svd.fit_transform(train_features)\n",
    "svd_ft_dv = svd.fit_transform(dev_features)\n",
    "svd_ft = np.concatenate((svd_ft_tr, svd_ft_dv), axis=0)\n",
    "\n",
    "# add the newly reduced text field feature to the train and test data\n",
    "train_data_SVD = train_data_master.copy(deep = True)\n",
    "for comp in range(svd_comps):\n",
    "    train_data_SVD['SVD'+str(comp)] = svd_ft[:,comp]\n",
    "\n",
    "#Normalize all fields (numeric)\n",
    "min_max_scaler = preprocessing.MinMaxScaler()\n",
    "mn_mx_scaler = min_max_scaler.fit_transform(train_data_SVD.select_dtypes(include = ['float64', 'int64','datetime64[ns]']).apply(pd.to_numeric).values)\n",
    "\n",
    "#Split train and test data\n",
    "x_train, x_test = mn_mx_scaler[:3232], mn_mx_scaler[3232:] \n",
    "y_train, y_test = train_labels_master[:3232].values.ravel(), train_labels_master[3232:].values.ravel()\n"
   ]
  },
  {
   "cell_type": "code",
   "execution_count": 24,
   "metadata": {},
   "outputs": [
    {
     "name": "stdout",
     "output_type": "stream",
     "text": [
      "Logistic Regression (using only common numeric fields)\n",
      "---------\n",
      "             precision    recall  f1-score   support\n",
      "\n",
      "      False       0.77      0.98      0.86       612\n",
      "       True       0.46      0.07      0.12       196\n",
      "\n",
      "avg / total       0.69      0.75      0.68       808\n",
      "\n"
     ]
    },
    {
     "data": {
      "image/png": "[encoded data removed]",
      "text/plain": [
       "<matplotlib.figure.Figure at 0x1a19deb048>"
      ]
     },
     "metadata": {},
     "output_type": "display_data"
    },
    {
     "data": {
      "image/png": "[encoded data removed]",
      "text/plain": [
       "<matplotlib.figure.Figure at 0x1a19ddbeb8>"
      ]
     },
     "metadata": {},
     "output_type": "display_data"
    }
   ],
   "source": [
    "# do logistic regression on our new train data\n",
    "\n",
    "def model_report(title, y_test, predictions):\n",
    "\n",
    "    \"\"\"\n",
    "    Output: Classification report, confusion matrix, and ROC curve\n",
    "    \"\"\"\n",
    "    print(title)\n",
    "    print(\"---------\")\n",
    "    print(classification_report(y_test, predictions))\n",
    "\n",
    "    cm = metrics.confusion_matrix(y_test, predictions)\n",
    "    plt.figure(figsize=(3,3))\n",
    "    sns.heatmap(cm, annot=True, fmt=\".0f\", linewidths=.5, square = True, cmap = 'Blues_r');\n",
    "    plt.ylabel('Actual label');\n",
    "    plt.xlabel('Predicted label');\n",
    "    all_sample_title = 'Accuracy: {0}'.format(round(metrics.accuracy_score(y_test, predictions),2))\n",
    "    plt.title(all_sample_title, size = 15)\n",
    "    plt.show()\n",
    "    \n",
    "    fpr, tpr, threshold = metrics.roc_curve(y_test, predictions)\n",
    "    roc_auc = metrics.auc(fpr, tpr)\n",
    "\n",
    "    plt.title('Receiver Operating Characteristic')\n",
    "    plt.plot(fpr, tpr, 'b', label = 'AUC = %0.2f' % roc_auc)\n",
    "    plt.legend(loc = 'lower right')\n",
    "    plt.plot([0, 1], [0, 1],'r--')\n",
    "    plt.xlim([0, 1])\n",
    "    plt.ylim([0, 1])\n",
    "    plt.ylabel('True Positive Rate')\n",
    "    plt.xlabel('False Positive Rate')\n",
    "    plt.show()\n",
    "    \n",
    "#Train Model\n",
    "# all parameters not specified are set to their defaults\n",
    "logisticRegr = LogisticRegression()\n",
    "logisticRegr.fit(x_train, y_train)\n",
    "predictions = logisticRegr.predict(x_test)\n",
    "\n",
    "#Output model report\n",
    "model_report(\"Logistic Regression (using only common numeric fields)\",y_test, predictions)"
   ]
  },
  {
   "cell_type": "markdown",
   "metadata": {},
   "source": []
  },
  {
   "cell_type": "code",
   "execution_count": 25,
   "metadata": {},
   "outputs": [],
   "source": [
    "#Create Sparse matrix of words\n",
    "count_vect = TfidfVectorizer()\n",
    "x_train = train_data_master[:3232]['request_text_edit_aware']\n",
    "x_test = train_data_master[3232:]['request_text_edit_aware'] \n",
    "train_features = count_vect.fit_transform(x_train)\n",
    "dev_features = count_vect.transform(x_test)\n",
    "\n",
    "#Reduce the vectorized word feature to small number of numerical components\n",
    "svd_comps = 25 # 25 after some trial and error, this was the best\n",
    "svd = TruncatedSVD(n_components=svd_comps)\n",
    "svd_ft_tr = svd.fit_transform(train_features)\n",
    "svd_ft_dv = svd.fit_transform(dev_features)\n",
    "svd_ft = np.concatenate((svd_ft_tr, svd_ft_dv), axis=0)\n",
    "\n",
    "# add the newly reduced text field feature to the train and test data\n",
    "train_data_SVD = train_data_master.copy(deep = True)\n",
    "for comp in range(svd_comps):\n",
    "    train_data_SVD['SVD'+str(comp)] = svd_ft[:,comp]\n",
    "\n",
    "#Normalize all fields (numeric)\n",
    "min_max_scaler = preprocessing.MinMaxScaler()\n",
    "mn_mx_scaler = min_max_scaler.fit_transform(train_data_SVD.select_dtypes(include = ['float64', 'int64','datetime64[ns]']).apply(pd.to_numeric).values)\n",
    "\n",
    "#Split train and test data\n",
    "x_train, x_test = mn_mx_scaler[:3232], mn_mx_scaler[3232:] \n",
    "y_train, y_test = train_labels_master[:3232].values.ravel(), train_labels_master[3232:].values.ravel()\n"
   ]
  },
  {
   "cell_type": "code",
   "execution_count": 26,
   "metadata": {},
   "outputs": [
    {
     "name": "stdout",
     "output_type": "stream",
     "text": [
      "Logistic Regression (using only common numeric fields)\n",
      "---------\n",
      "             precision    recall  f1-score   support\n",
      "\n",
      "      False       0.76      0.98      0.86       612\n",
      "       True       0.43      0.05      0.09       196\n",
      "\n",
      "avg / total       0.68      0.75      0.67       808\n",
      "\n"
     ]
    },
    {
     "data": {
      "image/png": "[encoded data removed]",
      "text/plain": [
       "<matplotlib.figure.Figure at 0x1a1c246518>"
      ]
     },
     "metadata": {},
     "output_type": "display_data"
    },
    {
     "data": {
      "image/png": "[encoded data removed]",
      "text/plain": [
       "<matplotlib.figure.Figure at 0x1a1c0f5470>"
      ]
     },
     "metadata": {},
     "output_type": "display_data"
    }
   ],
   "source": [
    "# do logistic regression on our new train data\n",
    "\n",
    "def model_report(title, y_test, predictions):\n",
    "\n",
    "    \"\"\"\n",
    "    Output: Classification report, confusion matrix, and ROC curve\n",
    "    \"\"\"\n",
    "    print(title)\n",
    "    print(\"---------\")\n",
    "    print(classification_report(y_test, predictions))\n",
    "\n",
    "    cm = metrics.confusion_matrix(y_test, predictions)\n",
    "    plt.figure(figsize=(3,3))\n",
    "    sns.heatmap(cm, annot=True, fmt=\".0f\", linewidths=.5, square = True, cmap = 'Blues_r');\n",
    "    plt.ylabel('Actual label');\n",
    "    plt.xlabel('Predicted label');\n",
    "    all_sample_title = 'Accuracy: {0}'.format(round(metrics.accuracy_score(y_test, predictions),2))\n",
    "    plt.title(all_sample_title, size = 15)\n",
    "    plt.show()\n",
    "    \n",
    "    fpr, tpr, threshold = metrics.roc_curve(y_test, predictions)\n",
    "    roc_auc = metrics.auc(fpr, tpr)\n",
    "\n",
    "    plt.title('Receiver Operating Characteristic')\n",
    "    plt.plot(fpr, tpr, 'b', label = 'AUC = %0.2f' % roc_auc)\n",
    "    plt.legend(loc = 'lower right')\n",
    "    plt.plot([0, 1], [0, 1],'r--')\n",
    "    plt.xlim([0, 1])\n",
    "    plt.ylim([0, 1])\n",
    "    plt.ylabel('True Positive Rate')\n",
    "    plt.xlabel('False Positive Rate')\n",
    "    plt.show()\n",
    "    \n",
    "#Train Model\n",
    "# all parameters not specified are set to their defaults\n",
    "logisticRegr = LogisticRegression()\n",
    "logisticRegr.fit(x_train, y_train)\n",
    "predictions = logisticRegr.predict(x_test)\n",
    "\n",
    "#Output model report\n",
    "model_report(\"Logistic Regression (using only common numeric fields)\",y_test, predictions)"
   ]
  },
  {
   "cell_type": "markdown",
   "metadata": {},
   "source": [
    "### Results\n",
    "* Reducing the vectorized word feature got us to 0.68 accuracy - the exact same accuracy that Naive Bayes got us. \n",
    "* Reducing all the features (even those not in the test set) got us to 0.74 accuracy - a bit less than the 0.75 accuracy from logistic regression on the features. \n",
    "* Reducing just the features that are shared by train and test sets got us to 0.73 accuracy - even further from the 0.75 accuracy of logistic regression.\n",
    "* Vectorizing the text field, reducing it through SVD to 110 components, adding it to the train data, and running logistic regression again did improve accuracy by small margins.\n",
    "* Tfidf vectorizing the text field before doing the above did not improve the accuracy."
   ]
  },
  {
   "cell_type": "markdown",
   "metadata": {},
   "source": [
    "# Kevin's Misadventures in Feature Imputation\n",
    "EDA and experiments in predicting the features that are included in training data, but missing from test data."
   ]
  },
  {
   "cell_type": "markdown",
   "metadata": {},
   "source": [
    "## Correlation Analysis of Missing Features\n",
    "As identified in the initial EDA, the training data contains a number of features that are not present in the test data (beyond whether or not a pizza was received). We would like to explore whether predicting any of these missing feature values can be used to improve the accuracy of our classification predictions. The first step is examining the relationship between these features and the sucess of the pizza request.\n",
    "Because most of these \"missing\" features are continuous variables, and our success/failure variable is binary, we'll start our exploration by running a Point-Biserial correlation analysis for each feature of interest."
   ]
  },
  {
   "cell_type": "code",
   "execution_count": null,
   "metadata": {},
   "outputs": [],
   "source": [
    "from scipy import stats\n",
    "# List the numeric columns that are in the training data, but not in the test data\n",
    "numeric_cols = ['number_of_downvotes_of_request_at_retrieval',\n",
    "       'number_of_upvotes_of_request_at_retrieval',\n",
    "       'request_number_of_comments_at_retrieval',\n",
    "       'requester_account_age_in_days_at_retrieval',\n",
    "       'requester_days_since_first_post_on_raop_at_retrieval',\n",
    "       'requester_number_of_comments_at_retrieval',\n",
    "       'requester_number_of_comments_in_raop_at_retrieval',\n",
    "       'requester_number_of_posts_at_retrieval',\n",
    "       'requester_number_of_posts_on_raop_at_retrieval',\n",
    "       'requester_upvotes_minus_downvotes_at_retrieval',\n",
    "       'requester_upvotes_plus_downvotes_at_retrieval']\n",
    "\n",
    "# Iterate through the column list and evaluate point-biserial correlation with whether a pizza was received.\n",
    "results = []\n",
    "for col in numeric_cols:\n",
    "    result = stats.pointbiserialr(train[col],train['requester_received_pizza'])\n",
    "    temp = list((col,result[0],result[1]))\n",
    "    results.append(temp)\n",
    "\n",
    "df_corr = pd.DataFrame(results)\n",
    "df_corr.columns = ['Feature Name','Correlation','p-value']\n",
    "df_corr"
   ]
  },
  {
   "cell_type": "markdown",
   "metadata": {},
   "source": [
    "Based on the correlation analysis, most of the \"missing\" features are very weakly correlated with whether the requestor received a pizza. The strongest relationships are with the number of comments on the request (r = 0.289), the number of comments the requestor has made in the RAOP subreddit (r = 0.274), and the number of posts the requestor has made in the RAOP subreddit (r = 0.461). \n",
    "Based on these relationships, we'll isolate these three variables for further analysis."
   ]
  },
  {
   "cell_type": "markdown",
   "metadata": {},
   "source": [
    "## Prediction of Missing Feature Values\n",
    "Attempting to impute missing features using a multioutput random forest regressor."
   ]
  },
  {
   "cell_type": "code",
   "execution_count": null,
   "metadata": {},
   "outputs": [],
   "source": [
    "from sklearn.ensemble import RandomForestRegressor\n",
    "from sklearn.multioutput import MultiOutputRegressor\n",
    "\n",
    "# just the top three\n",
    "#cols_to_impute = ['request_number_of_comments_at_retrieval', 'requester_number_of_comments_in_raop_at_retrieval', 'requester_number_of_posts_on_raop_at_retrieval']\n",
    "\n",
    "# all the features\n",
    "cols_to_impute = ['number_of_downvotes_of_request_at_retrieval','number_of_upvotes_of_request_at_retrieval','request_number_of_comments_at_retrieval','requester_account_age_in_days_at_retrieval','requester_days_since_first_post_on_raop_at_retrieval','requester_number_of_comments_at_retrieval','requester_number_of_comments_in_raop_at_retrieval','requester_number_of_posts_at_retrieval','requester_number_of_posts_on_raop_at_retrieval','requester_upvotes_minus_downvotes_at_retrieval','requester_upvotes_plus_downvotes_at_retrieval']\n",
    "\n",
    "# just the most inaccurage\n",
    "#cols_to_impute = ['requester_number_of_comments_at_retrieval']\n",
    "\n",
    "col_count = 0 # keeps track of new columns to create\n",
    "col_to_add = [] # stores list of columns to add\n",
    "\n",
    "for col_to_predict in cols_to_impute:\n",
    "        \n",
    "    regr_multirf = RandomForestRegressor(max_depth=7,random_state=0)\n",
    "\n",
    "    #cols_to_predict = 'requester_number_of_posts_on_raop_at_retrieval'\n",
    "    impute_train_data = train_data_master.copy(deep = True)\n",
    "    new_col = train[col_to_predict].values.reshape(-1,1)\n",
    "\n",
    "    # impute_train_labels\n",
    "    min_max_scaler = preprocessing.MinMaxScaler()\n",
    "    impute_train_scaled = min_max_scaler.fit_transform(impute_train_data.select_dtypes(include = ['float64', 'int64','datetime64[ns]']).apply(pd.to_numeric).values)\n",
    "    new_col_scaled = min_max_scaler.fit_transform(new_col)\n",
    "    x_impute_train, x_impute_test = impute_train_scaled[:3232], impute_train_scaled[3232:] \n",
    "    y_impute_train = new_col_scaled[:3232]\n",
    "\n",
    "    # y_impute_train.shape                                    \n",
    "    regr_multirf.fit(x_impute_train, y_impute_train.ravel())\n",
    "    predicted_col = regr_multirf.predict(x_impute_test)\n",
    "    predicted_col = predicted_col.reshape(-1,1)\n",
    "    col_to_add.append(np.append(y_impute_train, predicted_col, axis = 0))\n",
    "\n",
    "    col_count += 1\n",
    "\n",
    "# add the newly predicted field feature to the test data\n",
    "min_max_scaler = preprocessing.MinMaxScaler()\n",
    "mn_mx_scaler = min_max_scaler.fit_transform(train_data_SVD.select_dtypes(include = ['float64', 'int64','datetime64[ns]']).apply(pd.to_numeric).values)\n",
    "\n",
    "for i in range(col_count):\n",
    "    mn_mx_scaler = np.append(mn_mx_scaler, col_to_add[i], axis = 1)\n",
    "\n",
    "x_train, x_test = mn_mx_scaler[:3232], mn_mx_scaler[3232:] \n",
    "y_train, y_test = train_labels_master[:3232].values.ravel(), train_labels_master[3232:].values.ravel()\n",
    "\n",
    "#Train Model\n",
    "# all parameters not specified are set to their defaults\n",
    "logisticRegr = LogisticRegression(C = 15)\n",
    "logisticRegr.fit(x_train, y_train)\n",
    "predictions = logisticRegr.predict(x_test)\n",
    "\n",
    "#Output model report\n",
    "model_report(\"Logistic Regression (using only common numeric fields)\",y_test, predictions)\n"
   ]
  },
  {
   "cell_type": "markdown",
   "metadata": {},
   "source": [
    "  "
   ]
  },
  {
   "cell_type": "code",
   "execution_count": null,
   "metadata": {},
   "outputs": [],
   "source": []
  },
  {
   "cell_type": "code",
   "execution_count": null,
   "metadata": {},
   "outputs": [],
   "source": []
  }
 ],
 "metadata": {
  "kernelspec": {
   "display_name": "Python 3",
   "language": "python",
   "name": "python3"
  },
  "language_info": {
   "codemirror_mode": {
    "name": "ipython",
    "version": 3
   },
   "file_extension": ".py",
   "mimetype": "text/x-python",
   "name": "python",
   "nbconvert_exporter": "python",
   "pygments_lexer": "ipython3",
   "version": "3.6.3"
  }
 },
 "nbformat": 4,
 "nbformat_minor": 2
}
