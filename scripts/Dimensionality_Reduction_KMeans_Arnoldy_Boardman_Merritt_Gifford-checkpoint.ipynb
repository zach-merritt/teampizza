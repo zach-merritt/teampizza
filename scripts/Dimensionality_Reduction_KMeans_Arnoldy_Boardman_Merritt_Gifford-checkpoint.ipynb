{
 "cells": [
  {
   "cell_type": "markdown",
   "metadata": {},
   "source": [
    "### Random Acts of Pizza - Baseline Model & EDA\n",
    "## Authors: Ben Arnoldy, Mary Boardman, Zach Merritt, and Kevin Gifford\n",
    "#### Kaggle Competition Description:\n",
    "In machine learning, it is often said there are no free lunches. How wrong we were.\n",
    "\n",
    "This competition contains a dataset with 5671 textual requests for pizza from the Reddit community Random Acts of Pizza together with their outcome (successful/unsuccessful) and meta-data. Participants must create an algorithm capable of predicting which requests will garner a cheesy (but sincere!) act of kindness.\n",
    "\n",
    "\"I'll write a poem, sing a song, do a dance, play an instrument, whatever! I just want a pizza,\" says one hopeful poster. What about making an algorithm?\n",
    "\n",
    "Kaggle is hosting this competition for the machine learning community to use for fun and practice. This data was collected and graciously shared by Althoff et al. (Buy them a pizza -- data collection is a thankless and tedious job!) We encourage participants to explore their accompanying paper and ask that you cite the following reference in any publications that result from your work:\n",
    "\n",
    "Tim Althoff, Cristian Danescu-Niculescu-Mizil, Dan Jurafsky. How to Ask for a Favor: A Case Study on the Success of Altruistic Requests, Proceedings of ICWSM, 2014.\n",
    "_______________________________________________________________________________________________"
   ]
  },
  {
   "cell_type": "markdown",
   "metadata": {},
   "source": [
    "## Notebook Title: EDA & Model Baseline\n",
    "#### Purpose: Load the 'Random Acts of Pizza' train and test data. Conduct an exploratory data analysis to gain an understanding of the data. Create a baseline Logisitic Regression model using non-text (numeric) fields only. "
   ]
  },
  {
   "cell_type": "markdown",
   "metadata": {},
   "source": [
    "## I. Load Data and Modules, Process Data"
   ]
  },
  {
   "cell_type": "markdown",
   "metadata": {},
   "source": [
    "### A. Load Data and Modules"
   ]
  },
  {
   "cell_type": "code",
   "execution_count": 2,
   "metadata": {},
   "outputs": [],
   "source": [
    "import json\n",
    "import pandas as pd\n",
    "import numpy as np\n",
    "import matplotlib as mpl\n",
    "from matplotlib.colors import ListedColormap\n",
    "from matplotlib.colors import LogNorm\n",
    "import matplotlib.pyplot as plt\n",
    "import seaborn as sns\n",
    "from datetime import datetime\n",
    "\n",
    "from subprocess import check_output\n",
    "#from wordcloud import WordCloud, STOPWORDS\n",
    "\n",
    "#ML\n",
    "from sklearn.model_selection import train_test_split\n",
    "from sklearn.linear_model import LogisticRegression\n",
    "from sklearn import metrics\n",
    "from sklearn.metrics import classification_report\n",
    "from sklearn.feature_extraction.text import CountVectorizer\n",
    "from sklearn.naive_bayes import MultinomialNB\n",
    "from sklearn.naive_bayes import BernoulliNB\n",
    "from sklearn import preprocessing\n",
    "from sklearn.preprocessing import StandardScaler\n",
    "from sklearn.preprocessing import Normalizer\n",
    "from sklearn.decomposition import PCA\n",
    "from sklearn.cluster import KMeans\n",
    "from sklearn.mixture import GMM\n",
    "from sklearn.mixture import GaussianMixture\n",
    "\n",
    "from sklearn.decomposition import TruncatedSVD\n",
    "from sklearn.random_projection import sparse_random_matrix\n",
    "\n",
    "from sklearn.feature_extraction.text import TfidfVectorizer\n",
    "from sklearn.cluster import KMeans\n",
    "\n",
    "from sklearn.pipeline import make_pipeline\n",
    "\n",
    "%matplotlib inline\n",
    "plt.style.use('bmh')"
   ]
  },
  {
   "cell_type": "code",
   "execution_count": 3,
   "metadata": {},
   "outputs": [
    {
     "name": "stdout",
     "output_type": "stream",
     "text": [
      "Train Shape: (4040, 32)\n",
      "Test Shape: (1631, 17)\n"
     ]
    }
   ],
   "source": [
    "#1. Train Data\n",
    "with open('../data/train.json') as fin:\n",
    "    trainjson = json.load(fin)\n",
    "train = pd.io.json.json_normalize(trainjson)\n",
    "#2. Test Data\n",
    "with open('../data/test.json') as fin:\n",
    "    testjson = json.load(fin)\n",
    "test = pd.io.json.json_normalize(testjson)\n",
    "\n",
    "print(\"Train Shape:\", train.shape)\n",
    "print(\"Test Shape:\", test.shape)"
   ]
  },
  {
   "cell_type": "markdown",
   "metadata": {},
   "source": [
    "### B1. Find any missing values"
   ]
  },
  {
   "cell_type": "code",
   "execution_count": 4,
   "metadata": {},
   "outputs": [
    {
     "data": {
      "text/plain": [
       "giver_username_if_known                                    0\n",
       "number_of_downvotes_of_request_at_retrieval                0\n",
       "number_of_upvotes_of_request_at_retrieval                  0\n",
       "post_was_edited                                            0\n",
       "request_id                                                 0\n",
       "request_number_of_comments_at_retrieval                    0\n",
       "request_text                                               0\n",
       "request_text_edit_aware                                    0\n",
       "request_title                                              0\n",
       "requester_account_age_in_days_at_request                   0\n",
       "requester_account_age_in_days_at_retrieval                 0\n",
       "requester_days_since_first_post_on_raop_at_request         0\n",
       "requester_days_since_first_post_on_raop_at_retrieval       0\n",
       "requester_number_of_comments_at_request                    0\n",
       "requester_number_of_comments_at_retrieval                  0\n",
       "requester_number_of_comments_in_raop_at_request            0\n",
       "requester_number_of_comments_in_raop_at_retrieval          0\n",
       "requester_number_of_posts_at_request                       0\n",
       "requester_number_of_posts_at_retrieval                     0\n",
       "requester_number_of_posts_on_raop_at_request               0\n",
       "requester_number_of_posts_on_raop_at_retrieval             0\n",
       "requester_number_of_subreddits_at_request                  0\n",
       "requester_received_pizza                                   0\n",
       "requester_subreddits_at_request                            0\n",
       "requester_upvotes_minus_downvotes_at_request               0\n",
       "requester_upvotes_minus_downvotes_at_retrieval             0\n",
       "requester_upvotes_plus_downvotes_at_request                0\n",
       "requester_upvotes_plus_downvotes_at_retrieval              0\n",
       "requester_user_flair                                    3046\n",
       "requester_username                                         0\n",
       "unix_timestamp_of_request                                  0\n",
       "unix_timestamp_of_request_utc                              0\n",
       "dtype: int64"
      ]
     },
     "execution_count": 4,
     "metadata": {},
     "output_type": "execute_result"
    }
   ],
   "source": [
    "train.isnull().sum()"
   ]
  },
  {
   "cell_type": "markdown",
   "metadata": {},
   "source": [
    "No missing data except in column \"requester_user_flair.\" We see in the next section that this isn't a column in the test data, so we may just elect to not use it to train the model."
   ]
  },
  {
   "cell_type": "markdown",
   "metadata": {},
   "source": [
    "### B2. Identify common columns between test and train"
   ]
  },
  {
   "cell_type": "code",
   "execution_count": 5,
   "metadata": {},
   "outputs": [
    {
     "name": "stdout",
     "output_type": "stream",
     "text": [
      "Common columns in train and test:\n",
      "Index(['giver_username_if_known', 'request_id', 'request_text_edit_aware',\n",
      "       'request_title', 'requester_account_age_in_days_at_request',\n",
      "       'requester_days_since_first_post_on_raop_at_request',\n",
      "       'requester_number_of_comments_at_request',\n",
      "       'requester_number_of_comments_in_raop_at_request',\n",
      "       'requester_number_of_posts_at_request',\n",
      "       'requester_number_of_posts_on_raop_at_request',\n",
      "       'requester_number_of_subreddits_at_request',\n",
      "       'requester_subreddits_at_request',\n",
      "       'requester_upvotes_minus_downvotes_at_request',\n",
      "       'requester_upvotes_plus_downvotes_at_request', 'requester_username',\n",
      "       'unix_timestamp_of_request', 'unix_timestamp_of_request_utc'],\n",
      "      dtype='object')\n",
      "----\n",
      "Columns in train but NOT test:\n",
      "Index(['number_of_downvotes_of_request_at_retrieval',\n",
      "       'number_of_upvotes_of_request_at_retrieval', 'post_was_edited',\n",
      "       'request_number_of_comments_at_retrieval', 'request_text',\n",
      "       'requester_account_age_in_days_at_retrieval',\n",
      "       'requester_days_since_first_post_on_raop_at_retrieval',\n",
      "       'requester_number_of_comments_at_retrieval',\n",
      "       'requester_number_of_comments_in_raop_at_retrieval',\n",
      "       'requester_number_of_posts_at_retrieval',\n",
      "       'requester_number_of_posts_on_raop_at_retrieval',\n",
      "       'requester_received_pizza',\n",
      "       'requester_upvotes_minus_downvotes_at_retrieval',\n",
      "       'requester_upvotes_plus_downvotes_at_retrieval',\n",
      "       'requester_user_flair'],\n",
      "      dtype='object')\n"
     ]
    }
   ],
   "source": [
    "print(\"Common columns in train and test:\")\n",
    "print(train.columns[train.columns.isin(test.columns)])\n",
    "print(\"----\")\n",
    "print(\"Columns in train but NOT test:\")\n",
    "print(train.columns[~train.columns.isin(test.columns)])"
   ]
  },
  {
   "cell_type": "markdown",
   "metadata": {},
   "source": [
    "As can be seen above, there is a series of columns in the training data only. These columns reflect data about the post (e.g., the #of upvotes) at the time this Reddit data was retrieved. We use certain supervised and unsupversied techniques to derive value from this data (even though that information is not provided on the data set we will be predicting)."
   ]
  },
  {
   "cell_type": "markdown",
   "metadata": {},
   "source": [
    "### C. Create training data, labels, and special 'in training only' data"
   ]
  },
  {
   "cell_type": "code",
   "execution_count": 6,
   "metadata": {},
   "outputs": [],
   "source": [
    "train_labels_master = train[['requester_received_pizza']]\n",
    "train_data_master = train[test.columns & train.columns]\n",
    "train_only_data_master = train[train.columns[~train.columns.isin(test.columns)]].drop(['requester_received_pizza'], axis = 1)"
   ]
  },
  {
   "cell_type": "code",
   "execution_count": 7,
   "metadata": {},
   "outputs": [
    {
     "name": "stdout",
     "output_type": "stream",
     "text": [
      "(4040, 32) (4040, 17)\n"
     ]
    }
   ],
   "source": [
    "print(train.shape, train_data_master.shape)"
   ]
  },
  {
   "cell_type": "markdown",
   "metadata": {},
   "source": [
    "### D. Set column types and profile"
   ]
  },
  {
   "cell_type": "code",
   "execution_count": 8,
   "metadata": {},
   "outputs": [],
   "source": [
    "train_data_master = train_data_master.assign(\n",
    "    unix_timestamp_of_request = pd.to_datetime(\n",
    "        train_data_master.unix_timestamp_of_request, unit = \"s\"),\n",
    "    unix_timestamp_of_request_utc = pd.to_datetime(\n",
    "        train_data_master.unix_timestamp_of_request_utc, unit = \"s\"))"
   ]
  },
  {
   "cell_type": "code",
   "execution_count": 9,
   "metadata": {},
   "outputs": [
    {
     "name": "stdout",
     "output_type": "stream",
     "text": [
      "<class 'pandas.core.frame.DataFrame'>\n",
      "RangeIndex: 4040 entries, 0 to 4039\n",
      "Data columns (total 17 columns):\n",
      "giver_username_if_known                               4040 non-null object\n",
      "request_id                                            4040 non-null object\n",
      "request_text_edit_aware                               4040 non-null object\n",
      "request_title                                         4040 non-null object\n",
      "requester_account_age_in_days_at_request              4040 non-null float64\n",
      "requester_days_since_first_post_on_raop_at_request    4040 non-null float64\n",
      "requester_number_of_comments_at_request               4040 non-null int64\n",
      "requester_number_of_comments_in_raop_at_request       4040 non-null int64\n",
      "requester_number_of_posts_at_request                  4040 non-null int64\n",
      "requester_number_of_posts_on_raop_at_request          4040 non-null int64\n",
      "requester_number_of_subreddits_at_request             4040 non-null int64\n",
      "requester_subreddits_at_request                       4040 non-null object\n",
      "requester_upvotes_minus_downvotes_at_request          4040 non-null int64\n",
      "requester_upvotes_plus_downvotes_at_request           4040 non-null int64\n",
      "requester_username                                    4040 non-null object\n",
      "unix_timestamp_of_request                             4040 non-null datetime64[ns]\n",
      "unix_timestamp_of_request_utc                         4040 non-null datetime64[ns]\n",
      "dtypes: datetime64[ns](2), float64(2), int64(7), object(6)\n",
      "memory usage: 536.6+ KB\n"
     ]
    }
   ],
   "source": [
    "train_data_master.describe()\n",
    "train_data_master.info()"
   ]
  },
  {
   "cell_type": "markdown",
   "metadata": {},
   "source": [
    "## V. Dimensionality Reduction"
   ]
  },
  {
   "cell_type": "code",
   "execution_count": 10,
   "metadata": {},
   "outputs": [
    {
     "name": "stdout",
     "output_type": "stream",
     "text": [
      "[0.03138498]\n",
      "[0.03209857 0.03188208]\n",
      "[0.0314305  0.03187189 0.03201523]\n",
      "[0.03036059 0.03204287 0.030371   0.02879782]\n",
      "[0.03225132 0.0307673  0.02646706 0.03224358 0.03201863]\n",
      "[0.03194084 0.03191155 0.0304465  0.03217745 0.03218733 0.02959939]\n",
      "[0.03027928 0.02736622 0.03186674 0.03222764 0.03224499 0.02908822\n",
      " 0.03160003]\n",
      "[0.03210564 0.03199955 0.03166665 0.03190355 0.03197448 0.0317431\n",
      " 0.03171923 0.02600609]\n",
      "[0.03219905 0.03000504 0.03177525 0.02854779 0.03087211 0.03211409\n",
      " 0.03135527 0.03148649 0.03219173]\n",
      "[0.02922952 0.03075146 0.03167535 0.0314946  0.03089212 0.03221883\n",
      " 0.03213757 0.03172929 0.03181736 0.03101864]\n",
      "[0.03117894 0.03153456 0.03216305 0.02924029 0.03224369 0.03224669\n",
      " 0.03124648 0.03163697 0.0313828  0.03150768 0.02986984]\n",
      "[0.03214674 0.03225801 0.03062501 0.03059105 0.02996393 0.03189647\n",
      " 0.02854787 0.0307423  0.03179227 0.0276282  0.03207171 0.03141743]\n",
      "[0.0311129  0.03107723 0.03198548 0.0292583  0.03161111 0.0297036\n",
      " 0.03203655 0.03223732 0.03202751 0.03180424 0.03218313 0.03215651\n",
      " 0.03176501]\n",
      "[0.02993758 0.03075403 0.03222721 0.03003135 0.032244   0.03023904\n",
      " 0.03013124 0.03220673 0.03143165 0.03215612 0.03202189 0.03017208\n",
      " 0.02285155 0.03004084]\n",
      "[0.03127891 0.03222593 0.03178419 0.03021527 0.03214083 0.02755458\n",
      " 0.03223565 0.03109713 0.02984124 0.03017555 0.03138996 0.03183972\n",
      " 0.03225396 0.03219415 0.03175911]\n",
      "[0.03187925 0.03200947 0.03166232 0.02657356 0.03161634 0.03157493\n",
      " 0.03225765 0.03018384 0.03149602 0.03145799 0.03215853 0.03223694\n",
      " 0.03225342 0.03219033 0.03207409 0.028008  ]\n",
      "[0.02843704 0.02882071 0.0317327  0.03209568 0.03151605 0.03221401\n",
      " 0.03223994 0.03154945 0.03160344 0.03123457 0.03200674 0.02936335\n",
      " 0.0321388  0.02724652 0.0321056  0.03186179 0.03103861]\n",
      "[0.0316748  0.03198211 0.03202699 0.0322247  0.03211424 0.03199142\n",
      " 0.03016421 0.02722938 0.03215093 0.03225555 0.03224717 0.03172789\n",
      " 0.03224995 0.02991316 0.03039443 0.02832805 0.03095475 0.03063584]\n",
      "[0.03195528 0.03211919 0.02797682 0.03196517 0.02660476 0.03173675\n",
      " 0.03054099 0.03197857 0.03211516 0.03192952 0.03198346 0.02843508\n",
      " 0.03138441 0.03168564 0.03211199 0.03170169 0.03225065 0.03003968\n",
      " 0.03155059]\n",
      "[0.03158153 0.03114444 0.03200513 0.03225789 0.03155168 0.03221764\n",
      " 0.0297876  0.03095587 0.03222122 0.03224678 0.03122168 0.03222014\n",
      " 0.03188502 0.03103637 0.03210012 0.03217707 0.02760982 0.03188213\n",
      " 0.03178454 0.03170351]\n",
      "[0.0322434  0.03225411 0.03189854 0.03179307 0.03180544 0.03224063\n",
      " 0.02356749 0.03212385 0.02838043 0.03197324 0.03225476 0.03225781\n",
      " 0.031016   0.02820467 0.03225346 0.03206008 0.03224276 0.03223471\n",
      " 0.03128522 0.03173779 0.03179629]\n",
      "[0.03217181 0.0321285  0.03225806 0.0317309  0.03150418 0.03148538\n",
      " 0.02912433 0.03225064 0.0322148  0.03212961 0.03186104 0.03174559\n",
      " 0.03202748 0.0318236  0.03038063 0.03225802 0.02369779 0.03208842\n",
      " 0.03182379 0.03101669 0.03222898 0.03136456]\n",
      "[0.03110851 0.03065846 0.0292798  0.03197191 0.03214534 0.03199721\n",
      " 0.03203051 0.0322321  0.03086649 0.03192334 0.03119742 0.03125265\n",
      " 0.03210404 0.03213898 0.03187745 0.03100737 0.02803708 0.02991487\n",
      " 0.03215236 0.03112286 0.03178088 0.03105992 0.03191325]\n",
      "[0.03010503 0.03222382 0.03199875 0.03221667 0.03086008 0.03210916\n",
      " 0.03224947 0.03208896 0.03213452 0.03125    0.03204634 0.03174931\n",
      " 0.03224081 0.03210452 0.03224356 0.03077244 0.03116907 0.0317487\n",
      " 0.03197545 0.03181966 0.02929113 0.03225633 0.02703257 0.03126125]\n",
      "[0.03223496 0.03033873 0.03192683 0.03174206 0.03123018 0.03194231\n",
      " 0.03150255 0.03156497 0.03006769 0.03115572 0.03204507 0.03125\n",
      " 0.0322538  0.03222725 0.03225338 0.03225601 0.03119485 0.03208109\n",
      " 0.03179716 0.02480573 0.03217227 0.03221543 0.02990085 0.03079585\n",
      " 0.03225764]\n",
      "[0.03218648 0.03124176 0.03135617 0.03017383 0.03208907 0.03120691\n",
      " 0.03133305 0.03210968 0.03171736 0.03212105 0.03220595 0.03123413\n",
      " 0.03213611 0.03183138 0.03221635 0.0321913  0.03045208 0.03151664\n",
      " 0.03225782 0.03095115 0.03030679 0.03074203 0.02905186 0.03174875\n",
      " 0.02960703 0.03199292]\n",
      "[0.03225464 0.03116799 0.02778229 0.03144362 0.03151091 0.03078562\n",
      " 0.03207126 0.03137735 0.0316423  0.03198809 0.03225769 0.03196361\n",
      " 0.0316107  0.03214566 0.03069326 0.02985275 0.03135148 0.03224595\n",
      " 0.03184198 0.03177948 0.02985851 0.0312392  0.03222926 0.03157915\n",
      " 0.03145527 0.03070769 0.02956479]\n",
      "[0.03158083 0.03225767 0.03039788 0.03210604 0.03214712 0.03224026\n",
      " 0.03223392 0.0317256  0.02794285 0.03212434 0.03112837 0.0319387\n",
      " 0.03225055 0.03210452 0.03225762 0.03224697 0.0301044  0.03210246\n",
      " 0.02426851 0.03172987 0.02894215 0.02931281 0.03224117 0.03125\n",
      " 0.02891051 0.03210071 0.03189187 0.03207673]\n",
      "[0.03148949 0.03202099 0.03224538 0.02912278 0.03225356 0.02871208\n",
      " 0.03150861 0.03166431 0.03030108 0.03220182 0.03223187 0.03182693\n",
      " 0.03149091 0.0278222  0.0322481  0.03225285 0.03222726 0.03189369\n",
      " 0.03223312 0.03225644 0.03206664 0.03220023 0.03168427 0.03125\n",
      " 0.03146604 0.03170307 0.03165665 0.03207189 0.03199619]\n",
      "[0.02900091 0.02920077 0.03046859 0.03196244 0.03143718 0.03117994\n",
      " 0.02767015 0.03083252 0.03208151 0.03201589 0.03203631 0.03181208\n",
      " 0.03225725 0.03220133 0.03062715 0.03110543 0.03164146 0.03223992\n",
      " 0.02919981 0.03057874 0.03224859 0.03222261 0.02892144 0.03216037\n",
      " 0.03206644 0.03200024 0.03153798 0.03125    0.03198367 0.03205316]\n",
      "[0.02748151 0.03166488 0.03068518 0.03193719 0.03143474 0.03098587\n",
      " 0.02966381 0.02857081 0.03225581 0.03194115 0.02889823 0.03220777\n",
      " 0.03186709 0.03168207 0.03172256 0.03023482 0.03160032 0.031121\n",
      " 0.03145428 0.03225175 0.03113451 0.03211797 0.02972217 0.03176132\n",
      " 0.03225042 0.03224203 0.03225625 0.03219888 0.03125    0.03221957\n",
      " 0.03207816]\n"
     ]
    }
   ],
   "source": [
    "# Ben: I think there's a flaw here, see next module that overwrites this vectorization.\n",
    "\n",
    "# Use a CountVectorizer to vectorize the data, since it is text-based\n",
    "vectorizer = CountVectorizer()\n",
    "vtrain = vectorizer.fit_transform(train)\n",
    "vtest = vectorizer.fit_transform(test)\n",
    "\n",
    "# Since PCA does not work for a sparse matrix, we are using Truncated SVD instead for dimensionality reduction\n",
    "for i in range (1, 32):\n",
    "    svd = TruncatedSVD(n_components = i)\n",
    "    svd.fit(vtrain)\n",
    "    print(svd.explained_variance_ratio_)"
   ]
  },
  {
   "cell_type": "markdown",
   "metadata": {},
   "source": [
    "### A. Creating Dimension-Reduced Data Sets with Number of Components 2-6"
   ]
  },
  {
   "cell_type": "code",
   "execution_count": 11,
   "metadata": {},
   "outputs": [
    {
     "name": "stdout",
     "output_type": "stream",
     "text": [
      "[0.03223895 0.03174507]\n",
      "[0.03217372 0.03209758 0.03122428]\n",
      "[0.03141069 0.02858056 0.03202874 0.0313197 ]\n",
      "[0.03169263 0.03207857 0.03224804 0.03059673 0.03223748]\n",
      "[0.03022447 0.03209137 0.02760215 0.03013743 0.03203571 0.03218015]\n"
     ]
    }
   ],
   "source": [
    "# Instead of a for-loop, we created separate data sets, using separate variables for each. \n",
    "\n",
    "svd_2 = TruncatedSVD(n_components = 2)\n",
    "vtrain_2 = svd_2.fit(vtrain)\n",
    "print(svd_2.explained_variance_ratio_)\n",
    "\n",
    "svd_3 = TruncatedSVD(n_components = 3)\n",
    "vtrain_3 = svd_3.fit(vtrain)\n",
    "print(svd_3.explained_variance_ratio_)\n",
    "\n",
    "svd_4 = TruncatedSVD(n_components = 4)\n",
    "vtrain_4 = svd_4.fit(vtrain)\n",
    "print(svd_4.explained_variance_ratio_)\n",
    "\n",
    "svd_5 = TruncatedSVD(n_components = 5)\n",
    "vtrain_5 = svd_5.fit(vtrain)\n",
    "print(svd_5.explained_variance_ratio_)\n",
    "\n",
    "svd_6 = TruncatedSVD(n_components = 6)\n",
    "vtrain_6 = svd_6.fit(vtrain)\n",
    "print(svd_6.explained_variance_ratio_)"
   ]
  },
  {
   "cell_type": "markdown",
   "metadata": {},
   "source": [
    "### B. K-Means"
   ]
  },
  {
   "cell_type": "code",
   "execution_count": 12,
   "metadata": {},
   "outputs": [
    {
     "name": "stdout",
     "output_type": "stream",
     "text": [
      "[-31.0, -30.967741935483893, -30.93333333333331, -30.896551724137915, -29.892857142857153, -29.85185185185184, -30.769230769230745, -29.76000000000002, -28.74999999999999, -28.695652173913032, -25.772727272727266, -25.714285714285715, -28.499999999999986, -9.473684210526317, -22.666666666666657, -23.529411764705884, -22.5, -8.4, -21.35714285714285, -9.230769230769232]\n",
      "[-39.580728648313595, -27.47908079057626, -6.85566023503168, -5.079853335562915, -1.7101849361402204, -1.9439204193038009, -1.9349016447096268, -1.0005373831398041, -0.6108824219030199, -0.23921139942416425, -0.35129807926475753, -0.26320617161821747, -0.0780098784609794, -0.274638071507037, -0.1477749424253184, -0.07428577664149516, -0.06957708461655876, -0.04157160184955744, -0.02138486958604413, -0.02430640683726093]\n",
      "[-46.82368194022074, -28.08717098869759, -14.422237450690645, -13.184753134887009, -8.755645264756616, -8.657042198378262, -6.4541303297204555, -1.1720906603632268, -1.2776123780037654, -3.6587634268194362, -3.77875813908919, -2.5334517154553677, -1.7534681292348422, -1.0698136051101845, -1.666727910961097, -1.3403361508953382, -0.8496808596903754, -0.5543234861352818, -0.6462483070650477, -0.28580032925101995]\n",
      "[-28.68663073940802, -12.8042326229747, -25.44845055890979, -14.559681732507736, -9.56725739030676, -16.240242180154418, -8.5426821470685, -7.1731245068981035, -7.171682207458511, -6.290538399903941, -6.56128244156614, -3.306952287686783, -4.038377275512004, -3.941202038187154, -2.7041466824074174, -3.0694654620837514, -2.5293715906530787, -2.0177006403148816, -1.2577504939210193, -1.3119219786318954]\n",
      "[-36.59939216553056, -32.417382173834824, -27.610341202062195, -16.86350354702289, -16.051413400670913, -15.864695193426769, -16.3428342858631, -14.524515325608307, -12.407369374860908, -8.990092866041746, -7.422833677254088, -8.981057552047137, -7.264105060482224, -7.621346347879799, -5.034603036451539, -3.3256652738463117, -3.9219560181992446, -3.993008146913123, -3.1203943000868977, -2.517664590350135]\n",
      "[-22.900161578268573, -16.183817736163164, -15.1041473374633, -22.81933379824668, -13.044692447645087, -14.150524728641003, -12.590606753196184, -11.158328417125794, -8.97317303260132, -5.908280449545369, -4.10718700731354, -9.001285872836965, -7.408624629214439, -7.003256909785132, -5.357428570660277, -2.5012306614838167, -5.357172846592103, -3.903829538665882, -3.5658317112512488, -3.6930541177700418]\n"
     ]
    }
   ],
   "source": [
    "raw_score = []\n",
    "for i in range(1,21):\n",
    "    kmeans_raw = KMeans(n_clusters=i, init='k-means++', max_iter=100, n_init=1, verbose=False)\n",
    "    kmeans_raw.fit(vtrain)\n",
    "    y_hat_kmeans_raw = kmeans_raw.predict(vtrain)\n",
    "    centers = kmeans_raw.cluster_centers_\n",
    "#     print('The KMeans score for the raw data, using',i,'clusters is:',kmeans_raw.score(vtrain[y_hat_kmeans_raw]))\n",
    "    raw_score.append(kmeans_raw.score(vtrain[y_hat_kmeans_raw]))\n",
    "print(raw_score)\n",
    "\n",
    "svd_2 = TruncatedSVD(n_components = 2)\n",
    "normalizer = Normalizer(copy=False)\n",
    "lsa_2 = make_pipeline(svd_2, normalizer)\n",
    "vtrain_lsa2 = lsa_2.fit_transform(vtrain)\n",
    "\n",
    "score_2 = []\n",
    "for i in range(1,21):\n",
    "    kmeans2 = KMeans(n_clusters=i, init='k-means++', max_iter=100, n_init=1, verbose=False)\n",
    "    kmeans2.fit(vtrain_lsa2)\n",
    "    y_hat_kmeans2 = kmeans2.predict(vtrain_lsa2)\n",
    "    centers = kmeans2.cluster_centers_\n",
    "#     print('The KMeans score for the truncated, 2 component data, using',i,'clusters is:',\n",
    "#           kmeans2.score(vtrain_lsa2[y_hat_kmeans]))\n",
    "    score_2.append(kmeans2.score(vtrain_lsa2[y_hat_kmeans2]))\n",
    "print(score_2)\n",
    "\n",
    "svd_3 = TruncatedSVD(n_components = 3)\n",
    "normalizer = Normalizer(copy=False)\n",
    "lsa_3 = make_pipeline(svd_3, normalizer)\n",
    "vtrain_lsa3 = lsa_3.fit_transform(vtrain)\n",
    "\n",
    "score_3 = []\n",
    "for i in range(1,21):\n",
    "    kmeans3 = KMeans(n_clusters=i, init='k-means++', max_iter=100, n_init=1, verbose=False)\n",
    "    kmeans3.fit(vtrain_lsa3)\n",
    "    y_hat_kmeans3 = kmeans3.predict(vtrain_lsa3)\n",
    "    centers = kmeans3.cluster_centers_\n",
    "#     print('The KMeans score for the truncated, 3 component data, using',i,'clusters is:',\n",
    "#           kmeans3.score(vtrain_lsa3[y_hat_kmeans3]))\n",
    "    score_3.append(kmeans3.score(vtrain_lsa3[y_hat_kmeans3]))\n",
    "print(score_3)\n",
    "\n",
    "svd_4 = TruncatedSVD(n_components = 4)\n",
    "normalizer = Normalizer(copy=False)\n",
    "lsa_4 = make_pipeline(svd_4, normalizer)\n",
    "vtrain_lsa4 = lsa_4.fit_transform(vtrain)\n",
    "\n",
    "score_4 = []\n",
    "for i in range(1,21):\n",
    "    kmeans4 = KMeans(n_clusters=i, init='k-means++', max_iter=100, n_init=1, verbose=False)\n",
    "    kmeans4.fit(vtrain_lsa4)\n",
    "    y_hat_kmeans4 = kmeans4.predict(vtrain_lsa4)\n",
    "    centers = kmeans4.cluster_centers_\n",
    "#     print('The KMeans score for the truncated, 4 component data, using',i,'clusters is:',\n",
    "#           kmeans4.score(vtrain_lsa4[y_hat_kmeans4]))\n",
    "    score_4.append(kmeans4.score(vtrain_lsa4[y_hat_kmeans4]))\n",
    "print(score_4)\n",
    "\n",
    "svd_5 = TruncatedSVD(n_components = 5)\n",
    "normalizer = Normalizer(copy=False)\n",
    "lsa_5 = make_pipeline(svd_5, normalizer)\n",
    "vtrain_lsa5 = lsa_5.fit_transform(vtrain)\n",
    "\n",
    "score_5 = []\n",
    "for i in range(1,21):\n",
    "    kmeans5 = KMeans(n_clusters=i, init='k-means++', max_iter=100, n_init=1, verbose=False)\n",
    "    kmeans5.fit(vtrain_lsa5)\n",
    "    y_hat_kmeans5 = kmeans5.predict(vtrain_lsa5)\n",
    "    centers = kmeans5.cluster_centers_\n",
    "#     print('The KMeans score for the truncated, 5 component data, using',i,'clusters is:',\n",
    "#           kmeans5.score(vtrain_lsa5[y_hat_kmeans5]))\n",
    "    score_5.append(kmeans5.score(vtrain_lsa5[y_hat_kmeans5]))\n",
    "print(score_5)\n",
    "\n",
    "svd_6 = TruncatedSVD(n_components = 6)\n",
    "normalizer = Normalizer(copy=False)\n",
    "lsa_6 = make_pipeline(svd_6, normalizer)\n",
    "vtrain_lsa6 = lsa_6.fit_transform(vtrain)\n",
    "\n",
    "score_6 = []\n",
    "for i in range(1,21):\n",
    "    kmeans6 = KMeans(n_clusters=i, init='k-means++', max_iter=100, n_init=1, verbose=False)\n",
    "    kmeans6.fit(vtrain_lsa6)\n",
    "    y_hat_kmeans6 = kmeans6.predict(vtrain_lsa6)\n",
    "    centers = kmeans6.cluster_centers_\n",
    "#     print('The KMeans score for the truncated, 6 component data, using',i,'clusters is:',\n",
    "#           kmeans5.score(vtrain_lsa6[y_hat_kmeans6]))\n",
    "    score_6.append(kmeans6.score(vtrain_lsa6[y_hat_kmeans6]))\n",
    "print(score_6)\n",
    "\n",
    "# # The plot below wasn't doing much for me\n",
    "# fig = plt.figure(0,figsize=(32,32))\n",
    "# ax = fig.add_subplot(4,4,2)\n",
    "\n",
    "# # Draw the plots\n",
    "# ax.scatter(vtrain_lsa2[:, 0], vtrain_lsa2[:, 1], s=1, c=y_hat_kmeans)\n",
    "# ax.scatter(centers[:, 0], centers[:, 1], c='red', s=50, alpha=0.6)\n",
    "# ax.grid()"
   ]
  },
  {
   "cell_type": "markdown",
   "metadata": {},
   "source": [
    "### C. Gaussian Mixture Model"
   ]
  },
  {
   "cell_type": "code",
   "execution_count": 13,
   "metadata": {},
   "outputs": [
    {
     "data": {
      "text/plain": [
       "array([-2.22498046, -3.1690559 , -1.72481282, -2.89351543, -1.69310081,\n",
       "       -2.58283211, -1.92116459, -1.91667693, -1.86901486, -3.06743959,\n",
       "       -1.74126091, -2.17753774, -2.21583986, -1.93977023, -3.01200863,\n",
       "       -3.15435327, -1.7854213 ])"
      ]
     },
     "execution_count": 13,
     "metadata": {},
     "output_type": "execute_result"
    }
   ],
   "source": [
    "# The model using the raw data fit the train data, but wouldn't predict the test data, as it wasn't the right shape. \n",
    "# I think this goes back to the different dimensionality between the two data sets. \n",
    "# vtraind = vtrain.toarray()\n",
    "# vtestd = vtest.toarray()\n",
    "# gmm = GaussianMixture()\n",
    "# gmm.fit(vtraind)\n",
    "# gmm.predict(vtestd)\n",
    "\n",
    "svd_2 = TruncatedSVD(n_components = 2)\n",
    "normalizer = Normalizer(copy=False)\n",
    "lsa_2 = make_pipeline(svd_2, normalizer)\n",
    "vtrain_lsa2 = lsa_2.fit_transform(vtrain)\n",
    "\n",
    "svd_2_test = TruncatedSVD(n_components = 2)\n",
    "normalizer = Normalizer(copy=False)\n",
    "lsa_2_test = make_pipeline(svd_2_test, normalizer)\n",
    "vtest_lsa2 = lsa_2_test.fit_transform(vtest)\n",
    "\n",
    "gmm2 = GaussianMixture()\n",
    "gmm2.fit(vtrain_lsa2)\n",
    "gmm2.score_samples(vtest_lsa2)"
   ]
  },
  {
   "cell_type": "code",
   "execution_count": 14,
   "metadata": {},
   "outputs": [
    {
     "ename": "ValueError",
     "evalue": "Input contains NaN, infinity or a value too large for dtype('float64').",
     "output_type": "error",
     "traceback": [
      "\u001b[1;31m---------------------------------------------------------------------------\u001b[0m",
      "\u001b[1;31mValueError\u001b[0m                                Traceback (most recent call last)",
      "\u001b[1;32m<ipython-input-14-21e9fc05979d>\u001b[0m in \u001b[0;36m<module>\u001b[1;34m()\u001b[0m\n\u001b[0;32m      2\u001b[0m \u001b[0mp2pos\u001b[0m \u001b[1;33m=\u001b[0m \u001b[0mtrain\u001b[0m\u001b[1;33m[\u001b[0m\u001b[0mtrain_labels_master\u001b[0m \u001b[1;33m==\u001b[0m \u001b[1;36m1\u001b[0m\u001b[1;33m]\u001b[0m\u001b[1;33m\u001b[0m\u001b[0m\n\u001b[0;32m      3\u001b[0m \u001b[0mpos\u001b[0m \u001b[1;33m=\u001b[0m \u001b[0mGaussianMixture\u001b[0m\u001b[1;33m(\u001b[0m\u001b[0mn_components\u001b[0m\u001b[1;33m=\u001b[0m\u001b[1;36m4\u001b[0m\u001b[1;33m,\u001b[0m \u001b[0mcovariance_type\u001b[0m\u001b[1;33m=\u001b[0m\u001b[1;34m'full'\u001b[0m\u001b[1;33m)\u001b[0m\u001b[1;33m\u001b[0m\u001b[0m\n\u001b[1;32m----> 4\u001b[1;33m \u001b[0mpos\u001b[0m\u001b[1;33m.\u001b[0m\u001b[0mfit\u001b[0m\u001b[1;33m(\u001b[0m\u001b[0mp2pos\u001b[0m\u001b[1;33m)\u001b[0m\u001b[1;33m\u001b[0m\u001b[0m\n\u001b[0m\u001b[0;32m      5\u001b[0m \u001b[1;33m\u001b[0m\u001b[0m\n\u001b[0;32m      6\u001b[0m \u001b[1;31m# Separate out the train data with negative labels, fit the GMM model\u001b[0m\u001b[1;33m\u001b[0m\u001b[1;33m\u001b[0m\u001b[0m\n",
      "\u001b[1;32m~\\Anaconda3\\lib\\site-packages\\sklearn\\mixture\\base.py\u001b[0m in \u001b[0;36mfit\u001b[1;34m(self, X, y)\u001b[0m\n\u001b[0;32m    188\u001b[0m         \u001b[0mself\u001b[0m\u001b[1;33m\u001b[0m\u001b[0m\n\u001b[0;32m    189\u001b[0m         \"\"\"\n\u001b[1;32m--> 190\u001b[1;33m         \u001b[0mX\u001b[0m \u001b[1;33m=\u001b[0m \u001b[0m_check_X\u001b[0m\u001b[1;33m(\u001b[0m\u001b[0mX\u001b[0m\u001b[1;33m,\u001b[0m \u001b[0mself\u001b[0m\u001b[1;33m.\u001b[0m\u001b[0mn_components\u001b[0m\u001b[1;33m)\u001b[0m\u001b[1;33m\u001b[0m\u001b[0m\n\u001b[0m\u001b[0;32m    191\u001b[0m         \u001b[0mself\u001b[0m\u001b[1;33m.\u001b[0m\u001b[0m_check_initial_parameters\u001b[0m\u001b[1;33m(\u001b[0m\u001b[0mX\u001b[0m\u001b[1;33m)\u001b[0m\u001b[1;33m\u001b[0m\u001b[0m\n\u001b[0;32m    192\u001b[0m \u001b[1;33m\u001b[0m\u001b[0m\n",
      "\u001b[1;32m~\\Anaconda3\\lib\\site-packages\\sklearn\\mixture\\base.py\u001b[0m in \u001b[0;36m_check_X\u001b[1;34m(X, n_components, n_features)\u001b[0m\n\u001b[0;32m     52\u001b[0m     \u001b[0mX\u001b[0m \u001b[1;33m:\u001b[0m \u001b[0marray\u001b[0m\u001b[1;33m,\u001b[0m \u001b[0mshape\u001b[0m \u001b[1;33m(\u001b[0m\u001b[0mn_samples\u001b[0m\u001b[1;33m,\u001b[0m \u001b[0mn_features\u001b[0m\u001b[1;33m)\u001b[0m\u001b[1;33m\u001b[0m\u001b[0m\n\u001b[0;32m     53\u001b[0m     \"\"\"\n\u001b[1;32m---> 54\u001b[1;33m     \u001b[0mX\u001b[0m \u001b[1;33m=\u001b[0m \u001b[0mcheck_array\u001b[0m\u001b[1;33m(\u001b[0m\u001b[0mX\u001b[0m\u001b[1;33m,\u001b[0m \u001b[0mdtype\u001b[0m\u001b[1;33m=\u001b[0m\u001b[1;33m[\u001b[0m\u001b[0mnp\u001b[0m\u001b[1;33m.\u001b[0m\u001b[0mfloat64\u001b[0m\u001b[1;33m,\u001b[0m \u001b[0mnp\u001b[0m\u001b[1;33m.\u001b[0m\u001b[0mfloat32\u001b[0m\u001b[1;33m]\u001b[0m\u001b[1;33m)\u001b[0m\u001b[1;33m\u001b[0m\u001b[0m\n\u001b[0m\u001b[0;32m     55\u001b[0m     \u001b[1;32mif\u001b[0m \u001b[0mn_components\u001b[0m \u001b[1;32mis\u001b[0m \u001b[1;32mnot\u001b[0m \u001b[1;32mNone\u001b[0m \u001b[1;32mand\u001b[0m \u001b[0mX\u001b[0m\u001b[1;33m.\u001b[0m\u001b[0mshape\u001b[0m\u001b[1;33m[\u001b[0m\u001b[1;36m0\u001b[0m\u001b[1;33m]\u001b[0m \u001b[1;33m<\u001b[0m \u001b[0mn_components\u001b[0m\u001b[1;33m:\u001b[0m\u001b[1;33m\u001b[0m\u001b[0m\n\u001b[0;32m     56\u001b[0m         raise ValueError('Expected n_samples >= n_components '\n",
      "\u001b[1;32m~\\Anaconda3\\lib\\site-packages\\sklearn\\utils\\validation.py\u001b[0m in \u001b[0;36mcheck_array\u001b[1;34m(array, accept_sparse, dtype, order, copy, force_all_finite, ensure_2d, allow_nd, ensure_min_samples, ensure_min_features, warn_on_dtype, estimator)\u001b[0m\n\u001b[0;32m    451\u001b[0m                              % (array.ndim, estimator_name))\n\u001b[0;32m    452\u001b[0m         \u001b[1;32mif\u001b[0m \u001b[0mforce_all_finite\u001b[0m\u001b[1;33m:\u001b[0m\u001b[1;33m\u001b[0m\u001b[0m\n\u001b[1;32m--> 453\u001b[1;33m             \u001b[0m_assert_all_finite\u001b[0m\u001b[1;33m(\u001b[0m\u001b[0marray\u001b[0m\u001b[1;33m)\u001b[0m\u001b[1;33m\u001b[0m\u001b[0m\n\u001b[0m\u001b[0;32m    454\u001b[0m \u001b[1;33m\u001b[0m\u001b[0m\n\u001b[0;32m    455\u001b[0m     \u001b[0mshape_repr\u001b[0m \u001b[1;33m=\u001b[0m \u001b[0m_shape_repr\u001b[0m\u001b[1;33m(\u001b[0m\u001b[0marray\u001b[0m\u001b[1;33m.\u001b[0m\u001b[0mshape\u001b[0m\u001b[1;33m)\u001b[0m\u001b[1;33m\u001b[0m\u001b[0m\n",
      "\u001b[1;32m~\\Anaconda3\\lib\\site-packages\\sklearn\\utils\\validation.py\u001b[0m in \u001b[0;36m_assert_all_finite\u001b[1;34m(X)\u001b[0m\n\u001b[0;32m     42\u001b[0m             and not np.isfinite(X).all()):\n\u001b[0;32m     43\u001b[0m         raise ValueError(\"Input contains NaN, infinity\"\n\u001b[1;32m---> 44\u001b[1;33m                          \" or a value too large for %r.\" % X.dtype)\n\u001b[0m\u001b[0;32m     45\u001b[0m \u001b[1;33m\u001b[0m\u001b[0m\n\u001b[0;32m     46\u001b[0m \u001b[1;33m\u001b[0m\u001b[0m\n",
      "\u001b[1;31mValueError\u001b[0m: Input contains NaN, infinity or a value too large for dtype('float64')."
     ]
    }
   ],
   "source": [
    "# Separate out the train data with positive labels, fit the GMM model\n",
    "p2pos = train[train_labels_master == 1]\n",
    "pos = GaussianMixture(n_components=4, covariance_type='full')\n",
    "pos.fit(p2pos)\n",
    "\n",
    "# Separate out the train data with negative labels, fit the GMM model    \n",
    "p2neg = train[train_labels_master != 1]    \n",
    "neg = GaussianMixture(n_components=4, covariance_type='full')\n",
    "neg.fit(p2neg)\n",
    "\n",
    "# Fit the test data to both models\n",
    "wlprob_pos = pos.score_samples(test)\n",
    "wlprob_neg = neg.score_samples(test)\n",
    "\n",
    "# Create an array that picks the winner from each prediction \n",
    "pred_test_labels = np.array(wlprob_pos > wlprob_neg).astype(int)\n",
    "\n",
    "# Calculate the accuracy to 6 decimal places, print it out\n",
    "accuracy = np.round(np.mean(pred_test_labels == test_labels), 6)   \n",
    "print('The accuracy of this model is:', accuracy)"
   ]
  },
  {
   "cell_type": "markdown",
   "metadata": {},
   "source": [
    "# Ben's fix attempt\n",
    "I've opted to do this in separate cells just in case I royally screw up."
   ]
  },
  {
   "cell_type": "markdown",
   "metadata": {},
   "source": [
    "### Redo of Vectorizer"
   ]
  },
  {
   "cell_type": "code",
   "execution_count": 28,
   "metadata": {},
   "outputs": [],
   "source": [
    "# I believe we cannot just vectorize the train data because the text-based data\n",
    "# is held within one specific feature called request_test_edit_aware.\n",
    "# Below I repurposed some of Zach's code to vectorize\n",
    "\n",
    "#Create Sparse matrix of words\n",
    "count_vect = CountVectorizer()\n",
    "\n",
    "#Split train and test data\n",
    "x_train_text, x_test_text, y_train, y_test = train_test_split(\n",
    "    train_data_master['request_text_edit_aware'], \n",
    "    train_labels_master.values.ravel(), test_size=0.2, random_state=0)\n",
    "x_train = count_vect.fit_transform(x_train_text)\n",
    "x_test = count_vect.transform(x_test_text)\n",
    "cv_feature_names = count_vect.get_feature_names()"
   ]
  },
  {
   "cell_type": "markdown",
   "metadata": {},
   "source": [
    "### Apply SVD (in lieu of PCA)"
   ]
  },
  {
   "cell_type": "code",
   "execution_count": 29,
   "metadata": {},
   "outputs": [
    {
     "name": "stdout",
     "output_type": "stream",
     "text": [
      "[0.26385154]\n",
      "[0.26385154 0.0286785 ]\n",
      "[0.26385154 0.02867849 0.02198839]\n",
      "[0.26385154 0.02867849 0.02198302 0.02078947]\n",
      "[0.26385154 0.02867851 0.02198896 0.02079245 0.01748223]\n",
      "[0.26385154 0.02867851 0.02198822 0.02079204 0.01748978 0.01479387]\n",
      "[0.26385154 0.02867852 0.02198751 0.02079285 0.01748485 0.01479945\n",
      " 0.01342609]\n",
      "[0.26385154 0.02867852 0.02198889 0.02079304 0.01748627 0.01480013\n",
      " 0.01342332 0.01204128]\n",
      "[0.26385154 0.02867851 0.02198895 0.02079289 0.01748487 0.01479528\n",
      " 0.01341706 0.01204136 0.01110905]\n",
      "[0.26385154 0.02867851 0.02198886 0.020793   0.01748703 0.01480021\n",
      " 0.013423   0.01204098 0.01112603 0.01033722]\n",
      "[0.26385154 0.02867851 0.02198851 0.02079302 0.01748707 0.01480019\n",
      " 0.01342486 0.01204494 0.0111328  0.01031689 0.00996021]\n",
      "[0.26385154 0.02867852 0.02198882 0.02079299 0.01748675 0.01480011\n",
      " 0.01342533 0.0120437  0.01112961 0.01033248 0.00997073 0.00942958]\n",
      "[0.26385154 0.02867852 0.02198882 0.020793   0.01748677 0.01480024\n",
      " 0.01342518 0.01204485 0.01113024 0.01033695 0.00997007 0.00944206\n",
      " 0.009127  ]\n",
      "[0.26385154 0.02867852 0.0219888  0.020793   0.01748671 0.01480026\n",
      " 0.01342385 0.01204528 0.01112934 0.01033853 0.00996914 0.00944776\n",
      " 0.00914442 0.00873354]\n"
     ]
    }
   ],
   "source": [
    "# Since PCA does not work for a sparse matrix, we are using Truncated SVD instead for dimensionality reduction\n",
    "for top_comps in range (1, 15):\n",
    "    svd = TruncatedSVD(n_components = top_comps)\n",
    "    svd.fit(x_train)\n",
    "    print(svd.explained_variance_ratio_)"
   ]
  },
  {
   "cell_type": "code",
   "execution_count": null,
   "metadata": {},
   "outputs": [],
   "source": [
    "# The output of vectorizer shows a major dropoff in explained variance after the 1st component\n",
    "# This suggests that projecting down to 1 component might be best."
   ]
  },
  {
   "cell_type": "markdown",
   "metadata": {},
   "source": [
    "### Visualize using K-Means Clustering"
   ]
  },
  {
   "cell_type": "code",
   "execution_count": 33,
   "metadata": {},
   "outputs": [
    {
     "data": {
      "image/png": "[encoded data removed]",
      "text/plain": [
       "<Figure size 720x720 with 1 Axes>"
      ]
     },
     "metadata": {},
     "output_type": "display_data"
    },
    {
     "data": {
      "image/png": "[encoded data removed]",
      "text/plain": [
       "<Figure size 720x720 with 1 Axes>"
      ]
     },
     "metadata": {},
     "output_type": "display_data"
    },
    {
     "data": {
      "text/plain": [
       "()"
      ]
     },
     "execution_count": 33,
     "metadata": {},
     "output_type": "execute_result"
    }
   ],
   "source": [
    "def cluster_viz(sparse=True):\n",
    "\n",
    "    # project data to few dimensions using SVD if sparse, PCA if dense\n",
    "    if (sparse): svd_train = TruncatedSVD(n_components=2)\n",
    "    else: svd_train = PCA(n_components=2)\n",
    "    svd_train_ft = svd_train.fit_transform(x_train)\n",
    "\n",
    "    # plot the two dimensions\n",
    "    plt.figure(figsize=(10,10))\n",
    "    for sample in range(len(y_train)):\n",
    "        if y_train[sample] == 1:\n",
    "            color = '#0000ff'\n",
    "            label = 'Got Pizza'\n",
    "        else:\n",
    "            color = '#ff0000'\n",
    "            label = 'No Pizza'\n",
    "\n",
    "        plt.scatter(svd_train_ft[sample][0],svd_train_ft[sample][1],c=color,label=label)\n",
    "\n",
    "    plt.xlabel('Component 1')\n",
    "    plt.ylabel('Component 2')\n",
    "    plt.legend(['Got Pizza','No Pizza'])\n",
    "    if sparse: plt.title('SVD projection of vectorized text to two components')\n",
    "    else: plt.title('PCA projection of numeric fields to two components')\n",
    "    plt.grid()\n",
    "    plt.show()\n",
    "    \n",
    "    return()\n",
    "\n",
    "# Visualize the text data, vectorized then reduced\n",
    "\n",
    "#Create Sparse matrix of words\n",
    "count_vect = CountVectorizer()\n",
    "\n",
    "#Split train and test data\n",
    "x_train_text, x_test_text, y_train, y_test = train_test_split(\n",
    "    train_data_master['request_text_edit_aware'], \n",
    "    train_labels_master.values.ravel(), test_size=0.2, random_state=0)\n",
    "x_train = count_vect.fit_transform(x_train_text)\n",
    "x_test = count_vect.transform(x_test_text)\n",
    "\n",
    "cluster_viz(sparse=True) # word vectorizer is a sparse matrix, so use SVD\n",
    "\n",
    "# Visualize the numeric features reduced\n",
    "\n",
    "#Normalize all fields (numeric)\n",
    "min_max_scaler = preprocessing.MinMaxScaler()\n",
    "mn_mx_scaler = min_max_scaler.fit_transform(\n",
    "    train_data_master.select_dtypes(include = ['float64', 'int64','datetime64[ns]']).apply(pd.to_numeric).values)\n",
    "\n",
    "#train_data_numeric = train_data_master.select_dtypes(include = ['float64', 'int64','datetime64[ns]']).apply(pd.to_numeric).values\n",
    "\n",
    "#Split train and test data\n",
    "x_train, x_test, y_train, y_test = train_test_split(\n",
    "    mn_mx_scaler, \n",
    "    train_labels_master.values.ravel(), test_size=0.2, random_state=0)\n",
    "\n",
    "cluster_viz(sparse=False) # dense matrices, so can use PCA"
   ]
  },
  {
   "cell_type": "markdown",
   "metadata": {},
   "source": [
    "I have no idea what to make of these charts. It would appear that the data reduced down to two components just does not cluster. "
   ]
  },
  {
   "cell_type": "markdown",
   "metadata": {},
   "source": [
    "### Try various hyperparameters with GMM on text field, try to classify "
   ]
  },
  {
   "cell_type": "code",
   "execution_count": 34,
   "metadata": {},
   "outputs": [
    {
     "name": "stdout",
     "output_type": "stream",
     "text": [
      "Accuracy score for 1 SVD comps, 1 GMM comps, Covariance type spherical = 0.6757425742574258\n",
      "Accuracy score for 1 SVD comps, 2 GMM comps, Covariance type spherical = 0.5705445544554455\n",
      "Accuracy score for 1 SVD comps, 3 GMM comps, Covariance type spherical = 0.5470297029702971\n",
      "Accuracy score for 1 SVD comps, 4 GMM comps, Covariance type spherical = 0.5321782178217822\n",
      "Accuracy score for 1 SVD comps, 5 GMM comps, Covariance type spherical = 0.5742574257425742\n",
      "Accuracy score for 1 SVD comps, 6 GMM comps, Covariance type spherical = 0.5532178217821783\n",
      "Accuracy score for 1 SVD comps, 7 GMM comps, Covariance type spherical = 0.5779702970297029\n",
      "Accuracy score for 1 SVD comps, 8 GMM comps, Covariance type spherical = 0.5841584158415841\n",
      "Accuracy score for 1 SVD comps, 9 GMM comps, Covariance type spherical = 0.5742574257425742\n",
      "Accuracy score for 1 SVD comps, 10 GMM comps, Covariance type spherical = 0.5841584158415841\n",
      "Accuracy score for 1 SVD comps, 11 GMM comps, Covariance type spherical = 0.5928217821782178\n",
      "Accuracy score for 1 SVD comps, 12 GMM comps, Covariance type spherical = 0.5346534653465347\n",
      "Accuracy score for 2 SVD comps, 1 GMM comps, Covariance type spherical = 0.6695544554455446\n",
      "Accuracy score for 2 SVD comps, 2 GMM comps, Covariance type spherical = 0.556930693069307\n",
      "Accuracy score for 2 SVD comps, 3 GMM comps, Covariance type spherical = 0.5618811881188119\n",
      "Accuracy score for 2 SVD comps, 4 GMM comps, Covariance type spherical = 0.5420792079207921\n",
      "Accuracy score for 2 SVD comps, 5 GMM comps, Covariance type spherical = 0.5618811881188119\n",
      "Accuracy score for 2 SVD comps, 6 GMM comps, Covariance type spherical = 0.5334158415841584\n",
      "Accuracy score for 3 SVD comps, 1 GMM comps, Covariance type spherical = 0.6670792079207921\n",
      "Accuracy score for 3 SVD comps, 2 GMM comps, Covariance type spherical = 0.5420792079207921\n",
      "Accuracy score for 3 SVD comps, 3 GMM comps, Covariance type spherical = 0.551980198019802\n",
      "Accuracy score for 3 SVD comps, 4 GMM comps, Covariance type spherical = 0.5445544554455446\n",
      "Accuracy score for 4 SVD comps, 1 GMM comps, Covariance type spherical = 0.6658415841584159\n",
      "Accuracy score for 4 SVD comps, 2 GMM comps, Covariance type spherical = 0.5371287128712872\n",
      "Accuracy score for 4 SVD comps, 3 GMM comps, Covariance type spherical = 0.5495049504950495\n",
      "Accuracy score for 5 SVD comps, 1 GMM comps, Covariance type spherical = 0.6658415841584159\n",
      "Accuracy score for 5 SVD comps, 2 GMM comps, Covariance type spherical = 0.5297029702970297\n",
      "Accuracy score for 6 SVD comps, 1 GMM comps, Covariance type spherical = 0.6646039603960396\n",
      "Accuracy score for 6 SVD comps, 2 GMM comps, Covariance type spherical = 0.5222772277227723\n",
      "Accuracy score for 7 SVD comps, 1 GMM comps, Covariance type spherical = 0.6646039603960396\n",
      "Accuracy score for 8 SVD comps, 1 GMM comps, Covariance type spherical = 0.6608910891089109\n",
      "Accuracy score for 9 SVD comps, 1 GMM comps, Covariance type spherical = 0.6633663366336634\n",
      "Accuracy score for 10 SVD comps, 1 GMM comps, Covariance type spherical = 0.6658415841584159\n",
      "Accuracy score for 11 SVD comps, 1 GMM comps, Covariance type spherical = 0.6608910891089109\n",
      "Accuracy score for 12 SVD comps, 1 GMM comps, Covariance type spherical = 0.6596534653465347\n",
      "Accuracy score for 1 SVD comps, 1 GMM comps, Covariance type diag = 0.6757425742574258\n",
      "Accuracy score for 1 SVD comps, 2 GMM comps, Covariance type diag = 0.5705445544554455\n",
      "Accuracy score for 1 SVD comps, 3 GMM comps, Covariance type diag = 0.5470297029702971\n",
      "Accuracy score for 1 SVD comps, 4 GMM comps, Covariance type diag = 0.5321782178217822\n",
      "Accuracy score for 1 SVD comps, 5 GMM comps, Covariance type diag = 0.599009900990099\n",
      "Accuracy score for 1 SVD comps, 6 GMM comps, Covariance type diag = 0.5544554455445545\n",
      "Accuracy score for 1 SVD comps, 7 GMM comps, Covariance type diag = 0.556930693069307\n",
      "Accuracy score for 1 SVD comps, 8 GMM comps, Covariance type diag = 0.5841584158415841\n",
      "Accuracy score for 1 SVD comps, 9 GMM comps, Covariance type diag = 0.5618811881188119\n",
      "Accuracy score for 1 SVD comps, 10 GMM comps, Covariance type diag = 0.5754950495049505\n",
      "Accuracy score for 1 SVD comps, 11 GMM comps, Covariance type diag = 0.5779702970297029\n",
      "Accuracy score for 1 SVD comps, 12 GMM comps, Covariance type diag = 0.5495049504950495\n",
      "Accuracy score for 2 SVD comps, 1 GMM comps, Covariance type diag = 0.6670792079207921\n",
      "Accuracy score for 2 SVD comps, 2 GMM comps, Covariance type diag = 0.5556930693069307\n",
      "Accuracy score for 2 SVD comps, 3 GMM comps, Covariance type diag = 0.5383663366336634\n",
      "Accuracy score for 2 SVD comps, 4 GMM comps, Covariance type diag = 0.5334158415841584\n",
      "Accuracy score for 2 SVD comps, 5 GMM comps, Covariance type diag = 0.5371287128712872\n",
      "Accuracy score for 2 SVD comps, 6 GMM comps, Covariance type diag = 0.5556930693069307\n",
      "Accuracy score for 3 SVD comps, 1 GMM comps, Covariance type diag = 0.6547029702970297\n",
      "Accuracy score for 3 SVD comps, 2 GMM comps, Covariance type diag = 0.5396039603960396\n",
      "Accuracy score for 3 SVD comps, 3 GMM comps, Covariance type diag = 0.5754950495049505\n",
      "Accuracy score for 3 SVD comps, 4 GMM comps, Covariance type diag = 0.5816831683168316\n",
      "Accuracy score for 4 SVD comps, 1 GMM comps, Covariance type diag = 0.6608910891089109\n",
      "Accuracy score for 4 SVD comps, 2 GMM comps, Covariance type diag = 0.5420792079207921\n",
      "Accuracy score for 4 SVD comps, 3 GMM comps, Covariance type diag = 0.5717821782178217\n",
      "Accuracy score for 5 SVD comps, 1 GMM comps, Covariance type diag = 0.6658415841584159\n",
      "Accuracy score for 5 SVD comps, 2 GMM comps, Covariance type diag = 0.5420792079207921\n",
      "Accuracy score for 6 SVD comps, 1 GMM comps, Covariance type diag = 0.6596534653465347\n",
      "Accuracy score for 6 SVD comps, 2 GMM comps, Covariance type diag = 0.5544554455445545\n",
      "Accuracy score for 7 SVD comps, 1 GMM comps, Covariance type diag = 0.6571782178217822\n",
      "Accuracy score for 8 SVD comps, 1 GMM comps, Covariance type diag = 0.655940594059406\n",
      "Accuracy score for 9 SVD comps, 1 GMM comps, Covariance type diag = 0.6547029702970297\n",
      "Accuracy score for 10 SVD comps, 1 GMM comps, Covariance type diag = 0.6472772277227723\n",
      "Accuracy score for 11 SVD comps, 1 GMM comps, Covariance type diag = 0.6534653465346535\n",
      "Accuracy score for 12 SVD comps, 1 GMM comps, Covariance type diag = 0.6398514851485149\n",
      "Accuracy score for 1 SVD comps, 1 GMM comps, Covariance type tied = 0.6757425742574258\n",
      "Accuracy score for 1 SVD comps, 2 GMM comps, Covariance type tied = 0.6150990099009901\n",
      "Accuracy score for 1 SVD comps, 3 GMM comps, Covariance type tied = 0.5903465346534653\n",
      "Accuracy score for 1 SVD comps, 4 GMM comps, Covariance type tied = 0.6163366336633663\n",
      "Accuracy score for 1 SVD comps, 5 GMM comps, Covariance type tied = 0.5742574257425742\n",
      "Accuracy score for 1 SVD comps, 6 GMM comps, Covariance type tied = 0.5779702970297029\n",
      "Accuracy score for 1 SVD comps, 7 GMM comps, Covariance type tied = 0.5754950495049505\n",
      "Accuracy score for 1 SVD comps, 8 GMM comps, Covariance type tied = 0.5482673267326733\n",
      "Accuracy score for 1 SVD comps, 9 GMM comps, Covariance type tied = 0.5606435643564357\n",
      "Accuracy score for 1 SVD comps, 10 GMM comps, Covariance type tied = 0.5556930693069307\n",
      "Accuracy score for 1 SVD comps, 11 GMM comps, Covariance type tied = 0.5618811881188119\n",
      "Accuracy score for 1 SVD comps, 12 GMM comps, Covariance type tied = 0.5878712871287128\n",
      "Accuracy score for 2 SVD comps, 1 GMM comps, Covariance type tied = 0.6646039603960396\n",
      "Accuracy score for 2 SVD comps, 2 GMM comps, Covariance type tied = 0.6522277227722773\n",
      "Accuracy score for 2 SVD comps, 3 GMM comps, Covariance type tied = 0.5928217821782178\n",
      "Accuracy score for 2 SVD comps, 4 GMM comps, Covariance type tied = 0.6336633663366337\n",
      "Accuracy score for 2 SVD comps, 5 GMM comps, Covariance type tied = 0.6163366336633663\n",
      "Accuracy score for 2 SVD comps, 6 GMM comps, Covariance type tied = 0.5952970297029703\n",
      "Accuracy score for 3 SVD comps, 1 GMM comps, Covariance type tied = 0.6522277227722773\n",
      "Accuracy score for 3 SVD comps, 2 GMM comps, Covariance type tied = 0.6287128712871287\n",
      "Accuracy score for 3 SVD comps, 3 GMM comps, Covariance type tied = 0.6188118811881188\n",
      "Accuracy score for 3 SVD comps, 4 GMM comps, Covariance type tied = 0.6076732673267327\n",
      "Accuracy score for 4 SVD comps, 1 GMM comps, Covariance type tied = 0.6571782178217822\n",
      "Accuracy score for 4 SVD comps, 2 GMM comps, Covariance type tied = 0.6386138613861386\n",
      "Accuracy score for 4 SVD comps, 3 GMM comps, Covariance type tied = 0.620049504950495\n",
      "Accuracy score for 5 SVD comps, 1 GMM comps, Covariance type tied = 0.6596534653465347\n",
      "Accuracy score for 5 SVD comps, 2 GMM comps, Covariance type tied = 0.6361386138613861\n",
      "Accuracy score for 6 SVD comps, 1 GMM comps, Covariance type tied = 0.655940594059406\n",
      "Accuracy score for 6 SVD comps, 2 GMM comps, Covariance type tied = 0.6361386138613861\n",
      "Accuracy score for 7 SVD comps, 1 GMM comps, Covariance type tied = 0.6460396039603961\n",
      "Accuracy score for 8 SVD comps, 1 GMM comps, Covariance type tied = 0.6435643564356436\n",
      "Accuracy score for 9 SVD comps, 1 GMM comps, Covariance type tied = 0.6608910891089109\n",
      "Accuracy score for 10 SVD comps, 1 GMM comps, Covariance type tied = 0.6534653465346535\n",
      "Accuracy score for 11 SVD comps, 1 GMM comps, Covariance type tied = 0.6621287128712872\n",
      "Accuracy score for 12 SVD comps, 1 GMM comps, Covariance type tied = 0.6707920792079208\n",
      "Accuracy score for 1 SVD comps, 1 GMM comps, Covariance type full = 0.6757425742574258\n",
      "Accuracy score for 1 SVD comps, 2 GMM comps, Covariance type full = 0.5705445544554455\n",
      "Accuracy score for 1 SVD comps, 3 GMM comps, Covariance type full = 0.5470297029702971\n",
      "Accuracy score for 1 SVD comps, 4 GMM comps, Covariance type full = 0.556930693069307\n",
      "Accuracy score for 1 SVD comps, 5 GMM comps, Covariance type full = 0.5742574257425742\n",
      "Accuracy score for 1 SVD comps, 6 GMM comps, Covariance type full = 0.6051980198019802\n",
      "Accuracy score for 1 SVD comps, 7 GMM comps, Covariance type full = 0.5878712871287128\n",
      "Accuracy score for 1 SVD comps, 8 GMM comps, Covariance type full = 0.5866336633663366\n",
      "Accuracy score for 1 SVD comps, 9 GMM comps, Covariance type full = 0.568069306930693\n",
      "Accuracy score for 1 SVD comps, 10 GMM comps, Covariance type full = 0.5767326732673267\n",
      "Accuracy score for 1 SVD comps, 11 GMM comps, Covariance type full = 0.5779702970297029\n",
      "Accuracy score for 1 SVD comps, 12 GMM comps, Covariance type full = 0.5383663366336634\n",
      "Accuracy score for 2 SVD comps, 1 GMM comps, Covariance type full = 0.6646039603960396\n",
      "Accuracy score for 2 SVD comps, 2 GMM comps, Covariance type full = 0.568069306930693\n",
      "Accuracy score for 2 SVD comps, 3 GMM comps, Covariance type full = 0.5383663366336634\n",
      "Accuracy score for 2 SVD comps, 4 GMM comps, Covariance type full = 0.5420792079207921\n",
      "Accuracy score for 2 SVD comps, 5 GMM comps, Covariance type full = 0.5742574257425742\n",
      "Accuracy score for 2 SVD comps, 6 GMM comps, Covariance type full = 0.5556930693069307\n",
      "Accuracy score for 3 SVD comps, 1 GMM comps, Covariance type full = 0.650990099009901\n",
      "Accuracy score for 3 SVD comps, 2 GMM comps, Covariance type full = 0.5470297029702971\n",
      "Accuracy score for 3 SVD comps, 3 GMM comps, Covariance type full = 0.5891089108910891\n",
      "Accuracy score for 3 SVD comps, 4 GMM comps, Covariance type full = 0.5618811881188119\n",
      "Accuracy score for 4 SVD comps, 1 GMM comps, Covariance type full = 0.6571782178217822\n",
      "Accuracy score for 4 SVD comps, 2 GMM comps, Covariance type full = 0.5470297029702971\n",
      "Accuracy score for 4 SVD comps, 3 GMM comps, Covariance type full = 0.5693069306930693\n",
      "Accuracy score for 5 SVD comps, 1 GMM comps, Covariance type full = 0.6596534653465347\n",
      "Accuracy score for 5 SVD comps, 2 GMM comps, Covariance type full = 0.5544554455445545\n",
      "Accuracy score for 6 SVD comps, 1 GMM comps, Covariance type full = 0.655940594059406\n",
      "Accuracy score for 6 SVD comps, 2 GMM comps, Covariance type full = 0.5952970297029703\n",
      "Accuracy score for 7 SVD comps, 1 GMM comps, Covariance type full = 0.6460396039603961\n",
      "Accuracy score for 8 SVD comps, 1 GMM comps, Covariance type full = 0.650990099009901\n",
      "Accuracy score for 9 SVD comps, 1 GMM comps, Covariance type full = 0.6608910891089109\n",
      "Accuracy score for 10 SVD comps, 1 GMM comps, Covariance type full = 0.6571782178217822\n",
      "Accuracy score for 11 SVD comps, 1 GMM comps, Covariance type full = 0.6621287128712872\n",
      "Accuracy score for 12 SVD comps, 1 GMM comps, Covariance type full = 0.6658415841584159\n",
      "*********************************************************************************\n",
      "The best accuracy score is 0.6757425742574258\n",
      "To get it, set SVD comps to 1 , GMM comps to 1 , and covariance type to spherical\n"
     ]
    }
   ],
   "source": [
    "def train_gmm(svd_comps = 2, gmm_comps = 4, cov_type = 'full', sparse = True):\n",
    "    \n",
    "    # project data to few dimensions using SVD if sparse, PCA if dense\n",
    "    if (sparse): svd_test = TruncatedSVD(n_components=svd_comps)\n",
    "    else: svd_test = PCA(n_components=svd_comps)\n",
    "    svd_test_ft = svd_test.fit_transform(x_test)\n",
    "    if (sparse): svd_train = TruncatedSVD(n_components=svd_comps)\n",
    "    else: svd_train = PCA(n_components=svd_comps)\n",
    "    svd_train_ft = svd_train.fit_transform(x_train)\n",
    "\n",
    "    # create two sets of svd data, one that's positively labeled, one that's negatively labeled\n",
    "    pos_svd = svd_train_ft[y_train == 1]\n",
    "    neg_svd = svd_train_ft[y_train == 0]\n",
    "    \n",
    "    # fit a GMM for pos and neg datasets\n",
    "    gmm_pos = GaussianMixture(n_components=gmm_comps, covariance_type=cov_type) \n",
    "    gmm_fit_pos = gmm_pos.fit(pos_svd)\n",
    "    gmm_neg = GaussianMixture(n_components=gmm_comps, covariance_type=cov_type) \n",
    "    gmm_fit_neg = gmm_neg.fit(neg_svd)\n",
    "\n",
    "    prediction = np.ndarray(shape=y_test.shape)\n",
    "    \n",
    "    for sample in range(svd_test_ft.shape[0]):\n",
    "        pos_score = gmm_fit_pos.score(svd_test_ft[sample].reshape(1,-1))\n",
    "        neg_score = gmm_fit_neg.score(svd_test_ft[sample].reshape(1, -1))\n",
    "        # make pick\n",
    "        if (pos_score >= neg_score): prediction[sample] = 1\n",
    "        else: prediction[sample] = 0 \n",
    "\n",
    "    # calculate accuracy\n",
    "    accuracy = metrics.accuracy_score(y_test, prediction)\n",
    "    # f1 = metrics.f1_score(y_test, prediction)\n",
    "    print(\"Accuracy score for\", svd_comps,\"SVD comps,\",gmm_comps,\"GMM comps,\",\"Covariance type\",cov_type,\"=\",accuracy)\n",
    "\n",
    "    return(accuracy)\n",
    "\n",
    "def gmm_trials(sparse = True, max_params = 50):\n",
    "\n",
    "    def calc_limits(max_params = 50):\n",
    "        # this function helps estaish the svd and gmm settings to stay within max_params\n",
    "\n",
    "        valid_configs = [] # list of tuples (num_svd_components, num_gmm_components)\n",
    "\n",
    "        for cov_type in ['spherical', 'diag', 'tied', 'full']:\n",
    "            for svd_comp in range(1,20): \n",
    "                for gmm_comp in range(1,20): \n",
    "                    if ((svd_comp + svd_comp) * gmm_comp) * 2 <= max_params:\n",
    "                        valid_configs.append((svd_comp, gmm_comp, cov_type))\n",
    "\n",
    "        return(valid_configs)\n",
    "\n",
    "    configs = calc_limits(max_params) # get the valid configurations\n",
    "\n",
    "    top_accuracy_val = 0 # keeps track of top accuracy value\n",
    "    top_accuracy_config = () # keeps track of config that creates top accuracy value\n",
    "    \n",
    "    for config in configs:\n",
    "        accuracy = train_gmm(config[0], config[1], config[2])\n",
    "        if accuracy > top_accuracy_val:\n",
    "            top_accuracy_val = accuracy\n",
    "            top_accuracy_config = config\n",
    "\n",
    "    print(\"*********************************************************************************\")\n",
    "    print(\"The best accuracy score is\", top_accuracy_val)\n",
    "    print(\"To get it, set SVD comps to\", top_accuracy_config[0], \", GMM comps to\", top_accuracy_config[1],\", and covariance type to\", top_accuracy_config[2])\n",
    "\n",
    "    \n",
    "#Create Sparse matrix of words\n",
    "count_vect = CountVectorizer()\n",
    "\n",
    "#Split train and test data\n",
    "x_train_text, x_test_text, y_train, y_test = train_test_split(\n",
    "    train_data_master['request_text_edit_aware'], \n",
    "    train_labels_master.values.ravel(), test_size=0.2, random_state=0)\n",
    "x_train = count_vect.fit_transform(x_train_text)\n",
    "x_test = count_vect.transform(x_test_text)\n",
    "\n",
    "gmm_trials(sparse = True)"
   ]
  },
  {
   "cell_type": "markdown",
   "metadata": {},
   "source": [
    "Results: The best accuracy score doesn't beat the 0.68 naive bayes baseline, so dimensionality reduction on the vectorized text field doesn't help. "
   ]
  },
  {
   "cell_type": "markdown",
   "metadata": {},
   "source": [
    "### Next: Dimensionality reduction on all features"
   ]
  },
  {
   "cell_type": "code",
   "execution_count": 52,
   "metadata": {},
   "outputs": [],
   "source": [
    "#Try using ALL features, even those not in the test data. \n",
    "\n",
    "#Normalize all fields (numeric)\n",
    "min_max_scaler = preprocessing.MinMaxScaler()\n",
    "mn_mx_scaler_allfeats = min_max_scaler.fit_transform(\n",
    "    train.select_dtypes(include = ['float64', 'int64','datetime64[ns]']).apply(pd.to_numeric).values)\n",
    "mn_mx_scaler_commonfeats = min_max_scaler.fit_transform(\n",
    "    train_data_master.select_dtypes(include = ['float64', 'int64','datetime64[ns]']).apply(pd.to_numeric).values)\n",
    "\n",
    "#Split train and test data\n",
    "x_train, x_test = mn_mx_scaler_allfeats[:3232], mn_mx_scaler_commonfeats[3232:] \n",
    "y_train, y_test = train_labels_master[:3232].values.ravel(), train_labels_master[3232:].values.ravel()\n",
    "\n"
   ]
  },
  {
   "cell_type": "code",
   "execution_count": 53,
   "metadata": {},
   "outputs": [
    {
     "name": "stdout",
     "output_type": "stream",
     "text": [
      "Accuracy score for 1 SVD comps, 1 GMM comps, Covariance type spherical = 0.44183168316831684\n",
      "Accuracy score for 1 SVD comps, 2 GMM comps, Covariance type spherical = 0.47277227722772275\n",
      "Accuracy score for 1 SVD comps, 3 GMM comps, Covariance type spherical = 0.4319306930693069\n",
      "Accuracy score for 1 SVD comps, 4 GMM comps, Covariance type spherical = 0.40470297029702973\n",
      "Accuracy score for 1 SVD comps, 5 GMM comps, Covariance type spherical = 0.422029702970297\n",
      "Accuracy score for 1 SVD comps, 6 GMM comps, Covariance type spherical = 0.3948019801980198\n",
      "Accuracy score for 1 SVD comps, 7 GMM comps, Covariance type spherical = 0.4245049504950495\n",
      "Accuracy score for 1 SVD comps, 8 GMM comps, Covariance type spherical = 0.41707920792079206\n",
      "Accuracy score for 1 SVD comps, 9 GMM comps, Covariance type spherical = 0.40717821782178215\n",
      "Accuracy score for 1 SVD comps, 10 GMM comps, Covariance type spherical = 0.3972772277227723\n",
      "Accuracy score for 2 SVD comps, 1 GMM comps, Covariance type spherical = 0.6868811881188119\n",
      "Accuracy score for 2 SVD comps, 2 GMM comps, Covariance type spherical = 0.6410891089108911\n",
      "Accuracy score for 2 SVD comps, 3 GMM comps, Covariance type spherical = 0.4962871287128713\n",
      "Accuracy score for 2 SVD comps, 4 GMM comps, Covariance type spherical = 0.40965346534653463\n",
      "Accuracy score for 2 SVD comps, 5 GMM comps, Covariance type spherical = 0.5\n",
      "Accuracy score for 3 SVD comps, 1 GMM comps, Covariance type spherical = 0.6720297029702971\n",
      "Accuracy score for 3 SVD comps, 2 GMM comps, Covariance type spherical = 0.6670792079207921\n",
      "Accuracy score for 3 SVD comps, 3 GMM comps, Covariance type spherical = 0.6051980198019802\n",
      "Accuracy score for 4 SVD comps, 1 GMM comps, Covariance type spherical = 0.676980198019802\n",
      "Accuracy score for 4 SVD comps, 2 GMM comps, Covariance type spherical = 0.6967821782178217\n",
      "Accuracy score for 5 SVD comps, 1 GMM comps, Covariance type spherical = 0.681930693069307\n",
      "Accuracy score for 5 SVD comps, 2 GMM comps, Covariance type spherical = 0.594059405940594\n",
      "Accuracy score for 6 SVD comps, 1 GMM comps, Covariance type spherical = 0.6868811881188119\n",
      "Accuracy score for 7 SVD comps, 1 GMM comps, Covariance type spherical = 0.6881188118811881\n",
      "Accuracy score for 8 SVD comps, 1 GMM comps, Covariance type spherical = 0.6868811881188119\n",
      "Accuracy score for 9 SVD comps, 1 GMM comps, Covariance type spherical = 0.6905940594059405\n",
      "Accuracy score for 10 SVD comps, 1 GMM comps, Covariance type spherical = 0.6893564356435643\n",
      "Accuracy score for 1 SVD comps, 1 GMM comps, Covariance type diag = 0.44183168316831684\n",
      "Accuracy score for 1 SVD comps, 2 GMM comps, Covariance type diag = 0.474009900990099\n",
      "Accuracy score for 1 SVD comps, 3 GMM comps, Covariance type diag = 0.4282178217821782\n",
      "Accuracy score for 1 SVD comps, 4 GMM comps, Covariance type diag = 0.40965346534653463\n",
      "Accuracy score for 1 SVD comps, 5 GMM comps, Covariance type diag = 0.422029702970297\n",
      "Accuracy score for 1 SVD comps, 6 GMM comps, Covariance type diag = 0.42698019801980197\n",
      "Accuracy score for 1 SVD comps, 7 GMM comps, Covariance type diag = 0.43564356435643564\n",
      "Accuracy score for 1 SVD comps, 8 GMM comps, Covariance type diag = 0.4319306930693069\n",
      "Accuracy score for 1 SVD comps, 9 GMM comps, Covariance type diag = 0.40717821782178215\n",
      "Accuracy score for 1 SVD comps, 10 GMM comps, Covariance type diag = 0.39603960396039606\n",
      "Accuracy score for 2 SVD comps, 1 GMM comps, Covariance type diag = 0.5767326732673267\n",
      "Accuracy score for 2 SVD comps, 2 GMM comps, Covariance type diag = 0.655940594059406\n",
      "Accuracy score for 2 SVD comps, 3 GMM comps, Covariance type diag = 0.5136138613861386\n",
      "Accuracy score for 2 SVD comps, 4 GMM comps, Covariance type diag = 0.4628712871287129\n",
      "Accuracy score for 2 SVD comps, 5 GMM comps, Covariance type diag = 0.46782178217821785\n",
      "Accuracy score for 3 SVD comps, 1 GMM comps, Covariance type diag = 0.5754950495049505\n",
      "Accuracy score for 3 SVD comps, 2 GMM comps, Covariance type diag = 0.46534653465346537\n",
      "Accuracy score for 3 SVD comps, 3 GMM comps, Covariance type diag = 0.5829207920792079\n",
      "Accuracy score for 4 SVD comps, 1 GMM comps, Covariance type diag = 0.676980198019802\n",
      "Accuracy score for 4 SVD comps, 2 GMM comps, Covariance type diag = 0.4752475247524752\n",
      "Accuracy score for 5 SVD comps, 1 GMM comps, Covariance type diag = 0.7004950495049505\n",
      "Accuracy score for 5 SVD comps, 2 GMM comps, Covariance type diag = 0.40965346534653463\n",
      "Accuracy score for 6 SVD comps, 1 GMM comps, Covariance type diag = 0.7388613861386139\n",
      "Accuracy score for 7 SVD comps, 1 GMM comps, Covariance type diag = 0.7339108910891089\n",
      "Accuracy score for 8 SVD comps, 1 GMM comps, Covariance type diag = 0.7351485148514851\n",
      "Accuracy score for 9 SVD comps, 1 GMM comps, Covariance type diag = 0.7351485148514851\n",
      "Accuracy score for 10 SVD comps, 1 GMM comps, Covariance type diag = 0.7351485148514851\n",
      "Accuracy score for 1 SVD comps, 1 GMM comps, Covariance type tied = 0.44183168316831684\n",
      "Accuracy score for 1 SVD comps, 2 GMM comps, Covariance type tied = 0.4975247524752475\n",
      "Accuracy score for 1 SVD comps, 3 GMM comps, Covariance type tied = 0.42945544554455445\n",
      "Accuracy score for 1 SVD comps, 4 GMM comps, Covariance type tied = 0.39603960396039606\n",
      "Accuracy score for 1 SVD comps, 5 GMM comps, Covariance type tied = 0.4430693069306931\n",
      "Accuracy score for 1 SVD comps, 6 GMM comps, Covariance type tied = 0.4430693069306931\n",
      "Accuracy score for 1 SVD comps, 7 GMM comps, Covariance type tied = 0.44925742574257427\n",
      "Accuracy score for 1 SVD comps, 8 GMM comps, Covariance type tied = 0.4467821782178218\n",
      "Accuracy score for 1 SVD comps, 9 GMM comps, Covariance type tied = 0.44183168316831684\n",
      "Accuracy score for 1 SVD comps, 10 GMM comps, Covariance type tied = 0.422029702970297\n",
      "Accuracy score for 2 SVD comps, 1 GMM comps, Covariance type tied = 0.5024752475247525\n",
      "Accuracy score for 2 SVD comps, 2 GMM comps, Covariance type tied = 0.4938118811881188\n",
      "Accuracy score for 2 SVD comps, 3 GMM comps, Covariance type tied = 0.48886138613861385\n",
      "Accuracy score for 2 SVD comps, 4 GMM comps, Covariance type tied = 0.5779702970297029\n",
      "Accuracy score for 2 SVD comps, 5 GMM comps, Covariance type tied = 0.6670792079207921\n",
      "Accuracy score for 3 SVD comps, 1 GMM comps, Covariance type tied = 0.30816831683168316\n",
      "Accuracy score for 3 SVD comps, 2 GMM comps, Covariance type tied = 0.31064356435643564\n",
      "Accuracy score for 3 SVD comps, 3 GMM comps, Covariance type tied = 0.29207920792079206\n",
      "Accuracy score for 4 SVD comps, 1 GMM comps, Covariance type tied = 0.3069306930693069\n",
      "Accuracy score for 4 SVD comps, 2 GMM comps, Covariance type tied = 0.31064356435643564\n",
      "Accuracy score for 5 SVD comps, 1 GMM comps, Covariance type tied = 0.3056930693069307\n",
      "Accuracy score for 5 SVD comps, 2 GMM comps, Covariance type tied = 0.2933168316831683\n",
      "Accuracy score for 6 SVD comps, 1 GMM comps, Covariance type tied = 0.28217821782178215\n",
      "Accuracy score for 7 SVD comps, 1 GMM comps, Covariance type tied = 0.28465346534653463\n",
      "Accuracy score for 8 SVD comps, 1 GMM comps, Covariance type tied = 0.28094059405940597\n",
      "Accuracy score for 9 SVD comps, 1 GMM comps, Covariance type tied = 0.26485148514851486\n",
      "Accuracy score for 10 SVD comps, 1 GMM comps, Covariance type tied = 0.26732673267326734\n",
      "Accuracy score for 1 SVD comps, 1 GMM comps, Covariance type full = 0.44183168316831684\n",
      "Accuracy score for 1 SVD comps, 2 GMM comps, Covariance type full = 0.47277227722772275\n",
      "Accuracy score for 1 SVD comps, 3 GMM comps, Covariance type full = 0.4319306930693069\n",
      "Accuracy score for 1 SVD comps, 4 GMM comps, Covariance type full = 0.40717821782178215\n",
      "Accuracy score for 1 SVD comps, 5 GMM comps, Covariance type full = 0.4183168316831683\n",
      "Accuracy score for 1 SVD comps, 6 GMM comps, Covariance type full = 0.4183168316831683\n",
      "Accuracy score for 1 SVD comps, 7 GMM comps, Covariance type full = 0.42945544554455445\n",
      "Accuracy score for 1 SVD comps, 8 GMM comps, Covariance type full = 0.4207920792079208\n",
      "Accuracy score for 1 SVD comps, 9 GMM comps, Covariance type full = 0.4146039603960396\n",
      "Accuracy score for 1 SVD comps, 10 GMM comps, Covariance type full = 0.3910891089108911\n",
      "Accuracy score for 2 SVD comps, 1 GMM comps, Covariance type full = 0.5024752475247525\n",
      "Accuracy score for 2 SVD comps, 2 GMM comps, Covariance type full = 0.6237623762376238\n",
      "Accuracy score for 2 SVD comps, 3 GMM comps, Covariance type full = 0.4938118811881188\n",
      "Accuracy score for 2 SVD comps, 4 GMM comps, Covariance type full = 0.37004950495049505\n",
      "Accuracy score for 2 SVD comps, 5 GMM comps, Covariance type full = 0.3997524752475248\n",
      "Accuracy score for 3 SVD comps, 1 GMM comps, Covariance type full = 0.30816831683168316\n",
      "Accuracy score for 3 SVD comps, 2 GMM comps, Covariance type full = 0.3712871287128713\n",
      "Accuracy score for 3 SVD comps, 3 GMM comps, Covariance type full = 0.36014851485148514\n",
      "Accuracy score for 4 SVD comps, 1 GMM comps, Covariance type full = 0.3069306930693069\n",
      "Accuracy score for 4 SVD comps, 2 GMM comps, Covariance type full = 0.3378712871287129\n",
      "Accuracy score for 5 SVD comps, 1 GMM comps, Covariance type full = 0.3056930693069307\n",
      "Accuracy score for 5 SVD comps, 2 GMM comps, Covariance type full = 0.3502475247524752\n",
      "Accuracy score for 6 SVD comps, 1 GMM comps, Covariance type full = 0.28217821782178215\n",
      "Accuracy score for 7 SVD comps, 1 GMM comps, Covariance type full = 0.28465346534653463\n",
      "Accuracy score for 8 SVD comps, 1 GMM comps, Covariance type full = 0.28094059405940597\n",
      "Accuracy score for 9 SVD comps, 1 GMM comps, Covariance type full = 0.26485148514851486\n",
      "Accuracy score for 10 SVD comps, 1 GMM comps, Covariance type full = 0.26732673267326734\n",
      "*********************************************************************************\n",
      "The best accuracy score is 0.7388613861386139\n",
      "To get it, set SVD comps to 6 , GMM comps to 1 , and covariance type to diag\n"
     ]
    }
   ],
   "source": [
    "gmm_trials(sparse = False, max_params = 40)"
   ]
  },
  {
   "cell_type": "markdown",
   "metadata": {},
   "source": [
    "Results: A 0.74 accuracy level is less than what was achieved with logistic regression baseline of 0.75. "
   ]
  },
  {
   "cell_type": "code",
   "execution_count": 50,
   "metadata": {},
   "outputs": [],
   "source": [
    "#Try using just the features in common with train and test. \n",
    "\n",
    "#Normalize all fields (numeric)\n",
    "min_max_scaler = preprocessing.MinMaxScaler()\n",
    "mn_mx_scaler = min_max_scaler.fit_transform(\n",
    "    train.select_dtypes(include = ['float64', 'int64','datetime64[ns]']).apply(pd.to_numeric).values)\n",
    "\n",
    "#Split train and test data\n",
    "x_train, x_test = mn_mx_scaler[:3232], mn_mx_scaler[3232:] \n",
    "y_train, y_test = train_labels_master[:3232].values.ravel(), train_labels_master[3232:].values.ravel()\n"
   ]
  },
  {
   "cell_type": "code",
   "execution_count": 51,
   "metadata": {},
   "outputs": [
    {
     "name": "stdout",
     "output_type": "stream",
     "text": [
      "Accuracy score for 1 SVD comps, 1 GMM comps, Covariance type spherical = 0.6373762376237624\n",
      "Accuracy score for 1 SVD comps, 2 GMM comps, Covariance type spherical = 0.5371287128712872\n",
      "Accuracy score for 1 SVD comps, 3 GMM comps, Covariance type spherical = 0.525990099009901\n",
      "Accuracy score for 1 SVD comps, 4 GMM comps, Covariance type spherical = 0.556930693069307\n",
      "Accuracy score for 1 SVD comps, 5 GMM comps, Covariance type spherical = 0.5185643564356436\n",
      "Accuracy score for 1 SVD comps, 6 GMM comps, Covariance type spherical = 0.5024752475247525\n",
      "Accuracy score for 1 SVD comps, 7 GMM comps, Covariance type spherical = 0.49876237623762376\n",
      "Accuracy score for 1 SVD comps, 8 GMM comps, Covariance type spherical = 0.5012376237623762\n",
      "Accuracy score for 1 SVD comps, 9 GMM comps, Covariance type spherical = 0.530940594059406\n",
      "Accuracy score for 1 SVD comps, 10 GMM comps, Covariance type spherical = 0.5507425742574258\n",
      "Accuracy score for 2 SVD comps, 1 GMM comps, Covariance type spherical = 0.5618811881188119\n",
      "Accuracy score for 2 SVD comps, 2 GMM comps, Covariance type spherical = 0.620049504950495\n",
      "Accuracy score for 2 SVD comps, 3 GMM comps, Covariance type spherical = 0.599009900990099\n",
      "Accuracy score for 2 SVD comps, 4 GMM comps, Covariance type spherical = 0.6113861386138614\n",
      "Accuracy score for 2 SVD comps, 5 GMM comps, Covariance type spherical = 0.5853960396039604\n",
      "Accuracy score for 3 SVD comps, 1 GMM comps, Covariance type spherical = 0.5606435643564357\n",
      "Accuracy score for 3 SVD comps, 2 GMM comps, Covariance type spherical = 0.6485148514851485\n",
      "Accuracy score for 3 SVD comps, 3 GMM comps, Covariance type spherical = 0.6596534653465347\n",
      "Accuracy score for 4 SVD comps, 1 GMM comps, Covariance type spherical = 0.5594059405940595\n",
      "Accuracy score for 4 SVD comps, 2 GMM comps, Covariance type spherical = 0.5334158415841584\n",
      "Accuracy score for 5 SVD comps, 1 GMM comps, Covariance type spherical = 0.5631188118811881\n",
      "Accuracy score for 5 SVD comps, 2 GMM comps, Covariance type spherical = 0.6237623762376238\n",
      "Accuracy score for 6 SVD comps, 1 GMM comps, Covariance type spherical = 0.5705445544554455\n",
      "Accuracy score for 7 SVD comps, 1 GMM comps, Covariance type spherical = 0.5779702970297029\n",
      "Accuracy score for 8 SVD comps, 1 GMM comps, Covariance type spherical = 0.5804455445544554\n",
      "Accuracy score for 9 SVD comps, 1 GMM comps, Covariance type spherical = 0.5816831683168316\n",
      "Accuracy score for 10 SVD comps, 1 GMM comps, Covariance type spherical = 0.5829207920792079\n",
      "Accuracy score for 1 SVD comps, 1 GMM comps, Covariance type diag = 0.6373762376237624\n",
      "Accuracy score for 1 SVD comps, 2 GMM comps, Covariance type diag = 0.5408415841584159\n",
      "Accuracy score for 1 SVD comps, 3 GMM comps, Covariance type diag = 0.525990099009901\n",
      "Accuracy score for 1 SVD comps, 4 GMM comps, Covariance type diag = 0.5581683168316832\n",
      "Accuracy score for 1 SVD comps, 5 GMM comps, Covariance type diag = 0.5185643564356436\n",
      "Accuracy score for 1 SVD comps, 6 GMM comps, Covariance type diag = 0.5334158415841584\n",
      "Accuracy score for 1 SVD comps, 7 GMM comps, Covariance type diag = 0.5111386138613861\n",
      "Accuracy score for 1 SVD comps, 8 GMM comps, Covariance type diag = 0.5148514851485149\n",
      "Accuracy score for 1 SVD comps, 9 GMM comps, Covariance type diag = 0.5358910891089109\n",
      "Accuracy score for 1 SVD comps, 10 GMM comps, Covariance type diag = 0.46782178217821785\n",
      "Accuracy score for 2 SVD comps, 1 GMM comps, Covariance type diag = 0.5581683168316832\n",
      "Accuracy score for 2 SVD comps, 2 GMM comps, Covariance type diag = 0.6101485148514851\n",
      "Accuracy score for 2 SVD comps, 3 GMM comps, Covariance type diag = 0.6002475247524752\n",
      "Accuracy score for 2 SVD comps, 4 GMM comps, Covariance type diag = 0.5655940594059405\n",
      "Accuracy score for 2 SVD comps, 5 GMM comps, Covariance type diag = 0.594059405940594\n",
      "Accuracy score for 3 SVD comps, 1 GMM comps, Covariance type diag = 0.5742574257425742\n",
      "Accuracy score for 3 SVD comps, 2 GMM comps, Covariance type diag = 0.5643564356435643\n",
      "Accuracy score for 3 SVD comps, 3 GMM comps, Covariance type diag = 0.6373762376237624\n",
      "Accuracy score for 4 SVD comps, 1 GMM comps, Covariance type diag = 0.6150990099009901\n",
      "Accuracy score for 4 SVD comps, 2 GMM comps, Covariance type diag = 0.49876237623762376\n",
      "Accuracy score for 5 SVD comps, 1 GMM comps, Covariance type diag = 0.6423267326732673\n",
      "Accuracy score for 5 SVD comps, 2 GMM comps, Covariance type diag = 0.5482673267326733\n",
      "Accuracy score for 6 SVD comps, 1 GMM comps, Covariance type diag = 0.676980198019802\n",
      "Accuracy score for 7 SVD comps, 1 GMM comps, Covariance type diag = 0.7017326732673267\n",
      "Accuracy score for 8 SVD comps, 1 GMM comps, Covariance type diag = 0.6955445544554455\n",
      "Accuracy score for 9 SVD comps, 1 GMM comps, Covariance type diag = 0.7277227722772277\n",
      "Accuracy score for 10 SVD comps, 1 GMM comps, Covariance type diag = 0.7264851485148515\n",
      "Accuracy score for 1 SVD comps, 1 GMM comps, Covariance type tied = 0.6373762376237624\n",
      "Accuracy score for 1 SVD comps, 2 GMM comps, Covariance type tied = 0.5408415841584159\n",
      "Accuracy score for 1 SVD comps, 3 GMM comps, Covariance type tied = 0.5346534653465347\n",
      "Accuracy score for 1 SVD comps, 4 GMM comps, Covariance type tied = 0.5297029702970297\n",
      "Accuracy score for 1 SVD comps, 5 GMM comps, Covariance type tied = 0.504950495049505\n",
      "Accuracy score for 1 SVD comps, 6 GMM comps, Covariance type tied = 0.5668316831683168\n",
      "Accuracy score for 1 SVD comps, 7 GMM comps, Covariance type tied = 0.6089108910891089\n",
      "Accuracy score for 1 SVD comps, 8 GMM comps, Covariance type tied = 0.556930693069307\n",
      "Accuracy score for 1 SVD comps, 9 GMM comps, Covariance type tied = 0.5\n",
      "Accuracy score for 1 SVD comps, 10 GMM comps, Covariance type tied = 0.5358910891089109\n",
      "Accuracy score for 2 SVD comps, 1 GMM comps, Covariance type tied = 0.6497524752475248\n",
      "Accuracy score for 2 SVD comps, 2 GMM comps, Covariance type tied = 0.655940594059406\n",
      "Accuracy score for 2 SVD comps, 3 GMM comps, Covariance type tied = 0.6373762376237624\n",
      "Accuracy score for 2 SVD comps, 4 GMM comps, Covariance type tied = 0.6745049504950495\n",
      "Accuracy score for 2 SVD comps, 5 GMM comps, Covariance type tied = 0.6522277227722773\n",
      "Accuracy score for 3 SVD comps, 1 GMM comps, Covariance type tied = 0.7004950495049505\n",
      "Accuracy score for 3 SVD comps, 2 GMM comps, Covariance type tied = 0.5878712871287128\n",
      "Accuracy score for 3 SVD comps, 3 GMM comps, Covariance type tied = 0.6905940594059405\n",
      "Accuracy score for 4 SVD comps, 1 GMM comps, Covariance type tied = 0.6881188118811881\n",
      "Accuracy score for 4 SVD comps, 2 GMM comps, Covariance type tied = 0.6720297029702971\n",
      "Accuracy score for 5 SVD comps, 1 GMM comps, Covariance type tied = 0.6893564356435643\n",
      "Accuracy score for 5 SVD comps, 2 GMM comps, Covariance type tied = 0.6423267326732673\n",
      "Accuracy score for 6 SVD comps, 1 GMM comps, Covariance type tied = 0.6831683168316832\n",
      "Accuracy score for 7 SVD comps, 1 GMM comps, Covariance type tied = 0.7215346534653465\n",
      "Accuracy score for 8 SVD comps, 1 GMM comps, Covariance type tied = 0.7054455445544554\n",
      "Accuracy score for 9 SVD comps, 1 GMM comps, Covariance type tied = 0.7264851485148515\n",
      "Accuracy score for 10 SVD comps, 1 GMM comps, Covariance type tied = 0.7227722772277227\n",
      "Accuracy score for 1 SVD comps, 1 GMM comps, Covariance type full = 0.6373762376237624\n",
      "Accuracy score for 1 SVD comps, 2 GMM comps, Covariance type full = 0.5408415841584159\n",
      "Accuracy score for 1 SVD comps, 3 GMM comps, Covariance type full = 0.5272277227722773\n",
      "Accuracy score for 1 SVD comps, 4 GMM comps, Covariance type full = 0.5618811881188119\n",
      "Accuracy score for 1 SVD comps, 5 GMM comps, Covariance type full = 0.5185643564356436\n",
      "Accuracy score for 1 SVD comps, 6 GMM comps, Covariance type full = 0.5111386138613861\n",
      "Accuracy score for 1 SVD comps, 7 GMM comps, Covariance type full = 0.5061881188118812\n",
      "Accuracy score for 1 SVD comps, 8 GMM comps, Covariance type full = 0.568069306930693\n",
      "Accuracy score for 1 SVD comps, 9 GMM comps, Covariance type full = 0.5321782178217822\n",
      "Accuracy score for 1 SVD comps, 10 GMM comps, Covariance type full = 0.5086633663366337\n",
      "Accuracy score for 2 SVD comps, 1 GMM comps, Covariance type full = 0.6497524752475248\n",
      "Accuracy score for 2 SVD comps, 2 GMM comps, Covariance type full = 0.6113861386138614\n",
      "Accuracy score for 2 SVD comps, 3 GMM comps, Covariance type full = 0.6522277227722773\n",
      "Accuracy score for 2 SVD comps, 4 GMM comps, Covariance type full = 0.6027227722772277\n",
      "Accuracy score for 2 SVD comps, 5 GMM comps, Covariance type full = 0.6089108910891089\n",
      "Accuracy score for 3 SVD comps, 1 GMM comps, Covariance type full = 0.7004950495049505\n",
      "Accuracy score for 3 SVD comps, 2 GMM comps, Covariance type full = 0.573019801980198\n",
      "Accuracy score for 3 SVD comps, 3 GMM comps, Covariance type full = 0.573019801980198\n",
      "Accuracy score for 4 SVD comps, 1 GMM comps, Covariance type full = 0.6881188118811881\n",
      "Accuracy score for 4 SVD comps, 2 GMM comps, Covariance type full = 0.4591584158415842\n",
      "Accuracy score for 5 SVD comps, 1 GMM comps, Covariance type full = 0.6893564356435643\n",
      "Accuracy score for 5 SVD comps, 2 GMM comps, Covariance type full = 0.4430693069306931\n",
      "Accuracy score for 6 SVD comps, 1 GMM comps, Covariance type full = 0.6831683168316832\n",
      "Accuracy score for 7 SVD comps, 1 GMM comps, Covariance type full = 0.7215346534653465\n",
      "Accuracy score for 8 SVD comps, 1 GMM comps, Covariance type full = 0.7054455445544554\n",
      "Accuracy score for 9 SVD comps, 1 GMM comps, Covariance type full = 0.7264851485148515\n",
      "Accuracy score for 10 SVD comps, 1 GMM comps, Covariance type full = 0.7227722772277227\n",
      "*********************************************************************************\n",
      "The best accuracy score is 0.7277227722772277\n",
      "To get it, set SVD comps to 9 , GMM comps to 1 , and covariance type to diag\n"
     ]
    }
   ],
   "source": [
    "gmm_trials(sparse = False, max_params = 40) "
   ]
  },
  {
   "cell_type": "markdown",
   "metadata": {},
   "source": [
    "Result: a 0.73 accuracy score is less than the logistic regression baseline. "
   ]
  },
  {
   "cell_type": "markdown",
   "metadata": {},
   "source": [
    "### Reduce vectorized word field, plug it into logistic regression with other features"
   ]
  },
  {
   "cell_type": "code",
   "execution_count": 143,
   "metadata": {},
   "outputs": [],
   "source": [
    "#Create Sparse matrix of words\n",
    "count_vect = CountVectorizer()\n",
    "x_train = train_data_master[:3232]['request_text_edit_aware']\n",
    "x_test = train_data_master[3232:]['request_text_edit_aware'] \n",
    "train_features = count_vect.fit_transform(x_train)\n",
    "dev_features = count_vect.transform(x_test)\n",
    "\n",
    "#Reduce the vectorized word feature to small number of numerical components\n",
    "svd_comps = 110 # 110 after some trial and error, this was the best\n",
    "svd = TruncatedSVD(n_components=svd_comps)\n",
    "svd_ft_tr = svd.fit_transform(train_features)\n",
    "svd_ft_dv = svd.fit_transform(dev_features)\n",
    "svd_ft = np.concatenate((svd_ft_tr, svd_ft_dv), axis=0)\n",
    "\n",
    "# add the newly reduced text field feature to the train and test data\n",
    "train_data_SVD = train_data_master.copy(deep = True)\n",
    "for comp in range(svd_comps):\n",
    "    train_data_SVD['SVD'+str(comp)] = svd_ft[:,comp]\n",
    "\n",
    "#Normalize all fields (numeric)\n",
    "min_max_scaler = preprocessing.MinMaxScaler()\n",
    "mn_mx_scaler = min_max_scaler.fit_transform(train_data_SVD.select_dtypes(include = ['float64', 'int64','datetime64[ns]']).apply(pd.to_numeric).values)\n",
    "\n",
    "#Split train and test data\n",
    "x_train, x_test = mn_mx_scaler[:3232], mn_mx_scaler[3232:] \n",
    "y_train, y_test = train_labels_master[:3232].values.ravel(), train_labels_master[3232:].values.ravel()\n"
   ]
  },
  {
   "cell_type": "code",
   "execution_count": 144,
   "metadata": {},
   "outputs": [
    {
     "name": "stdout",
     "output_type": "stream",
     "text": [
      "Logistic Regression (using only common numeric fields)\n",
      "---------\n",
      "             precision    recall  f1-score   support\n",
      "\n",
      "      False       0.77      0.98      0.86       612\n",
      "       True       0.48      0.07      0.12       196\n",
      "\n",
      "avg / total       0.70      0.76      0.68       808\n",
      "\n"
     ]
    },
    {
     "data": {
      "image/png": "[encoded data removed]",
      "text/plain": [
       "<Figure size 216x216 with 2 Axes>"
      ]
     },
     "metadata": {},
     "output_type": "display_data"
    },
    {
     "data": {
      "image/png": "[encoded data removed]",
      "text/plain": [
       "<Figure size 432x288 with 1 Axes>"
      ]
     },
     "metadata": {},
     "output_type": "display_data"
    }
   ],
   "source": [
    "# do logistic regression on our new train data\n",
    "\n",
    "def model_report(title, y_test, predictions):\n",
    "\n",
    "    \"\"\"\n",
    "    Output: Classification report, confusion matrix, and ROC curve\n",
    "    \"\"\"\n",
    "    print(title)\n",
    "    print(\"---------\")\n",
    "    print(classification_report(y_test, predictions))\n",
    "\n",
    "    cm = metrics.confusion_matrix(y_test, predictions)\n",
    "    plt.figure(figsize=(3,3))\n",
    "    sns.heatmap(cm, annot=True, fmt=\".0f\", linewidths=.5, square = True, cmap = 'Blues_r');\n",
    "    plt.ylabel('Actual label');\n",
    "    plt.xlabel('Predicted label');\n",
    "    all_sample_title = 'Accuracy: {0}'.format(round(metrics.accuracy_score(y_test, predictions),2))\n",
    "    plt.title(all_sample_title, size = 15)\n",
    "    plt.show()\n",
    "    \n",
    "    fpr, tpr, threshold = metrics.roc_curve(y_test, predictions)\n",
    "    roc_auc = metrics.auc(fpr, tpr)\n",
    "\n",
    "    plt.title('Receiver Operating Characteristic')\n",
    "    plt.plot(fpr, tpr, 'b', label = 'AUC = %0.2f' % roc_auc)\n",
    "    plt.legend(loc = 'lower right')\n",
    "    plt.plot([0, 1], [0, 1],'r--')\n",
    "    plt.xlim([0, 1])\n",
    "    plt.ylim([0, 1])\n",
    "    plt.ylabel('True Positive Rate')\n",
    "    plt.xlabel('False Positive Rate')\n",
    "    plt.show()\n",
    "    \n",
    "#Train Model\n",
    "# all parameters not specified are set to their defaults\n",
    "logisticRegr = LogisticRegression()\n",
    "logisticRegr.fit(x_train, y_train)\n",
    "predictions = logisticRegr.predict(x_test)\n",
    "\n",
    "#Output model report\n",
    "model_report(\"Logistic Regression (using only common numeric fields)\",y_test, predictions)"
   ]
  },
  {
   "cell_type": "markdown",
   "metadata": {},
   "source": []
  },
  {
   "cell_type": "code",
   "execution_count": 137,
   "metadata": {},
   "outputs": [],
   "source": [
    "#Create Sparse matrix of words\n",
    "count_vect = TfidfVectorizer()\n",
    "x_train = train_data_master[:3232]['request_text_edit_aware']\n",
    "x_test = train_data_master[3232:]['request_text_edit_aware'] \n",
    "train_features = count_vect.fit_transform(x_train)\n",
    "dev_features = count_vect.transform(x_test)\n",
    "\n",
    "#Reduce the vectorized word feature to small number of numerical components\n",
    "svd_comps = 25 # 25 after some trial and error, this was the best\n",
    "svd = TruncatedSVD(n_components=svd_comps)\n",
    "svd_ft_tr = svd.fit_transform(train_features)\n",
    "svd_ft_dv = svd.fit_transform(dev_features)\n",
    "svd_ft = np.concatenate((svd_ft_tr, svd_ft_dv), axis=0)\n",
    "\n",
    "# add the newly reduced text field feature to the train and test data\n",
    "train_data_SVD = train_data_master.copy(deep = True)\n",
    "for comp in range(svd_comps):\n",
    "    train_data_SVD['SVD'+str(comp)] = svd_ft[:,comp]\n",
    "\n",
    "#Normalize all fields (numeric)\n",
    "min_max_scaler = preprocessing.MinMaxScaler()\n",
    "mn_mx_scaler = min_max_scaler.fit_transform(train_data_SVD.select_dtypes(include = ['float64', 'int64','datetime64[ns]']).apply(pd.to_numeric).values)\n",
    "\n",
    "#Split train and test data\n",
    "x_train, x_test = mn_mx_scaler[:3232], mn_mx_scaler[3232:] \n",
    "y_train, y_test = train_labels_master[:3232].values.ravel(), train_labels_master[3232:].values.ravel()\n"
   ]
  },
  {
   "cell_type": "code",
   "execution_count": 138,
   "metadata": {},
   "outputs": [
    {
     "name": "stdout",
     "output_type": "stream",
     "text": [
      "Logistic Regression (using only common numeric fields)\n",
      "---------\n",
      "             precision    recall  f1-score   support\n",
      "\n",
      "      False       0.76      0.98      0.86       612\n",
      "       True       0.45      0.05      0.09       196\n",
      "\n",
      "avg / total       0.69      0.75      0.67       808\n",
      "\n"
     ]
    },
    {
     "data": {
      "image/png": "[encoded data removed]",
      "text/plain": [
       "<Figure size 216x216 with 2 Axes>"
      ]
     },
     "metadata": {},
     "output_type": "display_data"
    },
    {
     "data": {
      "image/png": "[encoded data removed]",
      "text/plain": [
       "<Figure size 432x288 with 1 Axes>"
      ]
     },
     "metadata": {},
     "output_type": "display_data"
    }
   ],
   "source": [
    "# do logistic regression on our new train data\n",
    "\n",
    "def model_report(title, y_test, predictions):\n",
    "\n",
    "    \"\"\"\n",
    "    Output: Classification report, confusion matrix, and ROC curve\n",
    "    \"\"\"\n",
    "    print(title)\n",
    "    print(\"---------\")\n",
    "    print(classification_report(y_test, predictions))\n",
    "\n",
    "    cm = metrics.confusion_matrix(y_test, predictions)\n",
    "    plt.figure(figsize=(3,3))\n",
    "    sns.heatmap(cm, annot=True, fmt=\".0f\", linewidths=.5, square = True, cmap = 'Blues_r');\n",
    "    plt.ylabel('Actual label');\n",
    "    plt.xlabel('Predicted label');\n",
    "    all_sample_title = 'Accuracy: {0}'.format(round(metrics.accuracy_score(y_test, predictions),2))\n",
    "    plt.title(all_sample_title, size = 15)\n",
    "    plt.show()\n",
    "    \n",
    "    fpr, tpr, threshold = metrics.roc_curve(y_test, predictions)\n",
    "    roc_auc = metrics.auc(fpr, tpr)\n",
    "\n",
    "    plt.title('Receiver Operating Characteristic')\n",
    "    plt.plot(fpr, tpr, 'b', label = 'AUC = %0.2f' % roc_auc)\n",
    "    plt.legend(loc = 'lower right')\n",
    "    plt.plot([0, 1], [0, 1],'r--')\n",
    "    plt.xlim([0, 1])\n",
    "    plt.ylim([0, 1])\n",
    "    plt.ylabel('True Positive Rate')\n",
    "    plt.xlabel('False Positive Rate')\n",
    "    plt.show()\n",
    "    \n",
    "#Train Model\n",
    "# all parameters not specified are set to their defaults\n",
    "logisticRegr = LogisticRegression()\n",
    "logisticRegr.fit(x_train, y_train)\n",
    "predictions = logisticRegr.predict(x_test)\n",
    "\n",
    "#Output model report\n",
    "model_report(\"Logistic Regression (using only common numeric fields)\",y_test, predictions)"
   ]
  },
  {
   "cell_type": "markdown",
   "metadata": {},
   "source": [
    "### Results\n",
    "* Reducing the vectorized word feature got us to 0.68 accuracy - the exact same accuracy that Naive Bayes got us. \n",
    "* Reducing all the features (even those not in the test set) got us to 0.74 accuracy - a bit less than the 0.75 accuracy from logistic regression on the features. \n",
    "* Reducing just the features that are shared by train and test sets got us to 0.73 accuracy - even further from the 0.75 accuracy of logistic regression.\n",
    "* Vectorizing the text field, reducing it through SVD to 110 components, adding it to the train data, and running logistic regression again did improve accuracy by small margins.\n",
    "* Tfidf vectorizing the text field before doing the above did not improve the accuracy."
   ]
  },
  {
   "cell_type": "markdown",
   "metadata": {},
   "source": [
    "# Kevin's Misadventures in Feature Imputation\n",
    "EDA and experiments in predicting the features that are included in training data, but missing from test data."
   ]
  },
  {
   "cell_type": "markdown",
   "metadata": {},
   "source": [
    "## Correlation Analysis of Missing Features\n",
    "As identified in the initial EDA, the training data contains a number of features that are not present in the test data (beyond whether or not a pizza was received). We would like to explore whether predicting any of these missing feature values can be used to improve the accuracy of our classification predictions. The first step is examining the relationship between these features and the sucess of the pizza request.\n",
    "Because most of these \"missing\" features are continuous variables, and our success/failure variable is binary, we'll start our exploration by running a Point-Biserial correlation analysis for each feature of interest."
   ]
  },
  {
   "cell_type": "code",
   "execution_count": null,
   "metadata": {},
   "outputs": [],
   "source": [
    "from scipy import stats\n",
    "# List the numeric columns that are in the training data, but not in the test data\n",
    "numeric_cols = ['number_of_downvotes_of_request_at_retrieval',\n",
    "       'number_of_upvotes_of_request_at_retrieval',\n",
    "       'request_number_of_comments_at_retrieval',\n",
    "       'requester_account_age_in_days_at_retrieval',\n",
    "       'requester_days_since_first_post_on_raop_at_retrieval',\n",
    "       'requester_number_of_comments_at_retrieval',\n",
    "       'requester_number_of_comments_in_raop_at_retrieval',\n",
    "       'requester_number_of_posts_at_retrieval',\n",
    "       'requester_number_of_posts_on_raop_at_retrieval',\n",
    "       'requester_upvotes_minus_downvotes_at_retrieval',\n",
    "       'requester_upvotes_plus_downvotes_at_retrieval']\n",
    "\n",
    "# Iterate through the column list and evaluate point-biserial correlation with whether a pizza was received.\n",
    "results = []\n",
    "for col in numeric_cols:\n",
    "    result = stats.pointbiserialr(train[col],train['requester_received_pizza'])\n",
    "    temp = list((col,result[0],result[1]))\n",
    "    results.append(temp)\n",
    "\n",
    "df_corr = pd.DataFrame(results)\n",
    "df_corr.columns = ['Feature Name','Correlation','p-value']\n",
    "df_corr"
   ]
  },
  {
   "cell_type": "markdown",
   "metadata": {},
   "source": [
    "Based on the correlation analysis, most of the \"missing\" features are very weakly correlated with whether the requestor received a pizza. The strongest relationships are with the number of comments on the request (r = 0.289), the number of comments the requestor has made in the RAOP subreddit (r = 0.274), and the number of posts the requestor has made in the RAOP subreddit (r = 0.461). \n",
    "Based on these relationships, we'll isolate these three variables for further analysis."
   ]
  },
  {
   "cell_type": "markdown",
   "metadata": {},
   "source": [
    "## Prediction of Missing Feature Values\n",
    "Attempting to impute missing features using a multioutput random forest regressor."
   ]
  },
  {
   "cell_type": "code",
   "execution_count": null,
   "metadata": {},
   "outputs": [],
   "source": [
    "from sklearn.ensemble import RandomForestRegressor\n",
    "from sklearn.multioutput import MultiOutputRegressor\n",
    "\n",
    "regr_multirf = RandomForestRegressor(max_depth=30,random_state=0)\n",
    "\n",
    "# cols_to_predict = list(('request_number_of_comments_at_retrieval','requester_number_of_comments_in_raop_at_retrieval','requester_number_of_posts_on_raop_at_retrieval'))\n",
    "cols_to_predict = 'requester_number_of_posts_on_raop_at_retrieval'\n",
    "impute_train_data = train[test.columns]\n",
    "impute_train_labels = train[cols_to_predict]\n",
    "# impute_train_labels\n",
    "impute_train_scaled = min_max_scaler.fit_transform(impute_train_data.select_dtypes(include = ['float64', 'int64','datetime64[ns]']).apply(pd.to_numeric).values)\n",
    "\n",
    "x_impute_train, x_impute_test, y_impute_train, y_impute_test = train_test_split(impute_train_scaled, impute_train_labels.values, test_size=0.2, random_state=0)\n",
    "\n",
    "# y_impute_train.shape\n",
    "                                    \n",
    "regr_multirf.fit(x_impute_train, y_impute_train)\n",
    "score = regr_multirf.score(x_impute_test, y_impute_test)\n",
    "print(\"Test data prediction score: {:.2f}%\".format(score*100))\n"
   ]
  },
  {
   "cell_type": "code",
   "execution_count": null,
   "metadata": {},
   "outputs": [],
   "source": []
  }
 ],
 "metadata": {
  "kernelspec": {
   "display_name": "Python 3",
   "language": "python",
   "name": "python3"
  },
  "language_info": {
   "codemirror_mode": {
    "name": "ipython",
    "version": 3
   },
   "file_extension": ".py",
   "mimetype": "text/x-python",
   "name": "python",
   "nbconvert_exporter": "python",
   "pygments_lexer": "ipython3",
   "version": "3.6.5"
  }
 },
 "nbformat": 4,
 "nbformat_minor": 2
}
