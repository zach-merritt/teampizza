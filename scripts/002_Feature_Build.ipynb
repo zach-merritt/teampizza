{
 "cells": [
  {
   "cell_type": "markdown",
   "metadata": {},
   "source": [
    "# Potential Features:\n",
    "- % of words captialized in title, in text\n",
    "- Starting with a greeting (e.g., hello, hi)\n",
    "- length of title/text\n",
    "- use of non-capitalization (e.g., 'i')\n",
    "- use of texting language (e.g., 'u' instead of 'you')\n",
    "- mention of a) wife, b) husband, c) children/kids, d) family, ... and so on\n",
    "- mention of a disease or the word sick (need list of disease names).\n",
    "- find popular phrases ('find it in your heart') and create field for that.\n",
    "- mention of:\n",
    "    - 'military'\n",
    "    - 'nurse'\n",
    "    - 'teacher'\n",
    "    - 'pay day'\n",
    "    - 'cash'\n",
    "    - 'work'\n",
    "- region of person posting (can use UTC minus timestamp to find timezone)"
   ]
  },
  {
   "cell_type": "code",
   "execution_count": null,
   "metadata": {
    "collapsed": true
   },
   "outputs": [],
   "source": []
  }
 ],
 "metadata": {
  "kernelspec": {
   "display_name": "Python 3",
   "language": "python",
   "name": "python3"
  },
  "language_info": {
   "codemirror_mode": {
    "name": "ipython",
    "version": 3
   },
   "file_extension": ".py",
   "mimetype": "text/x-python",
   "name": "python",
   "nbconvert_exporter": "python",
   "pygments_lexer": "ipython3",
   "version": "3.6.5"
  }
 },
 "nbformat": 4,
 "nbformat_minor": 2
}
