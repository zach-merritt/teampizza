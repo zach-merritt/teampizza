{
 "cells": [
  {
   "cell_type": "markdown",
   "metadata": {},
   "source": [
    "# Random Acts of Pizza - Final Project\n",
    "## Authors: Ben Arnoldy, Mary Boardman, Zach Merritt, and Kevin Gifford\n",
    "#### Kaggle Competition Description:\n",
    "In machine learning, it is often said there are no free lunches. How wrong we were.\n",
    "\n",
    "This competition contains a dataset with 5671 textual requests for pizza from the Reddit community Random Acts of Pizza together with their outcome (successful/unsuccessful) and meta-data. Participants must create an algorithm capable of predicting which requests will garner a cheesy (but sincere!) act of kindness.\n",
    "\n",
    "\"I'll write a poem, sing a song, do a dance, play an instrument, whatever! I just want a pizza,\" says one hopeful poster. What about making an algorithm?\n",
    "\n",
    "Kaggle is hosting this competition for the machine learning community to use for fun and practice. This data was collected and graciously shared by Althoff et al. (Buy them a pizza -- data collection is a thankless and tedious job!) We encourage participants to explore their accompanying paper and ask that you cite the following reference in any publications that result from your work:\n",
    "\n",
    "Tim Althoff, Cristian Danescu-Niculescu-Mizil, Dan Jurafsky. How to Ask for a Favor: A Case Study on the Success of Altruistic Requests, Proceedings of ICWSM, 2014.\n",
    "_______________________________________________________________________________________________"
   ]
  },
  {
   "cell_type": "markdown",
   "metadata": {},
   "source": [
    "## Section 1: Load and Process Data\n",
    "#### Load the 'Random Acts of Pizza' train and test data and perform basic processing"
   ]
  },
  {
   "cell_type": "markdown",
   "metadata": {},
   "source": [
    "### A. Load Data and Modules"
   ]
  },
  {
   "cell_type": "code",
   "execution_count": 62,
   "metadata": {},
   "outputs": [
    {
     "ename": "ModuleNotFoundError",
     "evalue": "No module named 'wordcloud'",
     "output_type": "error",
     "traceback": [
      "\u001b[1;31m---------------------------------------------------------------------------\u001b[0m",
      "\u001b[1;31mModuleNotFoundError\u001b[0m                       Traceback (most recent call last)",
      "\u001b[1;32m<ipython-input-62-5aa81dfd8ca5>\u001b[0m in \u001b[0;36m<module>\u001b[1;34m()\u001b[0m\n\u001b[0;32m     39\u001b[0m \u001b[1;32mimport\u001b[0m \u001b[0mmatplotlib\u001b[0m\u001b[1;33m.\u001b[0m\u001b[0mpyplot\u001b[0m \u001b[1;32mas\u001b[0m \u001b[0mplt\u001b[0m\u001b[1;33m\u001b[0m\u001b[0m\n\u001b[0;32m     40\u001b[0m \u001b[0mplt\u001b[0m\u001b[1;33m.\u001b[0m\u001b[0mstyle\u001b[0m\u001b[1;33m.\u001b[0m\u001b[0muse\u001b[0m\u001b[1;33m(\u001b[0m\u001b[1;34m'bmh'\u001b[0m\u001b[1;33m)\u001b[0m\u001b[1;33m\u001b[0m\u001b[0m\n\u001b[1;32m---> 41\u001b[1;33m \u001b[1;32mfrom\u001b[0m \u001b[0mwordcloud\u001b[0m \u001b[1;32mimport\u001b[0m \u001b[0mWordCloud\u001b[0m\u001b[1;33m,\u001b[0m \u001b[0mSTOPWORDS\u001b[0m\u001b[1;33m\u001b[0m\u001b[0m\n\u001b[0m",
      "\u001b[1;31mModuleNotFoundError\u001b[0m: No module named 'wordcloud'"
     ]
    }
   ],
   "source": [
    "# Data and Data Structures\n",
    "import json\n",
    "import pandas as pd\n",
    "import numpy as np\n",
    "import seaborn as sns\n",
    "from datetime import datetime\n",
    "from subprocess import check_output\n",
    "\n",
    "# Machine Learning\n",
    "from sklearn.model_selection import train_test_split\n",
    "from sklearn.linear_model import LogisticRegression\n",
    "from sklearn import metrics\n",
    "from sklearn.metrics import classification_report\n",
    "from sklearn.feature_extraction.text import CountVectorizer\n",
    "from sklearn.naive_bayes import MultinomialNB\n",
    "from sklearn.naive_bayes import BernoulliNB\n",
    "from sklearn import preprocessing\n",
    "from sklearn.preprocessing import StandardScaler\n",
    "from sklearn.preprocessing import Normalizer\n",
    "from sklearn.decomposition import PCA\n",
    "from sklearn.cluster import KMeans\n",
    "from sklearn.mixture import GMM\n",
    "from sklearn.mixture import GaussianMixture\n",
    "from sklearn.decomposition import TruncatedSVD\n",
    "from sklearn.random_projection import sparse_random_matrix\n",
    "from sklearn.feature_extraction.text import TfidfVectorizer\n",
    "from sklearn.cluster import KMeans\n",
    "from sklearn.pipeline import make_pipeline\n",
    "from sklearn.ensemble import RandomForestRegressor\n",
    "from sklearn.multioutput import MultiOutputRegressor\n",
    "from sklearn.grid_search import GridSearchCV\n",
    "\n",
    "# Visualization\n",
    "%matplotlib inline\n",
    "import matplotlib as mpl\n",
    "from matplotlib.colors import ListedColormap\n",
    "from matplotlib.colors import LogNorm\n",
    "import matplotlib.pyplot as plt\n",
    "plt.style.use('bmh')\n",
    "from wordcloud import WordCloud, STOPWORDS"
   ]
  },
  {
   "cell_type": "code",
   "execution_count": null,
   "metadata": {},
   "outputs": [],
   "source": [
    "# Load Train Data\n",
    "with open('../data/train.json') as fin:\n",
    "    trainjson = json.load(fin)\n",
    "train = pd.io.json.json_normalize(trainjson)\n",
    "\n",
    "# Load Test Data\n",
    "with open('../data/test.json') as fin:\n",
    "    testjson = json.load(fin)\n",
    "test = pd.io.json.json_normalize(testjson)\n",
    "\n",
    "print(\"Train Shape:\", train.shape)\n",
    "print(\"Test Shape:\", test.shape)"
   ]
  },
  {
   "cell_type": "markdown",
   "metadata": {},
   "source": [
    "### B1. Find any missing values"
   ]
  },
  {
   "cell_type": "code",
   "execution_count": null,
   "metadata": {},
   "outputs": [],
   "source": [
    "train.isnull().sum()"
   ]
  },
  {
   "cell_type": "markdown",
   "metadata": {},
   "source": [
    "No missing data except in column \"requester_user_flair.\" We see in the next section that this isn't a column in the test data, so we elected to not use it to train the model. "
   ]
  },
  {
   "cell_type": "markdown",
   "metadata": {},
   "source": [
    "### B2. Identify common columns between test and train"
   ]
  },
  {
   "cell_type": "code",
   "execution_count": null,
   "metadata": {},
   "outputs": [],
   "source": [
    "print(\"Common columns in train and test:\")\n",
    "print(train.columns[train.columns.isin(test.columns)])\n",
    "print(\"----\")\n",
    "print(\"Columns in train but NOT test:\")\n",
    "print(train.columns[~train.columns.isin(test.columns)])"
   ]
  },
  {
   "cell_type": "markdown",
   "metadata": {},
   "source": [
    "As can be seen above, there is a series of columns in the training data only. These columns reflect data about the post (e.g., the number of upvotes) at the time this Reddit data was retrieved."
   ]
  },
  {
   "cell_type": "markdown",
   "metadata": {},
   "source": [
    "### C. Create training data, labels, and 'in training only' data"
   ]
  },
  {
   "cell_type": "code",
   "execution_count": null,
   "metadata": {},
   "outputs": [],
   "source": [
    "train_labels_master = train[['requester_received_pizza']]\n",
    "train_data_master = train[test.columns & train.columns]\n",
    "train_only_data_master = train[train.columns[~train.columns.isin(test.columns)]].drop(['requester_received_pizza'], axis = 1)"
   ]
  },
  {
   "cell_type": "code",
   "execution_count": null,
   "metadata": {},
   "outputs": [],
   "source": [
    "print(train.shape, train_data_master.shape)"
   ]
  },
  {
   "cell_type": "markdown",
   "metadata": {},
   "source": [
    "### D. Set column types and profile"
   ]
  },
  {
   "cell_type": "code",
   "execution_count": null,
   "metadata": {},
   "outputs": [],
   "source": [
    "train_data_master = train_data_master.assign(\n",
    "    unix_timestamp_of_request = pd.to_datetime(\n",
    "        train_data_master.unix_timestamp_of_request, unit = \"s\"),\n",
    "    unix_timestamp_of_request_utc = pd.to_datetime(\n",
    "        train_data_master.unix_timestamp_of_request_utc, unit = \"s\"))"
   ]
  },
  {
   "cell_type": "code",
   "execution_count": null,
   "metadata": {},
   "outputs": [],
   "source": [
    "train_data_master.describe()\n",
    "train_data_master.info()"
   ]
  },
  {
   "cell_type": "markdown",
   "metadata": {},
   "source": [
    "## Section 2: EDA\n",
    "#### Conduct an Exploratory Data Analysis (EDA) to explore the data set"
   ]
  },
  {
   "cell_type": "markdown",
   "metadata": {},
   "source": [
    "### A. Print Example Posts"
   ]
  },
  {
   "cell_type": "code",
   "execution_count": null,
   "metadata": {},
   "outputs": [],
   "source": [
    "for a in [False, True]:\n",
    "    for b in range(2):\n",
    "        print(\"requester_received_pizza ==\",a)\n",
    "        print(\"------\")\n",
    "        i = train[train['requester_received_pizza']==a].index[b]\n",
    "        print('UID:\\t', trainjson[i]['request_id'], '\\n')\n",
    "        print('Title:\\t', trainjson[i]['request_title'], '\\n')\n",
    "        print('Text:\\t', trainjson[i]['request_text_edit_aware'], '\\n')\n",
    "        print('Tag:\\t', trainjson[i]['requester_received_pizza'], end='\\n')\n",
    "        print(\"______________________________________\")\n",
    "    print(\"______________________________________\")"
   ]
  },
  {
   "cell_type": "markdown",
   "metadata": {},
   "source": [
    "### B. Visualize Dependent Variable: Did the requester recieve a pizza?"
   ]
  },
  {
   "cell_type": "code",
   "execution_count": null,
   "metadata": {},
   "outputs": [],
   "source": [
    "(sns.countplot(x = train_labels_master.requester_received_pizza).\n",
    "set_title(\"# of instances in which the requester received a pizza\"));"
   ]
  },
  {
   "cell_type": "markdown",
   "metadata": {},
   "source": [
    "### C. Visualize All Numeric Fields"
   ]
  },
  {
   "cell_type": "markdown",
   "metadata": {},
   "source": [
    "#### 1. Train and Test Data Visualization"
   ]
  },
  {
   "cell_type": "code",
   "execution_count": null,
   "metadata": {},
   "outputs": [],
   "source": [
    "df_num = (train_data_master.select_dtypes(include = ['float64', 'int64']))\n",
    "df_num.shape\n",
    "\n",
    "fig = df_num.hist(figsize=(16, 10), bins=50, xlabelsize=8, ylabelsize=8, ec=\"k\")\n",
    "fig = [x.title.set_size(10) for x in fig.ravel()]\n",
    "fig;"
   ]
  },
  {
   "cell_type": "markdown",
   "metadata": {},
   "source": [
    "#### 2. Train (Only) Visualization"
   ]
  },
  {
   "cell_type": "code",
   "execution_count": null,
   "metadata": {},
   "outputs": [],
   "source": [
    "df_num = (train_only_data_master) # All columns are numeric\n",
    "df_num.shape\n",
    "\n",
    "fig = df_num.hist(figsize=(16, 10), bins=50, xlabelsize=8, ylabelsize=8, ec=\"k\")\n",
    "fig = [x.title.set_size(10) for x in fig.ravel()]\n",
    "fig;"
   ]
  },
  {
   "cell_type": "markdown",
   "metadata": {},
   "source": [
    "### D. Visualize requests and granted requests over time"
   ]
  },
  {
   "cell_type": "code",
   "execution_count": null,
   "metadata": {},
   "outputs": [],
   "source": [
    "# Data setup\n",
    "ts = pd.DataFrame({'granted requests':train_labels_master.requester_received_pizza.tolist(),\n",
    "                  'requests':[1] * train_labels_master.shape[0]},\n",
    "                index = train_data_master.unix_timestamp_of_request.dt.date.tolist())\n",
    "ts = ts.groupby(ts.index).sum()\n",
    "ts_month = pd.DataFrame({'granted requests':train_labels_master.requester_received_pizza.tolist(),\n",
    "                  'requests':[1] * train_labels_master.shape[0]},\n",
    "                index = (train_data_master.unix_timestamp_of_request.dt.date + pd.offsets.MonthBegin(0)).tolist())\n",
    "ts_month = ts_month.groupby(ts_month.index).sum()\n",
    "\n",
    "# Plots\n",
    "# 1. By day\n",
    "plt.figure(figsize=(20, 5))\n",
    "plt.subplot(1,3,1)\n",
    "plt.plot(ts)\n",
    "plt.title(\"# of requests and granted requests per day\")\n",
    "plt.xticks(rotation=45)\n",
    "\n",
    "# 2. By Month\n",
    "plt.subplot(1,3,2)\n",
    "plt.plot(ts_month)\n",
    "plt.title(\"# of requests and granted requests per month\")\n",
    "plt.xticks(rotation=45)\n",
    "\n",
    "# 3. By Month (prop)\n",
    "plt.subplot(1,3,3)\n",
    "plt.plot(ts_month.assign(prop_granted = ts_month['granted requests'] / ts_month['requests'])['prop_granted'])\n",
    "plt.title(\"proportion of requests granter per month\")\n",
    "plt.xticks(rotation=45)\n",
    "\n",
    "plt.show()"
   ]
  },
  {
   "cell_type": "markdown",
   "metadata": {},
   "source": [
    "As seen above, there was a spike of requests in the in mid 2011 and in the end of 2013. However, besides those periods, the number of requests has remained relatively stagnant at 100 - 150 per month. \n",
    "\n",
    "Additionally, while there is a slight downward trend to the proportion of requests granted, the proportion has also remained relatively stagnant at 15% to 30% of requests being granted per month."
   ]
  },
  {
   "cell_type": "markdown",
   "metadata": {},
   "source": [
    "### E. Generate Word Clouds of Granted and Ungranted Requests"
   ]
  },
  {
   "cell_type": "code",
   "execution_count": null,
   "metadata": {},
   "outputs": [],
   "source": [
    "granted = train_data_master[train_labels_master['requester_received_pizza']==True]\n",
    "ungranted = train_data_master[train_labels_master['requester_received_pizza']==False]\n",
    "\n",
    "mpl.rcParams['font.size']=12        \n",
    "mpl.rcParams['savefig.dpi']=100         \n",
    "mpl.rcParams['figure.subplot.bottom']=.1 \n",
    "\n",
    "stopwords = set(STOPWORDS)\n",
    "\n",
    "wordcloud = WordCloud(\n",
    "                          background_color='white',\n",
    "                          stopwords=stopwords,\n",
    "                          max_words=50,\n",
    "                          max_font_size=50, \n",
    "                          random_state=42\n",
    "                         ).generate(str(granted['request_text_edit_aware']))\n",
    "\n",
    "fig = plt.figure(1)\n",
    "plt.imshow(wordcloud, interpolation=\"bilinear\")\n",
    "plt.axis('off')\n",
    "plt.tight_layout(pad=0)\n",
    "plt.title(\"Word Cloud for Granted Requests\",fontsize=22, fontweight='bold')\n",
    "plt.show()\n",
    "\n",
    "wordcloud = WordCloud(\n",
    "                          background_color='white',\n",
    "                          stopwords=stopwords,\n",
    "                          max_words=50,\n",
    "                          max_font_size=50, \n",
    "                          random_state=42\n",
    "                         ).generate(str(ungranted['request_text_edit_aware']))\n",
    "\n",
    "fig = plt.figure(1)\n",
    "plt.imshow(wordcloud, interpolation=\"bilinear\")\n",
    "plt.axis('off')\n",
    "plt.tight_layout(pad=0)\n",
    "plt.title(\"Word Cloud for Ungranted Requests\",fontsize=22, fontweight='bold')\n",
    "plt.show()"
   ]
  },
  {
   "cell_type": "markdown",
   "metadata": {},
   "source": [
    "## Section 3: Establish Train/Test Sets and Generic Function"
   ]
  },
  {
   "cell_type": "markdown",
   "metadata": {},
   "source": [
    "### A. Set Train/Test\n",
    "\n",
    "Note: We used a development data set throughout our process. However, in this final report we only use the test and train process."
   ]
  },
  {
   "cell_type": "code",
   "execution_count": null,
   "metadata": {},
   "outputs": [],
   "source": [
    "# Isolate the text column for the training and dev dataframes\n",
    "x_atrain, x_atest, y_train, y_test = train_test_split(\n",
    "   train,\n",
    "   train_labels_master.values.ravel(), test_size=0.29, random_state=0)\n",
    "\n",
    "# x_atrain and x_atest contain all columns (including ones which are only in the original \"test\" data)\n",
    "# We impute these values later\n",
    "x_train = x_atrain[test.columns & train.columns]\n",
    "x_test = x_atest[test.columns & train.columns]\n",
    "\n",
    "print(\"Our Train Shape:\", x_train.shape)\n",
    "print(\"Our Test Shape:\", x_test.shape)"
   ]
  },
  {
   "cell_type": "markdown",
   "metadata": {},
   "source": [
    "### B. Model Report Function"
   ]
  },
  {
   "cell_type": "code",
   "execution_count": null,
   "metadata": {},
   "outputs": [],
   "source": [
    "# Below is the code used throughout the project to generate reports for each model\n",
    "\n",
    "def model_report(title, y_test, predictions):\n",
    "\n",
    "    \"\"\"\n",
    "    Output: Classification report, confusion matrix, and ROC curve\n",
    "    \"\"\"\n",
    "    print(title)\n",
    "    print(\"---------\")\n",
    "    print(classification_report(y_test, predictions))\n",
    "\n",
    "    cm = metrics.confusion_matrix(y_test, predictions)\n",
    "    plt.figure(figsize=(3,3))\n",
    "    sns.heatmap(cm, annot=True, fmt=\".0f\", linewidths=.5, square = True, cmap = 'Blues_r');\n",
    "    plt.ylabel('Actual label');\n",
    "    plt.xlabel('Predicted label');\n",
    "    all_sample_title = 'Accuracy: {0}'.format(round(metrics.accuracy_score(y_test, predictions),2))\n",
    "    plt.title(all_sample_title, size = 14)\n",
    "    plt.show()\n",
    "    \n",
    "    fpr, tpr, threshold = metrics.roc_curve(y_test, predictions)\n",
    "    roc_auc = metrics.auc(fpr, tpr)\n",
    "\n",
    "    plt.title('Receiver Operating Characteristic')\n",
    "    plt.plot(fpr, tpr, 'b', label = 'AUC = %0.2f' % roc_auc)\n",
    "    plt.legend(loc = 'lower right')\n",
    "    plt.plot([0, 1], [0, 1],'r--')\n",
    "    plt.xlim([0, 1])\n",
    "    plt.ylim([0, 1])\n",
    "    plt.ylabel('True Positive Rate')\n",
    "    plt.xlabel('False Positive Rate')\n",
    "    plt.show()"
   ]
  },
  {
   "cell_type": "markdown",
   "metadata": {},
   "source": [
    "## Section 4: Naive Bayes Baseline\n",
    "#### Create a baseline Naive Bayes model using text (non-numeric) fields only. "
   ]
  },
  {
   "cell_type": "markdown",
   "metadata": {},
   "source": [
    "### A. Preprocessing"
   ]
  },
  {
   "cell_type": "code",
   "execution_count": null,
   "metadata": {},
   "outputs": [],
   "source": [
    "# Create Sparse matrix of words\n",
    "count_vect = CountVectorizer()\n",
    "\n",
    "# Apply to train and test data\n",
    "x_trainNB = count_vect.fit_transform(x_train['request_text_edit_aware'])\n",
    "x_testNB = count_vect.transform(x_test['request_text_edit_aware'])\n",
    "\n",
    "# Print the first and last five words\n",
    "cv_feature_names = count_vect.get_feature_names()\n",
    "print(\"First five words:\")\n",
    "print(cv_feature_names[:5])\n",
    "print(\"Last five words:\")\n",
    "print(cv_feature_names[-5:])"
   ]
  },
  {
   "cell_type": "markdown",
   "metadata": {},
   "source": [
    "### B. Train Model and Print Results"
   ]
  },
  {
   "cell_type": "code",
   "execution_count": null,
   "metadata": {},
   "outputs": [],
   "source": [
    "# All parameters not specified are set to their defaults\n",
    "nb = BernoulliNB()\n",
    "nb.fit(x_trainNB, y_train)\n",
    "predictions = nb.predict(x_testNB)\n",
    "\n",
    "model_report(\"Naive Bayes (using text field only)\",y_test, predictions)"
   ]
  },
  {
   "cell_type": "markdown",
   "metadata": {},
   "source": [
    "## Section 5: Logistic Regression Baseline\n",
    "#### Create a baseline Logisitic Regression model using non-text (numeric) fields only. "
   ]
  },
  {
   "cell_type": "markdown",
   "metadata": {},
   "source": [
    "### A. Preprocessing"
   ]
  },
  {
   "cell_type": "code",
   "execution_count": null,
   "metadata": {},
   "outputs": [],
   "source": [
    "# Normalize all fields (numeric)\n",
    "min_max_scaler = preprocessing.MinMaxScaler()\n",
    "x_trainLR = min_max_scaler.fit_transform(\n",
    "    x_train.select_dtypes(include = ['float64', 'int64','datetime64[ns]']).apply(pd.to_numeric).values)\n",
    "\n",
    "# Apply to test set\n",
    "x_testLR = min_max_scaler.transform(\n",
    "    x_test.select_dtypes(include = ['float64', 'int64','datetime64[ns]']).apply(pd.to_numeric).values)"
   ]
  },
  {
   "cell_type": "markdown",
   "metadata": {},
   "source": [
    "### B. Train Model and Print Results"
   ]
  },
  {
   "cell_type": "code",
   "execution_count": null,
   "metadata": {},
   "outputs": [],
   "source": [
    "# All parameters not specified are set to their defaults\n",
    "logisticRegr = LogisticRegression()\n",
    "logisticRegr.fit(x_trainLR, y_train)\n",
    "predictions = logisticRegr.predict(x_testLR)\n",
    "\n",
    "# Output model report\n",
    "model_report(\"Logistic Regression (using only common numeric fields)\",y_test, predictions)"
   ]
  },
  {
   "cell_type": "markdown",
   "metadata": {},
   "source": [
    "## Section 6: Winning Model"
   ]
  },
  {
   "cell_type": "markdown",
   "metadata": {},
   "source": [
    "### Improved Logistic Regression"
   ]
  },
  {
   "cell_type": "markdown",
   "metadata": {},
   "source": [
    "To make improvements on our baseline, we normalized the numeric data and conducted feature engineering to our baseline Logistic Regression model. Then, we vectorized our text data using CountVectorizer, and reduced dimensionality using Truncated SVD. We then determined the optimal number of SVD components. Because there were features in training data not present in the test data, we imputed the features for the test data using a random forest regressor. \n",
    "\n",
    "Finally, we determined the optimal logistic regression regularization before running our final model. Ultimately, we were able to improve the AUC (Area under the ROC Curve) score by 5 points above the logistic regression baseline."
   ]
  },
  {
   "cell_type": "markdown",
   "metadata": {},
   "source": [
    "### A. Feature Engineering"
   ]
  },
  {
   "cell_type": "code",
   "execution_count": 79,
   "metadata": {},
   "outputs": [],
   "source": [
    "def make_features(vocab):\n",
    "    # This function takes as input a string list of words\n",
    "    # It outputs four np.arrays: \n",
    "    # 1. Train data feature dealing with title text\n",
    "    # 2. Train data feature dealing with body text\n",
    "    # 3. Test data feature dealing with title text\n",
    "    # 4. Test data feature dealing with body text\n",
    "\n",
    "    # Initialize feature variables to 0\n",
    "    train_feature_title = np.zeros(shape = (x_train.shape[0],1))\n",
    "    train_feature_body = np.zeros(shape = (x_train.shape[0],1))\n",
    "    test_feature_title = np.zeros(shape = (x_test.shape[0],1))\n",
    "    test_feature_body = np.zeros(shape = (x_test.shape[0],1))\n",
    "\n",
    "    # Look through each training sample for occurences of vocab words\n",
    "    for sample_row in range(x_train.shape[0]):\n",
    "        title_text = str(x_train.request_title.iloc[sample_row]).lower()\n",
    "        body_text = str(x_train.request_text_edit_aware.iloc[sample_row]).lower() \n",
    "    \n",
    "        for word in vocab:\n",
    "            if word in title_text:\n",
    "                train_feature_title[sample_row] = 1\n",
    "            if word in body_text:\n",
    "                train_feature_body[sample_row] = 1            \n",
    "        \n",
    "    # Look through each test sample for occurences of vocab words\n",
    "    for sample_row in range(x_test.shape[0]):\n",
    "        title_text = str(x_test.request_title.iloc[sample_row]).lower()\n",
    "        body_text = str(x_test.request_text_edit_aware.iloc[sample_row]).lower()\n",
    "\n",
    "        for word in vocab:\n",
    "            if word in title_text:\n",
    "                test_feature_title[sample_row] = 1\n",
    "            if word in body_text:\n",
    "                test_feature_body[sample_row] = 1\n",
    "\n",
    "    return(train_feature_title, train_feature_body, test_feature_title, test_feature_body)"
   ]
  },
  {
   "cell_type": "markdown",
   "metadata": {},
   "source": [
    "#### 1. Real hunger\n",
    "The idea here: People who literally don't have enough to eat could elicit sympathetic responses."
   ]
  },
  {
   "cell_type": "code",
   "execution_count": 80,
   "metadata": {},
   "outputs": [],
   "source": [
    "vocab = ['pantry','shelter','homeless','nowhere','nothing']\n",
    "train_hunger_title, train_hunger_body, test_hunger_title, test_hunger_body = make_features(vocab)"
   ]
  },
  {
   "cell_type": "markdown",
   "metadata": {},
   "source": [
    "#### 2. In-group features\n",
    "The idea here: People who reference the reddit community and the lingo may be more sympathetic. "
   ]
  },
  {
   "cell_type": "code",
   "execution_count": 81,
   "metadata": {},
   "outputs": [],
   "source": [
    "vocab = ['roap', 'reddit']\n",
    "train_ingroup_title, train_ingroup_body, test_ingroup_title, test_ingroup_body = make_features(vocab)"
   ]
  },
  {
   "cell_type": "markdown",
   "metadata": {},
   "source": [
    "#### 3. Student features\n",
    "The idea here: Students may be sympathetic. Found that most student terms were unhelpful, but 'ramen' was a winner."
   ]
  },
  {
   "cell_type": "code",
   "execution_count": 82,
   "metadata": {},
   "outputs": [],
   "source": [
    "vocab = ['ramen']\n",
    "train_student_title, train_student_body, test_student_title, test_student_body = make_features(vocab)"
   ]
  },
  {
   "cell_type": "markdown",
   "metadata": {},
   "source": [
    "#### 4. 'You're a good person' features\n",
    "The idea here: People may be more inclined to give pizza to those who seem to be good people. "
   ]
  },
  {
   "cell_type": "code",
   "execution_count": 83,
   "metadata": {},
   "outputs": [],
   "source": [
    "vocab = ['bless','generosity','kind','generous']\n",
    "train_goodie_title, train_goodie_body, test_goodie_title, test_goodie_body = make_features(vocab)"
   ]
  },
  {
   "cell_type": "markdown",
   "metadata": {},
   "source": [
    "#### 5. Religious features\n",
    "The idea here: I'm a good Christian, now buy me a pizza!"
   ]
  },
  {
   "cell_type": "code",
   "execution_count": 84,
   "metadata": {},
   "outputs": [],
   "source": [
    "vocab = ['lord','prayer','savior','personal','saved','forgiven', 'mercy']\n",
    "train_god_title, train_god_body, test_god_title, test_god_body ,= make_features(vocab)"
   ]
  },
  {
   "cell_type": "markdown",
   "metadata": {},
   "source": [
    "#### 6. Gratitude / politeness features\n",
    "The idea here: What's the magic word?"
   ]
  },
  {
   "cell_type": "code",
   "execution_count": 85,
   "metadata": {},
   "outputs": [],
   "source": [
    "vocab = ['please', 'thank', 'thanks']\n",
    "train_polite_title, train_polite_body, test_polite_title, test_polite_body = make_features(vocab)"
   ]
  },
  {
   "cell_type": "markdown",
   "metadata": {},
   "source": [
    "#### 7. Expenses features\n",
    "The idea here: Don't tell me you're broke or poor (these were losers), tell me specific expenses. Tell me how the rent is too high!"
   ]
  },
  {
   "cell_type": "code",
   "execution_count": 86,
   "metadata": {},
   "outputs": [],
   "source": [
    "vocab = ['rent','car']\n",
    "train_expenses_title, train_expenses_body, test_expenses_title, test_expenses_body = make_features(vocab)"
   ]
  },
  {
   "cell_type": "markdown",
   "metadata": {},
   "source": [
    "#### 8. Hard work features\n",
    "The idea here: More sympathy when someone is trying."
   ]
  },
  {
   "cell_type": "code",
   "execution_count": 87,
   "metadata": {},
   "outputs": [],
   "source": [
    "vocab = ['work','job', 'tight']\n",
    "train_work_title, train_work_body, test_work_title, test_work_body = make_features(vocab)"
   ]
  },
  {
   "cell_type": "markdown",
   "metadata": {},
   "source": [
    "#### 9. Celebration features\n",
    "The idea here: Wanting to celebrate happy events (with a pizza)!"
   ]
  },
  {
   "cell_type": "code",
   "execution_count": 88,
   "metadata": {},
   "outputs": [],
   "source": [
    "vocab = ['birthday','wedding','married','engaged','bday','b-day','anniversary']\n",
    "train_celebrate_title, train_celebrate_body, test_celebrate_title, test_celebrate_body = make_features(vocab)"
   ]
  },
  {
   "cell_type": "markdown",
   "metadata": {},
   "source": [
    "#### 10. Gender-based features\n",
    "The idea here: Buy an attractive woman a pizza."
   ]
  },
  {
   "cell_type": "code",
   "execution_count": 89,
   "metadata": {},
   "outputs": [],
   "source": [
    "vocab = ['hot','hawt','female','woman','chick','babe','lonely']\n",
    "train_chicks_title, train_chicks_body, test_chicks_title, test_chicks_body = make_features(vocab)"
   ]
  },
  {
   "cell_type": "markdown",
   "metadata": {},
   "source": [
    "#### 11. Title/body text length features\n",
    "The idea here: People may get tired of reading long text or may need more details from posts/titles that are too short. "
   ]
  },
  {
   "cell_type": "code",
   "execution_count": 90,
   "metadata": {},
   "outputs": [],
   "source": [
    "def small(data, size):\n",
    "    \n",
    "    # Initialize feature variable to 0\n",
    "    issmall = np.zeros(shape = (data.shape[0],1))\n",
    "    counter = 0\n",
    "\n",
    "    # Look through each training sample for body text size\n",
    "    for sample in data:\n",
    "        if len(sample) < size:\n",
    "            issmall[counter] = 1\n",
    "        counter +=1\n",
    "    return(issmall)\n",
    "            \n",
    "def large(data, size):\n",
    "    \n",
    "    # Initialize feature variable to 0\n",
    "    islarge = np.zeros(shape = (data.shape[0],1))\n",
    "    counter = 0\n",
    "\n",
    "    # Look through each training sample for body text size\n",
    "    for sample in data:\n",
    "        if len(sample) > size:\n",
    "            islarge[counter] = 1\n",
    "        counter +=1\n",
    "    return(islarge)\n",
    "\n",
    "def charcount(data):\n",
    "    \n",
    "    # Initialize feature variable to 0\n",
    "    numchars = np.zeros(shape = (data.shape[0],1))\n",
    "    counter = 0\n",
    "\n",
    "    # Look through each training sample and count the text length\n",
    "    for sample in data:\n",
    "        numchars[counter] = len(sample)\n",
    "        counter +=1\n",
    "        \n",
    "    return(numchars)\n",
    "\n",
    "def readable(data):\n",
    "\n",
    "    # Features created with this function did help with initial accuracy but not after SVD\n",
    "    \n",
    "    # Initialize feature variable to 0\n",
    "    readability = np.zeros(shape = (data.shape[0],1))\n",
    "    counter = 0\n",
    "\n",
    "    # Look through each training sample and get readability score\n",
    "    for sample in data:\n",
    "        try:\n",
    "            readability[counter] = textstat.dale_chall_readability_score(str(sample))\n",
    "        except:\n",
    "            readability[counter] = 0\n",
    "        counter +=1\n",
    "        \n",
    "    return(readability)\n",
    "\n",
    "def readable2(data):\n",
    "\n",
    "    # Features created with this function did help with initial accuracy but not after SVD\n",
    "    \n",
    "    # Initialize feature variable to 0\n",
    "    readability = np.zeros(shape = (data.shape[0],1))\n",
    "    counter = 0\n",
    "\n",
    "    # Look through each training sample and get another readability score\n",
    "    for sample in data:\n",
    "        try:\n",
    "            readability[counter] = textstat.flesch_reading_ease(str(sample))\n",
    "        except:\n",
    "            readability[counter] = 0\n",
    "        counter +=1\n",
    "        \n",
    "    return(readability)"
   ]
  },
  {
   "cell_type": "markdown",
   "metadata": {},
   "source": [
    "#### 12. Train Draft Model and Print Results"
   ]
  },
  {
   "cell_type": "code",
   "execution_count": 91,
   "metadata": {},
   "outputs": [
    {
     "name": "stdout",
     "output_type": "stream",
     "text": [
      "Logistic Regression (normalized)\n",
      "---------\n",
      "             precision    recall  f1-score   support\n",
      "\n",
      "      False       0.77      0.99      0.87       891\n",
      "       True       0.68      0.06      0.11       281\n",
      "\n",
      "avg / total       0.75      0.77      0.69      1172\n",
      "\n"
     ]
    },
    {
     "data": {
      "image/png": "[encoded data removed]",
      "text/plain": [
       "<Figure size 216x216 with 2 Axes>"
      ]
     },
     "metadata": {},
     "output_type": "display_data"
    },
    {
     "data": {
      "image/png": "[encoded data removed]",
      "text/plain": [
       "<Figure size 432x288 with 1 Axes>"
      ]
     },
     "metadata": {},
     "output_type": "display_data"
    },
    {
     "name": "stdout",
     "output_type": "stream",
     "text": [
      "(2868, 30) (2868, 11)\n",
      "Logistic Regression (normalized with engineered features)\n",
      "---------\n",
      "             precision    recall  f1-score   support\n",
      "\n",
      "      False       0.78      0.99      0.87       891\n",
      "       True       0.75      0.10      0.17       281\n",
      "\n",
      "avg / total       0.77      0.78      0.70      1172\n",
      "\n"
     ]
    },
    {
     "data": {
      "image/png": "[encoded data removed]",
      "text/plain": [
       "<Figure size 216x216 with 2 Axes>"
      ]
     },
     "metadata": {},
     "output_type": "display_data"
    },
    {
     "data": {
      "image/png": "[encoded data removed]",
      "text/plain": [
       "<Figure size 432x288 with 1 Axes>"
      ]
     },
     "metadata": {},
     "output_type": "display_data"
    }
   ],
   "source": [
    "# Normalize all fields (numeric)\n",
    "min_max_scaler = preprocessing.MinMaxScaler()\n",
    "x_train_scaled = min_max_scaler.fit_transform(\n",
    "    x_train.select_dtypes(include = ['float64', 'int64','datetime64[ns]']).apply(pd.to_numeric).values)\n",
    "x_test_scaled = min_max_scaler.fit_transform(\n",
    "    x_test.select_dtypes(include = ['float64', 'int64','datetime64[ns]']).apply(pd.to_numeric).values)\n",
    "\n",
    "# Train normalized logistic regression model\n",
    "logisticRegr = LogisticRegression()\n",
    "logisticRegr.fit(x_train_scaled, y_train)\n",
    "predictions = logisticRegr.predict(x_test_scaled)\n",
    "\n",
    "# Output normalized logistic regression model report\n",
    "model_report(\"Logistic Regression (normalized)\",y_test, predictions)\n",
    "\n",
    "x_train_full = x_train_scaled.copy()\n",
    "x_test_full = x_test_scaled.copy()\n",
    "\n",
    "# Add new bernoulli features to the train and test data\n",
    "x_hunger_full = np.append(x_train_full, train_hunger_title, 1)\n",
    "x_hunger_full = np.append(x_train_full, train_hunger_body, 1)\n",
    "x_hunger_full = np.append(x_test_full, test_hunger_title, 1)\n",
    "x_hunger_full = np.append(x_test_full, test_hunger_body, 1)\n",
    "x_train_full = np.append(x_train_full, train_ingroup_title, 1) \n",
    "x_train_full = np.append(x_train_full, train_ingroup_body, 1) \n",
    "x_test_full = np.append(x_test_full, test_ingroup_title, 1) \n",
    "x_test_full = np.append(x_test_full, test_ingroup_body, 1) \n",
    "x_train_full = np.append(x_train_full, train_student_title, 1)  \n",
    "x_train_full = np.append(x_train_full, train_student_body, 1) \n",
    "x_test_full = np.append(x_test_full, test_student_title, 1) \n",
    "x_test_full = np.append(x_test_full, test_student_body, 1) \n",
    "x_train_full = np.append(x_train_full, train_goodie_title, 1)\n",
    "x_train_full = np.append(x_train_full, train_goodie_body, 1)\n",
    "x_test_full = np.append(x_test_full, test_goodie_title, 1)\n",
    "x_test_full = np.append(x_test_full, test_goodie_body, 1)\n",
    "x_train_full = np.append(x_train_full, train_god_title, 1) \n",
    "x_train_full = np.append(x_train_full, train_god_body, 1) \n",
    "x_test_full = np.append(x_test_full, test_god_title, 1) \n",
    "x_test_full = np.append(x_test_full, test_god_body, 1) \n",
    "x_train_full = np.append(x_train_full, train_polite_title, 1) \n",
    "x_train_full = np.append(x_train_full, train_polite_body, 1)  \n",
    "x_test_full = np.append(x_test_full, test_polite_title, 1) \n",
    "x_test_full = np.append(x_test_full, test_polite_body, 1) \n",
    "x_train_full = np.append(x_train_full, train_expenses_title, 1)\n",
    "x_train_full = np.append(x_train_full, train_expenses_body, 1)\n",
    "x_test_full = np.append(x_test_full, test_expenses_title, 1)\n",
    "x_test_full = np.append(x_test_full, test_expenses_body, 1)\n",
    "x_train_full = np.append(x_train_full, train_work_title, 1) \n",
    "x_train_full = np.append(x_train_full, train_work_body, 1) \n",
    "x_test_full = np.append(x_test_full, test_work_title, 1) \n",
    "x_test_full = np.append(x_test_full, test_work_body, 1) \n",
    "x_train_full = np.append(x_train_full, train_celebrate_title, 1) \n",
    "x_train_full = np.append(x_train_full, train_celebrate_body, 1) \n",
    "x_test_full = np.append(x_test_full, test_celebrate_title, 1) \n",
    "x_test_full = np.append(x_test_full, test_celebrate_body, 1) \n",
    "x_train_full = np.append(x_train_full, train_chicks_title, 1) \n",
    "x_train_full = np.append(x_train_full, train_chicks_body, 1) \n",
    "x_test_full = np.append(x_test_full, test_chicks_title, 1) \n",
    "x_test_full = np.append(x_test_full, test_chicks_body, 1) \n",
    "\n",
    "# Add Bernoulli features small / large\n",
    "x_train_full = np.append(x_train_full, small(x_train.request_title,20), 1)\n",
    "x_test_full = np.append(x_test_full, small(x_test.request_title,20), 1)\n",
    "\n",
    "print(x_train_full.shape, x_train_scaled.shape)\n",
    "\n",
    "# Train normalized logistic regression model with feature engineering\n",
    "logisticRegr = LogisticRegression()\n",
    "logisticRegr.fit(x_train_full, y_train)\n",
    "predictions = logisticRegr.predict(x_test_full)\n",
    "\n",
    "# Output new model report\n",
    "model_report(\"Logistic Regression (normalized with engineered features)\",y_test, predictions)\n"
   ]
  },
  {
   "cell_type": "markdown",
   "metadata": {},
   "source": [
    "As we can see with the above models, normalizing the numeric data improves the logistic regression baseline AUC score by 2 points. Then, with some feature engineering, we were able to improve this normalized logistic regression model by 3 points in the AUC score, compared to the baseline. "
   ]
  },
  {
   "cell_type": "markdown",
   "metadata": {},
   "source": [
    "### C. Vectorizer and Dimensionality Reduction"
   ]
  },
  {
   "cell_type": "markdown",
   "metadata": {},
   "source": [
    "Next, we vectorized the text features using CountVectorizer and reduced the dimensionality with Truncated Singular Value Decomposition (SVD). We used Truncated SVD instead of Principal Components Analysis (PCA) because we are using a sparse matrix of data, instead of a dense one. Then, we determined the optimal number of components before adding this dimension-reduced and vectorized text data to the numeric data. "
   ]
  },
  {
   "cell_type": "code",
   "execution_count": 92,
   "metadata": {},
   "outputs": [
    {
     "name": "stdout",
     "output_type": "stream",
     "text": [
      "Please wait while the best SVD component number is found...\n",
      "The best AUC score for various SVD component numbers was 0.5558591050880494\n"
     ]
    }
   ],
   "source": [
    "# Create Sparse matrix of words\n",
    "count_vect = CountVectorizer() \n",
    "vect_train_body = count_vect.fit_transform(x_train.request_text_edit_aware)\n",
    "vect_test_body = count_vect.transform(x_test.request_text_edit_aware)\n",
    "\n",
    "def boildown (svd_comps):\n",
    "    \n",
    "    # Reduce the vectorized word feature to small number of numerical components\n",
    "    svd_body = TruncatedSVD(n_components=svd_comps)\n",
    "    svd_train_body = svd_body.fit_transform(vect_train_body)\n",
    "    svd_test_body = svd_body.fit_transform(vect_test_body)\n",
    "\n",
    "    # Add vectorized features to train and test\n",
    "    x_train_newandvect = x_train_full.copy()\n",
    "    x_test_newandvect = x_test_full.copy()\n",
    "    for comp in range(svd_comps):\n",
    "        x_train_newandvect = np.hstack((x_train_newandvect, svd_train_body[:,comp].reshape(-1,1)))\n",
    "        x_test_newandvect = np.hstack((x_test_newandvect, svd_test_body[:,comp].reshape(-1,1)))\n",
    "\n",
    "    # Train new feature + vectorized model\n",
    "    logisticRegr = LogisticRegression()\n",
    "    logisticRegr.fit(x_train_newandvect, y_train)\n",
    "    predictions = logisticRegr.predict(x_test_newandvect)\n",
    "    \n",
    "    # Compute AUC\n",
    "    fpr, tpr, threshold = metrics.roc_curve(y_test, predictions)\n",
    "    roc_auc = metrics.auc(fpr, tpr)\n",
    "    \n",
    "    return(roc_auc, x_train_newandvect, x_test_newandvect)\n",
    "\n",
    "best_auc = 0 # Stores best value\n",
    "best_svd_comps = 0 # Stores index of best AUC\n",
    "\n",
    "print(\"Please wait while the best SVD component number is found...\")\n",
    "\n",
    "for svd_comps_body in range(130):\n",
    "    auc, x_train_try, x_test_try = boildown(svd_comps_body)\n",
    "    if auc > best_auc:\n",
    "        best_auc = auc\n",
    "        x_train_vect = x_train_try.copy()\n",
    "        x_test_vect = x_test_try.copy()\n",
    "\n",
    "print(\"The best AUC score for various SVD component numbers was\", best_auc)"
   ]
  },
  {
   "cell_type": "markdown",
   "metadata": {},
   "source": [
    "### D. Input Values for Features Not Provided in the Original \"Test\" Data"
   ]
  },
  {
   "cell_type": "markdown",
   "metadata": {},
   "source": [
    "The training data has features that do not appear in the test data. To address this, we imputed the features for the test data using a random forest regressor. "
   ]
  },
  {
   "cell_type": "code",
   "execution_count": 93,
   "metadata": {},
   "outputs": [
    {
     "name": "stderr",
     "output_type": "stream",
     "text": [
      "C:\\Users\\benar\\Anaconda3\\lib\\site-packages\\sklearn\\utils\\validation.py:475: DataConversionWarning: Data with input dtype int64 was converted to float64 by MinMaxScaler.\n",
      "  warnings.warn(msg, DataConversionWarning)\n",
      "C:\\Users\\benar\\Anaconda3\\lib\\site-packages\\sklearn\\utils\\validation.py:475: DataConversionWarning: Data with input dtype int64 was converted to float64 by MinMaxScaler.\n",
      "  warnings.warn(msg, DataConversionWarning)\n",
      "C:\\Users\\benar\\Anaconda3\\lib\\site-packages\\sklearn\\utils\\validation.py:475: DataConversionWarning: Data with input dtype int64 was converted to float64 by MinMaxScaler.\n",
      "  warnings.warn(msg, DataConversionWarning)\n",
      "C:\\Users\\benar\\Anaconda3\\lib\\site-packages\\sklearn\\utils\\validation.py:475: DataConversionWarning: Data with input dtype int64 was converted to float64 by MinMaxScaler.\n",
      "  warnings.warn(msg, DataConversionWarning)\n",
      "C:\\Users\\benar\\Anaconda3\\lib\\site-packages\\sklearn\\utils\\validation.py:475: DataConversionWarning: Data with input dtype int64 was converted to float64 by MinMaxScaler.\n",
      "  warnings.warn(msg, DataConversionWarning)\n",
      "C:\\Users\\benar\\Anaconda3\\lib\\site-packages\\sklearn\\utils\\validation.py:475: DataConversionWarning: Data with input dtype int64 was converted to float64 by MinMaxScaler.\n",
      "  warnings.warn(msg, DataConversionWarning)\n",
      "C:\\Users\\benar\\Anaconda3\\lib\\site-packages\\sklearn\\utils\\validation.py:475: DataConversionWarning: Data with input dtype int64 was converted to float64 by MinMaxScaler.\n",
      "  warnings.warn(msg, DataConversionWarning)\n",
      "C:\\Users\\benar\\Anaconda3\\lib\\site-packages\\sklearn\\utils\\validation.py:475: DataConversionWarning: Data with input dtype int64 was converted to float64 by MinMaxScaler.\n",
      "  warnings.warn(msg, DataConversionWarning)\n",
      "C:\\Users\\benar\\Anaconda3\\lib\\site-packages\\sklearn\\utils\\validation.py:475: DataConversionWarning: Data with input dtype int64 was converted to float64 by MinMaxScaler.\n",
      "  warnings.warn(msg, DataConversionWarning)\n"
     ]
    }
   ],
   "source": [
    "# All the features\n",
    "cols_to_impute = ['number_of_downvotes_of_request_at_retrieval','number_of_upvotes_of_request_at_retrieval',\n",
    "                  'request_number_of_comments_at_retrieval','requester_account_age_in_days_at_retrieval',\n",
    "                  'requester_days_since_first_post_on_raop_at_retrieval','requester_number_of_comments_at_retrieval',\n",
    "                  'requester_number_of_comments_in_raop_at_retrieval','requester_number_of_posts_at_retrieval',\n",
    "                  'requester_number_of_posts_on_raop_at_retrieval','requester_upvotes_minus_downvotes_at_retrieval',\n",
    "                  'requester_upvotes_plus_downvotes_at_retrieval']\n",
    "    \n",
    "col_count = 0 # Keeps track of new columns to create\n",
    "col_to_add = [] # Stores list of columns to add\n",
    "\n",
    "x_train_fullimputed = x_train_vect.copy()\n",
    "x_test_fullimputed = x_test_vect.copy()\n",
    "\n",
    "for col_to_predict in cols_to_impute:\n",
    "        \n",
    "    regr_multirf = RandomForestRegressor(max_depth=7,random_state=0)\n",
    "\n",
    "    new_col = x_atrain[col_to_predict].apply(pd.to_numeric).values.reshape(-1,1)\n",
    "    \n",
    "    # Scale train_labels\n",
    "    min_max_scaler = preprocessing.MinMaxScaler()\n",
    "    new_col_scaled = min_max_scaler.fit_transform(new_col)\n",
    "\n",
    "    # Impute                                    \n",
    "    regr_multirf.fit(x_train_vect, new_col_scaled.ravel())\n",
    "    predicted_col = regr_multirf.predict(x_test_vect).reshape(-1,1)\n",
    "    \n",
    "    # Add the feature to both train and test\n",
    "    x_train_fullimputed = np.hstack((x_train_fullimputed, new_col_scaled))\n",
    "    x_test_fullimputed = np.hstack((x_test_fullimputed, predicted_col))\n",
    "    \n",
    "    col_count += 1"
   ]
  },
  {
   "cell_type": "markdown",
   "metadata": {},
   "source": [
    "### E. Train and Run Final Model"
   ]
  },
  {
   "cell_type": "markdown",
   "metadata": {},
   "source": [
    "Finally, we used GridSearchCV to determine the optimal C value for regularization before running our final (winning) Logistic Regression model."
   ]
  },
  {
   "cell_type": "code",
   "execution_count": 94,
   "metadata": {},
   "outputs": [
    {
     "name": "stdout",
     "output_type": "stream",
     "text": [
      "Best C value for regularization {'C': 30.0}\n",
      "Logistic Regression\n",
      "---------\n",
      "             precision    recall  f1-score   support\n",
      "\n",
      "      False       0.79      0.88      0.83       891\n",
      "       True       0.42      0.27      0.33       281\n",
      "\n",
      "avg / total       0.70      0.73      0.71      1172\n",
      "\n"
     ]
    },
    {
     "data": {
      "image/png": "[encoded data removed]",
      "text/plain": [
       "<Figure size 216x216 with 2 Axes>"
      ]
     },
     "metadata": {},
     "output_type": "display_data"
    },
    {
     "data": {
      "image/png": "[encoded data removed]",
      "text/plain": [
       "<Figure size 432x288 with 1 Axes>"
      ]
     },
     "metadata": {},
     "output_type": "display_data"
    }
   ],
   "source": [
    "# Train Model\n",
    "# All parameters not specified are set to their defaults\n",
    "regularization = {'C': [10.0, 30.0, 50.0, 100.0, 200.0, 300.0, 400.0, 500.0, 600.0, 700.0, 800.0, 900.0, 1000.0]}\n",
    "\n",
    "lr = LogisticRegression() # Penalty = 'l2'  \n",
    "optimum_lr = GridSearchCV(lr, regularization)\n",
    "lr_fit = optimum_lr.fit(x_train_fullimputed, y_train)\n",
    "predictions = lr_fit.predict(x_test_fullimputed)\n",
    "print(\"Best C value for regularization\", lr_fit.best_params_)\n",
    "\n",
    "# Output model report\n",
    "model_report(\"Logistic Regression\",y_test, predictions)"
   ]
  },
  {
   "cell_type": "markdown",
   "metadata": {},
   "source": [
    "## Section 7: Results and Reflections"
   ]
  },
  {
   "cell_type": "markdown",
   "metadata": {},
   "source": [
    "As we can see above, compared to the baseline logistic regression model, our final model increased the AUC (Area under the ROC Curve) by 5 points. Because the submissions were evaluated using AUC (https://www.kaggle.com/c/random-acts-of-pizza#evaluation), this is how we determined our winning model. "
   ]
  },
  {
   "cell_type": "code",
   "execution_count": null,
   "metadata": {},
   "outputs": [],
   "source": []
  }
 ],
 "metadata": {
  "kernelspec": {
   "display_name": "Python 3",
   "language": "python",
   "name": "python3"
  },
  "language_info": {
   "codemirror_mode": {
    "name": "ipython",
    "version": 3
   },
   "file_extension": ".py",
   "mimetype": "text/x-python",
   "name": "python",
   "nbconvert_exporter": "python",
   "pygments_lexer": "ipython3",
   "version": "3.6.5"
  }
 },
 "nbformat": 4,
 "nbformat_minor": 2
}
