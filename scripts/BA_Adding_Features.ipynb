{
 "cells": [
  {
   "cell_type": "markdown",
   "metadata": {},
   "source": [
    "# Feature Building!\n",
    "This notebook will involve efforts to create new features out of the text data fields"
   ]
  },
  {
   "cell_type": "markdown",
   "metadata": {},
   "source": [
    "### Get data from Kaggle, clean, and split"
   ]
  },
  {
   "cell_type": "code",
   "execution_count": 1,
   "metadata": {},
   "outputs": [
    {
     "name": "stderr",
     "output_type": "stream",
     "text": [
      "C:\\Users\\benar\\Anaconda3\\lib\\site-packages\\sklearn\\cross_validation.py:41: DeprecationWarning: This module was deprecated in version 0.18 in favor of the model_selection module into which all the refactored classes and functions are moved. Also note that the interface of the new CV iterators are different from that of this module. This module will be removed in 0.20.\n",
      "  \"This module will be removed in 0.20.\", DeprecationWarning)\n",
      "C:\\Users\\benar\\Anaconda3\\lib\\site-packages\\sklearn\\grid_search.py:42: DeprecationWarning: This module was deprecated in version 0.18 in favor of the model_selection module into which all the refactored classes and functions are moved. This module will be removed in 0.20.\n",
      "  DeprecationWarning)\n"
     ]
    },
    {
     "name": "stdout",
     "output_type": "stream",
     "text": [
      "Kaggle Train Shape: (4040, 32)\n",
      "Kaggle Test Shape: (1631, 17)\n",
      "Our Train Shape: (2868, 17)\n",
      "Our Test Shape: (1172, 17)\n"
     ]
    }
   ],
   "source": [
    "import re\n",
    "import json\n",
    "import csv\n",
    "import pandas as pd\n",
    "import numpy as np\n",
    "import matplotlib as mpl\n",
    "from matplotlib.colors import ListedColormap\n",
    "from matplotlib.colors import LogNorm\n",
    "import matplotlib.pyplot as plt\n",
    "import seaborn as sns\n",
    "from datetime import datetime\n",
    "\n",
    "import sys\n",
    "#!{sys.executable} -m pip install textstat\n",
    "from textstat.textstat import textstat\n",
    "\n",
    "from subprocess import check_output\n",
    "#from wordcloud import WordCloud, STOPWORDS\n",
    "\n",
    "#ML\n",
    "from sklearn.model_selection import train_test_split\n",
    "from sklearn.linear_model import LogisticRegression\n",
    "from sklearn import metrics\n",
    "from sklearn.metrics import classification_report\n",
    "from sklearn.feature_extraction.text import CountVectorizer\n",
    "from sklearn.naive_bayes import MultinomialNB\n",
    "from sklearn.naive_bayes import BernoulliNB\n",
    "from sklearn import preprocessing\n",
    "from sklearn.preprocessing import StandardScaler\n",
    "from sklearn.preprocessing import Normalizer\n",
    "from sklearn.decomposition import PCA\n",
    "from sklearn.cluster import KMeans\n",
    "from sklearn.mixture import GMM\n",
    "from sklearn.mixture import GaussianMixture\n",
    "from sklearn.ensemble import RandomForestRegressor\n",
    "from sklearn.multioutput import MultiOutputRegressor\n",
    "\n",
    "from sklearn.decomposition import TruncatedSVD\n",
    "from sklearn.random_projection import sparse_random_matrix\n",
    "\n",
    "from sklearn.feature_extraction.text import TfidfVectorizer\n",
    "from sklearn.cluster import KMeans\n",
    "\n",
    "from sklearn.grid_search import GridSearchCV \n",
    "from sklearn.pipeline import make_pipeline\n",
    "\n",
    "%matplotlib inline\n",
    "plt.style.use('bmh')\n",
    "\n",
    "#1. Train Data\n",
    "with open('../data/train.json') as fin:\n",
    "    trainjson = json.load(fin)\n",
    "train = pd.io.json.json_normalize(trainjson)\n",
    "#2. Test Data\n",
    "with open('../data/test.json') as fin:\n",
    "    testjson = json.load(fin) \n",
    "test = pd.io.json.json_normalize(testjson)\n",
    "\n",
    "print(\"Kaggle Train Shape:\", train.shape)\n",
    "print(\"Kaggle Test Shape:\", test.shape)\n",
    "\n",
    "train_labels_master = train[['requester_received_pizza']]\n",
    "train_data_master = train[test.columns & train.columns]\n",
    "train_only_data_master = train[train.columns[~train.columns.isin(test.columns)]].drop(['requester_received_pizza'], axis = 1)\n",
    "\n",
    "train_data_master = train_data_master.assign(\n",
    "    unix_timestamp_of_request = pd.to_datetime(\n",
    "        train_data_master.unix_timestamp_of_request, unit = \"s\"),\n",
    "    unix_timestamp_of_request_utc = pd.to_datetime(\n",
    "        train_data_master.unix_timestamp_of_request_utc, unit = \"s\"))\n",
    "\n",
    "# Isolate the text column for the training and dev dataframes\n",
    "x_atrain, x_atest, y_train, y_test = train_test_split(\n",
    "   train,\n",
    "   train_labels_master.values.ravel(), test_size=0.29, random_state=0)\n",
    "\n",
    "x_train = x_atrain[test.columns & train.columns]\n",
    "x_test = x_atest[test.columns & train.columns]\n",
    "\n",
    "print(\"Our Train Shape:\", x_train.shape)\n",
    "print(\"Our Test Shape:\", x_test.shape)\n",
    "\n"
   ]
  },
  {
   "cell_type": "markdown",
   "metadata": {},
   "source": [
    "### Model report function"
   ]
  },
  {
   "cell_type": "code",
   "execution_count": 2,
   "metadata": {},
   "outputs": [],
   "source": [
    "def model_report(title, y_test, predictions):\n",
    "\n",
    "    \"\"\"\n",
    "    Output: Classification report, confusion matrix, and ROC curve\n",
    "    \"\"\"\n",
    "    print(title)\n",
    "    print(\"---------\")\n",
    "    print(classification_report(y_test, predictions))\n",
    "\n",
    "    cm = metrics.confusion_matrix(y_test, predictions)\n",
    "    plt.figure(figsize=(3,3))\n",
    "    sns.heatmap(cm, annot=True, fmt=\".0f\", linewidths=.5, square = True, cmap = 'Blues_r');\n",
    "    plt.ylabel('Actual label');\n",
    "    plt.xlabel('Predicted label');\n",
    "    all_sample_title = 'Accuracy: {0}'.format(round(metrics.accuracy_score(y_test, predictions),2))\n",
    "    plt.title(all_sample_title, size = 15)\n",
    "    plt.show()\n",
    "    \n",
    "    fpr, tpr, threshold = metrics.roc_curve(y_test, predictions)\n",
    "    roc_auc = metrics.auc(fpr, tpr)\n",
    "\n",
    "    plt.title('Receiver Operating Characteristic')\n",
    "    plt.plot(fpr, tpr, 'b', label = 'AUC = %0.2f' % roc_auc)\n",
    "    plt.legend(loc = 'lower right')\n",
    "    plt.plot([0, 1], [0, 1],'r--')\n",
    "    plt.xlim([0, 1])\n",
    "    plt.ylim([0, 1])\n",
    "    plt.ylabel('True Positive Rate')\n",
    "    plt.xlabel('False Positive Rate')\n",
    "    plt.show()"
   ]
  },
  {
   "cell_type": "markdown",
   "metadata": {},
   "source": [
    "### Make features function"
   ]
  },
  {
   "cell_type": "code",
   "execution_count": 3,
   "metadata": {},
   "outputs": [],
   "source": [
    "def make_features(vocab):\n",
    "    # this function takes as input a string list of words\n",
    "    # it outputs four np.arrays: \n",
    "    # 1. train data feature dealing with title text\n",
    "    # 2. train data feature dealing with body text\n",
    "    # 3. test data feature dealing with title text\n",
    "    # 4. test data feature dealing with body text\n",
    "\n",
    "    # initialize feature variables to 0\n",
    "    train_feature_title = np.zeros(shape = (x_train.shape[0],1))\n",
    "    train_feature_body = np.zeros(shape = (x_train.shape[0],1))\n",
    "    test_feature_title = np.zeros(shape = (x_test.shape[0],1))\n",
    "    test_feature_body = np.zeros(shape = (x_test.shape[0],1))\n",
    "\n",
    "    # look through each training sample for occurences of vocab words\n",
    "    for sample_row in range(x_train.shape[0]):\n",
    "        title_text = str(x_train.request_title.iloc[sample_row]).lower()\n",
    "        body_text = str(x_train.request_text_edit_aware.iloc[sample_row]).lower() \n",
    "    \n",
    "        for word in vocab:\n",
    "            if word in title_text:\n",
    "                train_feature_title[sample_row] = 1\n",
    "            if word in body_text:\n",
    "                train_feature_body[sample_row] = 1            \n",
    "        \n",
    "    # look through each test sample for occurences of vocab words\n",
    "    for sample_row in range(x_test.shape[0]):\n",
    "        title_text = str(x_test.request_title.iloc[sample_row]).lower()\n",
    "        body_text = str(x_test.request_text_edit_aware.iloc[sample_row]).lower()\n",
    "\n",
    "        for word in vocab:\n",
    "            if word in title_text:\n",
    "                test_feature_title[sample_row] = 1\n",
    "            if word in body_text:\n",
    "                test_feature_body[sample_row] = 1\n",
    "\n",
    "    return(train_feature_title, train_feature_body, test_feature_title, test_feature_body)"
   ]
  },
  {
   "cell_type": "markdown",
   "metadata": {},
   "source": [
    "### 1. Real hunger\n",
    "The idea here: People who literally don't have enough to eat."
   ]
  },
  {
   "cell_type": "code",
   "execution_count": 4,
   "metadata": {},
   "outputs": [],
   "source": [
    "vocab = ['pantry','shelter','homeless','nowhere','nothing']\n",
    "train_hunger_title, train_hunger_body, test_hunger_title, test_hunger_body = make_features(vocab)\n"
   ]
  },
  {
   "cell_type": "markdown",
   "metadata": {},
   "source": [
    "### 2. In-group features\n",
    "The idea here: People who reference the reddit community and the lingo may be more sympathetic. "
   ]
  },
  {
   "cell_type": "code",
   "execution_count": 5,
   "metadata": {},
   "outputs": [],
   "source": [
    "vocab = ['roap', 'reddit']\n",
    "train_ingroup_title, train_ingroup_body, test_ingroup_title, test_ingroup_body = make_features(vocab)\n",
    "    \n",
    "    "
   ]
  },
  {
   "cell_type": "markdown",
   "metadata": {},
   "source": [
    "### 3. Student features\n",
    "The idea here: Students may be sympathetic. Found that most student terms were unhelpful, but 'ramen' was a winner. "
   ]
  },
  {
   "cell_type": "code",
   "execution_count": 6,
   "metadata": {},
   "outputs": [],
   "source": [
    "vocab = ['ramen']\n",
    "train_student_title, train_student_body, test_student_title, test_student_body = make_features(vocab)\n"
   ]
  },
  {
   "cell_type": "markdown",
   "metadata": {},
   "source": [
    "### 4. 'You're a good person' features\n",
    "The idea here: Words that emphasis the goodness of the giver. This replaces swears, which didn't serve as an indicator."
   ]
  },
  {
   "cell_type": "code",
   "execution_count": 7,
   "metadata": {},
   "outputs": [],
   "source": [
    "vocab = ['bless','generosity','kind','generous']\n",
    "train_goodie_title, train_goodie_body, test_goodie_title, test_goodie_body = make_features(vocab)\n"
   ]
  },
  {
   "cell_type": "markdown",
   "metadata": {},
   "source": [
    "### 5. Religious features\n",
    "The idea here: I'm a good Christian, now buy me a pizza! This might have been the strongest feature. "
   ]
  },
  {
   "cell_type": "code",
   "execution_count": 8,
   "metadata": {},
   "outputs": [],
   "source": [
    "vocab = ['lord','prayer','savior','personal','saved','forgiven', 'mercy']\n",
    "train_god_title, train_god_body, test_god_title, test_god_body ,= make_features(vocab)\n",
    "\n"
   ]
  },
  {
   "cell_type": "markdown",
   "metadata": {},
   "source": [
    "### 6. Gratitude / politeness features\n",
    "The idea here: What's the magic word?"
   ]
  },
  {
   "cell_type": "code",
   "execution_count": 9,
   "metadata": {},
   "outputs": [],
   "source": [
    "vocab = ['please', 'thank', 'thanks']\n",
    "train_polite_title, train_polite_body, test_polite_title, test_polite_body = make_features(vocab)\n"
   ]
  },
  {
   "cell_type": "markdown",
   "metadata": {},
   "source": [
    "### 7. Expenses features\n",
    "The idea here: Don't tell me your broke or poor (these were losers), tell me specific expenses. The rent is too damn high is still a winer!"
   ]
  },
  {
   "cell_type": "code",
   "execution_count": 10,
   "metadata": {},
   "outputs": [],
   "source": [
    "vocab = ['rent','car']\n",
    "train_expenses_title, train_expenses_body, test_expenses_title, test_expenses_body = make_features(vocab)"
   ]
  },
  {
   "cell_type": "markdown",
   "metadata": {},
   "source": [
    "### 8. Hard work\n",
    "The idea here: More sympathy when someone is trying."
   ]
  },
  {
   "cell_type": "code",
   "execution_count": 11,
   "metadata": {},
   "outputs": [],
   "source": [
    "vocab = ['work','job', 'tight']\n",
    "train_work_title, train_work_body, test_work_title, test_work_body = make_features(vocab)"
   ]
  },
  {
   "cell_type": "markdown",
   "metadata": {},
   "source": [
    "### 9. Lost job\n",
    "The idea here: 'Fired' didn't help, but 'shitcanned' did."
   ]
  },
  {
   "cell_type": "code",
   "execution_count": 12,
   "metadata": {},
   "outputs": [],
   "source": [
    "vocab = ['birthday','wedding','married','engaged','bday','b-day','anniversary']\n",
    "train_lostjob_title, train_lostjob_body, test_lostjob_title, test_lostjob_body = make_features(vocab)"
   ]
  },
  {
   "cell_type": "markdown",
   "metadata": {},
   "source": [
    "### 10. More testing (from Mary's notebook)\n"
   ]
  },
  {
   "cell_type": "code",
   "execution_count": 13,
   "metadata": {},
   "outputs": [],
   "source": [
    "vocab = ['hot','hawt','female','woman','chick','babe','lonely']\n",
    "train_chicks_title, train_chicks_body, test_chicks_title, test_chicks_body = make_features(vocab)\n"
   ]
  },
  {
   "cell_type": "markdown",
   "metadata": {},
   "source": [
    "### 11. Length of the titles / body text\n",
    "The idea: People get tired of reading (text too long), or may need more details (text too short)"
   ]
  },
  {
   "cell_type": "code",
   "execution_count": 14,
   "metadata": {},
   "outputs": [],
   "source": [
    "def small(data, size):\n",
    "    \n",
    "    # initialize feature variable to 0\n",
    "    issmall = np.zeros(shape = (data.shape[0],1))\n",
    "    counter = 0\n",
    "\n",
    "    # look through each training sample for body text size\n",
    "    for sample in data:\n",
    "        if len(sample) < size:\n",
    "            issmall[counter] = 1\n",
    "        counter +=1\n",
    "    return(issmall)\n",
    "            \n",
    "def large(data, size):\n",
    "    \n",
    "    # initialize feature variable to 0\n",
    "    islarge = np.zeros(shape = (data.shape[0],1))\n",
    "    counter = 0\n",
    "\n",
    "    # look through each training sample for body text size\n",
    "    for sample in data:\n",
    "        if len(sample) > size:\n",
    "            islarge[counter] = 1\n",
    "        counter +=1\n",
    "    return(islarge)\n",
    "\n",
    "def charcount(data):\n",
    "    \n",
    "    # initialize feature variable to 0\n",
    "    numchars = np.zeros(shape = (data.shape[0],1))\n",
    "    counter = 0\n",
    "\n",
    "    # look through each training sample and count the text length\n",
    "    for sample in data:\n",
    "        numchars[counter] = len(sample)\n",
    "        counter +=1\n",
    "        \n",
    "    return(numchars)\n",
    "\n",
    "def readable(data):\n",
    "\n",
    "    # initialize feature variable to 0\n",
    "    readability = np.zeros(shape = (data.shape[0],1))\n",
    "    counter = 0\n",
    "\n",
    "    # look through each training sample and get Flesch score\n",
    "    for sample in data:\n",
    "        try:\n",
    "            readability[counter] = textstat.dale_chall_readability_score(str(sample))\n",
    "        except:\n",
    "            readability[counter] = 0\n",
    "        counter +=1\n",
    "        \n",
    "    return(readability)\n",
    "\n",
    "def readable2(data):\n",
    "\n",
    "    # initialize feature variable to 0\n",
    "    readability = np.zeros(shape = (data.shape[0],1))\n",
    "    counter = 0\n",
    "\n",
    "    # look through each training sample and get score\n",
    "    for sample in data:\n",
    "        try:\n",
    "            readability[counter] = textstat.flesch_reading_ease(str(sample))\n",
    "        except:\n",
    "            readability[counter] = 0\n",
    "        counter +=1\n",
    "        \n",
    "    return(readability)"
   ]
  },
  {
   "cell_type": "markdown",
   "metadata": {},
   "source": [
    "\n",
    "### Fit model with added features!"
   ]
  },
  {
   "cell_type": "code",
   "execution_count": 15,
   "metadata": {},
   "outputs": [
    {
     "name": "stdout",
     "output_type": "stream",
     "text": [
      "Logistic Regression (baseline)\n",
      "---------\n",
      "             precision    recall  f1-score   support\n",
      "\n",
      "      False       0.77      0.99      0.87       891\n",
      "       True       0.68      0.06      0.11       281\n",
      "\n",
      "avg / total       0.75      0.77      0.69      1172\n",
      "\n"
     ]
    },
    {
     "data": {
      "image/png": "[encoded data removed]",
      "text/plain": [
       "<Figure size 216x216 with 2 Axes>"
      ]
     },
     "metadata": {},
     "output_type": "display_data"
    },
    {
     "data": {
      "image/png": "[encoded data removed]",
      "text/plain": [
       "<Figure size 432x288 with 1 Axes>"
      ]
     },
     "metadata": {},
     "output_type": "display_data"
    },
    {
     "name": "stdout",
     "output_type": "stream",
     "text": [
      "Logistic Regression (with engineered features)\n",
      "---------\n",
      "             precision    recall  f1-score   support\n",
      "\n",
      "      False       0.78      0.99      0.87       891\n",
      "       True       0.75      0.10      0.17       281\n",
      "\n",
      "avg / total       0.77      0.78      0.70      1172\n",
      "\n"
     ]
    },
    {
     "data": {
      "image/png": "[encoded data removed]",
      "text/plain": [
       "<Figure size 216x216 with 2 Axes>"
      ]
     },
     "metadata": {},
     "output_type": "display_data"
    },
    {
     "data": {
      "image/png": "[encoded data removed]",
      "text/plain": [
       "<Figure size 432x288 with 1 Axes>"
      ]
     },
     "metadata": {},
     "output_type": "display_data"
    }
   ],
   "source": [
    "#Normalize all fields (numeric)\n",
    "min_max_scaler = preprocessing.MinMaxScaler()\n",
    "x_train_scaled = min_max_scaler.fit_transform(\n",
    "    x_train.select_dtypes(include = ['float64', 'int64','datetime64[ns]']).apply(pd.to_numeric).values)\n",
    "x_test_scaled = min_max_scaler.fit_transform(\n",
    "    x_test.select_dtypes(include = ['float64', 'int64','datetime64[ns]']).apply(pd.to_numeric).values)\n",
    "\n",
    "#Train Baseline Model\n",
    "logisticRegr = LogisticRegression()\n",
    "logisticRegr.fit(x_train_scaled, y_train)\n",
    "predictions = logisticRegr.predict(x_test_scaled)\n",
    "\n",
    "#Output Baseline model report\n",
    "model_report(\"Logistic Regression (baseline)\",y_test, predictions)\n",
    "\n",
    "x_train_full = x_train_scaled.copy()\n",
    "x_test_full = x_test_scaled.copy()\n",
    "\n",
    "# add new bernoulli features to the train and test data\n",
    "x_hunger_full = np.append(x_train_full, train_hunger_title, 1)\n",
    "x_hunger_full = np.append(x_train_full, train_hunger_body, 1)\n",
    "x_hunger_full = np.append(x_test_full, test_hunger_title, 1)\n",
    "x_hunger_full = np.append(x_test_full, test_hunger_body, 1)\n",
    "x_train_full = np.append(x_train_full, train_ingroup_title, 1) \n",
    "x_train_full = np.append(x_train_full, train_ingroup_body, 1) \n",
    "x_test_full = np.append(x_test_full, test_ingroup_title, 1) \n",
    "x_test_full = np.append(x_test_full, test_ingroup_body, 1) \n",
    "x_train_full = np.append(x_train_full, train_student_title, 1)  \n",
    "x_train_full = np.append(x_train_full, train_student_body, 1) \n",
    "x_test_full = np.append(x_test_full, test_student_title, 1) \n",
    "x_test_full = np.append(x_test_full, test_student_body, 1) \n",
    "x_train_full = np.append(x_train_full, train_goodie_title, 1)\n",
    "x_train_full = np.append(x_train_full, train_goodie_body, 1)\n",
    "x_test_full = np.append(x_test_full, test_goodie_title, 1)\n",
    "x_test_full = np.append(x_test_full, test_goodie_body, 1)\n",
    "x_train_full = np.append(x_train_full, train_god_title, 1) \n",
    "x_train_full = np.append(x_train_full, train_god_body, 1) \n",
    "x_test_full = np.append(x_test_full, test_god_title, 1) \n",
    "x_test_full = np.append(x_test_full, test_god_body, 1) \n",
    "x_train_full = np.append(x_train_full, train_polite_title, 1) \n",
    "x_train_full = np.append(x_train_full, train_polite_body, 1)  \n",
    "x_test_full = np.append(x_test_full, test_polite_title, 1) \n",
    "x_test_full = np.append(x_test_full, test_polite_body, 1) \n",
    "x_train_full = np.append(x_train_full, train_expenses_title, 1)\n",
    "x_train_full = np.append(x_train_full, train_expenses_body, 1)\n",
    "x_test_full = np.append(x_test_full, test_expenses_title, 1)\n",
    "x_test_full = np.append(x_test_full, test_expenses_body, 1)\n",
    "x_train_full = np.append(x_train_full, train_work_title, 1) \n",
    "x_train_full = np.append(x_train_full, train_work_body, 1) \n",
    "x_test_full = np.append(x_test_full, test_work_title, 1) \n",
    "x_test_full = np.append(x_test_full, test_work_body, 1) \n",
    "x_train_full = np.append(x_train_full, train_lostjob_title, 1) \n",
    "x_train_full = np.append(x_train_full, train_lostjob_body, 1) \n",
    "x_test_full = np.append(x_test_full, test_lostjob_title, 1) \n",
    "x_test_full = np.append(x_test_full, test_lostjob_body, 1) \n",
    "x_train_full = np.append(x_train_full, train_chicks_title, 1) \n",
    "x_train_full = np.append(x_train_full, train_chicks_body, 1) \n",
    "x_test_full = np.append(x_test_full, test_chicks_title, 1) \n",
    "x_test_full = np.append(x_test_full, test_chicks_body, 1) \n",
    "\n",
    "# add bernoulli features small / large\n",
    "x_train_full = np.append(x_train_full, small(x_train.request_title,20), 1)\n",
    "x_test_full = np.append(x_test_full, small(x_test.request_title,20), 1)\n",
    "\n",
    "# add reading ease features\n",
    "#x_train_full = np.append(x_train_full, min_max_scaler.fit_transform(readable(x_train.request_title)), 1)\n",
    "#x_test_full = np.append(x_test_full, min_max_scaler.fit_transform(readable(x_test.request_title)), 1)\n",
    "#x_train_full = np.append(x_train_full, min_max_scaler.fit_transform(readable2(x_train.request_text_edit_aware)), 1)\n",
    "#x_test_full = np.append(x_test_full, min_max_scaler.fit_transform(readable2(x_test.request_text_edit_aware)), 1)\n",
    "\n",
    "#Train new feature model\n",
    "logisticRegr = LogisticRegression()\n",
    "logisticRegr.fit(x_train_full, y_train)\n",
    "predictions = logisticRegr.predict(x_test_full)\n",
    "\n",
    "#Output new feature model report\n",
    "model_report(\"Logistic Regression (with engineered features)\",y_test, predictions)\n"
   ]
  },
  {
   "cell_type": "markdown",
   "metadata": {},
   "source": [
    "### Vectorize the text features, boil down with SVD, add to the numeric data\n",
    "This also runs a fairly slow for-loop going that searches for the optimum number of SVD components to choose. "
   ]
  },
  {
   "cell_type": "code",
   "execution_count": 16,
   "metadata": {},
   "outputs": [
    {
     "name": "stdout",
     "output_type": "stream",
     "text": [
      "Please wait while the best SVD component number is found...\n",
      "The best AUC score for various SVD component numbers was 0.5566938663024072\n"
     ]
    }
   ],
   "source": [
    "#Create Sparse matrix of words\n",
    "count_vect = CountVectorizer() \n",
    "vect_train_body = count_vect.fit_transform(x_train.request_text_edit_aware)\n",
    "vect_test_body = count_vect.transform(x_test.request_text_edit_aware)\n",
    "\n",
    "def boildown (svd_comps):\n",
    "    \n",
    "    #Reduce the vectorized word feature to small number of numerical components\n",
    "    svd_body = TruncatedSVD(n_components=svd_comps)\n",
    "    svd_train_body = svd_body.fit_transform(vect_train_body)\n",
    "    svd_test_body = svd_body.fit_transform(vect_test_body)\n",
    "\n",
    "    #Add vectorized features to train and test\n",
    "    x_train_newandvect = x_train_full.copy()\n",
    "    x_test_newandvect = x_test_full.copy()\n",
    "    for comp in range(svd_comps):\n",
    "        x_train_newandvect = np.hstack((x_train_newandvect, svd_train_body[:,comp].reshape(-1,1)))\n",
    "        x_test_newandvect = np.hstack((x_test_newandvect, svd_test_body[:,comp].reshape(-1,1)))\n",
    "\n",
    "    #Train new feature + vectorized model\n",
    "    logisticRegr = LogisticRegression()\n",
    "    logisticRegr.fit(x_train_newandvect, y_train)\n",
    "    predictions = logisticRegr.predict(x_test_newandvect)\n",
    "    \n",
    "    # compute auc\n",
    "    fpr, tpr, threshold = metrics.roc_curve(y_test, predictions)\n",
    "    roc_auc = metrics.auc(fpr, tpr)\n",
    "    \n",
    "    return(roc_auc, x_train_newandvect, x_test_newandvect)\n",
    "\n",
    "best_auc = 0 # stores best value\n",
    "best_svd_comps = 0 # stores index of best auc\n",
    "\n",
    "print(\"Please wait while the best SVD component number is found...\")\n",
    "\n",
    "for svd_comps_body in range(130):\n",
    "    auc, x_train_try, x_test_try = boildown(svd_comps_body)\n",
    "    if auc > best_auc:\n",
    "        best_auc = auc\n",
    "        x_train_vect = x_train_try.copy()\n",
    "        x_test_vect = x_test_try.copy()\n",
    "\n",
    "print(\"The best AUC score for various SVD component numbers was\", best_auc)"
   ]
  },
  {
   "cell_type": "markdown",
   "metadata": {},
   "source": [
    "### Add imputed features (from Kevin's forays)\n",
    "The training data has features that don't appear in the test data. No problem - we will impute the features for the test data using a random forest regressor. "
   ]
  },
  {
   "cell_type": "code",
   "execution_count": 17,
   "metadata": {},
   "outputs": [
    {
     "name": "stderr",
     "output_type": "stream",
     "text": [
      "C:\\Users\\benar\\Anaconda3\\lib\\site-packages\\sklearn\\utils\\validation.py:475: DataConversionWarning: Data with input dtype int64 was converted to float64 by MinMaxScaler.\n",
      "  warnings.warn(msg, DataConversionWarning)\n",
      "C:\\Users\\benar\\Anaconda3\\lib\\site-packages\\sklearn\\utils\\validation.py:475: DataConversionWarning: Data with input dtype int64 was converted to float64 by MinMaxScaler.\n",
      "  warnings.warn(msg, DataConversionWarning)\n",
      "C:\\Users\\benar\\Anaconda3\\lib\\site-packages\\sklearn\\utils\\validation.py:475: DataConversionWarning: Data with input dtype int64 was converted to float64 by MinMaxScaler.\n",
      "  warnings.warn(msg, DataConversionWarning)\n",
      "C:\\Users\\benar\\Anaconda3\\lib\\site-packages\\sklearn\\utils\\validation.py:475: DataConversionWarning: Data with input dtype int64 was converted to float64 by MinMaxScaler.\n",
      "  warnings.warn(msg, DataConversionWarning)\n",
      "C:\\Users\\benar\\Anaconda3\\lib\\site-packages\\sklearn\\utils\\validation.py:475: DataConversionWarning: Data with input dtype int64 was converted to float64 by MinMaxScaler.\n",
      "  warnings.warn(msg, DataConversionWarning)\n",
      "C:\\Users\\benar\\Anaconda3\\lib\\site-packages\\sklearn\\utils\\validation.py:475: DataConversionWarning: Data with input dtype int64 was converted to float64 by MinMaxScaler.\n",
      "  warnings.warn(msg, DataConversionWarning)\n",
      "C:\\Users\\benar\\Anaconda3\\lib\\site-packages\\sklearn\\utils\\validation.py:475: DataConversionWarning: Data with input dtype int64 was converted to float64 by MinMaxScaler.\n",
      "  warnings.warn(msg, DataConversionWarning)\n",
      "C:\\Users\\benar\\Anaconda3\\lib\\site-packages\\sklearn\\utils\\validation.py:475: DataConversionWarning: Data with input dtype int64 was converted to float64 by MinMaxScaler.\n",
      "  warnings.warn(msg, DataConversionWarning)\n",
      "C:\\Users\\benar\\Anaconda3\\lib\\site-packages\\sklearn\\utils\\validation.py:475: DataConversionWarning: Data with input dtype int64 was converted to float64 by MinMaxScaler.\n",
      "  warnings.warn(msg, DataConversionWarning)\n"
     ]
    }
   ],
   "source": [
    "# all the features\n",
    "cols_to_impute = ['number_of_downvotes_of_request_at_retrieval','number_of_upvotes_of_request_at_retrieval','request_number_of_comments_at_retrieval','requester_account_age_in_days_at_retrieval','requester_days_since_first_post_on_raop_at_retrieval','requester_number_of_comments_at_retrieval','requester_number_of_comments_in_raop_at_retrieval','requester_number_of_posts_at_retrieval','requester_number_of_posts_on_raop_at_retrieval','requester_upvotes_minus_downvotes_at_retrieval','requester_upvotes_plus_downvotes_at_retrieval']\n",
    "    \n",
    "col_count = 0 # keeps track of new columns to create\n",
    "col_to_add = [] # stores list of columns to add\n",
    "\n",
    "x_train_fullimputed = x_train_vect.copy()\n",
    "x_test_fullimputed = x_test_vect.copy()\n",
    "\n",
    "for col_to_predict in cols_to_impute:\n",
    "        \n",
    "    regr_multirf = RandomForestRegressor(max_depth=7,random_state=0)\n",
    "\n",
    "    new_col = x_atrain[col_to_predict].values.reshape(-1,1)\n",
    "    \n",
    "    # scale train_labels\n",
    "    min_max_scaler = preprocessing.MinMaxScaler()\n",
    "    new_col_scaled = min_max_scaler.fit_transform(new_col)\n",
    "\n",
    "    # impute                                    \n",
    "    regr_multirf.fit(x_train_vect, new_col_scaled.ravel())\n",
    "    predicted_col = regr_multirf.predict(x_test_vect).reshape(-1,1)\n",
    "    \n",
    "    # add the feature to both train and test\n",
    "    x_train_fullimputed = np.hstack((x_train_fullimputed, new_col_scaled))\n",
    "    x_test_fullimputed = np.hstack((x_test_fullimputed, predicted_col))\n",
    "    \n",
    "    col_count += 1\n",
    "\n"
   ]
  },
  {
   "cell_type": "markdown",
   "metadata": {},
   "source": [
    "### Run the logistic regression\n",
    "Optimize for C value for regularization."
   ]
  },
  {
   "cell_type": "code",
   "execution_count": 18,
   "metadata": {},
   "outputs": [
    {
     "name": "stdout",
     "output_type": "stream",
     "text": [
      "Best C value for regularization {'C': 200.0}\n",
      "Logistic Regression\n",
      "---------\n",
      "             precision    recall  f1-score   support\n",
      "\n",
      "      False       0.79      0.89      0.84       891\n",
      "       True       0.43      0.26      0.33       281\n",
      "\n",
      "avg / total       0.70      0.74      0.71      1172\n",
      "\n"
     ]
    },
    {
     "data": {
      "image/png": "[encoded data removed]",
      "text/plain": [
       "<Figure size 216x216 with 2 Axes>"
      ]
     },
     "metadata": {},
     "output_type": "display_data"
    },
    {
     "data": {
      "image/png": "[encoded data removed]",
      "text/plain": [
       "<Figure size 432x288 with 1 Axes>"
      ]
     },
     "metadata": {},
     "output_type": "display_data"
    }
   ],
   "source": [
    "#Train Model\n",
    "# all parameters not specified are set to their defaults\n",
    "regularization = {'C': [50.0, 100.0, 200.0, 300.0, 400.0, 600.0, 800.0, 1000.0]} # testing revealed high range best\n",
    "lr = LogisticRegression() #penalty = 'l2'  \n",
    "optimum_lr = GridSearchCV(lr, regularization)\n",
    "lr_fit = optimum_lr.fit(x_train_fullimputed, y_train)\n",
    "predictions = lr_fit.predict(x_test_fullimputed)\n",
    "print(\"Best C value for regularization\", lr_fit.best_params_)\n",
    "\n",
    "#Output model report\n",
    "model_report(\"Logistic Regression\",y_test, predictions)\n"
   ]
  },
  {
   "cell_type": "code",
   "execution_count": null,
   "metadata": {},
   "outputs": [],
   "source": []
  },
  {
   "cell_type": "code",
   "execution_count": null,
   "metadata": {},
   "outputs": [],
   "source": []
  }
 ],
 "metadata": {
  "kernelspec": {
   "display_name": "Python 3",
   "language": "python",
   "name": "python3"
  },
  "language_info": {
   "codemirror_mode": {
    "name": "ipython",
    "version": 3
   },
   "file_extension": ".py",
   "mimetype": "text/x-python",
   "name": "python",
   "nbconvert_exporter": "python",
   "pygments_lexer": "ipython3",
   "version": "3.6.5"
  }
 },
 "nbformat": 4,
 "nbformat_minor": 2
}
