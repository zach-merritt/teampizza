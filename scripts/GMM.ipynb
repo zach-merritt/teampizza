{
 "cells": [
  {
   "cell_type": "markdown",
   "metadata": {},
   "source": [
    "### Random Acts of Pizza - Baseline Model & EDA\n",
    "## Authors: Ben Arnoldy, Mary Boardman, Zach Merritt, and Kevin Gifford\n",
    "#### Kaggle Competition Description:\n",
    "In machine learning, it is often said there are no free lunches. How wrong we were.\n",
    "\n",
    "This competition contains a dataset with 5671 textual requests for pizza from the Reddit community Random Acts of Pizza together with their outcome (successful/unsuccessful) and meta-data. Participants must create an algorithm capable of predicting which requests will garner a cheesy (but sincere!) act of kindness.\n",
    "\n",
    "\"I'll write a poem, sing a song, do a dance, play an instrument, whatever! I just want a pizza,\" says one hopeful poster. What about making an algorithm?\n",
    "\n",
    "Kaggle is hosting this competition for the machine learning community to use for fun and practice. This data was collected and graciously shared by Althoff et al. (Buy them a pizza -- data collection is a thankless and tedious job!) We encourage participants to explore their accompanying paper and ask that you cite the following reference in any publications that result from your work:\n",
    "\n",
    "Tim Althoff, Cristian Danescu-Niculescu-Mizil, Dan Jurafsky. How to Ask for a Favor: A Case Study on the Success of Altruistic Requests, Proceedings of ICWSM, 2014.\n",
    "_______________________________________________________________________________________________"
   ]
  },
  {
   "cell_type": "markdown",
   "metadata": {},
   "source": [
    "## Notebook Title: EDA & Model Baseline\n",
    "#### Purpose: Load the 'Random Acts of Pizza' train and test data. Conduct an exploratory data analysis to gain an understanding of the data. Create a baseline Logisitic Regression model using non-text (numeric) fields only. "
   ]
  },
  {
   "cell_type": "markdown",
   "metadata": {},
   "source": [
    "## I. Load Data and Modules, Process Data"
   ]
  },
  {
   "cell_type": "markdown",
   "metadata": {},
   "source": [
    "### A. Load Data and Modules"
   ]
  },
  {
   "cell_type": "code",
   "execution_count": 29,
   "metadata": {},
   "outputs": [],
   "source": [
    "import json\n",
    "import pandas as pd\n",
    "import numpy as np\n",
    "import matplotlib as mpl\n",
    "from matplotlib.colors import ListedColormap\n",
    "from matplotlib.colors import LogNorm\n",
    "import matplotlib.pyplot as plt\n",
    "import seaborn as sns\n",
    "from datetime import datetime\n",
    "\n",
    "from subprocess import check_output\n",
    "#from wordcloud import WordCloud, STOPWORDS\n",
    "\n",
    "#ML\n",
    "from sklearn.model_selection import train_test_split\n",
    "from sklearn.linear_model import LogisticRegression\n",
    "from sklearn import metrics\n",
    "from sklearn.metrics import classification_report\n",
    "from sklearn.feature_extraction.text import CountVectorizer\n",
    "from sklearn.naive_bayes import MultinomialNB\n",
    "from sklearn.naive_bayes import BernoulliNB\n",
    "from sklearn import preprocessing\n",
    "from sklearn.preprocessing import StandardScaler\n",
    "from sklearn.preprocessing import Normalizer\n",
    "from sklearn.decomposition import PCA\n",
    "from sklearn.cluster import KMeans\n",
    "from sklearn.mixture import GMM\n",
    "from sklearn.mixture import GaussianMixture\n",
    "\n",
    "from sklearn.decomposition import TruncatedSVD\n",
    "from sklearn.random_projection import sparse_random_matrix\n",
    "\n",
    "from sklearn.feature_extraction.text import TfidfVectorizer\n",
    "from sklearn.cluster import KMeans\n",
    "\n",
    "from sklearn.pipeline import make_pipeline\n",
    "\n",
    "%matplotlib inline\n",
    "plt.style.use('bmh')"
   ]
  },
  {
   "cell_type": "code",
   "execution_count": 30,
   "metadata": {},
   "outputs": [
    {
     "name": "stdout",
     "output_type": "stream",
     "text": [
      "Train Shape: (4040, 32)\n",
      "Test Shape: (1631, 17)\n"
     ]
    }
   ],
   "source": [
    "#1. Train Data\n",
    "with open('../data/train.json') as fin:\n",
    "    trainjson = json.load(fin)\n",
    "train = pd.io.json.json_normalize(trainjson)\n",
    "#2. Test Data\n",
    "with open('../data/test.json') as fin:\n",
    "    testjson = json.load(fin)\n",
    "test = pd.io.json.json_normalize(testjson)\n",
    "\n",
    "print(\"Train Shape:\", train.shape)\n",
    "print(\"Test Shape:\", test.shape)"
   ]
  },
  {
   "cell_type": "markdown",
   "metadata": {},
   "source": [
    "### B1. Find any missing values"
   ]
  },
  {
   "cell_type": "code",
   "execution_count": 31,
   "metadata": {},
   "outputs": [
    {
     "data": {
      "text/plain": [
       "giver_username_if_known                                    0\n",
       "number_of_downvotes_of_request_at_retrieval                0\n",
       "number_of_upvotes_of_request_at_retrieval                  0\n",
       "post_was_edited                                            0\n",
       "request_id                                                 0\n",
       "request_number_of_comments_at_retrieval                    0\n",
       "request_text                                               0\n",
       "request_text_edit_aware                                    0\n",
       "request_title                                              0\n",
       "requester_account_age_in_days_at_request                   0\n",
       "requester_account_age_in_days_at_retrieval                 0\n",
       "requester_days_since_first_post_on_raop_at_request         0\n",
       "requester_days_since_first_post_on_raop_at_retrieval       0\n",
       "requester_number_of_comments_at_request                    0\n",
       "requester_number_of_comments_at_retrieval                  0\n",
       "requester_number_of_comments_in_raop_at_request            0\n",
       "requester_number_of_comments_in_raop_at_retrieval          0\n",
       "requester_number_of_posts_at_request                       0\n",
       "requester_number_of_posts_at_retrieval                     0\n",
       "requester_number_of_posts_on_raop_at_request               0\n",
       "requester_number_of_posts_on_raop_at_retrieval             0\n",
       "requester_number_of_subreddits_at_request                  0\n",
       "requester_received_pizza                                   0\n",
       "requester_subreddits_at_request                            0\n",
       "requester_upvotes_minus_downvotes_at_request               0\n",
       "requester_upvotes_minus_downvotes_at_retrieval             0\n",
       "requester_upvotes_plus_downvotes_at_request                0\n",
       "requester_upvotes_plus_downvotes_at_retrieval              0\n",
       "requester_user_flair                                    3046\n",
       "requester_username                                         0\n",
       "unix_timestamp_of_request                                  0\n",
       "unix_timestamp_of_request_utc                              0\n",
       "dtype: int64"
      ]
     },
     "execution_count": 31,
     "metadata": {},
     "output_type": "execute_result"
    }
   ],
   "source": [
    "train.isnull().sum()"
   ]
  },
  {
   "cell_type": "markdown",
   "metadata": {},
   "source": [
    "No missing data except in column \"requester_user_flair.\" We see in the next section that this isn't a column in the test data, so we may just elect to not use it to train the model."
   ]
  },
  {
   "cell_type": "markdown",
   "metadata": {},
   "source": [
    "### B2. Identify common columns between test and train"
   ]
  },
  {
   "cell_type": "code",
   "execution_count": 32,
   "metadata": {},
   "outputs": [
    {
     "name": "stdout",
     "output_type": "stream",
     "text": [
      "Common columns in train and test:\n",
      "Index(['giver_username_if_known', 'request_id', 'request_text_edit_aware',\n",
      "       'request_title', 'requester_account_age_in_days_at_request',\n",
      "       'requester_days_since_first_post_on_raop_at_request',\n",
      "       'requester_number_of_comments_at_request',\n",
      "       'requester_number_of_comments_in_raop_at_request',\n",
      "       'requester_number_of_posts_at_request',\n",
      "       'requester_number_of_posts_on_raop_at_request',\n",
      "       'requester_number_of_subreddits_at_request',\n",
      "       'requester_subreddits_at_request',\n",
      "       'requester_upvotes_minus_downvotes_at_request',\n",
      "       'requester_upvotes_plus_downvotes_at_request', 'requester_username',\n",
      "       'unix_timestamp_of_request', 'unix_timestamp_of_request_utc'],\n",
      "      dtype='object')\n",
      "----\n",
      "Columns in train but NOT test:\n",
      "Index(['number_of_downvotes_of_request_at_retrieval',\n",
      "       'number_of_upvotes_of_request_at_retrieval', 'post_was_edited',\n",
      "       'request_number_of_comments_at_retrieval', 'request_text',\n",
      "       'requester_account_age_in_days_at_retrieval',\n",
      "       'requester_days_since_first_post_on_raop_at_retrieval',\n",
      "       'requester_number_of_comments_at_retrieval',\n",
      "       'requester_number_of_comments_in_raop_at_retrieval',\n",
      "       'requester_number_of_posts_at_retrieval',\n",
      "       'requester_number_of_posts_on_raop_at_retrieval',\n",
      "       'requester_received_pizza',\n",
      "       'requester_upvotes_minus_downvotes_at_retrieval',\n",
      "       'requester_upvotes_plus_downvotes_at_retrieval',\n",
      "       'requester_user_flair'],\n",
      "      dtype='object')\n"
     ]
    }
   ],
   "source": [
    "print(\"Common columns in train and test:\")\n",
    "print(train.columns[train.columns.isin(test.columns)])\n",
    "print(\"----\")\n",
    "print(\"Columns in train but NOT test:\")\n",
    "print(train.columns[~train.columns.isin(test.columns)])"
   ]
  },
  {
   "cell_type": "markdown",
   "metadata": {},
   "source": [
    "As can be seen above, there is a series of columns in the training data only. These columns reflect data about the post (e.g., the #of upvotes) at the time this Reddit data was retrieved. We use certain supervised and unsupversied techniques to derive value from this data (even though that information is not provided on the data set we will be predicting)."
   ]
  },
  {
   "cell_type": "markdown",
   "metadata": {},
   "source": [
    "### C. Create training data, labels, and special 'in training only' data"
   ]
  },
  {
   "cell_type": "code",
   "execution_count": 33,
   "metadata": {},
   "outputs": [],
   "source": [
    "train_labels_master = train[['requester_received_pizza']]\n",
    "train_data_master = train[test.columns & train.columns]\n",
    "train_only_data_master = train[train.columns[~train.columns.isin(test.columns)]].drop(['requester_received_pizza'], axis = 1)"
   ]
  },
  {
   "cell_type": "code",
   "execution_count": 34,
   "metadata": {},
   "outputs": [
    {
     "name": "stdout",
     "output_type": "stream",
     "text": [
      "(4040, 32) (4040, 17)\n"
     ]
    }
   ],
   "source": [
    "print(train.shape, train_data_master.shape)"
   ]
  },
  {
   "cell_type": "markdown",
   "metadata": {},
   "source": [
    "### D. Set column types and profile"
   ]
  },
  {
   "cell_type": "code",
   "execution_count": 35,
   "metadata": {},
   "outputs": [],
   "source": [
    "train_data_master = train_data_master.assign(\n",
    "    unix_timestamp_of_request = pd.to_datetime(\n",
    "        train_data_master.unix_timestamp_of_request, unit = \"s\"),\n",
    "    unix_timestamp_of_request_utc = pd.to_datetime(\n",
    "        train_data_master.unix_timestamp_of_request_utc, unit = \"s\"))"
   ]
  },
  {
   "cell_type": "code",
   "execution_count": 36,
   "metadata": {},
   "outputs": [
    {
     "name": "stdout",
     "output_type": "stream",
     "text": [
      "<class 'pandas.core.frame.DataFrame'>\n",
      "RangeIndex: 4040 entries, 0 to 4039\n",
      "Data columns (total 17 columns):\n",
      "giver_username_if_known                               4040 non-null object\n",
      "request_id                                            4040 non-null object\n",
      "request_text_edit_aware                               4040 non-null object\n",
      "request_title                                         4040 non-null object\n",
      "requester_account_age_in_days_at_request              4040 non-null float64\n",
      "requester_days_since_first_post_on_raop_at_request    4040 non-null float64\n",
      "requester_number_of_comments_at_request               4040 non-null int64\n",
      "requester_number_of_comments_in_raop_at_request       4040 non-null int64\n",
      "requester_number_of_posts_at_request                  4040 non-null int64\n",
      "requester_number_of_posts_on_raop_at_request          4040 non-null int64\n",
      "requester_number_of_subreddits_at_request             4040 non-null int64\n",
      "requester_subreddits_at_request                       4040 non-null object\n",
      "requester_upvotes_minus_downvotes_at_request          4040 non-null int64\n",
      "requester_upvotes_plus_downvotes_at_request           4040 non-null int64\n",
      "requester_username                                    4040 non-null object\n",
      "unix_timestamp_of_request                             4040 non-null datetime64[ns]\n",
      "unix_timestamp_of_request_utc                         4040 non-null datetime64[ns]\n",
      "dtypes: datetime64[ns](2), float64(2), int64(7), object(6)\n",
      "memory usage: 536.6+ KB\n"
     ]
    }
   ],
   "source": [
    "train_data_master.describe()\n",
    "train_data_master.info()"
   ]
  },
  {
   "cell_type": "markdown",
   "metadata": {},
   "source": [
    "## V. Dimensionality Reduction"
   ]
  },
  {
   "cell_type": "markdown",
   "metadata": {},
   "source": [
    "### CountVectorizer"
   ]
  },
  {
   "cell_type": "code",
   "execution_count": 37,
   "metadata": {},
   "outputs": [],
   "source": [
    "# I believe we cannot just vectorize the train data because the text-based data\n",
    "# is held within one specific feature called request_test_edit_aware.\n",
    "# Below I repurposed some of Zach's code to vectorize\n",
    "\n",
    "#Create Sparse matrix of words\n",
    "count_vect = CountVectorizer()\n",
    "\n",
    "#Split train and test data\n",
    "x_train_text, x_test_text, y_train, y_test = train_test_split(\n",
    "    train_data_master['request_text_edit_aware'], \n",
    "    train_labels_master.values.ravel(), test_size=0.2, random_state=0)\n",
    "# x_train, x_test, y_train, y_test = train_test_split(\n",
    "#    train_data_master,\n",
    "#    train_labels_master.values.ravel(), test_size=0.29, random_state=0)\n",
    "x_train = count_vect.fit_transform(x_train_text)\n",
    "x_test = count_vect.transform(x_test_text)\n",
    "cv_feature_names = count_vect.get_feature_names()"
   ]
  },
  {
   "cell_type": "markdown",
   "metadata": {},
   "source": [
    "### Apply SVD (in lieu of PCA)"
   ]
  },
  {
   "cell_type": "code",
   "execution_count": 38,
   "metadata": {},
   "outputs": [
    {
     "name": "stdout",
     "output_type": "stream",
     "text": [
      "[ 0.26385154]\n",
      "[ 0.26385154  0.02867843]\n",
      "[ 0.26385154  0.02867849  0.02198759]\n",
      "[ 0.26385154  0.02867844  0.02198863  0.02079291]\n",
      "[ 0.26385154  0.02867851  0.0219886   0.02079282  0.01748104]\n",
      "[ 0.26385154  0.02867851  0.0219889   0.02079306  0.01748639  0.01479907]\n",
      "[ 0.26385154  0.02867852  0.02198905  0.02079223  0.01748424  0.01479928\n",
      "  0.01340762]\n",
      "[ 0.26385154  0.02867852  0.02198807  0.02079237  0.01748778  0.01479932\n",
      "  0.01342513  0.01203985]\n",
      "[ 0.26385154  0.02867851  0.02198882  0.02079305  0.01748624  0.01479933\n",
      "  0.01342412  0.01203836  0.01112064]\n",
      "[ 0.26385154  0.02867851  0.02198937  0.02079328  0.01748851  0.01479936\n",
      "  0.01342683  0.012042    0.01112657  0.01033201]\n",
      "[ 0.26385154  0.02867852  0.02198877  0.02079308  0.01748709  0.01480007\n",
      "  0.01342489  0.01203415  0.0111262   0.01032614  0.00997105]\n",
      "[ 0.26385154  0.02867852  0.02198886  0.02079308  0.01748689  0.01479909\n",
      "  0.0134257   0.01204466  0.01112909  0.01031932  0.00996351  0.00944096]\n",
      "[ 0.26385154  0.02867852  0.02198876  0.020793    0.0174867   0.0148003\n",
      "  0.01342566  0.01204225  0.01113036  0.01032394  0.00996553  0.00944634\n",
      "  0.00911673]\n",
      "[ 0.26385154  0.02867852  0.02198875  0.02079302  0.01748654  0.01480013\n",
      "  0.0134259   0.01204527  0.01112814  0.01033757  0.00997257  0.00944594\n",
      "  0.00913961  0.00874859]\n"
     ]
    }
   ],
   "source": [
    "# Since PCA does not work for a sparse matrix, we are using Truncated SVD instead for dimensionality reduction\n",
    "for top_comps in range (1, 15):\n",
    "    svd = TruncatedSVD(n_components = top_comps)\n",
    "    svd.fit(x_train)\n",
    "    print(svd.explained_variance_ratio_)"
   ]
  },
  {
   "cell_type": "code",
   "execution_count": 39,
   "metadata": {},
   "outputs": [],
   "source": [
    "# The output of vectorizer shows a major dropoff in explained variance after the 1st component\n",
    "# This suggests that projecting down to 1 component might be best."
   ]
  },
  {
   "cell_type": "markdown",
   "metadata": {},
   "source": [
    "### Try various hyperparameters with GMM on text field, try to classify "
   ]
  },
  {
   "cell_type": "code",
   "execution_count": 40,
   "metadata": {},
   "outputs": [
    {
     "name": "stdout",
     "output_type": "stream",
     "text": [
      "Accuracy score for 1 SVD comps, 1 GMM comps, Covariance type spherical = 0.675742574257\n",
      "Accuracy score for 1 SVD comps, 2 GMM comps, Covariance type spherical = 0.570544554455\n",
      "Accuracy score for 1 SVD comps, 3 GMM comps, Covariance type spherical = 0.569306930693\n",
      "Accuracy score for 1 SVD comps, 4 GMM comps, Covariance type spherical = 0.559405940594\n",
      "Accuracy score for 1 SVD comps, 5 GMM comps, Covariance type spherical = 0.574257425743\n",
      "Accuracy score for 1 SVD comps, 6 GMM comps, Covariance type spherical = 0.558168316832\n",
      "Accuracy score for 1 SVD comps, 7 GMM comps, Covariance type spherical = 0.579207920792\n",
      "Accuracy score for 1 SVD comps, 8 GMM comps, Covariance type spherical = 0.569306930693\n",
      "Accuracy score for 1 SVD comps, 9 GMM comps, Covariance type spherical = 0.566831683168\n",
      "Accuracy score for 1 SVD comps, 10 GMM comps, Covariance type spherical = 0.560643564356\n",
      "Accuracy score for 1 SVD comps, 11 GMM comps, Covariance type spherical = 0.576732673267\n",
      "Accuracy score for 1 SVD comps, 12 GMM comps, Covariance type spherical = 0.539603960396\n",
      "Accuracy score for 2 SVD comps, 1 GMM comps, Covariance type spherical = 0.669554455446\n",
      "Accuracy score for 2 SVD comps, 2 GMM comps, Covariance type spherical = 0.556930693069\n",
      "Accuracy score for 2 SVD comps, 3 GMM comps, Covariance type spherical = 0.561881188119\n",
      "Accuracy score for 2 SVD comps, 4 GMM comps, Covariance type spherical = 0.543316831683\n",
      "Accuracy score for 2 SVD comps, 5 GMM comps, Covariance type spherical = 0.561881188119\n",
      "Accuracy score for 2 SVD comps, 6 GMM comps, Covariance type spherical = 0.563118811881\n",
      "Accuracy score for 3 SVD comps, 1 GMM comps, Covariance type spherical = 0.667079207921\n",
      "Accuracy score for 3 SVD comps, 2 GMM comps, Covariance type spherical = 0.543316831683\n",
      "Accuracy score for 3 SVD comps, 3 GMM comps, Covariance type spherical = 0.55198019802\n",
      "Accuracy score for 3 SVD comps, 4 GMM comps, Covariance type spherical = 0.545792079208\n",
      "Accuracy score for 4 SVD comps, 1 GMM comps, Covariance type spherical = 0.665841584158\n",
      "Accuracy score for 4 SVD comps, 2 GMM comps, Covariance type spherical = 0.535891089109\n",
      "Accuracy score for 4 SVD comps, 3 GMM comps, Covariance type spherical = 0.549504950495\n",
      "Accuracy score for 5 SVD comps, 1 GMM comps, Covariance type spherical = 0.665841584158\n",
      "Accuracy score for 5 SVD comps, 2 GMM comps, Covariance type spherical = 0.533415841584\n",
      "Accuracy score for 6 SVD comps, 1 GMM comps, Covariance type spherical = 0.664603960396\n",
      "Accuracy score for 6 SVD comps, 2 GMM comps, Covariance type spherical = 0.523514851485\n",
      "Accuracy score for 7 SVD comps, 1 GMM comps, Covariance type spherical = 0.663366336634\n",
      "Accuracy score for 8 SVD comps, 1 GMM comps, Covariance type spherical = 0.664603960396\n",
      "Accuracy score for 9 SVD comps, 1 GMM comps, Covariance type spherical = 0.663366336634\n",
      "Accuracy score for 10 SVD comps, 1 GMM comps, Covariance type spherical = 0.667079207921\n",
      "Accuracy score for 11 SVD comps, 1 GMM comps, Covariance type spherical = 0.660891089109\n",
      "Accuracy score for 12 SVD comps, 1 GMM comps, Covariance type spherical = 0.658415841584\n",
      "Accuracy score for 1 SVD comps, 1 GMM comps, Covariance type diag = 0.675742574257\n",
      "Accuracy score for 1 SVD comps, 2 GMM comps, Covariance type diag = 0.570544554455\n",
      "Accuracy score for 1 SVD comps, 3 GMM comps, Covariance type diag = 0.559405940594\n",
      "Accuracy score for 1 SVD comps, 4 GMM comps, Covariance type diag = 0.559405940594\n",
      "Accuracy score for 1 SVD comps, 5 GMM comps, Covariance type diag = 0.548267326733\n",
      "Accuracy score for 1 SVD comps, 6 GMM comps, Covariance type diag = 0.581683168317\n",
      "Accuracy score for 1 SVD comps, 7 GMM comps, Covariance type diag = 0.545792079208\n",
      "Accuracy score for 1 SVD comps, 8 GMM comps, Covariance type diag = 0.585396039604\n",
      "Accuracy score for 1 SVD comps, 9 GMM comps, Covariance type diag = 0.576732673267\n",
      "Accuracy score for 1 SVD comps, 10 GMM comps, Covariance type diag = 0.57797029703\n",
      "Accuracy score for 1 SVD comps, 11 GMM comps, Covariance type diag = 0.543316831683\n",
      "Accuracy score for 1 SVD comps, 12 GMM comps, Covariance type diag = 0.566831683168\n",
      "Accuracy score for 2 SVD comps, 1 GMM comps, Covariance type diag = 0.667079207921\n",
      "Accuracy score for 2 SVD comps, 2 GMM comps, Covariance type diag = 0.554455445545\n",
      "Accuracy score for 2 SVD comps, 3 GMM comps, Covariance type diag = 0.528465346535\n",
      "Accuracy score for 2 SVD comps, 4 GMM comps, Covariance type diag = 0.533415841584\n",
      "Accuracy score for 2 SVD comps, 5 GMM comps, Covariance type diag = 0.52103960396\n",
      "Accuracy score for 2 SVD comps, 6 GMM comps, Covariance type diag = 0.582920792079\n",
      "Accuracy score for 3 SVD comps, 1 GMM comps, Covariance type diag = 0.653465346535\n",
      "Accuracy score for 3 SVD comps, 2 GMM comps, Covariance type diag = 0.539603960396\n",
      "Accuracy score for 3 SVD comps, 3 GMM comps, Covariance type diag = 0.570544554455\n",
      "Accuracy score for 3 SVD comps, 4 GMM comps, Covariance type diag = 0.581683168317\n",
      "Accuracy score for 4 SVD comps, 1 GMM comps, Covariance type diag = 0.659653465347\n",
      "Accuracy score for 4 SVD comps, 2 GMM comps, Covariance type diag = 0.542079207921\n",
      "Accuracy score for 4 SVD comps, 3 GMM comps, Covariance type diag = 0.571782178218\n",
      "Accuracy score for 5 SVD comps, 1 GMM comps, Covariance type diag = 0.665841584158\n",
      "Accuracy score for 5 SVD comps, 2 GMM comps, Covariance type diag = 0.544554455446\n",
      "Accuracy score for 6 SVD comps, 1 GMM comps, Covariance type diag = 0.663366336634\n",
      "Accuracy score for 6 SVD comps, 2 GMM comps, Covariance type diag = 0.556930693069\n",
      "Accuracy score for 7 SVD comps, 1 GMM comps, Covariance type diag = 0.657178217822\n",
      "Accuracy score for 8 SVD comps, 1 GMM comps, Covariance type diag = 0.654702970297\n",
      "Accuracy score for 9 SVD comps, 1 GMM comps, Covariance type diag = 0.658415841584\n",
      "Accuracy score for 10 SVD comps, 1 GMM comps, Covariance type diag = 0.64603960396\n",
      "Accuracy score for 11 SVD comps, 1 GMM comps, Covariance type diag = 0.652227722772\n",
      "Accuracy score for 12 SVD comps, 1 GMM comps, Covariance type diag = 0.641089108911\n",
      "Accuracy score for 1 SVD comps, 1 GMM comps, Covariance type tied = 0.675742574257\n",
      "Accuracy score for 1 SVD comps, 2 GMM comps, Covariance type tied = 0.615099009901\n",
      "Accuracy score for 1 SVD comps, 3 GMM comps, Covariance type tied = 0.594059405941\n",
      "Accuracy score for 1 SVD comps, 4 GMM comps, Covariance type tied = 0.612623762376\n",
      "Accuracy score for 1 SVD comps, 5 GMM comps, Covariance type tied = 0.600247524752\n",
      "Accuracy score for 1 SVD comps, 6 GMM comps, Covariance type tied = 0.565594059406\n",
      "Accuracy score for 1 SVD comps, 7 GMM comps, Covariance type tied = 0.55198019802\n",
      "Accuracy score for 1 SVD comps, 8 GMM comps, Covariance type tied = 0.564356435644\n",
      "Accuracy score for 1 SVD comps, 9 GMM comps, Covariance type tied = 0.601485148515\n",
      "Accuracy score for 1 SVD comps, 10 GMM comps, Covariance type tied = 0.558168316832\n",
      "Accuracy score for 1 SVD comps, 11 GMM comps, Covariance type tied = 0.579207920792\n",
      "Accuracy score for 1 SVD comps, 12 GMM comps, Covariance type tied = 0.561881188119\n",
      "Accuracy score for 2 SVD comps, 1 GMM comps, Covariance type tied = 0.665841584158\n",
      "Accuracy score for 2 SVD comps, 2 GMM comps, Covariance type tied = 0.652227722772\n",
      "Accuracy score for 2 SVD comps, 3 GMM comps, Covariance type tied = 0.594059405941\n",
      "Accuracy score for 2 SVD comps, 4 GMM comps, Covariance type tied = 0.618811881188\n",
      "Accuracy score for 2 SVD comps, 5 GMM comps, Covariance type tied = 0.606435643564\n",
      "Accuracy score for 2 SVD comps, 6 GMM comps, Covariance type tied = 0.617574257426\n",
      "Accuracy score for 3 SVD comps, 1 GMM comps, Covariance type tied = 0.65099009901\n",
      "Accuracy score for 3 SVD comps, 2 GMM comps, Covariance type tied = 0.628712871287\n",
      "Accuracy score for 3 SVD comps, 3 GMM comps, Covariance type tied = 0.618811881188\n",
      "Accuracy score for 3 SVD comps, 4 GMM comps, Covariance type tied = 0.613861386139\n",
      "Accuracy score for 4 SVD comps, 1 GMM comps, Covariance type tied = 0.658415841584\n",
      "Accuracy score for 4 SVD comps, 2 GMM comps, Covariance type tied = 0.638613861386\n",
      "Accuracy score for 4 SVD comps, 3 GMM comps, Covariance type tied = 0.621287128713\n",
      "Accuracy score for 5 SVD comps, 1 GMM comps, Covariance type tied = 0.659653465347\n",
      "Accuracy score for 5 SVD comps, 2 GMM comps, Covariance type tied = 0.636138613861\n",
      "Accuracy score for 6 SVD comps, 1 GMM comps, Covariance type tied = 0.657178217822\n"
     ]
    },
    {
     "name": "stdout",
     "output_type": "stream",
     "text": [
      "Accuracy score for 6 SVD comps, 2 GMM comps, Covariance type tied = 0.637376237624\n",
      "Accuracy score for 7 SVD comps, 1 GMM comps, Covariance type tied = 0.64603960396\n",
      "Accuracy score for 8 SVD comps, 1 GMM comps, Covariance type tied = 0.65099009901\n",
      "Accuracy score for 9 SVD comps, 1 GMM comps, Covariance type tied = 0.641089108911\n",
      "Accuracy score for 10 SVD comps, 1 GMM comps, Covariance type tied = 0.65099009901\n",
      "Accuracy score for 11 SVD comps, 1 GMM comps, Covariance type tied = 0.662128712871\n",
      "Accuracy score for 12 SVD comps, 1 GMM comps, Covariance type tied = 0.668316831683\n",
      "Accuracy score for 1 SVD comps, 1 GMM comps, Covariance type full = 0.675742574257\n",
      "Accuracy score for 1 SVD comps, 2 GMM comps, Covariance type full = 0.570544554455\n",
      "Accuracy score for 1 SVD comps, 3 GMM comps, Covariance type full = 0.560643564356\n",
      "Accuracy score for 1 SVD comps, 4 GMM comps, Covariance type full = 0.556930693069\n",
      "Accuracy score for 1 SVD comps, 5 GMM comps, Covariance type full = 0.57797029703\n",
      "Accuracy score for 1 SVD comps, 6 GMM comps, Covariance type full = 0.545792079208\n",
      "Accuracy score for 1 SVD comps, 7 GMM comps, Covariance type full = 0.575495049505\n",
      "Accuracy score for 1 SVD comps, 8 GMM comps, Covariance type full = 0.574257425743\n",
      "Accuracy score for 1 SVD comps, 9 GMM comps, Covariance type full = 0.563118811881\n",
      "Accuracy score for 1 SVD comps, 10 GMM comps, Covariance type full = 0.571782178218\n",
      "Accuracy score for 1 SVD comps, 11 GMM comps, Covariance type full = 0.581683168317\n",
      "Accuracy score for 1 SVD comps, 12 GMM comps, Covariance type full = 0.550742574257\n",
      "Accuracy score for 2 SVD comps, 1 GMM comps, Covariance type full = 0.664603960396\n",
      "Accuracy score for 2 SVD comps, 2 GMM comps, Covariance type full = 0.568069306931\n",
      "Accuracy score for 2 SVD comps, 3 GMM comps, Covariance type full = 0.553217821782\n",
      "Accuracy score for 2 SVD comps, 4 GMM comps, Covariance type full = 0.530940594059\n",
      "Accuracy score for 2 SVD comps, 5 GMM comps, Covariance type full = 0.579207920792\n",
      "Accuracy score for 2 SVD comps, 6 GMM comps, Covariance type full = 0.566831683168\n",
      "Accuracy score for 3 SVD comps, 1 GMM comps, Covariance type full = 0.652227722772\n",
      "Accuracy score for 3 SVD comps, 2 GMM comps, Covariance type full = 0.54702970297\n",
      "Accuracy score for 3 SVD comps, 3 GMM comps, Covariance type full = 0.589108910891\n",
      "Accuracy score for 3 SVD comps, 4 GMM comps, Covariance type full = 0.553217821782\n",
      "Accuracy score for 4 SVD comps, 1 GMM comps, Covariance type full = 0.657178217822\n",
      "Accuracy score for 4 SVD comps, 2 GMM comps, Covariance type full = 0.548267326733\n",
      "Accuracy score for 4 SVD comps, 3 GMM comps, Covariance type full = 0.587871287129\n",
      "Accuracy score for 5 SVD comps, 1 GMM comps, Covariance type full = 0.660891089109\n",
      "Accuracy score for 5 SVD comps, 2 GMM comps, Covariance type full = 0.554455445545\n",
      "Accuracy score for 6 SVD comps, 1 GMM comps, Covariance type full = 0.658415841584\n",
      "Accuracy score for 6 SVD comps, 2 GMM comps, Covariance type full = 0.594059405941\n",
      "Accuracy score for 7 SVD comps, 1 GMM comps, Covariance type full = 0.647277227723\n",
      "Accuracy score for 8 SVD comps, 1 GMM comps, Covariance type full = 0.657178217822\n",
      "Accuracy score for 9 SVD comps, 1 GMM comps, Covariance type full = 0.657178217822\n",
      "Accuracy score for 10 SVD comps, 1 GMM comps, Covariance type full = 0.65099009901\n",
      "Accuracy score for 11 SVD comps, 1 GMM comps, Covariance type full = 0.659653465347\n",
      "Accuracy score for 12 SVD comps, 1 GMM comps, Covariance type full = 0.670792079208\n",
      "*********************************************************************************\n",
      "The best accuracy score is 0.675742574257\n",
      "To get it, set SVD comps to 1 , GMM comps to 1 , and covariance type to spherical\n"
     ]
    }
   ],
   "source": [
    "def train_gmm(svd_comps = 2, gmm_comps = 4, cov_type = 'full', sparse = True):\n",
    "    \n",
    "    # project data to few dimensions using SVD if sparse, PCA if dense\n",
    "    if (sparse): svd_test = TruncatedSVD(n_components=svd_comps)\n",
    "    else: svd_test = PCA(n_components=svd_comps)\n",
    "    svd_test_ft = svd_test.fit_transform(x_test)\n",
    "    if (sparse): svd_train = TruncatedSVD(n_components=svd_comps)\n",
    "    else: svd_train = PCA(n_components=svd_comps)\n",
    "    svd_train_ft = svd_train.fit_transform(x_train)\n",
    "\n",
    "    # create two sets of svd data, one that's positively labeled, one that's negatively labeled\n",
    "    pos_svd = svd_train_ft[y_train == 1]\n",
    "    neg_svd = svd_train_ft[y_train == 0]\n",
    "    \n",
    "    # fit a GMM for pos and neg datasets\n",
    "    gmm_pos = GaussianMixture(n_components=gmm_comps, covariance_type=cov_type) \n",
    "    gmm_fit_pos = gmm_pos.fit(pos_svd)\n",
    "    gmm_neg = GaussianMixture(n_components=gmm_comps, covariance_type=cov_type) \n",
    "    gmm_fit_neg = gmm_neg.fit(neg_svd)\n",
    "\n",
    "    prediction = np.ndarray(shape=y_test.shape)\n",
    "    \n",
    "    for sample in range(svd_test_ft.shape[0]):\n",
    "        pos_score = gmm_fit_pos.score(svd_test_ft[sample].reshape(1,-1))\n",
    "        neg_score = gmm_fit_neg.score(svd_test_ft[sample].reshape(1,-1))\n",
    "        # make pick\n",
    "        if (pos_score >= neg_score): prediction[sample] = 1\n",
    "        else: prediction[sample] = 0 \n",
    "\n",
    "    # calculate accuracy\n",
    "    accuracy = metrics.accuracy_score(y_test, prediction)\n",
    "    # f1 = metrics.f1_score(y_test, prediction)\n",
    "    print(\"Accuracy score for\", svd_comps,\"SVD comps,\",gmm_comps,\"GMM comps,\",\"Covariance type\",cov_type,\"=\",accuracy)\n",
    "\n",
    "    return(accuracy)\n",
    "\n",
    "def gmm_trials(sparse = True, max_params = 50):\n",
    "\n",
    "    def calc_limits(max_params = 50):\n",
    "        # this function helps estaish the svd and gmm settings to stay within max_params\n",
    "\n",
    "        valid_configs = [] # list of tuples (num_svd_components, num_gmm_components)\n",
    "\n",
    "        for cov_type in ['spherical', 'diag', 'tied', 'full']:\n",
    "            for svd_comp in range(1,20): \n",
    "                for gmm_comp in range(1,20): \n",
    "                    if ((svd_comp + svd_comp) * gmm_comp) * 2 <= max_params:\n",
    "                        valid_configs.append((svd_comp, gmm_comp, cov_type))\n",
    "\n",
    "        return(valid_configs)\n",
    "\n",
    "    configs = calc_limits(max_params) # get the valid configurations\n",
    "\n",
    "    top_accuracy_val = 0 # keeps track of top accuracy value\n",
    "    top_accuracy_config = () # keeps track of config that creates top accuracy value\n",
    "    \n",
    "    for config in configs:\n",
    "        accuracy = train_gmm(config[0], config[1], config[2])\n",
    "        if accuracy > top_accuracy_val:\n",
    "            top_accuracy_val = accuracy\n",
    "            top_accuracy_config = config\n",
    "\n",
    "    print(\"*********************************************************************************\")\n",
    "    print(\"The best accuracy score is\", top_accuracy_val)\n",
    "    print(\"To get it, set SVD comps to\", top_accuracy_config[0], \", GMM comps to\", top_accuracy_config[1],\", and covariance type to\", top_accuracy_config[2])\n",
    "\n",
    "    \n",
    "#Create Sparse matrix of words\n",
    "count_vect = CountVectorizer()\n",
    "\n",
    "#Split train and test data\n",
    "x_train_text, x_test_text, y_train, y_test = train_test_split(\n",
    "    train_data_master['request_text_edit_aware'], \n",
    "    train_labels_master.values.ravel(), test_size=0.2, random_state=0)\n",
    "x_train = count_vect.fit_transform(x_train_text)\n",
    "x_test = count_vect.transform(x_test_text)\n",
    "\n",
    "gmm_trials(sparse = True)"
   ]
  },
  {
   "cell_type": "markdown",
   "metadata": {},
   "source": [
    "Results: The best accuracy score doesn't beat the 0.68 naive bayes baseline, so dimensionality reduction on the vectorized text field doesn't help. "
   ]
  },
  {
   "cell_type": "markdown",
   "metadata": {},
   "source": [
    "### Next: Dimensionality reduction on all features"
   ]
  },
  {
   "cell_type": "code",
   "execution_count": 41,
   "metadata": {},
   "outputs": [],
   "source": [
    "#Try using ALL features, even those not in the test data. \n",
    "\n",
    "#Normalize all fields (numeric)\n",
    "min_max_scaler = preprocessing.MinMaxScaler()\n",
    "mn_mx_scaler_allfeats = min_max_scaler.fit_transform(\n",
    "    train.select_dtypes(include = ['float64', 'int64','datetime64[ns]']).apply(pd.to_numeric).values)\n",
    "mn_mx_scaler_commonfeats = min_max_scaler.fit_transform(\n",
    "    train_data_master.select_dtypes(include = ['float64', 'int64','datetime64[ns]']).apply(pd.to_numeric).values)\n",
    "\n",
    "#Split train and test data\n",
    "x_train, x_test = mn_mx_scaler_allfeats[:3232], mn_mx_scaler_commonfeats[3232:] \n",
    "y_train, y_test = train_labels_master[:3232].values.ravel(), train_labels_master[3232:].values.ravel()\n",
    "\n"
   ]
  },
  {
   "cell_type": "code",
   "execution_count": 42,
   "metadata": {},
   "outputs": [
    {
     "name": "stdout",
     "output_type": "stream",
     "text": [
      "Accuracy score for 1 SVD comps, 1 GMM comps, Covariance type spherical = 0.441831683168\n",
      "Accuracy score for 1 SVD comps, 2 GMM comps, Covariance type spherical = 0.475247524752\n",
      "Accuracy score for 1 SVD comps, 3 GMM comps, Covariance type spherical = 0.431930693069\n",
      "Accuracy score for 1 SVD comps, 4 GMM comps, Covariance type spherical = 0.407178217822\n",
      "Accuracy score for 1 SVD comps, 5 GMM comps, Covariance type spherical = 0.419554455446\n",
      "Accuracy score for 1 SVD comps, 6 GMM comps, Covariance type spherical = 0.412128712871\n",
      "Accuracy score for 1 SVD comps, 7 GMM comps, Covariance type spherical = 0.425742574257\n",
      "Accuracy score for 1 SVD comps, 8 GMM comps, Covariance type spherical = 0.428217821782\n",
      "Accuracy score for 1 SVD comps, 9 GMM comps, Covariance type spherical = 0.405940594059\n",
      "Accuracy score for 1 SVD comps, 10 GMM comps, Covariance type spherical = 0.412128712871\n",
      "Accuracy score for 2 SVD comps, 1 GMM comps, Covariance type spherical = 0.686881188119\n",
      "Accuracy score for 2 SVD comps, 2 GMM comps, Covariance type spherical = 0.641089108911\n",
      "Accuracy score for 2 SVD comps, 3 GMM comps, Covariance type spherical = 0.407178217822\n",
      "Accuracy score for 2 SVD comps, 4 GMM comps, Covariance type spherical = 0.643564356436\n",
      "Accuracy score for 2 SVD comps, 5 GMM comps, Covariance type spherical = 0.649752475248\n",
      "Accuracy score for 3 SVD comps, 1 GMM comps, Covariance type spherical = 0.67202970297\n",
      "Accuracy score for 3 SVD comps, 2 GMM comps, Covariance type spherical = 0.606435643564\n",
      "Accuracy score for 3 SVD comps, 3 GMM comps, Covariance type spherical = 0.60396039604\n",
      "Accuracy score for 4 SVD comps, 1 GMM comps, Covariance type spherical = 0.67698019802\n",
      "Accuracy score for 4 SVD comps, 2 GMM comps, Covariance type spherical = 0.696782178218\n",
      "Accuracy score for 5 SVD comps, 1 GMM comps, Covariance type spherical = 0.681930693069\n",
      "Accuracy score for 5 SVD comps, 2 GMM comps, Covariance type spherical = 0.433168316832\n",
      "Accuracy score for 6 SVD comps, 1 GMM comps, Covariance type spherical = 0.686881188119\n",
      "Accuracy score for 7 SVD comps, 1 GMM comps, Covariance type spherical = 0.688118811881\n",
      "Accuracy score for 8 SVD comps, 1 GMM comps, Covariance type spherical = 0.686881188119\n",
      "Accuracy score for 9 SVD comps, 1 GMM comps, Covariance type spherical = 0.690594059406\n",
      "Accuracy score for 10 SVD comps, 1 GMM comps, Covariance type spherical = 0.689356435644\n",
      "Accuracy score for 1 SVD comps, 1 GMM comps, Covariance type diag = 0.441831683168\n",
      "Accuracy score for 1 SVD comps, 2 GMM comps, Covariance type diag = 0.475247524752\n",
      "Accuracy score for 1 SVD comps, 3 GMM comps, Covariance type diag = 0.431930693069\n",
      "Accuracy score for 1 SVD comps, 4 GMM comps, Covariance type diag = 0.404702970297\n",
      "Accuracy score for 1 SVD comps, 5 GMM comps, Covariance type diag = 0.423267326733\n",
      "Accuracy score for 1 SVD comps, 6 GMM comps, Covariance type diag = 0.394801980198\n",
      "Accuracy score for 1 SVD comps, 7 GMM comps, Covariance type diag = 0.433168316832\n",
      "Accuracy score for 1 SVD comps, 8 GMM comps, Covariance type diag = 0.42202970297\n",
      "Accuracy score for 1 SVD comps, 9 GMM comps, Covariance type diag = 0.408415841584\n",
      "Accuracy score for 1 SVD comps, 10 GMM comps, Covariance type diag = 0.403465346535\n",
      "Accuracy score for 2 SVD comps, 1 GMM comps, Covariance type diag = 0.576732673267\n",
      "Accuracy score for 2 SVD comps, 2 GMM comps, Covariance type diag = 0.655940594059\n",
      "Accuracy score for 2 SVD comps, 3 GMM comps, Covariance type diag = 0.491336633663\n",
      "Accuracy score for 2 SVD comps, 4 GMM comps, Covariance type diag = 0.435643564356\n",
      "Accuracy score for 2 SVD comps, 5 GMM comps, Covariance type diag = 0.454207920792\n",
      "Accuracy score for 3 SVD comps, 1 GMM comps, Covariance type diag = 0.575495049505\n",
      "Accuracy score for 3 SVD comps, 2 GMM comps, Covariance type diag = 0.384900990099\n",
      "Accuracy score for 3 SVD comps, 3 GMM comps, Covariance type diag = 0.581683168317\n",
      "Accuracy score for 4 SVD comps, 1 GMM comps, Covariance type diag = 0.67698019802\n",
      "Accuracy score for 4 SVD comps, 2 GMM comps, Covariance type diag = 0.475247524752\n",
      "Accuracy score for 5 SVD comps, 1 GMM comps, Covariance type diag = 0.700495049505\n",
      "Accuracy score for 5 SVD comps, 2 GMM comps, Covariance type diag = 0.408415841584\n",
      "Accuracy score for 6 SVD comps, 1 GMM comps, Covariance type diag = 0.738861386139\n",
      "Accuracy score for 7 SVD comps, 1 GMM comps, Covariance type diag = 0.733910891089\n",
      "Accuracy score for 8 SVD comps, 1 GMM comps, Covariance type diag = 0.735148514851\n",
      "Accuracy score for 9 SVD comps, 1 GMM comps, Covariance type diag = 0.735148514851\n",
      "Accuracy score for 10 SVD comps, 1 GMM comps, Covariance type diag = 0.735148514851\n",
      "Accuracy score for 1 SVD comps, 1 GMM comps, Covariance type tied = 0.441831683168\n",
      "Accuracy score for 1 SVD comps, 2 GMM comps, Covariance type tied = 0.497524752475\n",
      "Accuracy score for 1 SVD comps, 3 GMM comps, Covariance type tied = 0.429455445545\n",
      "Accuracy score for 1 SVD comps, 4 GMM comps, Covariance type tied = 0.391089108911\n",
      "Accuracy score for 1 SVD comps, 5 GMM comps, Covariance type tied = 0.443069306931\n",
      "Accuracy score for 1 SVD comps, 6 GMM comps, Covariance type tied = 0.439356435644\n",
      "Accuracy score for 1 SVD comps, 7 GMM comps, Covariance type tied = 0.450495049505\n",
      "Accuracy score for 1 SVD comps, 8 GMM comps, Covariance type tied = 0.435643564356\n",
      "Accuracy score for 1 SVD comps, 9 GMM comps, Covariance type tied = 0.439356435644\n",
      "Accuracy score for 1 SVD comps, 10 GMM comps, Covariance type tied = 0.412128712871\n",
      "Accuracy score for 2 SVD comps, 1 GMM comps, Covariance type tied = 0.502475247525\n",
      "Accuracy score for 2 SVD comps, 2 GMM comps, Covariance type tied = 0.491336633663\n",
      "Accuracy score for 2 SVD comps, 3 GMM comps, Covariance type tied = 0.481435643564\n",
      "Accuracy score for 2 SVD comps, 4 GMM comps, Covariance type tied = 0.579207920792\n",
      "Accuracy score for 2 SVD comps, 5 GMM comps, Covariance type tied = 0.522277227723\n",
      "Accuracy score for 3 SVD comps, 1 GMM comps, Covariance type tied = 0.308168316832\n",
      "Accuracy score for 3 SVD comps, 2 GMM comps, Covariance type tied = 0.310643564356\n",
      "Accuracy score for 3 SVD comps, 3 GMM comps, Covariance type tied = 0.292079207921\n",
      "Accuracy score for 4 SVD comps, 1 GMM comps, Covariance type tied = 0.306930693069\n",
      "Accuracy score for 4 SVD comps, 2 GMM comps, Covariance type tied = 0.308168316832\n",
      "Accuracy score for 5 SVD comps, 1 GMM comps, Covariance type tied = 0.305693069307\n",
      "Accuracy score for 5 SVD comps, 2 GMM comps, Covariance type tied = 0.305693069307\n",
      "Accuracy score for 6 SVD comps, 1 GMM comps, Covariance type tied = 0.282178217822\n",
      "Accuracy score for 7 SVD comps, 1 GMM comps, Covariance type tied = 0.284653465347\n",
      "Accuracy score for 8 SVD comps, 1 GMM comps, Covariance type tied = 0.280940594059\n",
      "Accuracy score for 9 SVD comps, 1 GMM comps, Covariance type tied = 0.264851485149\n",
      "Accuracy score for 10 SVD comps, 1 GMM comps, Covariance type tied = 0.267326732673\n",
      "Accuracy score for 1 SVD comps, 1 GMM comps, Covariance type full = 0.441831683168\n",
      "Accuracy score for 1 SVD comps, 2 GMM comps, Covariance type full = 0.475247524752\n",
      "Accuracy score for 1 SVD comps, 3 GMM comps, Covariance type full = 0.429455445545\n",
      "Accuracy score for 1 SVD comps, 4 GMM comps, Covariance type full = 0.407178217822\n",
      "Accuracy score for 1 SVD comps, 5 GMM comps, Covariance type full = 0.430693069307\n",
      "Accuracy score for 1 SVD comps, 6 GMM comps, Covariance type full = 0.417079207921\n",
      "Accuracy score for 1 SVD comps, 7 GMM comps, Covariance type full = 0.415841584158\n",
      "Accuracy score for 1 SVD comps, 8 GMM comps, Covariance type full = 0.42202970297\n",
      "Accuracy score for 1 SVD comps, 9 GMM comps, Covariance type full = 0.39603960396\n",
      "Accuracy score for 1 SVD comps, 10 GMM comps, Covariance type full = 0.384900990099\n",
      "Accuracy score for 2 SVD comps, 1 GMM comps, Covariance type full = 0.502475247525\n",
      "Accuracy score for 2 SVD comps, 2 GMM comps, Covariance type full = 0.625\n",
      "Accuracy score for 2 SVD comps, 3 GMM comps, Covariance type full = 0.503712871287\n",
      "Accuracy score for 2 SVD comps, 4 GMM comps, Covariance type full = 0.37004950495\n",
      "Accuracy score for 2 SVD comps, 5 GMM comps, Covariance type full = 0.399752475248\n",
      "Accuracy score for 3 SVD comps, 1 GMM comps, Covariance type full = 0.308168316832\n",
      "Accuracy score for 3 SVD comps, 2 GMM comps, Covariance type full = 0.377475247525\n"
     ]
    },
    {
     "name": "stdout",
     "output_type": "stream",
     "text": [
      "Accuracy score for 3 SVD comps, 3 GMM comps, Covariance type full = 0.360148514851\n",
      "Accuracy score for 4 SVD comps, 1 GMM comps, Covariance type full = 0.306930693069\n",
      "Accuracy score for 4 SVD comps, 2 GMM comps, Covariance type full = 0.336633663366\n",
      "Accuracy score for 5 SVD comps, 1 GMM comps, Covariance type full = 0.305693069307\n",
      "Accuracy score for 5 SVD comps, 2 GMM comps, Covariance type full = 0.350247524752\n",
      "Accuracy score for 6 SVD comps, 1 GMM comps, Covariance type full = 0.282178217822\n",
      "Accuracy score for 7 SVD comps, 1 GMM comps, Covariance type full = 0.284653465347\n",
      "Accuracy score for 8 SVD comps, 1 GMM comps, Covariance type full = 0.280940594059\n",
      "Accuracy score for 9 SVD comps, 1 GMM comps, Covariance type full = 0.264851485149\n",
      "Accuracy score for 10 SVD comps, 1 GMM comps, Covariance type full = 0.267326732673\n",
      "*********************************************************************************\n",
      "The best accuracy score is 0.738861386139\n",
      "To get it, set SVD comps to 6 , GMM comps to 1 , and covariance type to diag\n"
     ]
    }
   ],
   "source": [
    "gmm_trials(sparse = False, max_params = 40)"
   ]
  },
  {
   "cell_type": "markdown",
   "metadata": {},
   "source": [
    "Results: A 0.74 accuracy level is less than what was achieved with logistic regression baseline of 0.75. "
   ]
  },
  {
   "cell_type": "code",
   "execution_count": 43,
   "metadata": {},
   "outputs": [],
   "source": [
    "#Try using just the features in common with train and test. \n",
    "\n",
    "#Normalize all fields (numeric)\n",
    "min_max_scaler = preprocessing.MinMaxScaler()\n",
    "mn_mx_scaler = min_max_scaler.fit_transform(\n",
    "    train.select_dtypes(include = ['float64', 'int64','datetime64[ns]']).apply(pd.to_numeric).values)\n",
    "\n",
    "#Split train and test data\n",
    "x_train, x_test = mn_mx_scaler[:3232], mn_mx_scaler[3232:] \n",
    "y_train, y_test = train_labels_master[:3232].values.ravel(), train_labels_master[3232:].values.ravel()\n"
   ]
  },
  {
   "cell_type": "code",
   "execution_count": 44,
   "metadata": {},
   "outputs": [
    {
     "name": "stdout",
     "output_type": "stream",
     "text": [
      "Accuracy score for 1 SVD comps, 1 GMM comps, Covariance type spherical = 0.637376237624\n",
      "Accuracy score for 1 SVD comps, 2 GMM comps, Covariance type spherical = 0.537128712871\n",
      "Accuracy score for 1 SVD comps, 3 GMM comps, Covariance type spherical = 0.52599009901\n",
      "Accuracy score for 1 SVD comps, 4 GMM comps, Covariance type spherical = 0.564356435644\n",
      "Accuracy score for 1 SVD comps, 5 GMM comps, Covariance type spherical = 0.518564356436\n",
      "Accuracy score for 1 SVD comps, 6 GMM comps, Covariance type spherical = 0.553217821782\n",
      "Accuracy score for 1 SVD comps, 7 GMM comps, Covariance type spherical = 0.52103960396\n",
      "Accuracy score for 1 SVD comps, 8 GMM comps, Covariance type spherical = 0.5\n",
      "Accuracy score for 1 SVD comps, 9 GMM comps, Covariance type spherical = 0.513613861386\n",
      "Accuracy score for 1 SVD comps, 10 GMM comps, Covariance type spherical = 0.537128712871\n",
      "Accuracy score for 2 SVD comps, 1 GMM comps, Covariance type spherical = 0.561881188119\n",
      "Accuracy score for 2 SVD comps, 2 GMM comps, Covariance type spherical = 0.616336633663\n",
      "Accuracy score for 2 SVD comps, 3 GMM comps, Covariance type spherical = 0.59900990099\n",
      "Accuracy score for 2 SVD comps, 4 GMM comps, Covariance type spherical = 0.602722772277\n",
      "Accuracy score for 2 SVD comps, 5 GMM comps, Covariance type spherical = 0.596534653465\n",
      "Accuracy score for 3 SVD comps, 1 GMM comps, Covariance type spherical = 0.560643564356\n",
      "Accuracy score for 3 SVD comps, 2 GMM comps, Covariance type spherical = 0.648514851485\n",
      "Accuracy score for 3 SVD comps, 3 GMM comps, Covariance type spherical = 0.660891089109\n",
      "Accuracy score for 4 SVD comps, 1 GMM comps, Covariance type spherical = 0.559405940594\n",
      "Accuracy score for 4 SVD comps, 2 GMM comps, Covariance type spherical = 0.532178217822\n",
      "Accuracy score for 5 SVD comps, 1 GMM comps, Covariance type spherical = 0.563118811881\n",
      "Accuracy score for 5 SVD comps, 2 GMM comps, Covariance type spherical = 0.625\n",
      "Accuracy score for 6 SVD comps, 1 GMM comps, Covariance type spherical = 0.570544554455\n",
      "Accuracy score for 7 SVD comps, 1 GMM comps, Covariance type spherical = 0.57797029703\n",
      "Accuracy score for 8 SVD comps, 1 GMM comps, Covariance type spherical = 0.580445544554\n",
      "Accuracy score for 9 SVD comps, 1 GMM comps, Covariance type spherical = 0.581683168317\n",
      "Accuracy score for 10 SVD comps, 1 GMM comps, Covariance type spherical = 0.582920792079\n",
      "Accuracy score for 1 SVD comps, 1 GMM comps, Covariance type diag = 0.637376237624\n",
      "Accuracy score for 1 SVD comps, 2 GMM comps, Covariance type diag = 0.539603960396\n",
      "Accuracy score for 1 SVD comps, 3 GMM comps, Covariance type diag = 0.52599009901\n",
      "Accuracy score for 1 SVD comps, 4 GMM comps, Covariance type diag = 0.565594059406\n",
      "Accuracy score for 1 SVD comps, 5 GMM comps, Covariance type diag = 0.518564356436\n",
      "Accuracy score for 1 SVD comps, 6 GMM comps, Covariance type diag = 0.559405940594\n",
      "Accuracy score for 1 SVD comps, 7 GMM comps, Covariance type diag = 0.539603960396\n",
      "Accuracy score for 1 SVD comps, 8 GMM comps, Covariance type diag = 0.512376237624\n",
      "Accuracy score for 1 SVD comps, 9 GMM comps, Covariance type diag = 0.532178217822\n",
      "Accuracy score for 1 SVD comps, 10 GMM comps, Covariance type diag = 0.524752475248\n",
      "Accuracy score for 2 SVD comps, 1 GMM comps, Covariance type diag = 0.558168316832\n",
      "Accuracy score for 2 SVD comps, 2 GMM comps, Covariance type diag = 0.610148514851\n",
      "Accuracy score for 2 SVD comps, 3 GMM comps, Covariance type diag = 0.576732673267\n",
      "Accuracy score for 2 SVD comps, 4 GMM comps, Covariance type diag = 0.596534653465\n",
      "Accuracy score for 2 SVD comps, 5 GMM comps, Covariance type diag = 0.595297029703\n",
      "Accuracy score for 3 SVD comps, 1 GMM comps, Covariance type diag = 0.574257425743\n",
      "Accuracy score for 3 SVD comps, 2 GMM comps, Covariance type diag = 0.563118811881\n",
      "Accuracy score for 3 SVD comps, 3 GMM comps, Covariance type diag = 0.637376237624\n",
      "Accuracy score for 4 SVD comps, 1 GMM comps, Covariance type diag = 0.615099009901\n",
      "Accuracy score for 4 SVD comps, 2 GMM comps, Covariance type diag = 0.596534653465\n",
      "Accuracy score for 5 SVD comps, 1 GMM comps, Covariance type diag = 0.642326732673\n",
      "Accuracy score for 5 SVD comps, 2 GMM comps, Covariance type diag = 0.626237623762\n",
      "Accuracy score for 6 SVD comps, 1 GMM comps, Covariance type diag = 0.67698019802\n",
      "Accuracy score for 7 SVD comps, 1 GMM comps, Covariance type diag = 0.701732673267\n",
      "Accuracy score for 8 SVD comps, 1 GMM comps, Covariance type diag = 0.695544554455\n",
      "Accuracy score for 9 SVD comps, 1 GMM comps, Covariance type diag = 0.727722772277\n",
      "Accuracy score for 10 SVD comps, 1 GMM comps, Covariance type diag = 0.726485148515\n",
      "Accuracy score for 1 SVD comps, 1 GMM comps, Covariance type tied = 0.637376237624\n",
      "Accuracy score for 1 SVD comps, 2 GMM comps, Covariance type tied = 0.543316831683\n",
      "Accuracy score for 1 SVD comps, 3 GMM comps, Covariance type tied = 0.540841584158\n",
      "Accuracy score for 1 SVD comps, 4 GMM comps, Covariance type tied = 0.529702970297\n",
      "Accuracy score for 1 SVD comps, 5 GMM comps, Covariance type tied = 0.513613861386\n",
      "Accuracy score for 1 SVD comps, 6 GMM comps, Covariance type tied = 0.566831683168\n",
      "Accuracy score for 1 SVD comps, 7 GMM comps, Covariance type tied = 0.538366336634\n",
      "Accuracy score for 1 SVD comps, 8 GMM comps, Covariance type tied = 0.542079207921\n",
      "Accuracy score for 1 SVD comps, 9 GMM comps, Covariance type tied = 0.512376237624\n",
      "Accuracy score for 1 SVD comps, 10 GMM comps, Covariance type tied = 0.537128712871\n",
      "Accuracy score for 2 SVD comps, 1 GMM comps, Covariance type tied = 0.649752475248\n",
      "Accuracy score for 2 SVD comps, 2 GMM comps, Covariance type tied = 0.658415841584\n",
      "Accuracy score for 2 SVD comps, 3 GMM comps, Covariance type tied = 0.641089108911\n",
      "Accuracy score for 2 SVD comps, 4 GMM comps, Covariance type tied = 0.64603960396\n",
      "Accuracy score for 2 SVD comps, 5 GMM comps, Covariance type tied = 0.655940594059\n",
      "Accuracy score for 3 SVD comps, 1 GMM comps, Covariance type tied = 0.700495049505\n",
      "Accuracy score for 3 SVD comps, 2 GMM comps, Covariance type tied = 0.704207920792\n",
      "Accuracy score for 3 SVD comps, 3 GMM comps, Covariance type tied = 0.691831683168\n",
      "Accuracy score for 4 SVD comps, 1 GMM comps, Covariance type tied = 0.688118811881\n",
      "Accuracy score for 4 SVD comps, 2 GMM comps, Covariance type tied = 0.688118811881\n",
      "Accuracy score for 5 SVD comps, 1 GMM comps, Covariance type tied = 0.689356435644\n",
      "Accuracy score for 5 SVD comps, 2 GMM comps, Covariance type tied = 0.693069306931\n",
      "Accuracy score for 6 SVD comps, 1 GMM comps, Covariance type tied = 0.683168316832\n",
      "Accuracy score for 7 SVD comps, 1 GMM comps, Covariance type tied = 0.721534653465\n",
      "Accuracy score for 8 SVD comps, 1 GMM comps, Covariance type tied = 0.705445544554\n",
      "Accuracy score for 9 SVD comps, 1 GMM comps, Covariance type tied = 0.726485148515\n",
      "Accuracy score for 10 SVD comps, 1 GMM comps, Covariance type tied = 0.722772277228\n",
      "Accuracy score for 1 SVD comps, 1 GMM comps, Covariance type full = 0.637376237624\n",
      "Accuracy score for 1 SVD comps, 2 GMM comps, Covariance type full = 0.537128712871\n",
      "Accuracy score for 1 SVD comps, 3 GMM comps, Covariance type full = 0.52599009901\n",
      "Accuracy score for 1 SVD comps, 4 GMM comps, Covariance type full = 0.563118811881\n",
      "Accuracy score for 1 SVD comps, 5 GMM comps, Covariance type full = 0.518564356436\n",
      "Accuracy score for 1 SVD comps, 6 GMM comps, Covariance type full = 0.548267326733\n",
      "Accuracy score for 1 SVD comps, 7 GMM comps, Covariance type full = 0.530940594059\n",
      "Accuracy score for 1 SVD comps, 8 GMM comps, Covariance type full = 0.503712871287\n",
      "Accuracy score for 1 SVD comps, 9 GMM comps, Covariance type full = 0.514851485149\n",
      "Accuracy score for 1 SVD comps, 10 GMM comps, Covariance type full = 0.514851485149\n",
      "Accuracy score for 2 SVD comps, 1 GMM comps, Covariance type full = 0.649752475248\n",
      "Accuracy score for 2 SVD comps, 2 GMM comps, Covariance type full = 0.601485148515\n",
      "Accuracy score for 2 SVD comps, 3 GMM comps, Covariance type full = 0.585396039604\n",
      "Accuracy score for 2 SVD comps, 4 GMM comps, Covariance type full = 0.610148514851\n",
      "Accuracy score for 2 SVD comps, 5 GMM comps, Covariance type full = 0.608910891089\n",
      "Accuracy score for 3 SVD comps, 1 GMM comps, Covariance type full = 0.700495049505\n",
      "Accuracy score for 3 SVD comps, 2 GMM comps, Covariance type full = 0.566831683168\n"
     ]
    },
    {
     "name": "stdout",
     "output_type": "stream",
     "text": [
      "Accuracy score for 3 SVD comps, 3 GMM comps, Covariance type full = 0.574257425743\n",
      "Accuracy score for 4 SVD comps, 1 GMM comps, Covariance type full = 0.688118811881\n",
      "Accuracy score for 4 SVD comps, 2 GMM comps, Covariance type full = 0.459158415842\n",
      "Accuracy score for 5 SVD comps, 1 GMM comps, Covariance type full = 0.689356435644\n",
      "Accuracy score for 5 SVD comps, 2 GMM comps, Covariance type full = 0.443069306931\n",
      "Accuracy score for 6 SVD comps, 1 GMM comps, Covariance type full = 0.683168316832\n",
      "Accuracy score for 7 SVD comps, 1 GMM comps, Covariance type full = 0.721534653465\n",
      "Accuracy score for 8 SVD comps, 1 GMM comps, Covariance type full = 0.705445544554\n",
      "Accuracy score for 9 SVD comps, 1 GMM comps, Covariance type full = 0.726485148515\n",
      "Accuracy score for 10 SVD comps, 1 GMM comps, Covariance type full = 0.722772277228\n",
      "*********************************************************************************\n",
      "The best accuracy score is 0.727722772277\n",
      "To get it, set SVD comps to 9 , GMM comps to 1 , and covariance type to diag\n"
     ]
    }
   ],
   "source": [
    "gmm_trials(sparse = False, max_params = 40) "
   ]
  },
  {
   "cell_type": "markdown",
   "metadata": {},
   "source": [
    "Result: a 0.73 accuracy score is less than the logistic regression baseline. "
   ]
  },
  {
   "cell_type": "markdown",
   "metadata": {},
   "source": [
    "### Reduce vectorized word field, plug it into logistic regression with other features"
   ]
  },
  {
   "cell_type": "code",
   "execution_count": 45,
   "metadata": {},
   "outputs": [],
   "source": [
    "#Create Sparse matrix of words\n",
    "count_vect = CountVectorizer()\n",
    "x_train = train_data_master[:3232]['request_text_edit_aware']\n",
    "x_test = train_data_master[3232:]['request_text_edit_aware'] \n",
    "train_features = count_vect.fit_transform(x_train)\n",
    "dev_features = count_vect.transform(x_test)\n",
    "\n",
    "#Reduce the vectorized word feature to small number of numerical components\n",
    "svd_comps = 110 # 110 after some trial and error, this was the best\n",
    "svd = TruncatedSVD(n_components=svd_comps)\n",
    "svd_ft_tr = svd.fit_transform(train_features)\n",
    "svd_ft_dv = svd.fit_transform(dev_features)\n",
    "svd_ft = np.concatenate((svd_ft_tr, svd_ft_dv), axis=0)\n",
    "\n",
    "# add the newly reduced text field feature to the train and test data\n",
    "train_data_SVD = train_data_master.copy(deep = True)\n",
    "for comp in range(svd_comps):\n",
    "    train_data_SVD['SVD'+str(comp)] = svd_ft[:,comp]\n",
    "\n",
    "#Normalize all fields (numeric)\n",
    "min_max_scaler = preprocessing.MinMaxScaler()\n",
    "mn_mx_scaler = min_max_scaler.fit_transform(train_data_SVD.select_dtypes(include = ['float64', 'int64','datetime64[ns]']).apply(pd.to_numeric).values)\n",
    "\n",
    "#Split train and test data\n",
    "x_train, x_test = mn_mx_scaler[:3232], mn_mx_scaler[3232:] \n",
    "y_train, y_test = train_labels_master[:3232].values.ravel(), train_labels_master[3232:].values.ravel()\n"
   ]
  },
  {
   "cell_type": "code",
   "execution_count": 46,
   "metadata": {},
   "outputs": [
    {
     "name": "stdout",
     "output_type": "stream",
     "text": [
      "Logistic Regression (using only common numeric fields)\n",
      "---------\n",
      "             precision    recall  f1-score   support\n",
      "\n",
      "      False       0.77      0.98      0.86       612\n",
      "       True       0.52      0.08      0.13       196\n",
      "\n",
      "avg / total       0.71      0.76      0.68       808\n",
      "\n"
     ]
    },
    {
     "data": {
      "image/png": "[encoded data removed]",
      "text/plain": [
       "<matplotlib.figure.Figure at 0x1a2462b320>"
      ]
     },
     "metadata": {},
     "output_type": "display_data"
    },
    {
     "data": {
      "image/png": "[encoded data removed]",
      "text/plain": [
       "<matplotlib.figure.Figure at 0x1a306864e0>"
      ]
     },
     "metadata": {},
     "output_type": "display_data"
    }
   ],
   "source": [
    "# do logistic regression on our new train data\n",
    "\n",
    "def model_report(title, y_test, predictions):\n",
    "\n",
    "    \"\"\"\n",
    "    Output: Classification report, confusion matrix, and ROC curve\n",
    "    \"\"\"\n",
    "    print(title)\n",
    "    print(\"---------\")\n",
    "    print(classification_report(y_test, predictions))\n",
    "\n",
    "    cm = metrics.confusion_matrix(y_test, predictions)\n",
    "    plt.figure(figsize=(3,3))\n",
    "    sns.heatmap(cm, annot=True, fmt=\".0f\", linewidths=.5, square = True, cmap = 'Blues_r');\n",
    "    plt.ylabel('Actual label');\n",
    "    plt.xlabel('Predicted label');\n",
    "    all_sample_title = 'Accuracy: {0}'.format(round(metrics.accuracy_score(y_test, predictions),2))\n",
    "    plt.title(all_sample_title, size = 15)\n",
    "    plt.show()\n",
    "    \n",
    "    fpr, tpr, threshold = metrics.roc_curve(y_test, predictions)\n",
    "    roc_auc = metrics.auc(fpr, tpr)\n",
    "\n",
    "    plt.title('Receiver Operating Characteristic')\n",
    "    plt.plot(fpr, tpr, 'b', label = 'AUC = %0.2f' % roc_auc)\n",
    "    plt.legend(loc = 'lower right')\n",
    "    plt.plot([0, 1], [0, 1],'r--')\n",
    "    plt.xlim([0, 1])\n",
    "    plt.ylim([0, 1])\n",
    "    plt.ylabel('True Positive Rate')\n",
    "    plt.xlabel('False Positive Rate')\n",
    "    plt.show()\n",
    "    \n",
    "#Train Model\n",
    "# all parameters not specified are set to their defaults\n",
    "logisticRegr = LogisticRegression()\n",
    "logisticRegr.fit(x_train, y_train)\n",
    "predictions = logisticRegr.predict(x_test)\n",
    "\n",
    "#Output model report\n",
    "model_report(\"Logistic Regression (using only common numeric fields)\",y_test, predictions)"
   ]
  },
  {
   "cell_type": "markdown",
   "metadata": {},
   "source": []
  },
  {
   "cell_type": "code",
   "execution_count": 47,
   "metadata": {},
   "outputs": [],
   "source": [
    "#Create Sparse matrix of words\n",
    "count_vect = TfidfVectorizer()\n",
    "x_train = train_data_master[:3232]['request_text_edit_aware']\n",
    "x_test = train_data_master[3232:]['request_text_edit_aware'] \n",
    "train_features = count_vect.fit_transform(x_train)\n",
    "dev_features = count_vect.transform(x_test)\n",
    "\n",
    "#Reduce the vectorized word feature to small number of numerical components\n",
    "svd_comps = 25 # 25 after some trial and error, this was the best\n",
    "svd = TruncatedSVD(n_components=svd_comps)\n",
    "svd_ft_tr = svd.fit_transform(train_features)\n",
    "svd_ft_dv = svd.fit_transform(dev_features)\n",
    "svd_ft = np.concatenate((svd_ft_tr, svd_ft_dv), axis=0)\n",
    "\n",
    "# add the newly reduced text field feature to the train and test data\n",
    "train_data_SVD = train_data_master.copy(deep = True)\n",
    "for comp in range(svd_comps):\n",
    "    train_data_SVD['SVD'+str(comp)] = svd_ft[:,comp]\n",
    "\n",
    "#Normalize all fields (numeric)\n",
    "min_max_scaler = preprocessing.MinMaxScaler()\n",
    "mn_mx_scaler = min_max_scaler.fit_transform(train_data_SVD.select_dtypes(include = ['float64', 'int64','datetime64[ns]']).apply(pd.to_numeric).values)\n",
    "\n",
    "#Split train and test data\n",
    "x_train, x_test = mn_mx_scaler[:3232], mn_mx_scaler[3232:] \n",
    "y_train, y_test = train_labels_master[:3232].values.ravel(), train_labels_master[3232:].values.ravel()\n"
   ]
  },
  {
   "cell_type": "code",
   "execution_count": 48,
   "metadata": {},
   "outputs": [
    {
     "name": "stdout",
     "output_type": "stream",
     "text": [
      "Logistic Regression (using only common numeric fields)\n",
      "---------\n",
      "             precision    recall  f1-score   support\n",
      "\n",
      "      False       0.77      0.98      0.86       612\n",
      "       True       0.50      0.06      0.11       196\n",
      "\n",
      "avg / total       0.70      0.76      0.68       808\n",
      "\n"
     ]
    },
    {
     "data": {
      "image/png": "[encoded data removed]",
      "text/plain": [
       "<matplotlib.figure.Figure at 0x1a1a5c9dd8>"
      ]
     },
     "metadata": {},
     "output_type": "display_data"
    },
    {
     "data": {
      "image/png": "[encoded data removed]",
      "text/plain": [
       "<matplotlib.figure.Figure at 0x1a245d67b8>"
      ]
     },
     "metadata": {},
     "output_type": "display_data"
    }
   ],
   "source": [
    "# do logistic regression on our new train data\n",
    "\n",
    "def model_report(title, y_test, predictions):\n",
    "\n",
    "    \"\"\"\n",
    "    Output: Classification report, confusion matrix, and ROC curve\n",
    "    \"\"\"\n",
    "    print(title)\n",
    "    print(\"---------\")\n",
    "    print(classification_report(y_test, predictions))\n",
    "\n",
    "    cm = metrics.confusion_matrix(y_test, predictions)\n",
    "    plt.figure(figsize=(3,3))\n",
    "    sns.heatmap(cm, annot=True, fmt=\".0f\", linewidths=.5, square = True, cmap = 'Blues_r');\n",
    "    plt.ylabel('Actual label');\n",
    "    plt.xlabel('Predicted label');\n",
    "    all_sample_title = 'Accuracy: {0}'.format(round(metrics.accuracy_score(y_test, predictions),2))\n",
    "    plt.title(all_sample_title, size = 15)\n",
    "    plt.show()\n",
    "    \n",
    "    fpr, tpr, threshold = metrics.roc_curve(y_test, predictions)\n",
    "    roc_auc = metrics.auc(fpr, tpr)\n",
    "\n",
    "    plt.title('Receiver Operating Characteristic')\n",
    "    plt.plot(fpr, tpr, 'b', label = 'AUC = %0.2f' % roc_auc)\n",
    "    plt.legend(loc = 'lower right')\n",
    "    plt.plot([0, 1], [0, 1],'r--')\n",
    "    plt.xlim([0, 1])\n",
    "    plt.ylim([0, 1])\n",
    "    plt.ylabel('True Positive Rate')\n",
    "    plt.xlabel('False Positive Rate')\n",
    "    plt.show()\n",
    "    \n",
    "#Train Model\n",
    "# all parameters not specified are set to their defaults\n",
    "logisticRegr = LogisticRegression()\n",
    "logisticRegr.fit(x_train, y_train)\n",
    "predictions = logisticRegr.predict(x_test)\n",
    "\n",
    "#Output model report\n",
    "model_report(\"Logistic Regression (using only common numeric fields)\",y_test, predictions)"
   ]
  },
  {
   "cell_type": "markdown",
   "metadata": {},
   "source": [
    "### Results\n",
    "* Reducing the vectorized word feature got us to 0.68 accuracy - the exact same accuracy that Naive Bayes got us. \n",
    "* Reducing all the features (even those not in the test set) got us to 0.74 accuracy - a bit less than the 0.75 accuracy from logistic regression on the features. \n",
    "* Reducing just the features that are shared by train and test sets got us to 0.73 accuracy - even further from the 0.75 accuracy of logistic regression.\n",
    "* Vectorizing the text field, reducing it through SVD to 110 components, adding it to the train data, and running logistic regression again did improve accuracy by small margins.\n",
    "* Tfidf vectorizing the text field before doing the above did not improve the accuracy."
   ]
  },
  {
   "cell_type": "code",
   "execution_count": null,
   "metadata": {},
   "outputs": [],
   "source": []
  }
 ],
 "metadata": {
  "kernelspec": {
   "display_name": "Python 3",
   "language": "python",
   "name": "python3"
  },
  "language_info": {
   "codemirror_mode": {
    "name": "ipython",
    "version": 3
   },
   "file_extension": ".py",
   "mimetype": "text/x-python",
   "name": "python",
   "nbconvert_exporter": "python",
   "pygments_lexer": "ipython3",
   "version": "3.6.3"
  }
 },
 "nbformat": 4,
 "nbformat_minor": 2
}
