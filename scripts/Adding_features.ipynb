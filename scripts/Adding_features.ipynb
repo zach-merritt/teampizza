{
 "cells": [
  {
   "cell_type": "markdown",
   "metadata": {},
   "source": [
    "# Feature Building!\n",
    "This notebook will involve efforts to create new features out of the text data fields"
   ]
  },
  {
   "cell_type": "markdown",
   "metadata": {},
   "source": [
    "### Get data from Kaggle, clean, and split"
   ]
  },
  {
   "cell_type": "code",
   "execution_count": 681,
   "metadata": {},
   "outputs": [
    {
     "name": "stdout",
     "output_type": "stream",
     "text": [
      "Kaggle Train Shape: (4040, 32)\n",
      "Kaggle Test Shape: (1631, 17)\n",
      "Our Train Shape: (2868, 17)\n",
      "Our Test Shape: (1172, 17)\n"
     ]
    }
   ],
   "source": [
    "import json\n",
    "import csv\n",
    "import pandas as pd\n",
    "import numpy as np\n",
    "import matplotlib as mpl\n",
    "from matplotlib.colors import ListedColormap\n",
    "from matplotlib.colors import LogNorm\n",
    "import matplotlib.pyplot as plt\n",
    "import seaborn as sns\n",
    "from datetime import datetime\n",
    "\n",
    "from subprocess import check_output\n",
    "#from wordcloud import WordCloud, STOPWORDS\n",
    "\n",
    "#ML\n",
    "from sklearn.model_selection import train_test_split\n",
    "from sklearn.linear_model import LogisticRegression\n",
    "from sklearn import metrics\n",
    "from sklearn.metrics import classification_report\n",
    "from sklearn.feature_extraction.text import CountVectorizer\n",
    "from sklearn.naive_bayes import MultinomialNB\n",
    "from sklearn.naive_bayes import BernoulliNB\n",
    "from sklearn import preprocessing\n",
    "from sklearn.preprocessing import StandardScaler\n",
    "from sklearn.preprocessing import Normalizer\n",
    "from sklearn.decomposition import PCA\n",
    "from sklearn.cluster import KMeans\n",
    "from sklearn.mixture import GMM\n",
    "from sklearn.mixture import GaussianMixture\n",
    "\n",
    "from sklearn.decomposition import TruncatedSVD\n",
    "from sklearn.random_projection import sparse_random_matrix\n",
    "\n",
    "from sklearn.feature_extraction.text import TfidfVectorizer\n",
    "from sklearn.cluster import KMeans\n",
    "\n",
    "from sklearn.pipeline import make_pipeline\n",
    "\n",
    "%matplotlib inline\n",
    "plt.style.use('bmh')\n",
    "\n",
    "#1. Train Data\n",
    "with open('../data/train.json') as fin:\n",
    "    trainjson = json.load(fin)\n",
    "train = pd.io.json.json_normalize(trainjson)\n",
    "#2. Test Data\n",
    "with open('../data/test.json') as fin:\n",
    "    testjson = json.load(fin) \n",
    "test = pd.io.json.json_normalize(testjson)\n",
    "\n",
    "print(\"Kaggle Train Shape:\", train.shape)\n",
    "print(\"Kaggle Test Shape:\", test.shape)\n",
    "\n",
    "train_labels_master = train[['requester_received_pizza']]\n",
    "train_data_master = train[test.columns & train.columns]\n",
    "train_only_data_master = train[train.columns[~train.columns.isin(test.columns)]].drop(['requester_received_pizza'], axis = 1)\n",
    "\n",
    "train_data_master = train_data_master.assign(\n",
    "    unix_timestamp_of_request = pd.to_datetime(\n",
    "        train_data_master.unix_timestamp_of_request, unit = \"s\"),\n",
    "    unix_timestamp_of_request_utc = pd.to_datetime(\n",
    "        train_data_master.unix_timestamp_of_request_utc, unit = \"s\"))\n",
    "\n",
    "# Isolate the text column for the training and dev dataframes\n",
    "x_train, x_test, y_train, y_test = train_test_split(\n",
    "   train_data_master,\n",
    "   train_labels_master.values.ravel(), test_size=0.29, random_state=0)\n",
    "\n",
    "print(\"Our Train Shape:\", x_train.shape)\n",
    "print(\"Our Test Shape:\", x_test.shape)\n"
   ]
  },
  {
   "cell_type": "markdown",
   "metadata": {},
   "source": [
    "### Model report function"
   ]
  },
  {
   "cell_type": "code",
   "execution_count": 682,
   "metadata": {},
   "outputs": [],
   "source": [
    "def model_report(title, y_test, predictions):\n",
    "\n",
    "    \"\"\"\n",
    "    Output: Classification report, confusion matrix, and ROC curve\n",
    "    \"\"\"\n",
    "    print(title)\n",
    "    print(\"---------\")\n",
    "    print(classification_report(y_test, predictions))\n",
    "\n",
    "    cm = metrics.confusion_matrix(y_test, predictions)\n",
    "    plt.figure(figsize=(3,3))\n",
    "    sns.heatmap(cm, annot=True, fmt=\".0f\", linewidths=.5, square = True, cmap = 'Blues_r');\n",
    "    plt.ylabel('Actual label');\n",
    "    plt.xlabel('Predicted label');\n",
    "    all_sample_title = 'Accuracy: {0}'.format(round(metrics.accuracy_score(y_test, predictions),2))\n",
    "    plt.title(all_sample_title, size = 15)\n",
    "    plt.show()\n",
    "    \n",
    "    fpr, tpr, threshold = metrics.roc_curve(y_test, predictions)\n",
    "    roc_auc = metrics.auc(fpr, tpr)\n",
    "\n",
    "    plt.title('Receiver Operating Characteristic')\n",
    "    plt.plot(fpr, tpr, 'b', label = 'AUC = %0.2f' % roc_auc)\n",
    "    plt.legend(loc = 'lower right')\n",
    "    plt.plot([0, 1], [0, 1],'r--')\n",
    "    plt.xlim([0, 1])\n",
    "    plt.ylim([0, 1])\n",
    "    plt.ylabel('True Positive Rate')\n",
    "    plt.xlabel('False Positive Rate')\n",
    "    plt.show()"
   ]
  },
  {
   "cell_type": "markdown",
   "metadata": {},
   "source": [
    "### Make features function"
   ]
  },
  {
   "cell_type": "code",
   "execution_count": 683,
   "metadata": {},
   "outputs": [],
   "source": [
    "def make_features(vocab):\n",
    "    # this function takes as input a string list of words\n",
    "    # it outputs four np.arrays: \n",
    "    # 1. train data feature dealing with title text\n",
    "    # 2. train data feature dealing with body text\n",
    "    # 3. test data feature dealing with title text\n",
    "    # 4. test data feature dealing with body text\n",
    "\n",
    "    # initialize feature variables to 0\n",
    "    train_feature_title = np.zeros(shape = (x_train.shape[0],1))\n",
    "    train_feature_body = np.zeros(shape = (x_train.shape[0],1))\n",
    "    test_feature_title = np.zeros(shape = (x_test.shape[0],1))\n",
    "    test_feature_body = np.zeros(shape = (x_test.shape[0],1))\n",
    "\n",
    "    # look through each training sample for occurences of vocab words\n",
    "    for sample_row in range(x_train.shape[0]):\n",
    "        title_text = str(x_train.request_title.iloc[sample_row]).lower()\n",
    "        body_text = str(x_train.request_text_edit_aware.iloc[sample_row]).lower() \n",
    "    \n",
    "        for word in vocab:\n",
    "            if word in title_text:\n",
    "                train_feature_title[sample_row] = 1\n",
    "            if word in body_text:\n",
    "                train_feature_body[sample_row] = 1            \n",
    "        \n",
    "    # look through each test sample for occurences of vocab words\n",
    "    for sample_row in range(x_test.shape[0]):\n",
    "        title_text = str(x_test.request_title.iloc[sample_row]).lower()\n",
    "        body_text = str(x_test.request_text_edit_aware.iloc[sample_row]).lower()\n",
    "\n",
    "        for word in vocab:\n",
    "            if word in title_text:\n",
    "                test_feature_title[sample_row] = 1\n",
    "            if word in body_text:\n",
    "                test_feature_body[sample_row] = 1\n",
    "\n",
    "    return(train_feature_title, train_feature_body, test_feature_title, test_feature_body)"
   ]
  },
  {
   "cell_type": "markdown",
   "metadata": {},
   "source": [
    "### 1. Sickness features\n",
    "The idea here: People mentioning that they or their family are suffering from a sickness may win a lot of sympathy and have an easier path to a pizza. These feature will load in a comprehensive list of disease names and test to see if the text body or text title contains an occurence of them. "
   ]
  },
  {
   "cell_type": "code",
   "execution_count": 684,
   "metadata": {},
   "outputs": [],
   "source": [
    "#disease_list = []\n",
    "#with open('../data/diseases.csv', mode='r') as fin:\n",
    "#    reader = csv.reader(fin)\n",
    "#    for row in reader:\n",
    "#        disease_list.append(row[0])\n",
    "#        #diseases[row[0].lower()] = 0 # lowercase         \n",
    "#disease_list = list(set(disease_list)) # de-dup\n",
    "\n",
    "vocab = ['sick','disease','diagnosed','doctor','terminal','died','dying','death','dead','sickness','health','medical', 'hospice', 'doctors']\n",
    "train_disease_title, train_disease_body, test_disease_title, test_disease_body = make_features(vocab)\n"
   ]
  },
  {
   "cell_type": "markdown",
   "metadata": {},
   "source": [
    "### 2. Repayment features\n",
    "The idea here: Submitted offers to repay or trade or barter in some manner. "
   ]
  },
  {
   "cell_type": "code",
   "execution_count": 685,
   "metadata": {},
   "outputs": [],
   "source": [
    "vocab = ['barter','trade','repay', 'paycheck', 'paypal', 'spot','credits', 'credit', 'game', 'bitcoin']\n",
    "train_repay_title, train_repay_body, test_repay_title, test_repay_body = make_features(vocab)\n",
    "    "
   ]
  },
  {
   "cell_type": "markdown",
   "metadata": {},
   "source": [
    "### 3. Feed me! features\n",
    "The idea here: A lot of people just straight say I'm hungry, feed me."
   ]
  },
  {
   "cell_type": "code",
   "execution_count": 686,
   "metadata": {},
   "outputs": [],
   "source": [
    "vocab = ['hungry','starving','crave','craving','mmm']\n",
    "train_feedme_title, train_feedme_body, test_feedme_title, test_feedme_body = make_features(vocab)\n"
   ]
  },
  {
   "cell_type": "markdown",
   "metadata": {},
   "source": [
    "### 4. Assholery features\n",
    "The idea here: Using crass language"
   ]
  },
  {
   "cell_type": "code",
   "execution_count": 687,
   "metadata": {},
   "outputs": [],
   "source": [
    "vocab = ['fuck','shit','cunt','crap','dick','pussy','asshole','ass']\n",
    "train_swears_title, train_swears_body, test_swears_title, test_swears_body = make_features(vocab)\n"
   ]
  },
  {
   "cell_type": "markdown",
   "metadata": {},
   "source": [
    "### 5. Religious features\n",
    "The idea here: I'm a good Christian, now buy me a pizza!"
   ]
  },
  {
   "cell_type": "code",
   "execution_count": 688,
   "metadata": {},
   "outputs": [],
   "source": [
    "vocab = ['god', 'prayer','prayers','holy','jesus','christ','christian','religion','moral','savior','righteous']\n",
    "train_god_title, train_god_body, test_god_title, test_god_body = make_features(vocab)\n",
    "\n"
   ]
  },
  {
   "cell_type": "markdown",
   "metadata": {},
   "source": [
    "### 6. Gratitude / politeness features\n",
    "The idea here: What's the magic word?"
   ]
  },
  {
   "cell_type": "code",
   "execution_count": 689,
   "metadata": {},
   "outputs": [],
   "source": [
    "vocab = ['please', 'thank', 'thanks']\n",
    "train_polite_title, train_polite_body, test_polite_title, test_polite_body = make_features(vocab)\n"
   ]
  },
  {
   "cell_type": "markdown",
   "metadata": {},
   "source": [
    "### 7. Politics\n",
    "The idea here: Could be big turnoff"
   ]
  },
  {
   "cell_type": "code",
   "execution_count": 690,
   "metadata": {},
   "outputs": [],
   "source": [
    "vocab = ['democrat', 'republican','obama', 'trump', 'hillary', 'clinton', 'liberal','conservative','libertarian','libs','bush','president','romney']\n",
    "train_politics_title, train_politics_body, test_politics_title, test_politics_body = make_features(vocab)"
   ]
  },
  {
   "cell_type": "markdown",
   "metadata": {},
   "source": [
    "### Fit model with added features!"
   ]
  },
  {
   "cell_type": "code",
   "execution_count": 691,
   "metadata": {},
   "outputs": [
    {
     "name": "stdout",
     "output_type": "stream",
     "text": [
      "Logistic Regression (baseline)\n",
      "---------\n",
      "             precision    recall  f1-score   support\n",
      "\n",
      "      False       0.77      0.99      0.87       891\n",
      "       True       0.68      0.06      0.11       281\n",
      "\n",
      "avg / total       0.75      0.77      0.69      1172\n",
      "\n"
     ]
    },
    {
     "data": {
      "image/png": "[encoded data removed]",
      "text/plain": [
       "<Figure size 216x216 with 2 Axes>"
      ]
     },
     "metadata": {},
     "output_type": "display_data"
    },
    {
     "data": {
      "image/png": "[encoded data removed]",
      "text/plain": [
       "<Figure size 432x288 with 1 Axes>"
      ]
     },
     "metadata": {},
     "output_type": "display_data"
    },
    {
     "name": "stdout",
     "output_type": "stream",
     "text": [
      "Logistic Regression (with engineered features)\n",
      "---------\n",
      "             precision    recall  f1-score   support\n",
      "\n",
      "      False       0.77      0.99      0.87       891\n",
      "       True       0.69      0.06      0.12       281\n",
      "\n",
      "avg / total       0.75      0.77      0.69      1172\n",
      "\n"
     ]
    },
    {
     "data": {
      "image/png": "[encoded data removed]",
      "text/plain": [
       "<Figure size 216x216 with 2 Axes>"
      ]
     },
     "metadata": {},
     "output_type": "display_data"
    },
    {
     "data": {
      "image/png": "[encoded data removed]",
      "text/plain": [
       "<Figure size 432x288 with 1 Axes>"
      ]
     },
     "metadata": {},
     "output_type": "display_data"
    }
   ],
   "source": [
    "#Normalize all fields (numeric)\n",
    "min_max_scaler = preprocessing.MinMaxScaler()\n",
    "x_train_scaled = min_max_scaler.fit_transform(\n",
    "    x_train.select_dtypes(include = ['float64', 'int64','datetime64[ns]']).apply(pd.to_numeric).values)\n",
    "x_test_scaled = min_max_scaler.fit_transform(\n",
    "    x_test.select_dtypes(include = ['float64', 'int64','datetime64[ns]']).apply(pd.to_numeric).values)\n",
    "\n",
    "#Train Baseline Model\n",
    "logisticRegr = LogisticRegression()\n",
    "logisticRegr.fit(x_train_scaled, y_train)\n",
    "predictions = logisticRegr.predict(x_test_scaled)\n",
    "\n",
    "#Output Baseline model report\n",
    "model_report(\"Logistic Regression (baseline)\",y_test, predictions)\n",
    "\n",
    "# add new bernoulli features to the train and test data\n",
    "#x_train_full = np.append(x_train_scaled, train_disease_title, 1)\n",
    "#x_train_full = np.append(x_train_scaled, train_disease_body, 1)\n",
    "#x_test_full = np.append(x_test_scaled, test_disease_title, 1)\n",
    "#x_test_full = np.append(x_test_scaled, test_disease_body, 1)\n",
    "#x_train_full = np.append(x_train_scaled, train_repay_title, 1)\n",
    "#x_train_full = np.append(x_train_scaled, train_repay_body, 1)\n",
    "#x_test_full = np.append(x_test_scaled, test_repay_title, 1)\n",
    "#x_test_full = np.append(x_test_scaled, test_repay_body, 1)\n",
    "#x_train_full = np.append(x_train_scaled, train_feedme_title, 1)\n",
    "#x_train_full = np.append(x_train_scaled, train_feedme_body, 1)\n",
    "#x_test_full = np.append(x_test_scaled, test_feedme_title, 1)\n",
    "#x_test_full = np.append(x_test_scaled, test_feedme_body, 1)\n",
    "#x_train_full = np.append(x_train_scaled, train_swears_title, 1)\n",
    "#x_train_full = np.append(x_train_scaled, train_swears_body, 1)\n",
    "#x_test_full = np.append(x_test_scaled, test_swears_title, 1)\n",
    "#x_test_full = np.append(x_test_scaled, test_swears_body, 1)\n",
    "#x_train_full = np.append(x_train_scaled, train_god_title, 1)\n",
    "#x_train_full = np.append(x_train_scaled, train_god_body, 1)\n",
    "#x_test_full = np.append(x_test_scaled, test_god_title, 1)\n",
    "#x_test_full = np.append(x_test_scaled, test_god_body, 1)\n",
    "x_train_full = np.append(x_train_scaled, train_polite_title, 1)\n",
    "x_train_full = np.append(x_train_scaled, train_polite_body, 1)\n",
    "x_test_full = np.append(x_test_scaled, test_polite_title, 1)\n",
    "x_test_full = np.append(x_test_scaled, test_polite_body, 1)\n",
    "#x_train_full = np.append(x_train_scaled, train_politics_title, 1)\n",
    "#x_train_full = np.append(x_train_scaled, train_politics_body, 1)\n",
    "#x_test_full = np.append(x_test_scaled, test_politics_title, 1)\n",
    "#x_test_full = np.append(x_test_scaled, test_politics_body, 1)\n",
    "\n",
    "#Train Baseline Model\n",
    "logisticRegr = LogisticRegression()\n",
    "logisticRegr.fit(x_train_full, y_train)\n",
    "predictions = logisticRegr.predict(x_test_full)\n",
    "\n",
    "#Output Baseline model report\n",
    "model_report(\"Logistic Regression (with engineered features)\",y_test, predictions)\n"
   ]
  },
  {
   "cell_type": "markdown",
   "metadata": {},
   "source": [
    "# Results"
   ]
  },
  {
   "cell_type": "markdown",
   "metadata": {},
   "source": [
    "A lot of these make the accuracy slightly worse. The most in that respect is \"repay.\"\n",
    "One improves it slightly - polite\n",
    "\n",
    "\n",
    "\n"
   ]
  },
  {
   "cell_type": "markdown",
   "metadata": {},
   "source": [
    "# After creating all these features, reduce with PCA"
   ]
  },
  {
   "cell_type": "code",
   "execution_count": 692,
   "metadata": {},
   "outputs": [],
   "source": [
    "def train_gmm(svd_comps = 2, gmm_comps = 4, cov_type = 'full', sparse = True):\n",
    "    \n",
    "    # project data to few dimensions using SVD if sparse, PCA if dense\n",
    "    if (sparse): svd_test = TruncatedSVD(n_components=svd_comps)\n",
    "    else: svd_test = PCA(n_components=svd_comps)\n",
    "    svd_test_ft = svd_test.fit_transform(x_test_full)\n",
    "    if (sparse): svd_train = TruncatedSVD(n_components=svd_comps)\n",
    "    else: svd_train = PCA(n_components=svd_comps)\n",
    "    svd_train_ft = svd_train.fit_transform(x_train_full)\n",
    "\n",
    "    # create two sets of svd data, one that's positively labeled, one that's negatively labeled\n",
    "    pos_svd = svd_train_ft[y_train == 1]\n",
    "    neg_svd = svd_train_ft[y_train == 0]\n",
    "    \n",
    "    # fit a GMM for pos and neg datasets\n",
    "    gmm_pos = GaussianMixture(n_components=gmm_comps, covariance_type=cov_type) \n",
    "    gmm_fit_pos = gmm_pos.fit(pos_svd)\n",
    "    gmm_neg = GaussianMixture(n_components=gmm_comps, covariance_type=cov_type) \n",
    "    gmm_fit_neg = gmm_neg.fit(neg_svd)\n",
    "\n",
    "    prediction = np.ndarray(shape=y_test.shape)\n",
    "    \n",
    "    for sample in range(svd_test_ft.shape[0]):\n",
    "        pos_score = gmm_fit_pos.score(svd_test_ft[sample].reshape(1,-1))\n",
    "        neg_score = gmm_fit_neg.score(svd_test_ft[sample].reshape(1,-1))\n",
    "        # make pick\n",
    "        if (pos_score >= neg_score): prediction[sample] = 1\n",
    "        else: prediction[sample] = 0 \n",
    "\n",
    "    # calculate accuracy\n",
    "    accuracy = metrics.accuracy_score(y_test, prediction)\n",
    "    # f1 = metrics.f1_score(y_test, prediction)\n",
    "    print(\"Accuracy score for\", svd_comps,\"SVD comps,\",gmm_comps,\"GMM comps,\",\"Covariance type\",cov_type,\"=\",accuracy)\n",
    "\n",
    "    return(accuracy)\n",
    "\n",
    "def reduce(sparse = True, max_params = 50):\n",
    "\n",
    "    def calc_limits(max_params = 50):\n",
    "        # this function helps estaish the svd and gmm settings to stay within max_params\n",
    "\n",
    "        valid_configs = [] # list of tuples (num_svd_components, num_gmm_components)\n",
    "\n",
    "        for cov_type in ['spherical', 'diag', 'tied', 'full']:\n",
    "            for svd_comp in range(1,20): \n",
    "                for gmm_comp in range(1,20): \n",
    "                    if ((svd_comp + svd_comp) * gmm_comp) * 2 <= max_params:\n",
    "                        valid_configs.append((svd_comp, gmm_comp, cov_type))\n",
    "\n",
    "        return(valid_configs)\n",
    "\n",
    "    configs = calc_limits(max_params) # get the valid configurations\n",
    "\n",
    "    top_accuracy_val = 0 # keeps track of top accuracy value\n",
    "    top_accuracy_config = () # keeps track of config that creates top accuracy value\n",
    "    \n",
    "    for config in configs:\n",
    "        accuracy = train_gmm(config[0], config[1], config[2])\n",
    "        if accuracy > top_accuracy_val:\n",
    "            top_accuracy_val = accuracy\n",
    "            top_accuracy_config = config\n",
    "\n",
    "    print(\"*********************************************************************************\")\n",
    "    print(\"The best accuracy score is\", top_accuracy_val)\n",
    "    print(\"To get it, set SVD comps to\", top_accuracy_config[0], \", GMM comps to\", top_accuracy_config[1],\", and covariance type to\", top_accuracy_config[2])\n",
    "\n",
    "\n"
   ]
  },
  {
   "cell_type": "code",
   "execution_count": 693,
   "metadata": {},
   "outputs": [],
   "source": [
    "#reduce(sparse = False, max_params=40)"
   ]
  },
  {
   "cell_type": "code",
   "execution_count": null,
   "metadata": {},
   "outputs": [],
   "source": []
  }
 ],
 "metadata": {
  "kernelspec": {
   "display_name": "Python 3",
   "language": "python",
   "name": "python3"
  },
  "language_info": {
   "codemirror_mode": {
    "name": "ipython",
    "version": 3
   },
   "file_extension": ".py",
   "mimetype": "text/x-python",
   "name": "python",
   "nbconvert_exporter": "python",
   "pygments_lexer": "ipython3",
   "version": "3.6.5"
  }
 },
 "nbformat": 4,
 "nbformat_minor": 2
}
